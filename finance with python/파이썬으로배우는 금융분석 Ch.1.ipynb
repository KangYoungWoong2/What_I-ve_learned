{
 "cells": [
  {
   "cell_type": "code",
   "execution_count": 6,
   "metadata": {},
   "outputs": [
    {
     "data": {
      "text/html": [
       "<div>\n",
       "<style scoped>\n",
       "    .dataframe tbody tr th:only-of-type {\n",
       "        vertical-align: middle;\n",
       "    }\n",
       "\n",
       "    .dataframe tbody tr th {\n",
       "        vertical-align: top;\n",
       "    }\n",
       "\n",
       "    .dataframe thead th {\n",
       "        text-align: right;\n",
       "    }\n",
       "</style>\n",
       "<table border=\"1\" class=\"dataframe\">\n",
       "  <thead>\n",
       "    <tr style=\"text-align: right;\">\n",
       "      <th></th>\n",
       "      <th>Open</th>\n",
       "      <th>High</th>\n",
       "      <th>Low</th>\n",
       "      <th>Close</th>\n",
       "      <th>Adj Close</th>\n",
       "      <th>Volume</th>\n",
       "    </tr>\n",
       "  </thead>\n",
       "  <tbody>\n",
       "    <tr>\n",
       "      <th>1</th>\n",
       "      <td>150.570007</td>\n",
       "      <td>150.720001</td>\n",
       "      <td>148.380005</td>\n",
       "      <td>150.380005</td>\n",
       "      <td>143.451904</td>\n",
       "      <td>3742200</td>\n",
       "    </tr>\n",
       "    <tr>\n",
       "      <th>2</th>\n",
       "      <td>150.119995</td>\n",
       "      <td>151.449997</td>\n",
       "      <td>149.199997</td>\n",
       "      <td>150.029999</td>\n",
       "      <td>143.118011</td>\n",
       "      <td>2952400</td>\n",
       "    </tr>\n",
       "    <tr>\n",
       "      <th>3</th>\n",
       "      <td>149.820007</td>\n",
       "      <td>150.619995</td>\n",
       "      <td>148.610001</td>\n",
       "      <td>150.389999</td>\n",
       "      <td>143.461426</td>\n",
       "      <td>3102100</td>\n",
       "    </tr>\n",
       "    <tr>\n",
       "      <th>4</th>\n",
       "      <td>151.000000</td>\n",
       "      <td>151.410004</td>\n",
       "      <td>150.100006</td>\n",
       "      <td>151.360001</td>\n",
       "      <td>144.386734</td>\n",
       "      <td>2904300</td>\n",
       "    </tr>\n",
       "    <tr>\n",
       "      <th>5</th>\n",
       "      <td>151.110001</td>\n",
       "      <td>151.479996</td>\n",
       "      <td>150.320007</td>\n",
       "      <td>150.880005</td>\n",
       "      <td>143.928864</td>\n",
       "      <td>2075500</td>\n",
       "    </tr>\n",
       "    <tr>\n",
       "      <th>6</th>\n",
       "      <td>150.000000</td>\n",
       "      <td>150.399994</td>\n",
       "      <td>149.220001</td>\n",
       "      <td>149.770004</td>\n",
       "      <td>142.870010</td>\n",
       "      <td>2632700</td>\n",
       "    </tr>\n",
       "    <tr>\n",
       "      <th>7</th>\n",
       "      <td>149.699997</td>\n",
       "      <td>150.179993</td>\n",
       "      <td>146.389999</td>\n",
       "      <td>148.240005</td>\n",
       "      <td>141.410492</td>\n",
       "      <td>3722900</td>\n",
       "    </tr>\n",
       "    <tr>\n",
       "      <th>8</th>\n",
       "      <td>148.899994</td>\n",
       "      <td>152.820007</td>\n",
       "      <td>148.500000</td>\n",
       "      <td>150.320007</td>\n",
       "      <td>143.394653</td>\n",
       "      <td>6344000</td>\n",
       "    </tr>\n",
       "    <tr>\n",
       "      <th>9</th>\n",
       "      <td>149.029999</td>\n",
       "      <td>152.949997</td>\n",
       "      <td>145.589996</td>\n",
       "      <td>147.250000</td>\n",
       "      <td>140.466095</td>\n",
       "      <td>8101700</td>\n",
       "    </tr>\n",
       "  </tbody>\n",
       "</table>\n",
       "</div>"
      ],
      "text/plain": [
       "         Open        High         Low       Close   Adj Close   Volume\n",
       "1  150.570007  150.720001  148.380005  150.380005  143.451904  3742200\n",
       "2  150.119995  151.449997  149.199997  150.029999  143.118011  2952400\n",
       "3  149.820007  150.619995  148.610001  150.389999  143.461426  3102100\n",
       "4  151.000000  151.410004  150.100006  151.360001  144.386734  2904300\n",
       "5  151.110001  151.479996  150.320007  150.880005  143.928864  2075500\n",
       "6  150.000000  150.399994  149.220001  149.770004  142.870010  2632700\n",
       "7  149.699997  150.179993  146.389999  148.240005  141.410492  3722900\n",
       "8  148.899994  152.820007  148.500000  150.320007  143.394653  6344000\n",
       "9  149.029999  152.949997  145.589996  147.250000  140.466095  8101700"
      ]
     },
     "execution_count": 6,
     "metadata": {},
     "output_type": "execute_result"
    }
   ],
   "source": [
    "import pandas as pd\n",
    "x = pd.read_csv('c:\\pythonexercise\\ibm.csv')\n",
    "x[1:10]"
   ]
  },
  {
   "cell_type": "code",
   "execution_count": 7,
   "metadata": {},
   "outputs": [
    {
     "data": {
      "text/plain": [
       "pandas.core.frame.DataFrame"
      ]
     },
     "execution_count": 7,
     "metadata": {},
     "output_type": "execute_result"
    }
   ],
   "source": [
    "type(x)"
   ]
  },
  {
   "cell_type": "code",
   "execution_count": 9,
   "metadata": {},
   "outputs": [],
   "source": [
    "import numpy as np\n",
    "x = np.array([[1,2],[3,4],[5,6]])"
   ]
  },
  {
   "cell_type": "code",
   "execution_count": 10,
   "metadata": {},
   "outputs": [],
   "source": [
    "y=x.flatten()"
   ]
  },
  {
   "cell_type": "code",
   "execution_count": 11,
   "metadata": {},
   "outputs": [
    {
     "data": {
      "text/plain": [
       "array([1, 2, 3, 4, 5, 6])"
      ]
     },
     "execution_count": 11,
     "metadata": {},
     "output_type": "execute_result"
    }
   ],
   "source": [
    "y"
   ]
  },
  {
   "cell_type": "markdown",
   "metadata": {},
   "source": [
    "x2"
   ]
  },
  {
   "cell_type": "code",
   "execution_count": 18,
   "metadata": {},
   "outputs": [],
   "source": [
    "x2 = np.reshape(y,[2,3])"
   ]
  }
 ],
 "metadata": {
  "kernelspec": {
   "display_name": "Python 3",
   "language": "python",
   "name": "python3"
  },
  "language_info": {
   "codemirror_mode": {
    "name": "ipython",
    "version": 3
   },
   "file_extension": ".py",
   "mimetype": "text/x-python",
   "name": "python",
   "nbconvert_exporter": "python",
   "pygments_lexer": "ipython3",
   "version": "3.7.6"
  }
 },
 "nbformat": 4,
 "nbformat_minor": 4
}

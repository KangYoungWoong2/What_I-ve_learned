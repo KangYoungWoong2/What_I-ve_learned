{
 "cells": [
  {
   "cell_type": "code",
   "execution_count": 1,
   "metadata": {},
   "outputs": [
    {
     "name": "stdout",
     "output_type": "stream",
     "text": [
      "[1 2 3]\n"
     ]
    }
   ],
   "source": [
    "#반복되는 데이터 넘파이 배열로 처리하는 방법 -> 넘파이가 제공하는 다차원 배열이용\n",
    "#배열 만들기(넘파이가 제공하는 배열을 ndarray라고 부름)\n",
    "import numpy as np\n",
    "a1 = np.array([1,2,3]) #1차원 array -> []로 묶기\n",
    "print(a1)"
   ]
  },
  {
   "cell_type": "code",
   "execution_count": 2,
   "metadata": {},
   "outputs": [
    {
     "name": "stdout",
     "output_type": "stream",
     "text": [
      "[[1 2 3]\n",
      " [4 5 6]]\n"
     ]
    }
   ],
   "source": [
    "a2 = np.array([[1,2,3], [4,5,6]]) #2차원 array -> [[]]로 묶기\n",
    "print(a2)"
   ]
  },
  {
   "cell_type": "code",
   "execution_count": 3,
   "metadata": {},
   "outputs": [
    {
     "name": "stdout",
     "output_type": "stream",
     "text": [
      "[[[1 2 3]\n",
      "  [4 5 6]]\n",
      "\n",
      " [[1 2 3]\n",
      "  [4 5 6]]]\n"
     ]
    }
   ],
   "source": [
    "a3 = np.array([[[1,2,3],[4,5,6]], [[1,2,3],[4,5,6]]]) #3차원 array ->[[[]]]로 묶기\n",
    "print(a3)"
   ]
  },
  {
   "cell_type": "code",
   "execution_count": 5,
   "metadata": {},
   "outputs": [
    {
     "name": "stdout",
     "output_type": "stream",
     "text": [
      "[ 0  1  2  3  4  5  6  7  8  9 10 11 12 13 14]\n"
     ]
    }
   ],
   "source": [
    "#배열모양 변경하기\n",
    "# 1x15 배열을 만들려면 arange()함수 이용 : arrange(시작번호,끝번호,간격), 시작번호와 간격을 생략하면 0부터 끝번호-1까지 반환\n",
    "c = np.arange(15)\n",
    "print(c)"
   ]
  },
  {
   "cell_type": "code",
   "execution_count": 6,
   "metadata": {},
   "outputs": [
    {
     "name": "stdout",
     "output_type": "stream",
     "text": [
      "[[ 0  1  2  3  4]\n",
      " [ 5  6  7  8  9]\n",
      " [10 11 12 13 14]]\n"
     ]
    }
   ],
   "source": [
    "#배열 모양을 변경할 때는 배열명.reshape(행,열)\n",
    "c = c.reshape(3,5) # 1x15 행렬을 3x5행렬로 바꿈\n",
    "print(c)"
   ]
  },
  {
   "cell_type": "code",
   "execution_count": 8,
   "metadata": {},
   "outputs": [
    {
     "data": {
      "text/plain": [
       "array([[[ 0,  5, 10, 15, 20],\n",
       "        [25, 30, 35, 40, 45]],\n",
       "\n",
       "       [[50, 55, 60, 65, 70],\n",
       "        [75, 80, 85, 90, 95]]])"
      ]
     },
     "execution_count": 8,
     "metadata": {},
     "output_type": "execute_result"
    }
   ],
   "source": [
    "#1차원 -> 3차원으로 바꾸려면\n",
    "d = np.arange(0,100,5)\n",
    "d = d.reshape(2,2,5) #(3차원,2차원,1차원) 순으로 기입, 각 차원의 곱은 성분의 개수와 같아야 함\n",
    "d"
   ]
  },
  {
   "cell_type": "code",
   "execution_count": 9,
   "metadata": {},
   "outputs": [
    {
     "data": {
      "text/plain": [
       "array([[2, 2],\n",
       "       [3, 5]])"
      ]
     },
     "execution_count": 9,
     "metadata": {},
     "output_type": "execute_result"
    }
   ],
   "source": [
    "#배열의 스칼라 연산\n",
    "#nd operation\n",
    "n1 = np.array([[1,0],\n",
    "               [0,1]])\n",
    "n2 = np.array([[1,2],\n",
    "               [3,4]])\n",
    "n1+n2"
   ]
  },
  {
   "cell_type": "code",
   "execution_count": 10,
   "metadata": {},
   "outputs": [
    {
     "data": {
      "text/plain": [
       "array([[ 0, -2],\n",
       "       [-3, -3]])"
      ]
     },
     "execution_count": 10,
     "metadata": {},
     "output_type": "execute_result"
    }
   ],
   "source": [
    "n1-n2"
   ]
  },
  {
   "cell_type": "code",
   "execution_count": 11,
   "metadata": {},
   "outputs": [
    {
     "data": {
      "text/plain": [
       "array([[1, 0],\n",
       "       [0, 4]])"
      ]
     },
     "execution_count": 11,
     "metadata": {},
     "output_type": "execute_result"
    }
   ],
   "source": [
    "n1*n2 #같은 위치의 원소끼리 곱하는 스칼라 연산임에 주의"
   ]
  },
  {
   "cell_type": "code",
   "execution_count": 12,
   "metadata": {},
   "outputs": [
    {
     "data": {
      "text/plain": [
       "array([[1.  , 0.  ],\n",
       "       [0.  , 0.25]])"
      ]
     },
     "execution_count": 12,
     "metadata": {},
     "output_type": "execute_result"
    }
   ],
   "source": [
    "n1/n2"
   ]
  },
  {
   "cell_type": "code",
   "execution_count": 13,
   "metadata": {},
   "outputs": [
    {
     "name": "stderr",
     "output_type": "stream",
     "text": [
      "C:\\Users\\1\\anaconda3\\lib\\site-packages\\ipykernel_launcher.py:1: RuntimeWarning: divide by zero encountered in true_divide\n",
      "  \"\"\"Entry point for launching an IPython kernel.\n"
     ]
    },
    {
     "data": {
      "text/plain": [
       "array([[ 1., inf],\n",
       "       [inf,  4.]])"
      ]
     },
     "execution_count": 13,
     "metadata": {},
     "output_type": "execute_result"
    }
   ],
   "source": [
    "n2/n1 #0으로 나누면 경고메세지 + 무한대"
   ]
  },
  {
   "cell_type": "code",
   "execution_count": 14,
   "metadata": {},
   "outputs": [
    {
     "data": {
      "text/plain": [
       "array([[2, 1],\n",
       "       [1, 2]])"
      ]
     },
     "execution_count": 14,
     "metadata": {},
     "output_type": "execute_result"
    }
   ],
   "source": [
    "n1+1"
   ]
  },
  {
   "cell_type": "code",
   "execution_count": 15,
   "metadata": {},
   "outputs": [
    {
     "data": {
      "text/plain": [
       "array([[ 0, -1],\n",
       "       [-1,  0]])"
      ]
     },
     "execution_count": 15,
     "metadata": {},
     "output_type": "execute_result"
    }
   ],
   "source": [
    "n1-1"
   ]
  },
  {
   "cell_type": "code",
   "execution_count": 16,
   "metadata": {},
   "outputs": [
    {
     "data": {
      "text/plain": [
       "array([[2, 0],\n",
       "       [0, 2]])"
      ]
     },
     "execution_count": 16,
     "metadata": {},
     "output_type": "execute_result"
    }
   ],
   "source": [
    "n1*2"
   ]
  },
  {
   "cell_type": "code",
   "execution_count": 17,
   "metadata": {},
   "outputs": [
    {
     "data": {
      "text/plain": [
       "array([[0.5, 0. ],\n",
       "       [0. , 0.5]])"
      ]
     },
     "execution_count": 17,
     "metadata": {},
     "output_type": "execute_result"
    }
   ],
   "source": [
    "n1/2"
   ]
  },
  {
   "cell_type": "code",
   "execution_count": 18,
   "metadata": {},
   "outputs": [
    {
     "data": {
      "text/plain": [
       "array([[1, 2],\n",
       "       [3, 4]])"
      ]
     },
     "execution_count": 18,
     "metadata": {},
     "output_type": "execute_result"
    }
   ],
   "source": [
    "#배열의 벡터연산\n",
    "np.dot(n1,n2) #n1.dot(n2)와 같은 표현, 벡터 곱"
   ]
  },
  {
   "cell_type": "code",
   "execution_count": 19,
   "metadata": {},
   "outputs": [
    {
     "name": "stdout",
     "output_type": "stream",
     "text": [
      "[[ 0  1  2  3]\n",
      " [ 4  5  6  7]\n",
      " [ 8  9 10 11]]\n"
     ]
    }
   ],
   "source": [
    "#행끼리, 열끼리 연산\n",
    "#한줄 연산을 할때는 축을 지정, 열끼리 연산은 axis =0, 행끼리 연산은 axis=1\n",
    "#배열 내 연산\n",
    "n3 = np.arange(12).reshape(3,4)\n",
    "print(n3)"
   ]
  },
  {
   "cell_type": "code",
   "execution_count": 20,
   "metadata": {},
   "outputs": [
    {
     "data": {
      "text/plain": [
       "array([12, 15, 18, 21])"
      ]
     },
     "execution_count": 20,
     "metadata": {},
     "output_type": "execute_result"
    }
   ],
   "source": [
    "n3.sum(axis=0) #열합계"
   ]
  },
  {
   "cell_type": "code",
   "execution_count": 21,
   "metadata": {},
   "outputs": [
    {
     "data": {
      "text/plain": [
       "array([ 6, 22, 38])"
      ]
     },
     "execution_count": 21,
     "metadata": {},
     "output_type": "execute_result"
    }
   ],
   "source": [
    "n3.sum(axis=1) #행합계"
   ]
  },
  {
   "cell_type": "code",
   "execution_count": 22,
   "metadata": {},
   "outputs": [
    {
     "data": {
      "text/plain": [
       "array([ 3,  7, 11])"
      ]
     },
     "execution_count": 22,
     "metadata": {},
     "output_type": "execute_result"
    }
   ],
   "source": [
    "n3.max(axis=1) #각 행에서 최대값"
   ]
  },
  {
   "cell_type": "code",
   "execution_count": 23,
   "metadata": {},
   "outputs": [
    {
     "data": {
      "text/plain": [
       "array([4., 5., 6., 7.])"
      ]
     },
     "execution_count": 23,
     "metadata": {},
     "output_type": "execute_result"
    }
   ],
   "source": [
    "n3.mean(axis=0) #각 열의 평균값"
   ]
  },
  {
   "cell_type": "code",
   "execution_count": 26,
   "metadata": {},
   "outputs": [
    {
     "name": "stdout",
     "output_type": "stream",
     "text": [
      "11\n",
      "0\n",
      "66\n",
      "5.5\n",
      "3.452052529534663\n",
      "11.916666666666666\n",
      "[ 0  1  3  6 10 15 21 28 36 45 55 66]\n",
      "[0 0 0 0 0 0 0 0 0 0 0 0]\n"
     ]
    }
   ],
   "source": [
    "#축을 지정하지 않으면 한줄 연산을 하지 않고 전체 연사에 대한 연산\n",
    "print(n3.max()) #최대값\n",
    "print(n3.min()) #최소값\n",
    "print(n3.sum()) #전체합\n",
    "print(n3.mean()) #평균값\n",
    "print(n3.std()) #표준편차\n",
    "print(n3.var()) #분산\n",
    "print(n3.cumsum()) #각 원소의 누적합\n",
    "print(n3.cumprod()) #각 원소의 누적곱"
   ]
  },
  {
   "cell_type": "code",
   "execution_count": 27,
   "metadata": {},
   "outputs": [
    {
     "data": {
      "text/plain": [
       "23"
      ]
     },
     "execution_count": 27,
     "metadata": {},
     "output_type": "execute_result"
    }
   ],
   "source": [
    "#배열에서 특정 데이터 뽑기 -> 슬라이싱(slicing) 기능 이용\n",
    "v = np.array([[11,12,13,14,15],\n",
    "              [21,22,23,24,25],\n",
    "              [31,32,33,34,35],\n",
    "              [41,42,43,44,45]])\n",
    "#array에서 데이터 뽑기\n",
    "v[1,2] #2행 3열, 데이터가 0부터 시작함에 주의"
   ]
  },
  {
   "cell_type": "code",
   "execution_count": 28,
   "metadata": {},
   "outputs": [
    {
     "data": {
      "text/plain": [
       "23"
      ]
     },
     "execution_count": 28,
     "metadata": {},
     "output_type": "execute_result"
    }
   ],
   "source": [
    "v[1][2] #v[1,2]와 같은 표현"
   ]
  },
  {
   "cell_type": "code",
   "execution_count": 30,
   "metadata": {},
   "outputs": [
    {
     "data": {
      "text/plain": [
       "array([12, 22, 32, 42])"
      ]
     },
     "execution_count": 30,
     "metadata": {},
     "output_type": "execute_result"
    }
   ],
   "source": [
    "v[:,1] #전체 행, 2열 데이터 추출"
   ]
  },
  {
   "cell_type": "code",
   "execution_count": 31,
   "metadata": {},
   "outputs": [
    {
     "data": {
      "text/plain": [
       "array([22, 32])"
      ]
     },
     "execution_count": 31,
     "metadata": {},
     "output_type": "execute_result"
    }
   ],
   "source": [
    "v[1:3, 1] #2~3행, 2열 데이터 추출"
   ]
  },
  {
   "cell_type": "code",
   "execution_count": 32,
   "metadata": {},
   "outputs": [
    {
     "data": {
      "text/plain": [
       "array([21, 22, 23, 24, 25])"
      ]
     },
     "execution_count": 32,
     "metadata": {},
     "output_type": "execute_result"
    }
   ],
   "source": [
    "v[1, :] #2행 전체 데이터 추출, v[1] 과도 같음"
   ]
  },
  {
   "cell_type": "code",
   "execution_count": 33,
   "metadata": {},
   "outputs": [
    {
     "data": {
      "text/plain": [
       "array([21, 22, 23, 24, 25])"
      ]
     },
     "execution_count": 33,
     "metadata": {},
     "output_type": "execute_result"
    }
   ],
   "source": [
    "v[1]"
   ]
  },
  {
   "cell_type": "code",
   "execution_count": 34,
   "metadata": {},
   "outputs": [
    {
     "data": {
      "text/plain": [
       "DatetimeIndex(['2018-12-01', '2018-12-02', '2018-12-03'], dtype='datetime64[ns]', freq='D')"
      ]
     },
     "execution_count": 34,
     "metadata": {},
     "output_type": "execute_result"
    }
   ],
   "source": [
    "#팬더스 이용 -> 팬더스를 이용하면 자료 구조를 엑셀의 스프레드시트와 같은 형태로 만들어 대용량 데이터 처리 가능\n",
    "#팬더스로 1차원 데이터를 처리할 때는 시리즈(Series)로, 2차원 데이터를 처리할 때는 데이터프레임(DataFrame) 사용\n",
    "\n",
    "#시리즈\n",
    "import pandas as pd\n",
    "prices = [1000,1010, 1020] #주가\n",
    "#주가에 해당하는 날짜를 지정하기 위해 data_range('시작날짜', '끝날짜', periods = 날짜수, freq = '주기') 이용, 끝날짜와 periods 둘중 하나를 지정, freq는 생략 가능\n",
    "#date_range()에서 freq는 'D', 'W', 'M' 등으로 지정, 기본값은 'D'\n",
    "dates = pd.date_range('20181201', periods=3)\n",
    "dates"
   ]
  },
  {
   "cell_type": "code",
   "execution_count": 35,
   "metadata": {},
   "outputs": [
    {
     "data": {
      "text/plain": [
       "DatetimeIndex(['2018-01-07', '2018-01-14', '2018-01-21', '2018-01-28'], dtype='datetime64[ns]', freq='W-SUN')"
      ]
     },
     "execution_count": 35,
     "metadata": {},
     "output_type": "execute_result"
    }
   ],
   "source": [
    "pd.date_range('20180101', '20180131', freq='W') # 주기를 'W'로 지정하면 일주일 단위로 지정"
   ]
  },
  {
   "cell_type": "code",
   "execution_count": 36,
   "metadata": {},
   "outputs": [
    {
     "data": {
      "text/plain": [
       "2018-12-01    1000\n",
       "2018-12-02    1010\n",
       "2018-12-03    1020\n",
       "Freq: D, dtype: int64"
      ]
     },
     "execution_count": 36,
     "metadata": {},
     "output_type": "execute_result"
    }
   ],
   "source": [
    "s = pd.Series(prices, index=dates) #주가를 데이터로, 날짜를 인덱스로 하는 시리즈 생성\n",
    "s"
   ]
  },
  {
   "cell_type": "code",
   "execution_count": 37,
   "metadata": {},
   "outputs": [
    {
     "data": {
      "text/plain": [
       "0    1000\n",
       "1    1010\n",
       "2    1020\n",
       "dtype: int64"
      ]
     },
     "execution_count": 37,
     "metadata": {},
     "output_type": "execute_result"
    }
   ],
   "source": [
    "s2 = pd.Series(prices) # 인덱스를 지정하지 않으면 0부터 일렬로 번호 생성\n",
    "s2"
   ]
  },
  {
   "cell_type": "code",
   "execution_count": 39,
   "metadata": {},
   "outputs": [
    {
     "data": {
      "text/plain": [
       "0    1000\n",
       "1    1010\n",
       "2    1020\n",
       "3    1030\n",
       "dtype: int64"
      ]
     },
     "execution_count": 39,
     "metadata": {},
     "output_type": "execute_result"
    }
   ],
   "source": [
    "s2[3] = 1030 #시리즈에 데이터를 추가할 때는 시리즈명[인덱스] = 값\n",
    "s2"
   ]
  },
  {
   "cell_type": "code",
   "execution_count": 40,
   "metadata": {},
   "outputs": [
    {
     "data": {
      "text/plain": [
       "2018-12-01    1000\n",
       "2018-12-02    1010\n",
       "2018-12-03    1020\n",
       "2018-12-04    1030\n",
       "Freq: D, dtype: int64"
      ]
     },
     "execution_count": 40,
     "metadata": {},
     "output_type": "execute_result"
    }
   ],
   "source": [
    "#날짜로 인덱스가 매겨진 시리즈 s에 데이터를 추가하려면 pd.to_datetime()함수 이용\n",
    "#pd.to_datetime('날짜')는 문자열을 날짜형식으로 전환, '날짜'는 20100205, 2010-02-05 등 날짜 형식이면 됨\n",
    "s[pd.to_datetime('2018-12-04')] = 1030 #인덱스를 이용한 데이터추가\n",
    "s"
   ]
  },
  {
   "cell_type": "code",
   "execution_count": 41,
   "metadata": {},
   "outputs": [
    {
     "data": {
      "text/plain": [
       "1020"
      ]
     },
     "execution_count": 41,
     "metadata": {},
     "output_type": "execute_result"
    }
   ],
   "source": [
    "s[2] #시리즈도 리스트나 배열처럼 특정 데이터를 골라서 뽑을 수 있음"
   ]
  },
  {
   "cell_type": "code",
   "execution_count": 42,
   "metadata": {},
   "outputs": [
    {
     "data": {
      "text/plain": [
       "1020"
      ]
     },
     "execution_count": 42,
     "metadata": {},
     "output_type": "execute_result"
    }
   ],
   "source": [
    "s['2018-12-03'] #인덱스를 이용한 데이터추출"
   ]
  },
  {
   "cell_type": "code",
   "execution_count": 43,
   "metadata": {},
   "outputs": [
    {
     "data": {
      "text/html": [
       "<div>\n",
       "<style scoped>\n",
       "    .dataframe tbody tr th:only-of-type {\n",
       "        vertical-align: middle;\n",
       "    }\n",
       "\n",
       "    .dataframe tbody tr th {\n",
       "        vertical-align: top;\n",
       "    }\n",
       "\n",
       "    .dataframe thead th {\n",
       "        text-align: right;\n",
       "    }\n",
       "</style>\n",
       "<table border=\"1\" class=\"dataframe\">\n",
       "  <thead>\n",
       "    <tr style=\"text-align: right;\">\n",
       "      <th></th>\n",
       "      <th>A전자</th>\n",
       "      <th>B화학</th>\n",
       "      <th>C금융</th>\n",
       "    </tr>\n",
       "  </thead>\n",
       "  <tbody>\n",
       "    <tr>\n",
       "      <th>0</th>\n",
       "      <td>1000</td>\n",
       "      <td>2000</td>\n",
       "      <td>3000</td>\n",
       "    </tr>\n",
       "    <tr>\n",
       "      <th>1</th>\n",
       "      <td>1010</td>\n",
       "      <td>2010</td>\n",
       "      <td>3010</td>\n",
       "    </tr>\n",
       "    <tr>\n",
       "      <th>2</th>\n",
       "      <td>1020</td>\n",
       "      <td>2020</td>\n",
       "      <td>3020</td>\n",
       "    </tr>\n",
       "  </tbody>\n",
       "</table>\n",
       "</div>"
      ],
      "text/plain": [
       "    A전자   B화학   C금융\n",
       "0  1000  2000  3000\n",
       "1  1010  2010  3010\n",
       "2  1020  2020  3020"
      ]
     },
     "execution_count": 43,
     "metadata": {},
     "output_type": "execute_result"
    }
   ],
   "source": [
    "# 데이터프레임 생성\n",
    "prices = {'A전자' : [1000,1010,1020],\n",
    "          'B화학' : [2000,2010,2020],\n",
    "          'C금융' : [3000,3010,3020]}\n",
    "df1 = pd.DataFrame(prices) #딕셔너리를 데이터프레임으로 변환\n",
    "df1"
   ]
  },
  {
   "cell_type": "code",
   "execution_count": 44,
   "metadata": {},
   "outputs": [
    {
     "data": {
      "text/html": [
       "<div>\n",
       "<style scoped>\n",
       "    .dataframe tbody tr th:only-of-type {\n",
       "        vertical-align: middle;\n",
       "    }\n",
       "\n",
       "    .dataframe tbody tr th {\n",
       "        vertical-align: top;\n",
       "    }\n",
       "\n",
       "    .dataframe thead th {\n",
       "        text-align: right;\n",
       "    }\n",
       "</style>\n",
       "<table border=\"1\" class=\"dataframe\">\n",
       "  <thead>\n",
       "    <tr style=\"text-align: right;\">\n",
       "      <th></th>\n",
       "      <th>A전자</th>\n",
       "      <th>B화학</th>\n",
       "      <th>C금융</th>\n",
       "    </tr>\n",
       "  </thead>\n",
       "  <tbody>\n",
       "    <tr>\n",
       "      <th>2018-12-01</th>\n",
       "      <td>1000</td>\n",
       "      <td>2000</td>\n",
       "      <td>3000</td>\n",
       "    </tr>\n",
       "    <tr>\n",
       "      <th>2018-12-02</th>\n",
       "      <td>1010</td>\n",
       "      <td>2010</td>\n",
       "      <td>3010</td>\n",
       "    </tr>\n",
       "    <tr>\n",
       "      <th>2018-12-03</th>\n",
       "      <td>1020</td>\n",
       "      <td>2020</td>\n",
       "      <td>3020</td>\n",
       "    </tr>\n",
       "  </tbody>\n",
       "</table>\n",
       "</div>"
      ],
      "text/plain": [
       "             A전자   B화학   C금융\n",
       "2018-12-01  1000  2000  3000\n",
       "2018-12-02  1010  2010  3010\n",
       "2018-12-03  1020  2020  3020"
      ]
     },
     "execution_count": 44,
     "metadata": {},
     "output_type": "execute_result"
    }
   ],
   "source": [
    "df2 = pd.DataFrame(prices, index=dates) #인덱스가 있는 데이터프레임\n",
    "df2"
   ]
  },
  {
   "cell_type": "code",
   "execution_count": 45,
   "metadata": {},
   "outputs": [
    {
     "data": {
      "text/plain": [
       "A전자    1000\n",
       "B화학    2000\n",
       "C금융    3000\n",
       "Name: 2018-12-01 00:00:00, dtype: int64"
      ]
     },
     "execution_count": 45,
     "metadata": {},
     "output_type": "execute_result"
    }
   ],
   "source": [
    "#데이터프레임 조회\n",
    "#데이터프레임.iloc[줄번호, 열번호] 로 데이터 조회, 열번호는 생략가능(생략하면 열 전체)\n",
    "df2.iloc[0] #1행"
   ]
  },
  {
   "cell_type": "code",
   "execution_count": 47,
   "metadata": {},
   "outputs": [
    {
     "data": {
      "text/plain": [
       "2018-12-01    1000\n",
       "2018-12-02    1010\n",
       "2018-12-03    1020\n",
       "Freq: D, Name: A전자, dtype: int64"
      ]
     },
     "execution_count": 47,
     "metadata": {},
     "output_type": "execute_result"
    }
   ],
   "source": [
    "df2.iloc[:, 0] #1열"
   ]
  },
  {
   "cell_type": "code",
   "execution_count": 48,
   "metadata": {},
   "outputs": [
    {
     "data": {
      "text/plain": [
       "1000"
      ]
     },
     "execution_count": 48,
     "metadata": {},
     "output_type": "execute_result"
    }
   ],
   "source": [
    "df2.iloc[0,0] #1행, 1열"
   ]
  },
  {
   "cell_type": "code",
   "execution_count": 49,
   "metadata": {},
   "outputs": [
    {
     "data": {
      "text/plain": [
       "A전자    1000\n",
       "B화학    2000\n",
       "C금융    3000\n",
       "Name: 2018-12-01 00:00:00, dtype: int64"
      ]
     },
     "execution_count": 49,
     "metadata": {},
     "output_type": "execute_result"
    }
   ],
   "source": [
    "#레이블을 이용해서 데이터 조회가능\n",
    "#데이터프레임.loc['행레이블', '열레이블'], '열레이블'은 생략가능(생략하면 전체선택)\n",
    "df2.loc['2018-12-01']"
   ]
  },
  {
   "cell_type": "code",
   "execution_count": 50,
   "metadata": {},
   "outputs": [
    {
     "data": {
      "text/plain": [
       "2018-12-01    1000\n",
       "2018-12-02    1010\n",
       "2018-12-03    1020\n",
       "Freq: D, Name: A전자, dtype: int64"
      ]
     },
     "execution_count": 50,
     "metadata": {},
     "output_type": "execute_result"
    }
   ],
   "source": [
    "df2.loc[:, 'A전자']"
   ]
  },
  {
   "cell_type": "code",
   "execution_count": 54,
   "metadata": {},
   "outputs": [
    {
     "data": {
      "text/plain": [
       "1000"
      ]
     },
     "execution_count": 54,
     "metadata": {},
     "output_type": "execute_result"
    }
   ],
   "source": [
    "df2.loc['2018-12-01', 'A전자']"
   ]
  },
  {
   "cell_type": "code",
   "execution_count": 55,
   "metadata": {},
   "outputs": [
    {
     "data": {
      "text/plain": [
       "2018-12-01    1000\n",
       "2018-12-02    1010\n",
       "2018-12-03    1020\n",
       "Freq: D, Name: A전자, dtype: int64"
      ]
     },
     "execution_count": 55,
     "metadata": {},
     "output_type": "execute_result"
    }
   ],
   "source": [
    "df2['A전자'] #df2.A전자와 동일, 리스트로 반환"
   ]
  },
  {
   "cell_type": "code",
   "execution_count": 56,
   "metadata": {},
   "outputs": [
    {
     "data": {
      "text/plain": [
       "1000"
      ]
     },
     "execution_count": 56,
     "metadata": {},
     "output_type": "execute_result"
    }
   ],
   "source": [
    "df2['A전자']['2018-12-01'] #df2.loc[:, 'A전자']['2018-12-01']와 동일한 표현"
   ]
  },
  {
   "cell_type": "code",
   "execution_count": 57,
   "metadata": {},
   "outputs": [
    {
     "data": {
      "text/html": [
       "<div>\n",
       "<style scoped>\n",
       "    .dataframe tbody tr th:only-of-type {\n",
       "        vertical-align: middle;\n",
       "    }\n",
       "\n",
       "    .dataframe tbody tr th {\n",
       "        vertical-align: top;\n",
       "    }\n",
       "\n",
       "    .dataframe thead th {\n",
       "        text-align: right;\n",
       "    }\n",
       "</style>\n",
       "<table border=\"1\" class=\"dataframe\">\n",
       "  <thead>\n",
       "    <tr style=\"text-align: right;\">\n",
       "      <th></th>\n",
       "      <th>A전자</th>\n",
       "      <th>B화학</th>\n",
       "      <th>C금융</th>\n",
       "      <th>D엔터</th>\n",
       "    </tr>\n",
       "  </thead>\n",
       "  <tbody>\n",
       "    <tr>\n",
       "      <th>2018-12-01</th>\n",
       "      <td>1000</td>\n",
       "      <td>2000</td>\n",
       "      <td>3000</td>\n",
       "      <td>4000</td>\n",
       "    </tr>\n",
       "    <tr>\n",
       "      <th>2018-12-02</th>\n",
       "      <td>1010</td>\n",
       "      <td>2010</td>\n",
       "      <td>3010</td>\n",
       "      <td>4010</td>\n",
       "    </tr>\n",
       "    <tr>\n",
       "      <th>2018-12-03</th>\n",
       "      <td>1020</td>\n",
       "      <td>2020</td>\n",
       "      <td>3020</td>\n",
       "      <td>4020</td>\n",
       "    </tr>\n",
       "  </tbody>\n",
       "</table>\n",
       "</div>"
      ],
      "text/plain": [
       "             A전자   B화학   C금융   D엔터\n",
       "2018-12-01  1000  2000  3000  4000\n",
       "2018-12-02  1010  2010  3010  4010\n",
       "2018-12-03  1020  2020  3020  4020"
      ]
     },
     "execution_count": 57,
     "metadata": {},
     "output_type": "execute_result"
    }
   ],
   "source": [
    "#데이터 프레임에 데이터 추가\n",
    "#데이터프레임['종목명'] = [시세]처럼 지정후 추가 가능\n",
    "df2['D엔터'] = [4000,4010,4020]\n",
    "df2"
   ]
  },
  {
   "cell_type": "code",
   "execution_count": 59,
   "metadata": {},
   "outputs": [
    {
     "data": {
      "text/html": [
       "<div>\n",
       "<style scoped>\n",
       "    .dataframe tbody tr th:only-of-type {\n",
       "        vertical-align: middle;\n",
       "    }\n",
       "\n",
       "    .dataframe tbody tr th {\n",
       "        vertical-align: top;\n",
       "    }\n",
       "\n",
       "    .dataframe thead th {\n",
       "        text-align: right;\n",
       "    }\n",
       "</style>\n",
       "<table border=\"1\" class=\"dataframe\">\n",
       "  <thead>\n",
       "    <tr style=\"text-align: right;\">\n",
       "      <th></th>\n",
       "      <th>A전자</th>\n",
       "      <th>B화학</th>\n",
       "      <th>C금융</th>\n",
       "      <th>D엔터</th>\n",
       "      <th>E텔레콤</th>\n",
       "    </tr>\n",
       "  </thead>\n",
       "  <tbody>\n",
       "    <tr>\n",
       "      <th>2018-12-01</th>\n",
       "      <td>1000</td>\n",
       "      <td>2000</td>\n",
       "      <td>3000</td>\n",
       "      <td>4000</td>\n",
       "      <td>1000</td>\n",
       "    </tr>\n",
       "    <tr>\n",
       "      <th>2018-12-02</th>\n",
       "      <td>1010</td>\n",
       "      <td>2010</td>\n",
       "      <td>3010</td>\n",
       "      <td>4010</td>\n",
       "      <td>1010</td>\n",
       "    </tr>\n",
       "    <tr>\n",
       "      <th>2018-12-03</th>\n",
       "      <td>1020</td>\n",
       "      <td>2020</td>\n",
       "      <td>3020</td>\n",
       "      <td>4020</td>\n",
       "      <td>1020</td>\n",
       "    </tr>\n",
       "  </tbody>\n",
       "</table>\n",
       "</div>"
      ],
      "text/plain": [
       "             A전자   B화학   C금융   D엔터  E텔레콤\n",
       "2018-12-01  1000  2000  3000  4000  1000\n",
       "2018-12-02  1010  2010  3010  4010  1010\n",
       "2018-12-03  1020  2020  3020  4020  1020"
      ]
     },
     "execution_count": 59,
     "metadata": {},
     "output_type": "execute_result"
    }
   ],
   "source": [
    "#데이터프레임에 종목을 추가할 때 이미 만들어준 시리즈 이용가능, 데이터프레임['레이블'] = 시리즈 처럼 지정\n",
    "df2['E텔레콤'] = s\n",
    "df2"
   ]
  },
  {
   "cell_type": "code",
   "execution_count": 61,
   "metadata": {},
   "outputs": [
    {
     "data": {
      "text/plain": [
       "2018-12-01    1000\n",
       "2018-12-02    1010\n",
       "2018-12-03    1020\n",
       "2018-12-04    1030\n",
       "Freq: D, Name: F소프트, dtype: int64"
      ]
     },
     "execution_count": 61,
     "metadata": {},
     "output_type": "execute_result"
    }
   ],
   "source": [
    "#데이터프레임 확장\n",
    "#인덱스에 없는 값도 추가하려면 concat 기능 이용 : pd.concat(A,B, axis=1), aixs = 0은 행방향, axis=1은 열방향, A와 B라는 데이터프레임 병합\n",
    "s.name = 'F소프트'\n",
    "s"
   ]
  },
  {
   "cell_type": "code",
   "execution_count": 62,
   "metadata": {},
   "outputs": [
    {
     "data": {
      "text/html": [
       "<div>\n",
       "<style scoped>\n",
       "    .dataframe tbody tr th:only-of-type {\n",
       "        vertical-align: middle;\n",
       "    }\n",
       "\n",
       "    .dataframe tbody tr th {\n",
       "        vertical-align: top;\n",
       "    }\n",
       "\n",
       "    .dataframe thead th {\n",
       "        text-align: right;\n",
       "    }\n",
       "</style>\n",
       "<table border=\"1\" class=\"dataframe\">\n",
       "  <thead>\n",
       "    <tr style=\"text-align: right;\">\n",
       "      <th></th>\n",
       "      <th>A전자</th>\n",
       "      <th>B화학</th>\n",
       "      <th>C금융</th>\n",
       "      <th>D엔터</th>\n",
       "      <th>E텔레콤</th>\n",
       "      <th>F소프트</th>\n",
       "    </tr>\n",
       "  </thead>\n",
       "  <tbody>\n",
       "    <tr>\n",
       "      <th>2018-12-01</th>\n",
       "      <td>1000.0</td>\n",
       "      <td>2000.0</td>\n",
       "      <td>3000.0</td>\n",
       "      <td>4000.0</td>\n",
       "      <td>1000.0</td>\n",
       "      <td>1000</td>\n",
       "    </tr>\n",
       "    <tr>\n",
       "      <th>2018-12-02</th>\n",
       "      <td>1010.0</td>\n",
       "      <td>2010.0</td>\n",
       "      <td>3010.0</td>\n",
       "      <td>4010.0</td>\n",
       "      <td>1010.0</td>\n",
       "      <td>1010</td>\n",
       "    </tr>\n",
       "    <tr>\n",
       "      <th>2018-12-03</th>\n",
       "      <td>1020.0</td>\n",
       "      <td>2020.0</td>\n",
       "      <td>3020.0</td>\n",
       "      <td>4020.0</td>\n",
       "      <td>1020.0</td>\n",
       "      <td>1020</td>\n",
       "    </tr>\n",
       "    <tr>\n",
       "      <th>2018-12-04</th>\n",
       "      <td>NaN</td>\n",
       "      <td>NaN</td>\n",
       "      <td>NaN</td>\n",
       "      <td>NaN</td>\n",
       "      <td>NaN</td>\n",
       "      <td>1030</td>\n",
       "    </tr>\n",
       "  </tbody>\n",
       "</table>\n",
       "</div>"
      ],
      "text/plain": [
       "               A전자     B화학     C금융     D엔터    E텔레콤  F소프트\n",
       "2018-12-01  1000.0  2000.0  3000.0  4000.0  1000.0  1000\n",
       "2018-12-02  1010.0  2010.0  3010.0  4010.0  1010.0  1010\n",
       "2018-12-03  1020.0  2020.0  3020.0  4020.0  1020.0  1020\n",
       "2018-12-04     NaN     NaN     NaN     NaN     NaN  1030"
      ]
     },
     "execution_count": 62,
     "metadata": {},
     "output_type": "execute_result"
    }
   ],
   "source": [
    "df2 = pd.concat([df2, s], axis=1)\n",
    "df2"
   ]
  },
  {
   "cell_type": "code",
   "execution_count": 63,
   "metadata": {},
   "outputs": [
    {
     "data": {
      "text/html": [
       "<div>\n",
       "<style scoped>\n",
       "    .dataframe tbody tr th:only-of-type {\n",
       "        vertical-align: middle;\n",
       "    }\n",
       "\n",
       "    .dataframe tbody tr th {\n",
       "        vertical-align: top;\n",
       "    }\n",
       "\n",
       "    .dataframe thead th {\n",
       "        text-align: right;\n",
       "    }\n",
       "</style>\n",
       "<table border=\"1\" class=\"dataframe\">\n",
       "  <thead>\n",
       "    <tr style=\"text-align: right;\">\n",
       "      <th></th>\n",
       "      <th>A전자</th>\n",
       "      <th>B화학</th>\n",
       "      <th>C금융</th>\n",
       "      <th>D엔터</th>\n",
       "      <th>E텔레콤</th>\n",
       "      <th>F소프트</th>\n",
       "    </tr>\n",
       "  </thead>\n",
       "  <tbody>\n",
       "    <tr>\n",
       "      <th>2018-12-01</th>\n",
       "      <td>1000.0</td>\n",
       "      <td>2000.0</td>\n",
       "      <td>3000.0</td>\n",
       "      <td>4000.0</td>\n",
       "      <td>1000.0</td>\n",
       "      <td>1000.0</td>\n",
       "    </tr>\n",
       "    <tr>\n",
       "      <th>2018-12-02</th>\n",
       "      <td>1010.0</td>\n",
       "      <td>2010.0</td>\n",
       "      <td>3010.0</td>\n",
       "      <td>4010.0</td>\n",
       "      <td>1010.0</td>\n",
       "      <td>1010.0</td>\n",
       "    </tr>\n",
       "    <tr>\n",
       "      <th>2018-12-03</th>\n",
       "      <td>1020.0</td>\n",
       "      <td>2020.0</td>\n",
       "      <td>3020.0</td>\n",
       "      <td>4020.0</td>\n",
       "      <td>1020.0</td>\n",
       "      <td>1020.0</td>\n",
       "    </tr>\n",
       "    <tr>\n",
       "      <th>2018-12-04</th>\n",
       "      <td>NaN</td>\n",
       "      <td>NaN</td>\n",
       "      <td>NaN</td>\n",
       "      <td>NaN</td>\n",
       "      <td>NaN</td>\n",
       "      <td>1030.0</td>\n",
       "    </tr>\n",
       "    <tr>\n",
       "      <th>2018-12-07</th>\n",
       "      <td>1060.0</td>\n",
       "      <td>2060.0</td>\n",
       "      <td>3060.0</td>\n",
       "      <td>4060.0</td>\n",
       "      <td>1060.0</td>\n",
       "      <td>1060.0</td>\n",
       "    </tr>\n",
       "  </tbody>\n",
       "</table>\n",
       "</div>"
      ],
      "text/plain": [
       "               A전자     B화학     C금융     D엔터    E텔레콤    F소프트\n",
       "2018-12-01  1000.0  2000.0  3000.0  4000.0  1000.0  1000.0\n",
       "2018-12-02  1010.0  2010.0  3010.0  4010.0  1010.0  1010.0\n",
       "2018-12-03  1020.0  2020.0  3020.0  4020.0  1020.0  1020.0\n",
       "2018-12-04     NaN     NaN     NaN     NaN     NaN  1030.0\n",
       "2018-12-07  1060.0  2060.0  3060.0  4060.0  1060.0  1060.0"
      ]
     },
     "execution_count": 63,
     "metadata": {},
     "output_type": "execute_result"
    }
   ],
   "source": [
    "#12월 7일에 12월 1일보다 시세가 60원씩 오른 것을 추가하려면\n",
    "#1. df2에서 12월 1일자 데이터를 추출해서 df3에 저장\n",
    "df3 = df2.iloc[0]\n",
    "#2. 60원씩 더해주기\n",
    "df3 = df3 + 60\n",
    "#3. df3에 12월 7일이라고 레이블 지정\n",
    "df3.name = pd.to_datetime('20181207')\n",
    "#4. df2에 행 추가\n",
    "df2 = df2.append(df3) #행 추가할 때는 데이터프레임.append(추가할 데이터프레임)\n",
    "df2"
   ]
  },
  {
   "cell_type": "code",
   "execution_count": 65,
   "metadata": {},
   "outputs": [
    {
     "data": {
      "text/html": [
       "<div>\n",
       "<style scoped>\n",
       "    .dataframe tbody tr th:only-of-type {\n",
       "        vertical-align: middle;\n",
       "    }\n",
       "\n",
       "    .dataframe tbody tr th {\n",
       "        vertical-align: top;\n",
       "    }\n",
       "\n",
       "    .dataframe thead th {\n",
       "        text-align: right;\n",
       "    }\n",
       "</style>\n",
       "<table border=\"1\" class=\"dataframe\">\n",
       "  <thead>\n",
       "    <tr style=\"text-align: right;\">\n",
       "      <th></th>\n",
       "      <th>A전자</th>\n",
       "      <th>B화학</th>\n",
       "      <th>C금융</th>\n",
       "      <th>D엔터</th>\n",
       "      <th>E텔레콤</th>\n",
       "      <th>F소프트</th>\n",
       "    </tr>\n",
       "  </thead>\n",
       "  <tbody>\n",
       "    <tr>\n",
       "      <th>2018-12-01</th>\n",
       "      <td>1000.0</td>\n",
       "      <td>2000.0</td>\n",
       "      <td>3000.0</td>\n",
       "      <td>4000.0</td>\n",
       "      <td>1000.0</td>\n",
       "      <td>1000.0</td>\n",
       "    </tr>\n",
       "    <tr>\n",
       "      <th>2018-12-02</th>\n",
       "      <td>1010.0</td>\n",
       "      <td>2010.0</td>\n",
       "      <td>3010.0</td>\n",
       "      <td>4010.0</td>\n",
       "      <td>1010.0</td>\n",
       "      <td>1010.0</td>\n",
       "    </tr>\n",
       "    <tr>\n",
       "      <th>2018-12-03</th>\n",
       "      <td>1020.0</td>\n",
       "      <td>2020.0</td>\n",
       "      <td>3020.0</td>\n",
       "      <td>4020.0</td>\n",
       "      <td>1020.0</td>\n",
       "      <td>1020.0</td>\n",
       "    </tr>\n",
       "    <tr>\n",
       "      <th>2018-12-04</th>\n",
       "      <td>NaN</td>\n",
       "      <td>NaN</td>\n",
       "      <td>NaN</td>\n",
       "      <td>NaN</td>\n",
       "      <td>NaN</td>\n",
       "      <td>1030.0</td>\n",
       "    </tr>\n",
       "    <tr>\n",
       "      <th>2018-12-07</th>\n",
       "      <td>1060.0</td>\n",
       "      <td>2060.0</td>\n",
       "      <td>3060.0</td>\n",
       "      <td>4060.0</td>\n",
       "      <td>1060.0</td>\n",
       "      <td>1060.0</td>\n",
       "    </tr>\n",
       "    <tr>\n",
       "      <th>2018-12-06</th>\n",
       "      <td>1050.0</td>\n",
       "      <td>2050.0</td>\n",
       "      <td>3050.0</td>\n",
       "      <td>4050.0</td>\n",
       "      <td>1050.0</td>\n",
       "      <td>1050.0</td>\n",
       "    </tr>\n",
       "  </tbody>\n",
       "</table>\n",
       "</div>"
      ],
      "text/plain": [
       "               A전자     B화학     C금융     D엔터    E텔레콤    F소프트\n",
       "2018-12-01  1000.0  2000.0  3000.0  4000.0  1000.0  1000.0\n",
       "2018-12-02  1010.0  2010.0  3010.0  4010.0  1010.0  1010.0\n",
       "2018-12-03  1020.0  2020.0  3020.0  4020.0  1020.0  1020.0\n",
       "2018-12-04     NaN     NaN     NaN     NaN     NaN  1030.0\n",
       "2018-12-07  1060.0  2060.0  3060.0  4060.0  1060.0  1060.0\n",
       "2018-12-06  1050.0  2050.0  3050.0  4050.0  1050.0  1050.0"
      ]
     },
     "execution_count": 65,
     "metadata": {},
     "output_type": "execute_result"
    }
   ],
   "source": [
    "#12월 6일에는 12월 1일보다 50원씩 올랐다고 한다면\n",
    "df3 = df2.iloc[0] + 50\n",
    "df3.name = pd.to_datetime('20181206')\n",
    "df2= df2.append(df3)\n",
    "df2"
   ]
  },
  {
   "cell_type": "code",
   "execution_count": 66,
   "metadata": {},
   "outputs": [
    {
     "data": {
      "text/html": [
       "<div>\n",
       "<style scoped>\n",
       "    .dataframe tbody tr th:only-of-type {\n",
       "        vertical-align: middle;\n",
       "    }\n",
       "\n",
       "    .dataframe tbody tr th {\n",
       "        vertical-align: top;\n",
       "    }\n",
       "\n",
       "    .dataframe thead th {\n",
       "        text-align: right;\n",
       "    }\n",
       "</style>\n",
       "<table border=\"1\" class=\"dataframe\">\n",
       "  <thead>\n",
       "    <tr style=\"text-align: right;\">\n",
       "      <th></th>\n",
       "      <th>A전자</th>\n",
       "      <th>B화학</th>\n",
       "      <th>C금융</th>\n",
       "      <th>D엔터</th>\n",
       "      <th>E텔레콤</th>\n",
       "      <th>F소프트</th>\n",
       "    </tr>\n",
       "  </thead>\n",
       "  <tbody>\n",
       "    <tr>\n",
       "      <th>2018-12-01</th>\n",
       "      <td>1000.0</td>\n",
       "      <td>2000.0</td>\n",
       "      <td>3000.0</td>\n",
       "      <td>4000.0</td>\n",
       "      <td>1000.0</td>\n",
       "      <td>1000.0</td>\n",
       "    </tr>\n",
       "    <tr>\n",
       "      <th>2018-12-02</th>\n",
       "      <td>1010.0</td>\n",
       "      <td>2010.0</td>\n",
       "      <td>3010.0</td>\n",
       "      <td>4010.0</td>\n",
       "      <td>1010.0</td>\n",
       "      <td>1010.0</td>\n",
       "    </tr>\n",
       "    <tr>\n",
       "      <th>2018-12-03</th>\n",
       "      <td>1020.0</td>\n",
       "      <td>2020.0</td>\n",
       "      <td>3020.0</td>\n",
       "      <td>4020.0</td>\n",
       "      <td>1020.0</td>\n",
       "      <td>1020.0</td>\n",
       "    </tr>\n",
       "    <tr>\n",
       "      <th>2018-12-04</th>\n",
       "      <td>NaN</td>\n",
       "      <td>NaN</td>\n",
       "      <td>NaN</td>\n",
       "      <td>NaN</td>\n",
       "      <td>NaN</td>\n",
       "      <td>1030.0</td>\n",
       "    </tr>\n",
       "    <tr>\n",
       "      <th>2018-12-06</th>\n",
       "      <td>1050.0</td>\n",
       "      <td>2050.0</td>\n",
       "      <td>3050.0</td>\n",
       "      <td>4050.0</td>\n",
       "      <td>1050.0</td>\n",
       "      <td>1050.0</td>\n",
       "    </tr>\n",
       "    <tr>\n",
       "      <th>2018-12-07</th>\n",
       "      <td>1060.0</td>\n",
       "      <td>2060.0</td>\n",
       "      <td>3060.0</td>\n",
       "      <td>4060.0</td>\n",
       "      <td>1060.0</td>\n",
       "      <td>1060.0</td>\n",
       "    </tr>\n",
       "  </tbody>\n",
       "</table>\n",
       "</div>"
      ],
      "text/plain": [
       "               A전자     B화학     C금융     D엔터    E텔레콤    F소프트\n",
       "2018-12-01  1000.0  2000.0  3000.0  4000.0  1000.0  1000.0\n",
       "2018-12-02  1010.0  2010.0  3010.0  4010.0  1010.0  1010.0\n",
       "2018-12-03  1020.0  2020.0  3020.0  4020.0  1020.0  1020.0\n",
       "2018-12-04     NaN     NaN     NaN     NaN     NaN  1030.0\n",
       "2018-12-06  1050.0  2050.0  3050.0  4050.0  1050.0  1050.0\n",
       "2018-12-07  1060.0  2060.0  3060.0  4060.0  1060.0  1060.0"
      ]
     },
     "execution_count": 66,
     "metadata": {},
     "output_type": "execute_result"
    }
   ],
   "source": [
    "#날짜를 순서대로 하려면 sort_index() 이용, 데이터프레임.sort_index(axis=0, ascending=True) , axis = 0은 행방향, True면 오름차순\n",
    "df2.sort_index(inplace = True)\n",
    "df2"
   ]
  },
  {
   "cell_type": "code",
   "execution_count": 67,
   "metadata": {},
   "outputs": [
    {
     "data": {
      "text/html": [
       "<div>\n",
       "<style scoped>\n",
       "    .dataframe tbody tr th:only-of-type {\n",
       "        vertical-align: middle;\n",
       "    }\n",
       "\n",
       "    .dataframe tbody tr th {\n",
       "        vertical-align: top;\n",
       "    }\n",
       "\n",
       "    .dataframe thead th {\n",
       "        text-align: right;\n",
       "    }\n",
       "</style>\n",
       "<table border=\"1\" class=\"dataframe\">\n",
       "  <thead>\n",
       "    <tr style=\"text-align: right;\">\n",
       "      <th></th>\n",
       "      <th>A전자</th>\n",
       "      <th>B화학</th>\n",
       "      <th>C금융</th>\n",
       "      <th>D엔터</th>\n",
       "      <th>E텔레콤</th>\n",
       "      <th>F소프트</th>\n",
       "    </tr>\n",
       "  </thead>\n",
       "  <tbody>\n",
       "    <tr>\n",
       "      <th>2018-12-01</th>\n",
       "      <td>1000.0</td>\n",
       "      <td>2000.0</td>\n",
       "      <td>3000.0</td>\n",
       "      <td>4000.0</td>\n",
       "      <td>1000.0</td>\n",
       "      <td>1000.0</td>\n",
       "    </tr>\n",
       "    <tr>\n",
       "      <th>2018-12-02</th>\n",
       "      <td>1010.0</td>\n",
       "      <td>2010.0</td>\n",
       "      <td>3010.0</td>\n",
       "      <td>4010.0</td>\n",
       "      <td>1010.0</td>\n",
       "      <td>1010.0</td>\n",
       "    </tr>\n",
       "    <tr>\n",
       "      <th>2018-12-03</th>\n",
       "      <td>1020.0</td>\n",
       "      <td>2020.0</td>\n",
       "      <td>3020.0</td>\n",
       "      <td>4020.0</td>\n",
       "      <td>1020.0</td>\n",
       "      <td>1020.0</td>\n",
       "    </tr>\n",
       "    <tr>\n",
       "      <th>2018-12-04</th>\n",
       "      <td>NaN</td>\n",
       "      <td>NaN</td>\n",
       "      <td>NaN</td>\n",
       "      <td>NaN</td>\n",
       "      <td>NaN</td>\n",
       "      <td>1030.0</td>\n",
       "    </tr>\n",
       "    <tr>\n",
       "      <th>2018-12-07</th>\n",
       "      <td>1060.0</td>\n",
       "      <td>2060.0</td>\n",
       "      <td>3060.0</td>\n",
       "      <td>4060.0</td>\n",
       "      <td>1060.0</td>\n",
       "      <td>1060.0</td>\n",
       "    </tr>\n",
       "  </tbody>\n",
       "</table>\n",
       "</div>"
      ],
      "text/plain": [
       "               A전자     B화학     C금융     D엔터    E텔레콤    F소프트\n",
       "2018-12-01  1000.0  2000.0  3000.0  4000.0  1000.0  1000.0\n",
       "2018-12-02  1010.0  2010.0  3010.0  4010.0  1010.0  1010.0\n",
       "2018-12-03  1020.0  2020.0  3020.0  4020.0  1020.0  1020.0\n",
       "2018-12-04     NaN     NaN     NaN     NaN     NaN  1030.0\n",
       "2018-12-07  1060.0  2060.0  3060.0  4060.0  1060.0  1060.0"
      ]
     },
     "execution_count": 67,
     "metadata": {},
     "output_type": "execute_result"
    }
   ],
   "source": [
    "#데이터프레임에서 데이터 빼기\n",
    "#데이터프레임.drop(label, axis=0) , axis=1이면 열삭제\n",
    "df2.drop(pd.to_datetime('2018-12-06')) #행삭제, 인덱스 지정시 to_datetime()형식을 이용해야 함\n",
    "# 저장 하려면 df2 = df2.drop~으로 해야함"
   ]
  },
  {
   "cell_type": "code",
   "execution_count": 68,
   "metadata": {},
   "outputs": [
    {
     "data": {
      "text/html": [
       "<div>\n",
       "<style scoped>\n",
       "    .dataframe tbody tr th:only-of-type {\n",
       "        vertical-align: middle;\n",
       "    }\n",
       "\n",
       "    .dataframe tbody tr th {\n",
       "        vertical-align: top;\n",
       "    }\n",
       "\n",
       "    .dataframe thead th {\n",
       "        text-align: right;\n",
       "    }\n",
       "</style>\n",
       "<table border=\"1\" class=\"dataframe\">\n",
       "  <thead>\n",
       "    <tr style=\"text-align: right;\">\n",
       "      <th></th>\n",
       "      <th>A전자</th>\n",
       "      <th>B화학</th>\n",
       "      <th>C금융</th>\n",
       "      <th>D엔터</th>\n",
       "      <th>E텔레콤</th>\n",
       "      <th>F소프트</th>\n",
       "    </tr>\n",
       "  </thead>\n",
       "  <tbody>\n",
       "    <tr>\n",
       "      <th>2018-12-01</th>\n",
       "      <td>1000.0</td>\n",
       "      <td>2000.0</td>\n",
       "      <td>3000.0</td>\n",
       "      <td>4000.0</td>\n",
       "      <td>1000.0</td>\n",
       "      <td>1000.0</td>\n",
       "    </tr>\n",
       "    <tr>\n",
       "      <th>2018-12-03</th>\n",
       "      <td>1020.0</td>\n",
       "      <td>2020.0</td>\n",
       "      <td>3020.0</td>\n",
       "      <td>4020.0</td>\n",
       "      <td>1020.0</td>\n",
       "      <td>1020.0</td>\n",
       "    </tr>\n",
       "    <tr>\n",
       "      <th>2018-12-04</th>\n",
       "      <td>NaN</td>\n",
       "      <td>NaN</td>\n",
       "      <td>NaN</td>\n",
       "      <td>NaN</td>\n",
       "      <td>NaN</td>\n",
       "      <td>1030.0</td>\n",
       "    </tr>\n",
       "    <tr>\n",
       "      <th>2018-12-07</th>\n",
       "      <td>1060.0</td>\n",
       "      <td>2060.0</td>\n",
       "      <td>3060.0</td>\n",
       "      <td>4060.0</td>\n",
       "      <td>1060.0</td>\n",
       "      <td>1060.0</td>\n",
       "    </tr>\n",
       "  </tbody>\n",
       "</table>\n",
       "</div>"
      ],
      "text/plain": [
       "               A전자     B화학     C금융     D엔터    E텔레콤    F소프트\n",
       "2018-12-01  1000.0  2000.0  3000.0  4000.0  1000.0  1000.0\n",
       "2018-12-03  1020.0  2020.0  3020.0  4020.0  1020.0  1020.0\n",
       "2018-12-04     NaN     NaN     NaN     NaN     NaN  1030.0\n",
       "2018-12-07  1060.0  2060.0  3060.0  4060.0  1060.0  1060.0"
      ]
     },
     "execution_count": 68,
     "metadata": {},
     "output_type": "execute_result"
    }
   ],
   "source": [
    "df2.drop([pd.to_datetime('2018-12-02'), pd.to_datetime('2018-12-06')]) #여러 행삭제"
   ]
  },
  {
   "cell_type": "code",
   "execution_count": 69,
   "metadata": {},
   "outputs": [
    {
     "data": {
      "text/html": [
       "<div>\n",
       "<style scoped>\n",
       "    .dataframe tbody tr th:only-of-type {\n",
       "        vertical-align: middle;\n",
       "    }\n",
       "\n",
       "    .dataframe tbody tr th {\n",
       "        vertical-align: top;\n",
       "    }\n",
       "\n",
       "    .dataframe thead th {\n",
       "        text-align: right;\n",
       "    }\n",
       "</style>\n",
       "<table border=\"1\" class=\"dataframe\">\n",
       "  <thead>\n",
       "    <tr style=\"text-align: right;\">\n",
       "      <th></th>\n",
       "      <th>A전자</th>\n",
       "      <th>B화학</th>\n",
       "      <th>C금융</th>\n",
       "      <th>E텔레콤</th>\n",
       "      <th>F소프트</th>\n",
       "    </tr>\n",
       "  </thead>\n",
       "  <tbody>\n",
       "    <tr>\n",
       "      <th>2018-12-01</th>\n",
       "      <td>1000.0</td>\n",
       "      <td>2000.0</td>\n",
       "      <td>3000.0</td>\n",
       "      <td>1000.0</td>\n",
       "      <td>1000.0</td>\n",
       "    </tr>\n",
       "    <tr>\n",
       "      <th>2018-12-02</th>\n",
       "      <td>1010.0</td>\n",
       "      <td>2010.0</td>\n",
       "      <td>3010.0</td>\n",
       "      <td>1010.0</td>\n",
       "      <td>1010.0</td>\n",
       "    </tr>\n",
       "    <tr>\n",
       "      <th>2018-12-03</th>\n",
       "      <td>1020.0</td>\n",
       "      <td>2020.0</td>\n",
       "      <td>3020.0</td>\n",
       "      <td>1020.0</td>\n",
       "      <td>1020.0</td>\n",
       "    </tr>\n",
       "    <tr>\n",
       "      <th>2018-12-04</th>\n",
       "      <td>NaN</td>\n",
       "      <td>NaN</td>\n",
       "      <td>NaN</td>\n",
       "      <td>NaN</td>\n",
       "      <td>1030.0</td>\n",
       "    </tr>\n",
       "    <tr>\n",
       "      <th>2018-12-06</th>\n",
       "      <td>1050.0</td>\n",
       "      <td>2050.0</td>\n",
       "      <td>3050.0</td>\n",
       "      <td>1050.0</td>\n",
       "      <td>1050.0</td>\n",
       "    </tr>\n",
       "    <tr>\n",
       "      <th>2018-12-07</th>\n",
       "      <td>1060.0</td>\n",
       "      <td>2060.0</td>\n",
       "      <td>3060.0</td>\n",
       "      <td>1060.0</td>\n",
       "      <td>1060.0</td>\n",
       "    </tr>\n",
       "  </tbody>\n",
       "</table>\n",
       "</div>"
      ],
      "text/plain": [
       "               A전자     B화학     C금융    E텔레콤    F소프트\n",
       "2018-12-01  1000.0  2000.0  3000.0  1000.0  1000.0\n",
       "2018-12-02  1010.0  2010.0  3010.0  1010.0  1010.0\n",
       "2018-12-03  1020.0  2020.0  3020.0  1020.0  1020.0\n",
       "2018-12-04     NaN     NaN     NaN     NaN  1030.0\n",
       "2018-12-06  1050.0  2050.0  3050.0  1050.0  1050.0\n",
       "2018-12-07  1060.0  2060.0  3060.0  1060.0  1060.0"
      ]
     },
     "execution_count": 69,
     "metadata": {},
     "output_type": "execute_result"
    }
   ],
   "source": [
    "df2.drop('D엔터', axis=1) #열삭제"
   ]
  },
  {
   "cell_type": "code",
   "execution_count": 70,
   "metadata": {},
   "outputs": [
    {
     "data": {
      "text/html": [
       "<div>\n",
       "<style scoped>\n",
       "    .dataframe tbody tr th:only-of-type {\n",
       "        vertical-align: middle;\n",
       "    }\n",
       "\n",
       "    .dataframe tbody tr th {\n",
       "        vertical-align: top;\n",
       "    }\n",
       "\n",
       "    .dataframe thead th {\n",
       "        text-align: right;\n",
       "    }\n",
       "</style>\n",
       "<table border=\"1\" class=\"dataframe\">\n",
       "  <thead>\n",
       "    <tr style=\"text-align: right;\">\n",
       "      <th></th>\n",
       "      <th>A전자</th>\n",
       "      <th>B화학</th>\n",
       "      <th>D엔터</th>\n",
       "      <th>F소프트</th>\n",
       "    </tr>\n",
       "  </thead>\n",
       "  <tbody>\n",
       "    <tr>\n",
       "      <th>2018-12-01</th>\n",
       "      <td>1000.0</td>\n",
       "      <td>2000.0</td>\n",
       "      <td>4000.0</td>\n",
       "      <td>1000.0</td>\n",
       "    </tr>\n",
       "    <tr>\n",
       "      <th>2018-12-02</th>\n",
       "      <td>1010.0</td>\n",
       "      <td>2010.0</td>\n",
       "      <td>4010.0</td>\n",
       "      <td>1010.0</td>\n",
       "    </tr>\n",
       "    <tr>\n",
       "      <th>2018-12-03</th>\n",
       "      <td>1020.0</td>\n",
       "      <td>2020.0</td>\n",
       "      <td>4020.0</td>\n",
       "      <td>1020.0</td>\n",
       "    </tr>\n",
       "    <tr>\n",
       "      <th>2018-12-04</th>\n",
       "      <td>NaN</td>\n",
       "      <td>NaN</td>\n",
       "      <td>NaN</td>\n",
       "      <td>1030.0</td>\n",
       "    </tr>\n",
       "    <tr>\n",
       "      <th>2018-12-06</th>\n",
       "      <td>1050.0</td>\n",
       "      <td>2050.0</td>\n",
       "      <td>4050.0</td>\n",
       "      <td>1050.0</td>\n",
       "    </tr>\n",
       "    <tr>\n",
       "      <th>2018-12-07</th>\n",
       "      <td>1060.0</td>\n",
       "      <td>2060.0</td>\n",
       "      <td>4060.0</td>\n",
       "      <td>1060.0</td>\n",
       "    </tr>\n",
       "  </tbody>\n",
       "</table>\n",
       "</div>"
      ],
      "text/plain": [
       "               A전자     B화학     D엔터    F소프트\n",
       "2018-12-01  1000.0  2000.0  4000.0  1000.0\n",
       "2018-12-02  1010.0  2010.0  4010.0  1010.0\n",
       "2018-12-03  1020.0  2020.0  4020.0  1020.0\n",
       "2018-12-04     NaN     NaN     NaN  1030.0\n",
       "2018-12-06  1050.0  2050.0  4050.0  1050.0\n",
       "2018-12-07  1060.0  2060.0  4060.0  1060.0"
      ]
     },
     "execution_count": 70,
     "metadata": {},
     "output_type": "execute_result"
    }
   ],
   "source": [
    "df2.drop(['C금융', 'E텔레콤'], axis=1) #여러 열삭제, 레이블을 []로 묶어줘야 함"
   ]
  },
  {
   "cell_type": "code",
   "execution_count": 71,
   "metadata": {},
   "outputs": [
    {
     "data": {
      "text/html": [
       "<div>\n",
       "<style scoped>\n",
       "    .dataframe tbody tr th:only-of-type {\n",
       "        vertical-align: middle;\n",
       "    }\n",
       "\n",
       "    .dataframe tbody tr th {\n",
       "        vertical-align: top;\n",
       "    }\n",
       "\n",
       "    .dataframe thead th {\n",
       "        text-align: right;\n",
       "    }\n",
       "</style>\n",
       "<table border=\"1\" class=\"dataframe\">\n",
       "  <thead>\n",
       "    <tr style=\"text-align: right;\">\n",
       "      <th></th>\n",
       "      <th>A전자</th>\n",
       "      <th>B화학</th>\n",
       "      <th>C금융</th>\n",
       "      <th>D엔터</th>\n",
       "      <th>E텔레콤</th>\n",
       "      <th>F소프트</th>\n",
       "    </tr>\n",
       "  </thead>\n",
       "  <tbody>\n",
       "    <tr>\n",
       "      <th>2018-12-01</th>\n",
       "      <td>1000.0</td>\n",
       "      <td>2000.0</td>\n",
       "      <td>3000.0</td>\n",
       "      <td>4000.0</td>\n",
       "      <td>1000.0</td>\n",
       "      <td>1000.0</td>\n",
       "    </tr>\n",
       "    <tr>\n",
       "      <th>2018-12-02</th>\n",
       "      <td>1010.0</td>\n",
       "      <td>2010.0</td>\n",
       "      <td>3010.0</td>\n",
       "      <td>4010.0</td>\n",
       "      <td>1010.0</td>\n",
       "      <td>1010.0</td>\n",
       "    </tr>\n",
       "    <tr>\n",
       "      <th>2018-12-03</th>\n",
       "      <td>1020.0</td>\n",
       "      <td>2020.0</td>\n",
       "      <td>3020.0</td>\n",
       "      <td>4020.0</td>\n",
       "      <td>1020.0</td>\n",
       "      <td>1020.0</td>\n",
       "    </tr>\n",
       "    <tr>\n",
       "      <th>2018-12-06</th>\n",
       "      <td>1050.0</td>\n",
       "      <td>2050.0</td>\n",
       "      <td>3050.0</td>\n",
       "      <td>4050.0</td>\n",
       "      <td>1050.0</td>\n",
       "      <td>1050.0</td>\n",
       "    </tr>\n",
       "    <tr>\n",
       "      <th>2018-12-07</th>\n",
       "      <td>1060.0</td>\n",
       "      <td>2060.0</td>\n",
       "      <td>3060.0</td>\n",
       "      <td>4060.0</td>\n",
       "      <td>1060.0</td>\n",
       "      <td>1060.0</td>\n",
       "    </tr>\n",
       "  </tbody>\n",
       "</table>\n",
       "</div>"
      ],
      "text/plain": [
       "               A전자     B화학     C금융     D엔터    E텔레콤    F소프트\n",
       "2018-12-01  1000.0  2000.0  3000.0  4000.0  1000.0  1000.0\n",
       "2018-12-02  1010.0  2010.0  3010.0  4010.0  1010.0  1010.0\n",
       "2018-12-03  1020.0  2020.0  3020.0  4020.0  1020.0  1020.0\n",
       "2018-12-06  1050.0  2050.0  3050.0  4050.0  1050.0  1050.0\n",
       "2018-12-07  1060.0  2060.0  3060.0  4060.0  1060.0  1060.0"
      ]
     },
     "execution_count": 71,
     "metadata": {},
     "output_type": "execute_result"
    }
   ],
   "source": [
    "#데이터프레임 구멍 메우기(보간법)\n",
    "#NaN 를 없애려면 데이터프레임.dropna(), 다른값으로 메우려면 데이터프레임.fillna() 명령 이용\n",
    "df2.dropna()"
   ]
  },
  {
   "cell_type": "code",
   "execution_count": 73,
   "metadata": {},
   "outputs": [
    {
     "data": {
      "text/html": [
       "<div>\n",
       "<style scoped>\n",
       "    .dataframe tbody tr th:only-of-type {\n",
       "        vertical-align: middle;\n",
       "    }\n",
       "\n",
       "    .dataframe tbody tr th {\n",
       "        vertical-align: top;\n",
       "    }\n",
       "\n",
       "    .dataframe thead th {\n",
       "        text-align: right;\n",
       "    }\n",
       "</style>\n",
       "<table border=\"1\" class=\"dataframe\">\n",
       "  <thead>\n",
       "    <tr style=\"text-align: right;\">\n",
       "      <th></th>\n",
       "      <th>A전자</th>\n",
       "      <th>B화학</th>\n",
       "      <th>C금융</th>\n",
       "      <th>D엔터</th>\n",
       "      <th>E텔레콤</th>\n",
       "      <th>F소프트</th>\n",
       "    </tr>\n",
       "  </thead>\n",
       "  <tbody>\n",
       "    <tr>\n",
       "      <th>2018-12-01</th>\n",
       "      <td>1000.0</td>\n",
       "      <td>2000.0</td>\n",
       "      <td>3000.0</td>\n",
       "      <td>4000.0</td>\n",
       "      <td>1000.0</td>\n",
       "      <td>1000.0</td>\n",
       "    </tr>\n",
       "    <tr>\n",
       "      <th>2018-12-02</th>\n",
       "      <td>1010.0</td>\n",
       "      <td>2010.0</td>\n",
       "      <td>3010.0</td>\n",
       "      <td>4010.0</td>\n",
       "      <td>1010.0</td>\n",
       "      <td>1010.0</td>\n",
       "    </tr>\n",
       "    <tr>\n",
       "      <th>2018-12-03</th>\n",
       "      <td>1020.0</td>\n",
       "      <td>2020.0</td>\n",
       "      <td>3020.0</td>\n",
       "      <td>4020.0</td>\n",
       "      <td>1020.0</td>\n",
       "      <td>1020.0</td>\n",
       "    </tr>\n",
       "    <tr>\n",
       "      <th>2018-12-04</th>\n",
       "      <td>0.0</td>\n",
       "      <td>0.0</td>\n",
       "      <td>0.0</td>\n",
       "      <td>0.0</td>\n",
       "      <td>0.0</td>\n",
       "      <td>1030.0</td>\n",
       "    </tr>\n",
       "    <tr>\n",
       "      <th>2018-12-06</th>\n",
       "      <td>1050.0</td>\n",
       "      <td>2050.0</td>\n",
       "      <td>3050.0</td>\n",
       "      <td>4050.0</td>\n",
       "      <td>1050.0</td>\n",
       "      <td>1050.0</td>\n",
       "    </tr>\n",
       "    <tr>\n",
       "      <th>2018-12-07</th>\n",
       "      <td>1060.0</td>\n",
       "      <td>2060.0</td>\n",
       "      <td>3060.0</td>\n",
       "      <td>4060.0</td>\n",
       "      <td>1060.0</td>\n",
       "      <td>1060.0</td>\n",
       "    </tr>\n",
       "  </tbody>\n",
       "</table>\n",
       "</div>"
      ],
      "text/plain": [
       "               A전자     B화학     C금융     D엔터    E텔레콤    F소프트\n",
       "2018-12-01  1000.0  2000.0  3000.0  4000.0  1000.0  1000.0\n",
       "2018-12-02  1010.0  2010.0  3010.0  4010.0  1010.0  1010.0\n",
       "2018-12-03  1020.0  2020.0  3020.0  4020.0  1020.0  1020.0\n",
       "2018-12-04     0.0     0.0     0.0     0.0     0.0  1030.0\n",
       "2018-12-06  1050.0  2050.0  3050.0  4050.0  1050.0  1050.0\n",
       "2018-12-07  1060.0  2060.0  3060.0  4060.0  1060.0  1060.0"
      ]
     },
     "execution_count": 73,
     "metadata": {},
     "output_type": "execute_result"
    }
   ],
   "source": [
    "#데이터를 대체하려면 데이터프레임.fillna(대체값 또는 방법), 0또는 1 등 값을 지정하면 해당값으로, method = ffill/bfill이면 앞뒤값으로 변경\n",
    "df2.fillna(0) #0으로바꿈"
   ]
  },
  {
   "cell_type": "code",
   "execution_count": 74,
   "metadata": {},
   "outputs": [
    {
     "data": {
      "text/html": [
       "<div>\n",
       "<style scoped>\n",
       "    .dataframe tbody tr th:only-of-type {\n",
       "        vertical-align: middle;\n",
       "    }\n",
       "\n",
       "    .dataframe tbody tr th {\n",
       "        vertical-align: top;\n",
       "    }\n",
       "\n",
       "    .dataframe thead th {\n",
       "        text-align: right;\n",
       "    }\n",
       "</style>\n",
       "<table border=\"1\" class=\"dataframe\">\n",
       "  <thead>\n",
       "    <tr style=\"text-align: right;\">\n",
       "      <th></th>\n",
       "      <th>A전자</th>\n",
       "      <th>B화학</th>\n",
       "      <th>C금융</th>\n",
       "      <th>D엔터</th>\n",
       "      <th>E텔레콤</th>\n",
       "      <th>F소프트</th>\n",
       "    </tr>\n",
       "  </thead>\n",
       "  <tbody>\n",
       "    <tr>\n",
       "      <th>2018-12-01</th>\n",
       "      <td>1000.0</td>\n",
       "      <td>2000.0</td>\n",
       "      <td>3000.0</td>\n",
       "      <td>4000.0</td>\n",
       "      <td>1000.0</td>\n",
       "      <td>1000.0</td>\n",
       "    </tr>\n",
       "    <tr>\n",
       "      <th>2018-12-02</th>\n",
       "      <td>1010.0</td>\n",
       "      <td>2010.0</td>\n",
       "      <td>3010.0</td>\n",
       "      <td>4010.0</td>\n",
       "      <td>1010.0</td>\n",
       "      <td>1010.0</td>\n",
       "    </tr>\n",
       "    <tr>\n",
       "      <th>2018-12-03</th>\n",
       "      <td>1020.0</td>\n",
       "      <td>2020.0</td>\n",
       "      <td>3020.0</td>\n",
       "      <td>4020.0</td>\n",
       "      <td>1020.0</td>\n",
       "      <td>1020.0</td>\n",
       "    </tr>\n",
       "    <tr>\n",
       "      <th>2018-12-04</th>\n",
       "      <td>1020.0</td>\n",
       "      <td>2020.0</td>\n",
       "      <td>3020.0</td>\n",
       "      <td>4020.0</td>\n",
       "      <td>1020.0</td>\n",
       "      <td>1030.0</td>\n",
       "    </tr>\n",
       "    <tr>\n",
       "      <th>2018-12-06</th>\n",
       "      <td>1050.0</td>\n",
       "      <td>2050.0</td>\n",
       "      <td>3050.0</td>\n",
       "      <td>4050.0</td>\n",
       "      <td>1050.0</td>\n",
       "      <td>1050.0</td>\n",
       "    </tr>\n",
       "    <tr>\n",
       "      <th>2018-12-07</th>\n",
       "      <td>1060.0</td>\n",
       "      <td>2060.0</td>\n",
       "      <td>3060.0</td>\n",
       "      <td>4060.0</td>\n",
       "      <td>1060.0</td>\n",
       "      <td>1060.0</td>\n",
       "    </tr>\n",
       "  </tbody>\n",
       "</table>\n",
       "</div>"
      ],
      "text/plain": [
       "               A전자     B화학     C금융     D엔터    E텔레콤    F소프트\n",
       "2018-12-01  1000.0  2000.0  3000.0  4000.0  1000.0  1000.0\n",
       "2018-12-02  1010.0  2010.0  3010.0  4010.0  1010.0  1010.0\n",
       "2018-12-03  1020.0  2020.0  3020.0  4020.0  1020.0  1020.0\n",
       "2018-12-04  1020.0  2020.0  3020.0  4020.0  1020.0  1030.0\n",
       "2018-12-06  1050.0  2050.0  3050.0  4050.0  1050.0  1050.0\n",
       "2018-12-07  1060.0  2060.0  3060.0  4060.0  1060.0  1060.0"
      ]
     },
     "execution_count": 74,
     "metadata": {},
     "output_type": "execute_result"
    }
   ],
   "source": [
    "df2.fillna(method='ffill') #앞의 값으로 채움"
   ]
  },
  {
   "cell_type": "code",
   "execution_count": 76,
   "metadata": {},
   "outputs": [
    {
     "data": {
      "text/html": [
       "<div>\n",
       "<style scoped>\n",
       "    .dataframe tbody tr th:only-of-type {\n",
       "        vertical-align: middle;\n",
       "    }\n",
       "\n",
       "    .dataframe tbody tr th {\n",
       "        vertical-align: top;\n",
       "    }\n",
       "\n",
       "    .dataframe thead th {\n",
       "        text-align: right;\n",
       "    }\n",
       "</style>\n",
       "<table border=\"1\" class=\"dataframe\">\n",
       "  <thead>\n",
       "    <tr style=\"text-align: right;\">\n",
       "      <th></th>\n",
       "      <th>A전자</th>\n",
       "      <th>B화학</th>\n",
       "      <th>C금융</th>\n",
       "      <th>D엔터</th>\n",
       "      <th>E텔레콤</th>\n",
       "      <th>F소프트</th>\n",
       "    </tr>\n",
       "  </thead>\n",
       "  <tbody>\n",
       "    <tr>\n",
       "      <th>2018-12-01</th>\n",
       "      <td>1000.0</td>\n",
       "      <td>2000.0</td>\n",
       "      <td>3000.0</td>\n",
       "      <td>4000.0</td>\n",
       "      <td>1000.0</td>\n",
       "      <td>1000.0</td>\n",
       "    </tr>\n",
       "    <tr>\n",
       "      <th>2018-12-02</th>\n",
       "      <td>1010.0</td>\n",
       "      <td>2010.0</td>\n",
       "      <td>3010.0</td>\n",
       "      <td>4010.0</td>\n",
       "      <td>1010.0</td>\n",
       "      <td>1010.0</td>\n",
       "    </tr>\n",
       "    <tr>\n",
       "      <th>2018-12-03</th>\n",
       "      <td>1020.0</td>\n",
       "      <td>2020.0</td>\n",
       "      <td>3020.0</td>\n",
       "      <td>4020.0</td>\n",
       "      <td>1020.0</td>\n",
       "      <td>1020.0</td>\n",
       "    </tr>\n",
       "    <tr>\n",
       "      <th>2018-12-04</th>\n",
       "      <td>1050.0</td>\n",
       "      <td>2050.0</td>\n",
       "      <td>3050.0</td>\n",
       "      <td>4050.0</td>\n",
       "      <td>1050.0</td>\n",
       "      <td>1030.0</td>\n",
       "    </tr>\n",
       "    <tr>\n",
       "      <th>2018-12-06</th>\n",
       "      <td>1050.0</td>\n",
       "      <td>2050.0</td>\n",
       "      <td>3050.0</td>\n",
       "      <td>4050.0</td>\n",
       "      <td>1050.0</td>\n",
       "      <td>1050.0</td>\n",
       "    </tr>\n",
       "    <tr>\n",
       "      <th>2018-12-07</th>\n",
       "      <td>1060.0</td>\n",
       "      <td>2060.0</td>\n",
       "      <td>3060.0</td>\n",
       "      <td>4060.0</td>\n",
       "      <td>1060.0</td>\n",
       "      <td>1060.0</td>\n",
       "    </tr>\n",
       "  </tbody>\n",
       "</table>\n",
       "</div>"
      ],
      "text/plain": [
       "               A전자     B화학     C금융     D엔터    E텔레콤    F소프트\n",
       "2018-12-01  1000.0  2000.0  3000.0  4000.0  1000.0  1000.0\n",
       "2018-12-02  1010.0  2010.0  3010.0  4010.0  1010.0  1010.0\n",
       "2018-12-03  1020.0  2020.0  3020.0  4020.0  1020.0  1020.0\n",
       "2018-12-04  1050.0  2050.0  3050.0  4050.0  1050.0  1030.0\n",
       "2018-12-06  1050.0  2050.0  3050.0  4050.0  1050.0  1050.0\n",
       "2018-12-07  1060.0  2060.0  3060.0  4060.0  1060.0  1060.0"
      ]
     },
     "execution_count": 76,
     "metadata": {},
     "output_type": "execute_result"
    }
   ],
   "source": [
    "df2.fillna(method='bfill') #뒤의 값으로 채움"
   ]
  },
  {
   "cell_type": "code",
   "execution_count": null,
   "metadata": {},
   "outputs": [],
   "source": []
  }
 ],
 "metadata": {
  "kernelspec": {
   "display_name": "Python 3",
   "language": "python",
   "name": "python3"
  },
  "language_info": {
   "codemirror_mode": {
    "name": "ipython",
    "version": 3
   },
   "file_extension": ".py",
   "mimetype": "text/x-python",
   "name": "python",
   "nbconvert_exporter": "python",
   "pygments_lexer": "ipython3",
   "version": "3.7.6"
  }
 },
 "nbformat": 4,
 "nbformat_minor": 4
}

{
 "cells": [
  {
   "cell_type": "code",
   "execution_count": 2,
   "metadata": {},
   "outputs": [
    {
     "data": {
      "text/html": [
       "<div>\n",
       "<style scoped>\n",
       "    .dataframe tbody tr th:only-of-type {\n",
       "        vertical-align: middle;\n",
       "    }\n",
       "\n",
       "    .dataframe tbody tr th {\n",
       "        vertical-align: top;\n",
       "    }\n",
       "\n",
       "    .dataframe thead th {\n",
       "        text-align: right;\n",
       "    }\n",
       "</style>\n",
       "<table border=\"1\" class=\"dataframe\">\n",
       "  <thead>\n",
       "    <tr style=\"text-align: right;\">\n",
       "      <th></th>\n",
       "      <th>선물가격</th>\n",
       "      <th>지수</th>\n",
       "    </tr>\n",
       "    <tr>\n",
       "      <th>일자</th>\n",
       "      <th></th>\n",
       "      <th></th>\n",
       "    </tr>\n",
       "  </thead>\n",
       "  <tbody>\n",
       "    <tr>\n",
       "      <th>2017/09/01</th>\n",
       "      <td>308.40</td>\n",
       "      <td>307.78</td>\n",
       "    </tr>\n",
       "    <tr>\n",
       "      <th>2017/09/04</th>\n",
       "      <td>305.60</td>\n",
       "      <td>304.19</td>\n",
       "    </tr>\n",
       "    <tr>\n",
       "      <th>2017/09/05</th>\n",
       "      <td>304.85</td>\n",
       "      <td>304.06</td>\n",
       "    </tr>\n",
       "    <tr>\n",
       "      <th>2017/09/06</th>\n",
       "      <td>304.30</td>\n",
       "      <td>303.18</td>\n",
       "    </tr>\n",
       "    <tr>\n",
       "      <th>2017/09/07</th>\n",
       "      <td>308.10</td>\n",
       "      <td>306.97</td>\n",
       "    </tr>\n",
       "  </tbody>\n",
       "</table>\n",
       "</div>"
      ],
      "text/plain": [
       "              선물가격      지수\n",
       "일자                        \n",
       "2017/09/01  308.40  307.78\n",
       "2017/09/04  305.60  304.19\n",
       "2017/09/05  304.85  304.06\n",
       "2017/09/06  304.30  303.18\n",
       "2017/09/07  308.10  306.97"
      ]
     },
     "execution_count": 2,
     "metadata": {},
     "output_type": "execute_result"
    }
   ],
   "source": [
    "#KOSPI200 선물 이론가 산출\n",
    "#엑셀에서 데이터 읽어오기\n",
    "import pandas as pd\n",
    "import numpy as np\n",
    "#엑셀파일에서 데이터를 읽어올 때는 pd.read_excel()을 사용, pd.read_excel(액셀 파일명, 시트명, index_col=칼럼명), 시트명 생략시 1번시트, 칼럼명 생략시 0,1,2 로 인덱싱\n",
    "#엑셀 파일이 파이썬 노트북 파일과 다른 폴더에 있다면 경로명 붙이기\n",
    "df = pd.read_excel('09.2 KOSPI200 F 201712.xlsx', 'Sheet1', index_col = '일자') #같은 파일위치에 없으면 경로명 파이앞에 붙여야됨\n",
    "df.head()\n",
    "# 엑셀 데이터를 저장할 때는 데이터프레임.to_excel(파일명.xlsx, 시트명, indext = True) 이용,index=False로 바꾸면 인덱스는 저장X\n",
    "# csv 파일은 df = pd.read_csv(\"abc.csv\", encoding = \" \")로 불러오기, 이 때 자동으로 맨 첫번째 행이 header(레이블)이 되므로\n",
    "# 만약 레이블이 없을 시 encoding = \" \", header = None, name = [ 레이블 ] 이런 식으로 하거나 name = [레이블] 적지 말고\n",
    "# df.columns = [ 레이블 ] 로 따로 추가해주면 됨\n",
    "# txt파일도 read_csv(\"abc.txt\", sep = \"\\t\") 로 읽어주면 됨"
   ]
  },
  {
   "cell_type": "code",
   "execution_count": 3,
   "metadata": {},
   "outputs": [
    {
     "data": {
      "text/plain": [
       "pandas.core.indexes.base.Index"
      ]
     },
     "execution_count": 3,
     "metadata": {},
     "output_type": "execute_result"
    }
   ],
   "source": [
    "#불러온 데이터를 정상적으로 이용하려면 인덱스칼럼이 날짜 형식이어야 함\n",
    "type(df.index) #인덱스는 문자형식임을 확인"
   ]
  },
  {
   "cell_type": "code",
   "execution_count": 4,
   "metadata": {},
   "outputs": [
    {
     "data": {
      "text/plain": [
       "pandas.core.indexes.datetimes.DatetimeIndex"
      ]
     },
     "execution_count": 4,
     "metadata": {},
     "output_type": "execute_result"
    }
   ],
   "source": [
    "df.index = pd.to_datetime(df.index) #인덱스를 날짜로 변환\n",
    "type(df.index)"
   ]
  },
  {
   "cell_type": "code",
   "execution_count": 5,
   "metadata": {},
   "outputs": [],
   "source": [
    "#선물 이론가 산출 : F = Se^(r-d)*t, t는 잔존만기로 1년 남았으면 1로 계산, 따라서 t = (최종거래일-기준일)/252\n",
    "#파이썬에서 두 날짜 사이에 며칠이 있는지 계산할 때는 (날짜2- 날짜1).days 이용 -> 이 경우는 주말이 포함\n",
    "#공휴일을 제외한 영업일만을 계산하려면 np.busday_count(날짜1, 날짜2)를 이용, 이를 이용하면 t = np.busday_count(t0.date(), T.date()), t0는 기준일자, T는 만기일자\n",
    "#자연상수 e는 np.exp()를 이용, e^(r-d)*t = np.exp((r-d)*t)\n",
    "#이 내용을 바탕으로 선무 이론가를 산출하는 함수를 만들어보면\n",
    "def future_price(S, r ,d, T, t0):\n",
    "    t = np.busday_count(t0.date(), T.date()) / 252\n",
    "    F = S * np.exp((r-d)*t)\n",
    "    return F"
   ]
  },
  {
   "cell_type": "code",
   "execution_count": 7,
   "metadata": {},
   "outputs": [],
   "source": [
    "#위 함수를 이용해 KOSPI200 선물 이론가를 계산해보면\n",
    "T = pd.to_datetime('2017-12-14') #최종거래일\n",
    "r = 0.025 #이자율\n",
    "d = 0.015 #배당률\n",
    "for n in (df.index):\n",
    "    t0= n\n",
    "    S = df.loc[n, '지수']\n",
    "    F = future_price(S, r, d, T, t0)\n",
    "    f ='{:,.2f}'.format(F) #이론가 숫자 포매팅, 정수부분은 천의 자리마다 쉼표를 추가하고 소수점 아래는 2자리까지만 표시하도록 하는 것\n",
    "    df.loc[n, '이론가1'] = f #'이론가1' 칼럼에 값 추가\n",
    "    \n"
   ]
  },
  {
   "cell_type": "code",
   "execution_count": 8,
   "metadata": {},
   "outputs": [],
   "source": [
    "#보급형 공식을 이용한 선물 이론가 계산\n",
    "#단리 개념의 공식 F = S[1+(r-d)*t/365] 이용\n",
    "\n",
    "def S_future_price(S, r, d, T, T0):\n",
    "    t = (T-t0).days / 365\n",
    "    F = S* (1 +(r-d) *t)\n",
    "    return F\n"
   ]
  },
  {
   "cell_type": "code",
   "execution_count": 10,
   "metadata": {},
   "outputs": [],
   "source": [
    "T = pd.to_datetime('2017-12-14') #최종거래일\n",
    "r = 0.0225 #이자율\n",
    "d = 0.015 #배당률\n",
    "for n in (df.index):\n",
    "    t0 = n\n",
    "    S = df.loc[n, '지수']\n",
    "    F = S_future_price(S, r, d, T, t0)\n",
    "    f = '{:,.2f}'.format(F) #,랑 . 띄어쓰기 하면 안됨\n",
    "    df.loc[n, '이론가2'] = f\n"
   ]
  },
  {
   "cell_type": "code",
   "execution_count": 11,
   "metadata": {},
   "outputs": [
    {
     "data": {
      "text/html": [
       "<div>\n",
       "<style scoped>\n",
       "    .dataframe tbody tr th:only-of-type {\n",
       "        vertical-align: middle;\n",
       "    }\n",
       "\n",
       "    .dataframe tbody tr th {\n",
       "        vertical-align: top;\n",
       "    }\n",
       "\n",
       "    .dataframe thead th {\n",
       "        text-align: right;\n",
       "    }\n",
       "</style>\n",
       "<table border=\"1\" class=\"dataframe\">\n",
       "  <thead>\n",
       "    <tr style=\"text-align: right;\">\n",
       "      <th></th>\n",
       "      <th>선물가격</th>\n",
       "      <th>지수</th>\n",
       "      <th>이론가1</th>\n",
       "      <th>이론가2</th>\n",
       "    </tr>\n",
       "    <tr>\n",
       "      <th>일자</th>\n",
       "      <th></th>\n",
       "      <th></th>\n",
       "      <th></th>\n",
       "      <th></th>\n",
       "    </tr>\n",
       "  </thead>\n",
       "  <tbody>\n",
       "    <tr>\n",
       "      <th>2017-09-01</th>\n",
       "      <td>308.40</td>\n",
       "      <td>307.78</td>\n",
       "      <td>308.69</td>\n",
       "      <td>308.44</td>\n",
       "    </tr>\n",
       "    <tr>\n",
       "      <th>2017-09-04</th>\n",
       "      <td>305.60</td>\n",
       "      <td>304.19</td>\n",
       "      <td>305.07</td>\n",
       "      <td>304.82</td>\n",
       "    </tr>\n",
       "    <tr>\n",
       "      <th>2017-09-05</th>\n",
       "      <td>304.85</td>\n",
       "      <td>304.06</td>\n",
       "      <td>304.93</td>\n",
       "      <td>304.68</td>\n",
       "    </tr>\n",
       "    <tr>\n",
       "      <th>2017-09-06</th>\n",
       "      <td>304.30</td>\n",
       "      <td>303.18</td>\n",
       "      <td>304.04</td>\n",
       "      <td>303.80</td>\n",
       "    </tr>\n",
       "    <tr>\n",
       "      <th>2017-09-07</th>\n",
       "      <td>308.10</td>\n",
       "      <td>306.97</td>\n",
       "      <td>307.82</td>\n",
       "      <td>307.59</td>\n",
       "    </tr>\n",
       "    <tr>\n",
       "      <th>...</th>\n",
       "      <td>...</td>\n",
       "      <td>...</td>\n",
       "      <td>...</td>\n",
       "      <td>...</td>\n",
       "    </tr>\n",
       "    <tr>\n",
       "      <th>2017-12-08</th>\n",
       "      <td>324.75</td>\n",
       "      <td>324.68</td>\n",
       "      <td>324.73</td>\n",
       "      <td>324.72</td>\n",
       "    </tr>\n",
       "    <tr>\n",
       "      <th>2017-12-11</th>\n",
       "      <td>324.85</td>\n",
       "      <td>325.09</td>\n",
       "      <td>325.13</td>\n",
       "      <td>325.11</td>\n",
       "    </tr>\n",
       "    <tr>\n",
       "      <th>2017-12-12</th>\n",
       "      <td>323.80</td>\n",
       "      <td>324.07</td>\n",
       "      <td>324.10</td>\n",
       "      <td>324.08</td>\n",
       "    </tr>\n",
       "    <tr>\n",
       "      <th>2017-12-13</th>\n",
       "      <td>326.20</td>\n",
       "      <td>326.18</td>\n",
       "      <td>326.19</td>\n",
       "      <td>326.19</td>\n",
       "    </tr>\n",
       "    <tr>\n",
       "      <th>2017-12-14</th>\n",
       "      <td>327.65</td>\n",
       "      <td>324.74</td>\n",
       "      <td>324.74</td>\n",
       "      <td>324.74</td>\n",
       "    </tr>\n",
       "  </tbody>\n",
       "</table>\n",
       "<p>69 rows × 4 columns</p>\n",
       "</div>"
      ],
      "text/plain": [
       "              선물가격      지수    이론가1    이론가2\n",
       "일자                                        \n",
       "2017-09-01  308.40  307.78  308.69  308.44\n",
       "2017-09-04  305.60  304.19  305.07  304.82\n",
       "2017-09-05  304.85  304.06  304.93  304.68\n",
       "2017-09-06  304.30  303.18  304.04  303.80\n",
       "2017-09-07  308.10  306.97  307.82  307.59\n",
       "...            ...     ...     ...     ...\n",
       "2017-12-08  324.75  324.68  324.73  324.72\n",
       "2017-12-11  324.85  325.09  325.13  325.11\n",
       "2017-12-12  323.80  324.07  324.10  324.08\n",
       "2017-12-13  326.20  326.18  326.19  326.19\n",
       "2017-12-14  327.65  324.74  324.74  324.74\n",
       "\n",
       "[69 rows x 4 columns]"
      ]
     },
     "execution_count": 11,
     "metadata": {},
     "output_type": "execute_result"
    }
   ],
   "source": [
    "df"
   ]
  },
  {
   "cell_type": "code",
   "execution_count": 13,
   "metadata": {},
   "outputs": [],
   "source": [
    "#WTI 선물 가격을 이용한 롤오버 비용 계산\n",
    "#롤오버 비용이 손익에 미치는 영향이 얼마나 큰지 서부 텍사스 중질유(WTI) 선물가격을 바탕으로 모델링\n",
    "#2010년부터 2017년까지 WTI 현물에 투자했을 경우와 선물에 투자했을 경우의 손익이 어떻게 될지 비교\n",
    "#데이터는 블룸버그 출처, 참고로 블룸버그는 월사용료만 수백만원이 넘는 고가의 정보매체(대부분 금융회사가 국내외 금융정보조회를 위해 사용)\n",
    "#최근월물(front monthm, lead month, first month), 차근월물(second month) 용어 유의\n",
    "\n",
    "#엑셀에서 WTI 현물, 최근월물, 차근월물 데이터 읽어오기\n",
    "import pandas as pd\n",
    "import numpy as np\n",
    "df1 = pd.read_excel('11.2 WTI.xlsx', 'Spot', index_col = 'Date')\n",
    "df2 = pd.read_excel('11.2 WTI.xlsx', 'Front', index_col = 'Date')\n",
    "df3 = pd.read_excel('11.2 WTI.xlsx', 'Second', index_col = 'Date')"
   ]
  },
  {
   "cell_type": "code",
   "execution_count": 14,
   "metadata": {},
   "outputs": [
    {
     "data": {
      "text/html": [
       "<div>\n",
       "<style scoped>\n",
       "    .dataframe tbody tr th:only-of-type {\n",
       "        vertical-align: middle;\n",
       "    }\n",
       "\n",
       "    .dataframe tbody tr th {\n",
       "        vertical-align: top;\n",
       "    }\n",
       "\n",
       "    .dataframe thead th {\n",
       "        text-align: right;\n",
       "    }\n",
       "</style>\n",
       "<table border=\"1\" class=\"dataframe\">\n",
       "  <thead>\n",
       "    <tr style=\"text-align: right;\">\n",
       "      <th></th>\n",
       "      <th>Spot</th>\n",
       "      <th>Front</th>\n",
       "      <th>Second</th>\n",
       "    </tr>\n",
       "    <tr>\n",
       "      <th>Date</th>\n",
       "      <th></th>\n",
       "      <th></th>\n",
       "      <th></th>\n",
       "    </tr>\n",
       "  </thead>\n",
       "  <tbody>\n",
       "    <tr>\n",
       "      <th>2017-12-28</th>\n",
       "      <td>59.84</td>\n",
       "      <td>59.84</td>\n",
       "      <td>59.87</td>\n",
       "    </tr>\n",
       "    <tr>\n",
       "      <th>2017-12-27</th>\n",
       "      <td>59.64</td>\n",
       "      <td>59.64</td>\n",
       "      <td>59.69</td>\n",
       "    </tr>\n",
       "    <tr>\n",
       "      <th>2017-12-26</th>\n",
       "      <td>59.97</td>\n",
       "      <td>59.97</td>\n",
       "      <td>60.00</td>\n",
       "    </tr>\n",
       "    <tr>\n",
       "      <th>2017-12-22</th>\n",
       "      <td>58.42</td>\n",
       "      <td>58.47</td>\n",
       "      <td>58.54</td>\n",
       "    </tr>\n",
       "    <tr>\n",
       "      <th>2017-12-21</th>\n",
       "      <td>58.33</td>\n",
       "      <td>58.36</td>\n",
       "      <td>58.40</td>\n",
       "    </tr>\n",
       "    <tr>\n",
       "      <th>...</th>\n",
       "      <td>...</td>\n",
       "      <td>...</td>\n",
       "      <td>...</td>\n",
       "    </tr>\n",
       "    <tr>\n",
       "      <th>2010-01-08</th>\n",
       "      <td>82.75</td>\n",
       "      <td>82.75</td>\n",
       "      <td>83.30</td>\n",
       "    </tr>\n",
       "    <tr>\n",
       "      <th>2010-01-07</th>\n",
       "      <td>82.66</td>\n",
       "      <td>82.66</td>\n",
       "      <td>83.19</td>\n",
       "    </tr>\n",
       "    <tr>\n",
       "      <th>2010-01-06</th>\n",
       "      <td>83.18</td>\n",
       "      <td>83.18</td>\n",
       "      <td>83.75</td>\n",
       "    </tr>\n",
       "    <tr>\n",
       "      <th>2010-01-05</th>\n",
       "      <td>81.77</td>\n",
       "      <td>81.77</td>\n",
       "      <td>82.41</td>\n",
       "    </tr>\n",
       "    <tr>\n",
       "      <th>2010-01-04</th>\n",
       "      <td>81.51</td>\n",
       "      <td>81.51</td>\n",
       "      <td>82.12</td>\n",
       "    </tr>\n",
       "  </tbody>\n",
       "</table>\n",
       "<p>2014 rows × 3 columns</p>\n",
       "</div>"
      ],
      "text/plain": [
       "             Spot  Front  Second\n",
       "Date                            \n",
       "2017-12-28  59.84  59.84   59.87\n",
       "2017-12-27  59.64  59.64   59.69\n",
       "2017-12-26  59.97  59.97   60.00\n",
       "2017-12-22  58.42  58.47   58.54\n",
       "2017-12-21  58.33  58.36   58.40\n",
       "...           ...    ...     ...\n",
       "2010-01-08  82.75  82.75   83.30\n",
       "2010-01-07  82.66  82.66   83.19\n",
       "2010-01-06  83.18  83.18   83.75\n",
       "2010-01-05  81.77  81.77   82.41\n",
       "2010-01-04  81.51  81.51   82.12\n",
       "\n",
       "[2014 rows x 3 columns]"
      ]
     },
     "execution_count": 14,
     "metadata": {},
     "output_type": "execute_result"
    }
   ],
   "source": [
    "df = pd.concat([df1, df2, df3], axis=1)\n",
    "df"
   ]
  },
  {
   "cell_type": "code",
   "execution_count": 15,
   "metadata": {},
   "outputs": [],
   "source": [
    "df = df.fillna(method='ffill')\n",
    "df = df.fillna(method='bfill')"
   ]
  },
  {
   "cell_type": "code",
   "execution_count": 16,
   "metadata": {},
   "outputs": [
    {
     "data": {
      "text/html": [
       "<div>\n",
       "<style scoped>\n",
       "    .dataframe tbody tr th:only-of-type {\n",
       "        vertical-align: middle;\n",
       "    }\n",
       "\n",
       "    .dataframe tbody tr th {\n",
       "        vertical-align: top;\n",
       "    }\n",
       "\n",
       "    .dataframe thead th {\n",
       "        text-align: right;\n",
       "    }\n",
       "</style>\n",
       "<table border=\"1\" class=\"dataframe\">\n",
       "  <thead>\n",
       "    <tr style=\"text-align: right;\">\n",
       "      <th></th>\n",
       "      <th>Ticker</th>\n",
       "      <th>Month</th>\n",
       "      <th>Last Trade</th>\n",
       "      <th>Last Price</th>\n",
       "    </tr>\n",
       "  </thead>\n",
       "  <tbody>\n",
       "    <tr>\n",
       "      <th>120</th>\n",
       "      <td>CLG10</td>\n",
       "      <td>2017-02-10</td>\n",
       "      <td>01/20/10</td>\n",
       "      <td>77.62</td>\n",
       "    </tr>\n",
       "    <tr>\n",
       "      <th>121</th>\n",
       "      <td>CLH10</td>\n",
       "      <td>2017-03-10</td>\n",
       "      <td>02/22/10</td>\n",
       "      <td>80.16</td>\n",
       "    </tr>\n",
       "    <tr>\n",
       "      <th>122</th>\n",
       "      <td>CLJ10</td>\n",
       "      <td>2017-04-10</td>\n",
       "      <td>03/22/10</td>\n",
       "      <td>81.25</td>\n",
       "    </tr>\n",
       "    <tr>\n",
       "      <th>123</th>\n",
       "      <td>CLK10</td>\n",
       "      <td>2017-05-10</td>\n",
       "      <td>04/20/10</td>\n",
       "      <td>83.45</td>\n",
       "    </tr>\n",
       "    <tr>\n",
       "      <th>124</th>\n",
       "      <td>CLM10</td>\n",
       "      <td>2017-06-10</td>\n",
       "      <td>05/20/10</td>\n",
       "      <td>68.01</td>\n",
       "    </tr>\n",
       "  </tbody>\n",
       "</table>\n",
       "</div>"
      ],
      "text/plain": [
       "    Ticker      Month Last Trade  Last Price\n",
       "120  CLG10 2017-02-10   01/20/10       77.62\n",
       "121  CLH10 2017-03-10   02/22/10       80.16\n",
       "122  CLJ10 2017-04-10   03/22/10       81.25\n",
       "123  CLK10 2017-05-10   04/20/10       83.45\n",
       "124  CLM10 2017-06-10   05/20/10       68.01"
      ]
     },
     "execution_count": 16,
     "metadata": {},
     "output_type": "execute_result"
    }
   ],
   "source": [
    "#엑셀에서 WTI 만기일 정보 읽어오기\n",
    "#롤오버는 유동성(필요한 만큼 차근월물을 확보할 수 있는지 여부)과 가격(유동성이 높아져 차근월물 가격이 합리적인지 여부)을 고려해 만기일과 가까운 일에 시행\n",
    "#2010년부터 2017년까지 만기일에 롤오버를 시행하기 위해 만기일 정보가 필요\n",
    "df_e = pd.read_excel('11.2 WTI.xlsx', 'Expiry')\n",
    "df_e[120:125]"
   ]
  },
  {
   "cell_type": "code",
   "execution_count": 17,
   "metadata": {},
   "outputs": [
    {
     "data": {
      "text/plain": [
       "0    01/20/00\n",
       "1    02/22/00\n",
       "2    03/21/00\n",
       "3    04/19/00\n",
       "4    05/22/00\n",
       "Name: Last Trade, dtype: object"
      ]
     },
     "execution_count": 17,
     "metadata": {},
     "output_type": "execute_result"
    }
   ],
   "source": [
    "#이 중 만기일은 Last Trade란에 들어있음\n",
    "df_e['Last Trade'].head() #type이 날짜형식이 아님 -> 날짜 형식으로 바꿔야함"
   ]
  },
  {
   "cell_type": "code",
   "execution_count": 19,
   "metadata": {},
   "outputs": [
    {
     "data": {
      "text/plain": [
       "0   2000-01-20\n",
       "1   2000-02-22\n",
       "2   2000-03-21\n",
       "3   2000-04-19\n",
       "4   2000-05-22\n",
       "Name: Last Trade, dtype: datetime64[ns]"
      ]
     },
     "execution_count": 19,
     "metadata": {},
     "output_type": "execute_result"
    }
   ],
   "source": [
    "expiry = pd.Series(pd.to_datetime(df_e['Last Trade']))\n",
    "expiry.head()"
   ]
  },
  {
   "cell_type": "code",
   "execution_count": 20,
   "metadata": {},
   "outputs": [
    {
     "data": {
      "text/html": [
       "<div>\n",
       "<style scoped>\n",
       "    .dataframe tbody tr th:only-of-type {\n",
       "        vertical-align: middle;\n",
       "    }\n",
       "\n",
       "    .dataframe tbody tr th {\n",
       "        vertical-align: top;\n",
       "    }\n",
       "\n",
       "    .dataframe thead th {\n",
       "        text-align: right;\n",
       "    }\n",
       "</style>\n",
       "<table border=\"1\" class=\"dataframe\">\n",
       "  <thead>\n",
       "    <tr style=\"text-align: right;\">\n",
       "      <th></th>\n",
       "      <th>Spot</th>\n",
       "      <th>Front</th>\n",
       "      <th>Second</th>\n",
       "      <th>Expiry</th>\n",
       "    </tr>\n",
       "    <tr>\n",
       "      <th>Date</th>\n",
       "      <th></th>\n",
       "      <th></th>\n",
       "      <th></th>\n",
       "      <th></th>\n",
       "    </tr>\n",
       "  </thead>\n",
       "  <tbody>\n",
       "    <tr>\n",
       "      <th>2017-12-28</th>\n",
       "      <td>59.84</td>\n",
       "      <td>59.84</td>\n",
       "      <td>59.87</td>\n",
       "      <td>NaN</td>\n",
       "    </tr>\n",
       "    <tr>\n",
       "      <th>2017-12-27</th>\n",
       "      <td>59.64</td>\n",
       "      <td>59.64</td>\n",
       "      <td>59.69</td>\n",
       "      <td>NaN</td>\n",
       "    </tr>\n",
       "    <tr>\n",
       "      <th>2017-12-26</th>\n",
       "      <td>59.97</td>\n",
       "      <td>59.97</td>\n",
       "      <td>60.00</td>\n",
       "      <td>NaN</td>\n",
       "    </tr>\n",
       "    <tr>\n",
       "      <th>2017-12-22</th>\n",
       "      <td>58.42</td>\n",
       "      <td>58.47</td>\n",
       "      <td>58.54</td>\n",
       "      <td>NaN</td>\n",
       "    </tr>\n",
       "    <tr>\n",
       "      <th>2017-12-21</th>\n",
       "      <td>58.33</td>\n",
       "      <td>58.36</td>\n",
       "      <td>58.40</td>\n",
       "      <td>NaN</td>\n",
       "    </tr>\n",
       "  </tbody>\n",
       "</table>\n",
       "</div>"
      ],
      "text/plain": [
       "             Spot  Front  Second  Expiry\n",
       "Date                                    \n",
       "2017-12-28  59.84  59.84   59.87     NaN\n",
       "2017-12-27  59.64  59.64   59.69     NaN\n",
       "2017-12-26  59.97  59.97   60.00     NaN\n",
       "2017-12-22  58.42  58.47   58.54     NaN\n",
       "2017-12-21  58.33  58.36   58.40     NaN"
      ]
     },
     "execution_count": 20,
     "metadata": {},
     "output_type": "execute_result"
    }
   ],
   "source": [
    "#시세 데이터프레임에 최종거래일 표시하기\n",
    "#최근월물을 팔고 차근월물을 사는 롤오버는 최종거래일에 일어나기 때문에 시세 데이터에 최종거래일을 표시해주어야 함\n",
    "df['Expiry'] = np.nan #일단 빈 값으로 배정\n",
    "df.head()"
   ]
  },
  {
   "cell_type": "code",
   "execution_count": 21,
   "metadata": {},
   "outputs": [
    {
     "data": {
      "text/html": [
       "<div>\n",
       "<style scoped>\n",
       "    .dataframe tbody tr th:only-of-type {\n",
       "        vertical-align: middle;\n",
       "    }\n",
       "\n",
       "    .dataframe tbody tr th {\n",
       "        vertical-align: top;\n",
       "    }\n",
       "\n",
       "    .dataframe thead th {\n",
       "        text-align: right;\n",
       "    }\n",
       "</style>\n",
       "<table border=\"1\" class=\"dataframe\">\n",
       "  <thead>\n",
       "    <tr style=\"text-align: right;\">\n",
       "      <th></th>\n",
       "      <th>Spot</th>\n",
       "      <th>Front</th>\n",
       "      <th>Second</th>\n",
       "      <th>Expiry</th>\n",
       "    </tr>\n",
       "    <tr>\n",
       "      <th>Date</th>\n",
       "      <th></th>\n",
       "      <th></th>\n",
       "      <th></th>\n",
       "      <th></th>\n",
       "    </tr>\n",
       "  </thead>\n",
       "  <tbody>\n",
       "    <tr>\n",
       "      <th>2017-12-20</th>\n",
       "      <td>58.02</td>\n",
       "      <td>58.09</td>\n",
       "      <td>58.13</td>\n",
       "      <td>NaN</td>\n",
       "    </tr>\n",
       "    <tr>\n",
       "      <th>2017-12-19</th>\n",
       "      <td>57.46</td>\n",
       "      <td>57.46</td>\n",
       "      <td>57.56</td>\n",
       "      <td>1.0</td>\n",
       "    </tr>\n",
       "    <tr>\n",
       "      <th>2017-12-18</th>\n",
       "      <td>57.16</td>\n",
       "      <td>57.16</td>\n",
       "      <td>57.22</td>\n",
       "      <td>NaN</td>\n",
       "    </tr>\n",
       "    <tr>\n",
       "      <th>2017-12-15</th>\n",
       "      <td>57.30</td>\n",
       "      <td>57.30</td>\n",
       "      <td>57.33</td>\n",
       "      <td>NaN</td>\n",
       "    </tr>\n",
       "    <tr>\n",
       "      <th>2017-12-14</th>\n",
       "      <td>57.04</td>\n",
       "      <td>57.04</td>\n",
       "      <td>57.08</td>\n",
       "      <td>NaN</td>\n",
       "    </tr>\n",
       "  </tbody>\n",
       "</table>\n",
       "</div>"
      ],
      "text/plain": [
       "             Spot  Front  Second  Expiry\n",
       "Date                                    \n",
       "2017-12-20  58.02  58.09   58.13     NaN\n",
       "2017-12-19  57.46  57.46   57.56     1.0\n",
       "2017-12-18  57.16  57.16   57.22     NaN\n",
       "2017-12-15  57.30  57.30   57.33     NaN\n",
       "2017-12-14  57.04  57.04   57.08     NaN"
      ]
     },
     "execution_count": 21,
     "metadata": {},
     "output_type": "execute_result"
    }
   ],
   "source": [
    "#Trading day중 만기일을 찾아서 표시하기\n",
    "for d in df.index: #Date값을 하나씩 읽어와서\n",
    "    if d in pd.to_datetime(expiry.values): #expiry에 같은 값이 있으면\n",
    "        df.loc[d].Expiry = 1 #Expiry 열에 1이라고 표시\n",
    "df[5:10] #df 테이블 일부를 표시해서 확인"
   ]
  },
  {
   "cell_type": "code",
   "execution_count": 23,
   "metadata": {},
   "outputs": [
    {
     "name": "stdout",
     "output_type": "stream",
     "text": [
      "손익(현재가격 - 초기가격) : -21,670.00\n"
     ]
    }
   ],
   "source": [
    "#손익계산 : 현물에 투자했을 경우\n",
    "#현물에 투자했다면 손익 = 현재가격 - 초기가격\n",
    "price_now = float(df['2017-12-28']['Spot']) #현물 현재가격\n",
    "price_before = float(df['2010-01-04']['Spot']) #현물 최초가격\n",
    "profit = (price_now - price_before) * 1000\n",
    "print('손익(현재가격 - 초기가격) :', '{:,.2f}'.format(profit))"
   ]
  },
  {
   "cell_type": "code",
   "execution_count": 24,
   "metadata": {},
   "outputs": [
    {
     "name": "stdout",
     "output_type": "stream",
     "text": [
      "누적 롤오버 비용: 40.68\n"
     ]
    }
   ],
   "source": [
    "#손익계산 : 선물에 투자했을 경우\n",
    "#현재가격 = 초기가격 - 롤오버비용\n",
    "roll_over_cost_acc = 0 #롤오버 비용 누적값 초기화\n",
    "for d in df.index: #df 일자별로 순환하며\n",
    "    if (df.loc[d].Expiry ==1): #최종거래일이면 롤오버 계산 시작\n",
    "        #롤오버비용 = 차근월물 가격 - 최근월물 가격\n",
    "        roll_over_cost = df.loc[d].Second - df.loc[d].Front #롤오버비용\n",
    "        roll_over_cost_acc = roll_over_cost_acc + roll_over_cost #누적값\n",
    "\n",
    "print('누적 롤오버 비용:', '{:,.2f}'.format(roll_over_cost_acc))"
   ]
  },
  {
   "cell_type": "code",
   "execution_count": 26,
   "metadata": {},
   "outputs": [
    {
     "name": "stdout",
     "output_type": "stream",
     "text": [
      "누적 손익 -62,350.00\n"
     ]
    }
   ],
   "source": [
    "#롤오버 비용 누적값을 반영해서 WTI 선물 손익을 계산하면\n",
    "price_now = float(df['2017-12-28']['Front']) #선물 현재가\n",
    "price_before = float(df['2010-01-04']['Front']) #선물 최초가\n",
    "profit = (price_now - price_before - roll_over_cost_acc) * 1000\n",
    "print('누적 손익', '{:,.2f}'.format(profit))"
   ]
  },
  {
   "cell_type": "code",
   "execution_count": null,
   "metadata": {},
   "outputs": [],
   "source": []
  }
 ],
 "metadata": {
  "kernelspec": {
   "display_name": "Python 3",
   "language": "python",
   "name": "python3"
  },
  "language_info": {
   "codemirror_mode": {
    "name": "ipython",
    "version": 3
   },
   "file_extension": ".py",
   "mimetype": "text/x-python",
   "name": "python",
   "nbconvert_exporter": "python",
   "pygments_lexer": "ipython3",
   "version": "3.7.6"
  }
 },
 "nbformat": 4,
 "nbformat_minor": 4
}

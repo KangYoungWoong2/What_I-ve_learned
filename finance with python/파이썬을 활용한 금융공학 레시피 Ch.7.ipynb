{
 "cells": [
  {
   "cell_type": "code",
   "execution_count": 1,
   "metadata": {},
   "outputs": [],
   "source": [
    "#HTML 페이지 크롤링  https://finance.naver.com/sise/sise_index.nhn?code=KPI200에서 일별시세 크롤링\n",
    "index_cd = 'KPI200'\n",
    "page_n = 1\n",
    "naver_index = 'https://finance.naver.com/sise/sise_index_day.nhn?code=' + index_cd + '&page=' + str(page_n) #일별시세-프레임소스보기"
   ]
  },
  {
   "cell_type": "code",
   "execution_count": 2,
   "metadata": {},
   "outputs": [],
   "source": [
    "from urllib.request import urlopen\n",
    "source = urlopen(naver_index).read()\n",
    "#source #너무 복잡함 -> BeauifulSoup와 prettify()를 이용 보기좋게 정렬"
   ]
  },
  {
   "cell_type": "code",
   "execution_count": 3,
   "metadata": {},
   "outputs": [],
   "source": [
    "import bs4\n",
    "source = bs4.BeautifulSoup(source, 'lxml') #BeautifulSoup()함수의 객체는 문자열임을 알 수 있음"
   ]
  },
  {
   "cell_type": "code",
   "execution_count": 4,
   "metadata": {},
   "outputs": [],
   "source": [
    "#print(source.prettify())"
   ]
  },
  {
   "cell_type": "code",
   "execution_count": 5,
   "metadata": {},
   "outputs": [
    {
     "data": {
      "text/plain": [
       "54"
      ]
     },
     "execution_count": 5,
     "metadata": {},
     "output_type": "execute_result"
    }
   ],
   "source": [
    "td = source.find_all('td') #날짜와 종가는 td클래스에 들어가 있음\n",
    "len(td)"
   ]
  },
  {
   "cell_type": "code",
   "execution_count": 6,
   "metadata": {},
   "outputs": [
    {
     "data": {
      "text/plain": [
       "<td class=\"date\">2020.07.23</td>"
      ]
     },
     "execution_count": 6,
     "metadata": {},
     "output_type": "execute_result"
    }
   ],
   "source": [
    "#날짜의 X-path 주소 : /html/body/div/table[1]/tbody/tr[3]/td[1]\n",
    "source.find_all('table')[0].find_all('tr')[2].find_all('td')[0] #숫자를 하나씩 뺴주기"
   ]
  },
  {
   "cell_type": "code",
   "execution_count": 7,
   "metadata": {},
   "outputs": [
    {
     "data": {
      "text/plain": [
       "'2020.07.23'"
      ]
     },
     "execution_count": 7,
     "metadata": {},
     "output_type": "execute_result"
    }
   ],
   "source": [
    "d = source.find_all('td', class_='date')[0].text # <td class=\"date\">처럼 클래스 이름을 이용해서도 태그를 뽑아낼 수 있음\n",
    "d"
   ]
  },
  {
   "cell_type": "code",
   "execution_count": 8,
   "metadata": {},
   "outputs": [
    {
     "data": {
      "text/plain": [
       "datetime.date(2020, 7, 23)"
      ]
     },
     "execution_count": 8,
     "metadata": {},
     "output_type": "execute_result"
    }
   ],
   "source": [
    "import datetime as dt\n",
    "yyyy = int(d.split('.')[0]) # d.spilt(',') 하면 [2020,07,21]의 리스트로 값이 반환(이때 반환되는 값은 문자열이므로 정수로 변환)\n",
    "mm = int(d.split('.')[1])\n",
    "dd = int(d.split('.')[2])\n",
    "this_date = dt.date(yyyy,mm,dd) #date()함수를 이용, 날짜 생성\n",
    "this_date"
   ]
  },
  {
   "cell_type": "code",
   "execution_count": 9,
   "metadata": {},
   "outputs": [],
   "source": [
    "#읽어온 날짜 정보를 date 형식으로 바꿔줄 일이 계속 생기므로 이 기능을 함수로 정의\n",
    "def date_format(d):\n",
    "    d = str(d).replace('-', '.') # 날짜가 -로 구분되어있을 경우 .로 바꿈\n",
    "    yyyy=int(d.split('.')[0])\n",
    "    mm=int(d.split('.')[1])\n",
    "    dd=int(d.split('.')[2])\n",
    "    \n",
    "    this_date = dt.date(yyyy,mm,dd)\n",
    "    return this_date\n"
   ]
  },
  {
   "cell_type": "code",
   "execution_count": 10,
   "metadata": {},
   "outputs": [
    {
     "data": {
      "text/plain": [
       "292.37"
      ]
     },
     "execution_count": 10,
     "metadata": {},
     "output_type": "execute_result"
    }
   ],
   "source": [
    "#이번에는 지수를 가져오면\n",
    "#지수의 X-path: /html/body/div/table[1]/tbody/tr[3]/td[2]\n",
    "this_close=source.find_all('table')[0].find_all('tr')[2].find_all('td')[1].text\n",
    "this_close=this_close.replace(',','') #쉼표가 있으면 쉼표빼주기(문자열숫자->정수숫자로 바꿀때 필수)\n",
    "this_close=float(this_close)\n",
    "this_close"
   ]
  },
  {
   "cell_type": "code",
   "execution_count": 11,
   "metadata": {},
   "outputs": [
    {
     "data": {
      "text/plain": [
       "<td class=\"number_1\">292.37</td>"
      ]
     },
     "execution_count": 11,
     "metadata": {},
     "output_type": "execute_result"
    }
   ],
   "source": [
    "#클래스이름을 이용하면 역시 간단하게 나타낼 수 있음\n",
    "this_close=source.find_all('table')[0].find_all('tr')[2].find_all('td')[1]\n",
    "this_close"
   ]
  },
  {
   "cell_type": "code",
   "execution_count": 12,
   "metadata": {},
   "outputs": [
    {
     "data": {
      "text/plain": [
       "'292.37'"
      ]
     },
     "execution_count": 12,
     "metadata": {},
     "output_type": "execute_result"
    }
   ],
   "source": [
    "p = source.find_all('td', class_='number_1')[0].text\n",
    "p"
   ]
  },
  {
   "cell_type": "code",
   "execution_count": 13,
   "metadata": {},
   "outputs": [
    {
     "name": "stdout",
     "output_type": "stream",
     "text": [
      "2020-07-23 292.37\n",
      "2020-07-22 294.04\n",
      "2020-07-21 295.16\n",
      "2020-07-20 290.81\n",
      "2020-07-17 291.57\n",
      "2020-07-16 289.25\n"
     ]
    }
   ],
   "source": [
    "dates=source.find_all('td',class_='date')\n",
    "prices=source.find_all('td', class_='number_1')\n",
    "#페이지에 있는 모든 날짜와 가격 불러옴, 이때 가격은 체결가, 등락률, 거래량, 거래대금이 포함되므로 \n",
    "#우리가 필요한 체결가(종가) 있는 0,4,8 단위로 추출\n",
    "for n in range(len(dates)): #dates개수만큼 반복\n",
    "    this_date = dates[n].text\n",
    "    this_date = date_format(this_date)\n",
    "    \n",
    "    this_close=prices[n*4].text\n",
    "    this_close=this_close.replace(',', '') \n",
    "    this_close=float(this_close)\n",
    "    this_close\n",
    "    \n",
    "    print(this_date, this_close)"
   ]
  },
  {
   "cell_type": "code",
   "execution_count": 14,
   "metadata": {},
   "outputs": [
    {
     "data": {
      "text/plain": [
       "'/sise/sise_index_day.nhn?code=KPI200&page=600'"
      ]
     },
     "execution_count": 14,
     "metadata": {},
     "output_type": "execute_result"
    }
   ],
   "source": [
    "#현재 페이지에서 날짜와 종가추출을 완료 했으므로 페이지별로 날짜/종가지수 추출\n",
    "#페이지 네비게이션에서 <맨뒤> 탭 검사\n",
    "paging = source.find('td', class_='pgRR').find('a')['href']\n",
    "paging"
   ]
  },
  {
   "cell_type": "code",
   "execution_count": 15,
   "metadata": {},
   "outputs": [],
   "source": [
    "paging = paging.split('&')[1] # 위 링크 & 뒤 부분만 추출\n",
    "paging = paging.split('=')[1] # page=600 에서 = 뒤 부분 추출\n",
    "#마지막 페이지를 뽑는 과정을 정리하면\n",
    "last_page = source.find('td',class_='pgRR').find('a')['href']\n",
    "last_page = last_page.split('&')[1]\n",
    "last_page = last_page.split('=')[1]\n",
    "last_page=int(last_page)"
   ]
  },
  {
   "cell_type": "code",
   "execution_count": 16,
   "metadata": {},
   "outputs": [],
   "source": [
    "#데이터 추출 함수 만들기\n",
    "def historical_index_naver(index_cd, page_n=1, last_page=0):\n",
    "    naver_index = 'https://finance.naver.com/sise/sise_index_day.nhn?code=' + index_cd + '&page=' + str(page_n) #일별시세-프레임소스보기\n",
    "    source = urlopen(naver_index).read()\n",
    "    source = bs4.BeautifulSoup(source, 'lxml') \n",
    "    \n",
    "    dates=source.find_all('td',class_='date') #<td class =\"date\">태그에서 날짜수집\n",
    "    prices=source.find_all('td', class_='number_1') #<td class = \"number_1\">태그에서 지수수집\n",
    "    \n",
    "    for n in range(len(dates)): #dates개수만큼 반복\n",
    "        if dates[n].text.split('.')[0].isdigit():\n",
    "            #날짜처리\n",
    "            this_date = dates[n].text\n",
    "            this_date = date_format(this_date)\n",
    "            \n",
    "            #종가처리\n",
    "            this_close=prices[n*4].text\n",
    "            this_close=this_close.replace(',', '') \n",
    "            this_close=float(this_close)\n",
    "            this_close\n",
    "    \n",
    "            #딕셔너리에 저장\n",
    "            historical_prices[this_date] = this_close\n",
    "    \n",
    "    #페이지 네비게이션\n",
    "    if last_page ==0:\n",
    "        last_page = source.find('td',class_='pgRR').find('a')['href']\n",
    "        #마지막페이지 주소 추출\n",
    "        last_page = last_page.split('&')[1]\n",
    "        last_page = last_page.split('=')[1]\n",
    "        last_page=int(last_page)\n",
    "    \n",
    "    #다음페이지 호출\n",
    "    if page_n < last_page:\n",
    "        page_n = page_n +1\n",
    "        historical_index_naver(index_cd, page_n, last_page)\n",
    "    \n",
    "    return historical_prices\n",
    "         "
   ]
  },
  {
   "cell_type": "code",
   "execution_count": 17,
   "metadata": {},
   "outputs": [],
   "source": [
    "historical_prices = dict()"
   ]
  },
  {
   "cell_type": "code",
   "execution_count": 18,
   "metadata": {},
   "outputs": [],
   "source": [
    "#historical_index_naver('KPI200')"
   ]
  },
  {
   "cell_type": "code",
   "execution_count": 19,
   "metadata": {},
   "outputs": [],
   "source": [
    "#len(historical_prices)"
   ]
  },
  {
   "cell_type": "code",
   "execution_count": 20,
   "metadata": {},
   "outputs": [],
   "source": [
    "#날짜 탐색기능이 추가된 전체함수\n",
    "def historical_index_naver_date(index_cd, start_date='', end_date='', page_n=1, last_page=0):\n",
    "    if start_date: #start_date가 있으면\n",
    "        start_date=date_format(start_date)\n",
    "    else: #없으면\n",
    "        start_date = dt.date.today() #오늘날짜 지정\n",
    "    if end_date : #end_date가 있으면\n",
    "        end_date=date_format(end_date)\n",
    "    else:\n",
    "            end_date=dt.date.today()\n",
    "    \n",
    "    naver_index = 'https://finance.naver.com/sise/sise_index_day.nhn?code=' + index_cd + '&page=' + str(page_n) #일별시세-프레임소스보기\n",
    "    source = urlopen(naver_index).read()\n",
    "    source = bs4.BeautifulSoup(source, 'lxml') \n",
    "    \n",
    "    dates=source.find_all('td',class_='date') #<td class =\"date\">태그에서 날짜수집\n",
    "    prices=source.find_all('td', class_='number_1') #<td class = \"number_1\">태그에서 지수수집\n",
    "    \n",
    "    for n in range(len(dates)): #dates개수만큼 반복\n",
    "        if dates[n].text.split('.')[0].isdigit():\n",
    "            #날짜처리\n",
    "            this_date = dates[n].text\n",
    "            this_date = date_format(this_date)\n",
    "            \n",
    "            if this_date <= end_date and this_date >= start_date:\n",
    "                #종가처리\n",
    "                this_close=prices[n*4].text\n",
    "                this_close=this_close.replace(',', '') \n",
    "                this_close=float(this_close)\n",
    "                this_close\n",
    "    \n",
    "                #딕셔너리에 저장\n",
    "                historical_prices_date[this_date] = this_close\n",
    "            \n",
    "            elif this_date < start_date:\n",
    "                return historical_prices_date\n",
    "    \n",
    "    #페이지 네비게이션\n",
    "    if last_page ==0:\n",
    "        last_page = source.find('td',class_='pgRR').find('a')['href']\n",
    "        #마지막페이지 주소 추출\n",
    "        last_page = last_page.split('&')[1]\n",
    "        last_page = last_page.split('=')[1]\n",
    "        last_page=int(last_page)\n",
    "    \n",
    "    #다음페이지 호출\n",
    "    if page_n < last_page:\n",
    "        page_n = page_n +1\n",
    "        historical_index_naver_date(index_cd, start_date, end_date, page_n, last_page)\n",
    "    \n",
    "    return historical_prices_date"
   ]
  },
  {
   "cell_type": "code",
   "execution_count": 21,
   "metadata": {},
   "outputs": [],
   "source": [
    "historical_prices_date=dict()\n",
    "#historical_prices_date=historical_index_naver_date('KPI200', '2020.6.20', '2020.7.20')"
   ]
  },
  {
   "cell_type": "code",
   "execution_count": 22,
   "metadata": {},
   "outputs": [
    {
     "data": {
      "text/plain": [
       "{}"
      ]
     },
     "execution_count": 22,
     "metadata": {},
     "output_type": "execute_result"
    }
   ],
   "source": [
    "historical_prices_date"
   ]
  },
  {
   "cell_type": "code",
   "execution_count": 23,
   "metadata": {},
   "outputs": [],
   "source": [
    "#해외에서 지수 수집하기(JSON 파일 크롤링)\n",
    "import pandas as pd\n",
    "from urllib.request import urlopen\n",
    "import json # 해외지수는 JSON 형태로 표출\n",
    "\n",
    "#해외증시 URL(검사>Network에서 Link Address copy): https://finance.naver.com/world/worldDayListJson.nhn?symbol=NII@NI225&fdtc=0&page=4\n",
    "symbol = 'NII@NI225'\n",
    "page=1"
   ]
  },
  {
   "cell_type": "code",
   "execution_count": 24,
   "metadata": {},
   "outputs": [],
   "source": [
    "url = 'https://finance.naver.com/world/worldDayListJson.nhn?symbol=' + symbol + '&fdtc=0&page=' + str(page)\n",
    "raw = urlopen(url)\n",
    "data = json.load(raw)"
   ]
  },
  {
   "cell_type": "code",
   "execution_count": 25,
   "metadata": {},
   "outputs": [
    {
     "data": {
      "text/plain": [
       "{'symb': 'NII@NI225',\n",
       " 'xymd': '20200722',\n",
       " 'open': 22791.75,\n",
       " 'high': 22855.31,\n",
       " 'low': 22732.92,\n",
       " 'clos': 22751.61,\n",
       " 'diff': -132.61,\n",
       " 'rate': -0.58,\n",
       " 'gvol': 65364200}"
      ]
     },
     "execution_count": 25,
     "metadata": {},
     "output_type": "execute_result"
    }
   ],
   "source": [
    "data[0] #'xymd' 에 날짜, 'clos'에 종가 데이터가 있는 것을 확인"
   ]
  },
  {
   "cell_type": "code",
   "execution_count": 26,
   "metadata": {},
   "outputs": [
    {
     "data": {
      "text/plain": [
       "list"
      ]
     },
     "execution_count": 26,
     "metadata": {},
     "output_type": "execute_result"
    }
   ],
   "source": [
    "type(data)"
   ]
  },
  {
   "cell_type": "code",
   "execution_count": 27,
   "metadata": {},
   "outputs": [
    {
     "data": {
      "text/plain": [
       "[{'symb': 'NII@NI225',\n",
       "  'xymd': '20200722',\n",
       "  'open': 22791.75,\n",
       "  'high': 22855.31,\n",
       "  'low': 22732.92,\n",
       "  'clos': 22751.61,\n",
       "  'diff': -132.61,\n",
       "  'rate': -0.58,\n",
       "  'gvol': 65364200},\n",
       " {'symb': 'NII@NI225',\n",
       "  'xymd': '20200721',\n",
       "  'open': 22789.38,\n",
       "  'high': 22925.58,\n",
       "  'low': 22780.22,\n",
       "  'clos': 22884.22,\n",
       "  'diff': 166.74,\n",
       "  'rate': 0.73,\n",
       "  'gvol': 68561000}]"
      ]
     },
     "execution_count": 27,
     "metadata": {},
     "output_type": "execute_result"
    }
   ],
   "source": [
    "data[:2]"
   ]
  },
  {
   "cell_type": "code",
   "execution_count": 28,
   "metadata": {},
   "outputs": [
    {
     "data": {
      "text/plain": [
       "'20200722'"
      ]
     },
     "execution_count": 28,
     "metadata": {},
     "output_type": "execute_result"
    }
   ],
   "source": [
    "data[0]['xymd']"
   ]
  },
  {
   "cell_type": "code",
   "execution_count": 29,
   "metadata": {},
   "outputs": [
    {
     "data": {
      "text/plain": [
       "22751.61"
      ]
     },
     "execution_count": 29,
     "metadata": {},
     "output_type": "execute_result"
    }
   ],
   "source": [
    "data[0]['clos']"
   ]
  },
  {
   "cell_type": "code",
   "execution_count": 30,
   "metadata": {},
   "outputs": [
    {
     "name": "stdout",
     "output_type": "stream",
     "text": [
      "{datetime.date(2020, 7, 22): 22751.61, datetime.date(2020, 7, 21): 22884.22, datetime.date(2020, 7, 20): 22717.48, datetime.date(2020, 7, 17): 22696.42, datetime.date(2020, 7, 16): 22770.36, datetime.date(2020, 7, 15): 22945.5, datetime.date(2020, 7, 14): 22587.01, datetime.date(2020, 7, 13): 22784.74, datetime.date(2020, 7, 10): 22290.81, datetime.date(2020, 7, 9): 22529.29}\n"
     ]
    }
   ],
   "source": [
    "#한페이지에 있는 열흘치 데이터 중 날짜와 종가 추출\n",
    "d = dict()\n",
    "for n in range(len(data)):\n",
    "    date=pd.to_datetime(data[n]['xymd']).date() #pd.to_datetime() 함수는 가져온 데이터를 날짜형태로 바꿔줌\n",
    "    price=float(data[n]['clos'])\n",
    "    d[date]=price\n",
    "    \n",
    "print(d)"
   ]
  },
  {
   "cell_type": "code",
   "execution_count": 31,
   "metadata": {},
   "outputs": [],
   "source": [
    "#지금까지 한 내용을 함수로 만들면\n",
    "def read_json(d,symbol,page=1):\n",
    "    url = 'https://finance.naver.com/world/worldDayListJson.nhn?symbol=' + symbol + '&fdtc=0&page=' + str(page)\n",
    "    raw = urlopen(url)\n",
    "    data = json.load(raw)\n",
    "    \n",
    "    for n in range(len(data)):\n",
    "        date=pd.to_datetime(data[n]['xymd']).date() #pd.to_datetime() 함수는 가져온 데이터를 날짜형태로 바꿔줌\n",
    "        price=float(data[n]['clos'])\n",
    "        d[date]=price\n",
    "    \n",
    "    if len(data)==10:\n",
    "        page+=1\n",
    "        read_json(d,symbol,page)\n",
    "    \n",
    "    return (d)"
   ]
  },
  {
   "cell_type": "code",
   "execution_count": 32,
   "metadata": {},
   "outputs": [
    {
     "name": "stderr",
     "output_type": "stream",
     "text": [
      "C:\\Users\\1\\anaconda3\\lib\\site-packages\\ipykernel_launcher.py:1: DeprecationWarning: The default dtype for empty Series will be 'object' instead of 'float64' in a future version. Specify a dtype explicitly to silence this warning.\n",
      "  \"\"\"Entry point for launching an IPython kernel.\n"
     ]
    }
   ],
   "source": [
    "historical_index=pd.Series() #뜨는 내용은 오류는 아니고 향후 라이브러리 업데이트를 하면서 해당기능을 삭제할 예정이라는 뜻"
   ]
  },
  {
   "cell_type": "code",
   "execution_count": 33,
   "metadata": {},
   "outputs": [],
   "source": [
    "historical_index = read_json(historical_index, symbol, page)"
   ]
  },
  {
   "cell_type": "code",
   "execution_count": 34,
   "metadata": {},
   "outputs": [
    {
     "data": {
      "text/plain": [
       "2020-07-22    22751.61\n",
       "2020-07-21    22884.22\n",
       "2020-07-20    22717.48\n",
       "2020-07-17    22696.42\n",
       "2020-07-16    22770.36\n",
       "2020-07-15    22945.50\n",
       "2020-07-14    22587.01\n",
       "2020-07-13    22784.74\n",
       "2020-07-10    22290.81\n",
       "2020-07-09    22529.29\n",
       "2020-07-08    22438.65\n",
       "2020-07-07    22614.69\n",
       "2020-07-06    22714.44\n",
       "2020-07-03    22306.48\n",
       "2020-07-02    22145.96\n",
       "2020-07-01    22121.73\n",
       "2020-06-30    22288.14\n",
       "2020-06-29    21995.04\n",
       "2020-06-26    22512.08\n",
       "2020-06-25    22259.79\n",
       "2020-06-24    22534.32\n",
       "2020-06-23    22549.05\n",
       "2020-06-22    22437.27\n",
       "2020-06-19    22478.79\n",
       "2020-06-18    22355.46\n",
       "2020-06-17    22455.76\n",
       "2020-06-16    22582.21\n",
       "2020-06-15    21530.95\n",
       "2020-06-12    22305.48\n",
       "2020-06-11    22472.91\n",
       "dtype: float64"
      ]
     },
     "execution_count": 34,
     "metadata": {},
     "output_type": "execute_result"
    }
   ],
   "source": [
    "historical_index.head(30)"
   ]
  },
  {
   "cell_type": "code",
   "execution_count": 35,
   "metadata": {},
   "outputs": [],
   "source": [
    "#여러 종목을 한꺼번에 수집하면\n",
    "indices = {\n",
    "    'SPI@SPX' : 'S&P500',\n",
    "    'NAS@NDX' : 'Nasdaq 100'\n",
    "}\n"
   ]
  },
  {
   "cell_type": "code",
   "execution_count": 36,
   "metadata": {},
   "outputs": [],
   "source": [
    "#historical_indices = dict()\n",
    "#for key, value in indices.items():\n",
    "#    print(key, value)\n",
    "#    s = dict()\n",
    "#    s = read_json(s,key,1)\n",
    "#    historical_indices[value] = s\n",
    "#prices_df = pd.DataFrame(historical_indices)"
   ]
  },
  {
   "cell_type": "code",
   "execution_count": 37,
   "metadata": {},
   "outputs": [],
   "source": [
    "#prices_df.head(50) #NaN이라고 뜨는 것은 아마 시차로 인한 개장전 or 휴장 #.head(), .tail()은 앞에서/뒤에서 ~번째 보여달라는 것"
   ]
  },
  {
   "cell_type": "code",
   "execution_count": 38,
   "metadata": {},
   "outputs": [],
   "source": [
    "# 날짜를 지정해주는 부분을 구현하려면\n",
    "def date_format(d=''):\n",
    "    if d!='':\n",
    "        this_date = pd.to_datetime(d).date()\n",
    "    else:\n",
    "        this_date = pd.Timestamp.today().date() #오늘날짜 지정\n",
    "    return (this_date)"
   ]
  },
  {
   "cell_type": "code",
   "execution_count": 39,
   "metadata": {},
   "outputs": [],
   "source": [
    "#날짜 처리 부분까지 추가한 해외지수를 크롤링하는 전체 함수를 만들면\n",
    "def index_global(d, symbol, start_date='', end_date='', page=1):\n",
    "    \n",
    "    end_date = date_format(end_date)\n",
    "    if start_date=='':\n",
    "        start_date = end_date - pd.DateOffset(months=1) #시작 날짜가 시정되지 않으면 끝 날짜보다 1달 앞으로 지정\n",
    "    start_date=date_format(start_date)\n",
    "    \n",
    "    url = 'https://finance.naver.com/world/worldDayListJson.nhn?symbol=' + symbol + '&fdtc=0&page=' + str(page)\n",
    "    raw = urlopen(url)\n",
    "    data = json.load(raw)\n",
    "    \n",
    "    if len(data) > 0:\n",
    "        for n in range(len(data)):\n",
    "            date = pd.to_datetime(data[n]['xymd']).date()\n",
    "            \n",
    "            if date<= end_date and date>= start_date:\n",
    "                price = float(data[n]['clos'])\n",
    "                d[date] = price\n",
    "            elif date <start_date:\n",
    "                return (d)\n",
    "        if len(data) == 10:\n",
    "            page += 1\n",
    "            index_global(d, symbol, start_date, end_date, page)\n",
    "    \n",
    "    return (d)"
   ]
  },
  {
   "cell_type": "code",
   "execution_count": 40,
   "metadata": {},
   "outputs": [
    {
     "ename": "NameError",
     "evalue": "name 'prices_df' is not defined",
     "output_type": "error",
     "traceback": [
      "\u001b[1;31m---------------------------------------------------------------------------\u001b[0m",
      "\u001b[1;31mNameError\u001b[0m                                 Traceback (most recent call last)",
      "\u001b[1;32m<ipython-input-40-ccf889d73887>\u001b[0m in \u001b[0;36m<module>\u001b[1;34m\u001b[0m\n\u001b[0;32m      6\u001b[0m     \u001b[0ms\u001b[0m \u001b[1;33m=\u001b[0m \u001b[0mindex_global\u001b[0m\u001b[1;33m(\u001b[0m\u001b[0ms\u001b[0m\u001b[1;33m,\u001b[0m \u001b[0mkey\u001b[0m\u001b[1;33m,\u001b[0m \u001b[0mstart_date\u001b[0m\u001b[1;33m)\u001b[0m\u001b[1;33m\u001b[0m\u001b[1;33m\u001b[0m\u001b[0m\n\u001b[0;32m      7\u001b[0m     \u001b[0mhistorical_indices\u001b[0m\u001b[1;33m[\u001b[0m\u001b[0mvalue\u001b[0m\u001b[1;33m]\u001b[0m \u001b[1;33m=\u001b[0m \u001b[0ms\u001b[0m\u001b[1;33m\u001b[0m\u001b[1;33m\u001b[0m\u001b[0m\n\u001b[1;32m----> 8\u001b[1;33m \u001b[0mprices_df\u001b[0m\u001b[1;33m.\u001b[0m\u001b[0msort_index\u001b[0m\u001b[1;33m(\u001b[0m\u001b[0minplace\u001b[0m\u001b[1;33m=\u001b[0m\u001b[1;32mTrue\u001b[0m\u001b[1;33m)\u001b[0m \u001b[1;31m#시계열 데이터를 정렬해주어야 함(책에 없는내용)\u001b[0m\u001b[1;33m\u001b[0m\u001b[1;33m\u001b[0m\u001b[0m\n\u001b[0m\u001b[0;32m      9\u001b[0m \u001b[0mprices_df\u001b[0m \u001b[1;33m=\u001b[0m \u001b[0mpd\u001b[0m\u001b[1;33m.\u001b[0m\u001b[0mDataFrame\u001b[0m\u001b[1;33m(\u001b[0m\u001b[0mhistorical_indices\u001b[0m\u001b[1;33m)\u001b[0m\u001b[1;33m\u001b[0m\u001b[1;33m\u001b[0m\u001b[0m\n",
      "\u001b[1;31mNameError\u001b[0m: name 'prices_df' is not defined"
     ]
    }
   ],
   "source": [
    "#historical_indices = dict()\n",
    "#start_date = '2020.05.20'\n",
    "#end_date = '2020.07.20'\n",
    "#for key , value in indices.items():\n",
    "#    s = dict()\n",
    "#    s = index_global(s, key, start_date)\n",
    "#    historical_indices[value] = s\n",
    "#prices_df.sort_index(inplace=True) #시계열 데이터를 정렬해주어야 함(책에 없는내용)\n",
    "#prices_df = pd.DataFrame(historical_indices)"
   ]
  },
  {
   "cell_type": "code",
   "execution_count": null,
   "metadata": {},
   "outputs": [],
   "source": [
    "#prices_df"
   ]
  },
  {
   "cell_type": "code",
   "execution_count": 41,
   "metadata": {},
   "outputs": [],
   "source": [
    "#데이터프레임으로 여러 딕셔너리를 테이블 하나로 합치기\n",
    "historical_prices_date = dict()\n",
    "kospi200 = historical_index_naver_date('KPI200', '2019.7.22', '2020.7.22')"
   ]
  },
  {
   "cell_type": "code",
   "execution_count": 42,
   "metadata": {},
   "outputs": [],
   "source": [
    "historical_prices = dict()\n",
    "sp500 = index_global(historical_prices, 'SPI@SPX', '2019.7.22', '2020.7.22')"
   ]
  },
  {
   "cell_type": "code",
   "execution_count": 43,
   "metadata": {},
   "outputs": [],
   "source": [
    "#두 데이터는 서로 다른 딕셔너리에 담겨져 있음 -> 딕셔너리를 합쳐서 엑셀처럼 만들어주는 pandas기능 이용\n",
    "tmp = {'S&P500': sp500, 'KOSPI200' : kospi200}"
   ]
  },
  {
   "cell_type": "code",
   "execution_count": 44,
   "metadata": {},
   "outputs": [
    {
     "data": {
      "text/html": [
       "<div>\n",
       "<style scoped>\n",
       "    .dataframe tbody tr th:only-of-type {\n",
       "        vertical-align: middle;\n",
       "    }\n",
       "\n",
       "    .dataframe tbody tr th {\n",
       "        vertical-align: top;\n",
       "    }\n",
       "\n",
       "    .dataframe thead th {\n",
       "        text-align: right;\n",
       "    }\n",
       "</style>\n",
       "<table border=\"1\" class=\"dataframe\">\n",
       "  <thead>\n",
       "    <tr style=\"text-align: right;\">\n",
       "      <th></th>\n",
       "      <th>S&amp;P500</th>\n",
       "      <th>KOSPI200</th>\n",
       "    </tr>\n",
       "  </thead>\n",
       "  <tbody>\n",
       "    <tr>\n",
       "      <th>2019-07-22</th>\n",
       "      <td>2985.03</td>\n",
       "      <td>274.55</td>\n",
       "    </tr>\n",
       "    <tr>\n",
       "      <th>2019-07-23</th>\n",
       "      <td>3005.47</td>\n",
       "      <td>275.92</td>\n",
       "    </tr>\n",
       "    <tr>\n",
       "      <th>2019-07-24</th>\n",
       "      <td>3019.56</td>\n",
       "      <td>273.22</td>\n",
       "    </tr>\n",
       "    <tr>\n",
       "      <th>2019-07-25</th>\n",
       "      <td>3003.67</td>\n",
       "      <td>273.04</td>\n",
       "    </tr>\n",
       "    <tr>\n",
       "      <th>2019-07-26</th>\n",
       "      <td>3025.86</td>\n",
       "      <td>272.25</td>\n",
       "    </tr>\n",
       "    <tr>\n",
       "      <th>2019-07-29</th>\n",
       "      <td>3020.97</td>\n",
       "      <td>267.75</td>\n",
       "    </tr>\n",
       "    <tr>\n",
       "      <th>2019-07-30</th>\n",
       "      <td>3013.18</td>\n",
       "      <td>268.95</td>\n",
       "    </tr>\n",
       "    <tr>\n",
       "      <th>2019-07-31</th>\n",
       "      <td>2980.38</td>\n",
       "      <td>266.34</td>\n",
       "    </tr>\n",
       "    <tr>\n",
       "      <th>2019-08-01</th>\n",
       "      <td>2953.56</td>\n",
       "      <td>265.73</td>\n",
       "    </tr>\n",
       "    <tr>\n",
       "      <th>2019-08-02</th>\n",
       "      <td>2932.05</td>\n",
       "      <td>262.99</td>\n",
       "    </tr>\n",
       "    <tr>\n",
       "      <th>2019-08-05</th>\n",
       "      <td>2844.74</td>\n",
       "      <td>257.19</td>\n",
       "    </tr>\n",
       "    <tr>\n",
       "      <th>2019-08-06</th>\n",
       "      <td>2881.77</td>\n",
       "      <td>253.41</td>\n",
       "    </tr>\n",
       "    <tr>\n",
       "      <th>2019-08-07</th>\n",
       "      <td>2883.98</td>\n",
       "      <td>252.00</td>\n",
       "    </tr>\n",
       "    <tr>\n",
       "      <th>2019-08-08</th>\n",
       "      <td>2938.09</td>\n",
       "      <td>252.40</td>\n",
       "    </tr>\n",
       "    <tr>\n",
       "      <th>2019-08-09</th>\n",
       "      <td>2918.65</td>\n",
       "      <td>254.85</td>\n",
       "    </tr>\n",
       "    <tr>\n",
       "      <th>2019-08-12</th>\n",
       "      <td>2883.75</td>\n",
       "      <td>255.35</td>\n",
       "    </tr>\n",
       "    <tr>\n",
       "      <th>2019-08-13</th>\n",
       "      <td>2926.32</td>\n",
       "      <td>252.83</td>\n",
       "    </tr>\n",
       "    <tr>\n",
       "      <th>2019-08-14</th>\n",
       "      <td>2840.60</td>\n",
       "      <td>254.86</td>\n",
       "    </tr>\n",
       "    <tr>\n",
       "      <th>2019-08-15</th>\n",
       "      <td>2847.60</td>\n",
       "      <td>NaN</td>\n",
       "    </tr>\n",
       "    <tr>\n",
       "      <th>2019-08-16</th>\n",
       "      <td>2888.68</td>\n",
       "      <td>253.90</td>\n",
       "    </tr>\n",
       "    <tr>\n",
       "      <th>2019-08-19</th>\n",
       "      <td>2923.65</td>\n",
       "      <td>255.11</td>\n",
       "    </tr>\n",
       "    <tr>\n",
       "      <th>2019-08-20</th>\n",
       "      <td>2900.51</td>\n",
       "      <td>258.05</td>\n",
       "    </tr>\n",
       "    <tr>\n",
       "      <th>2019-08-21</th>\n",
       "      <td>2924.43</td>\n",
       "      <td>258.38</td>\n",
       "    </tr>\n",
       "    <tr>\n",
       "      <th>2019-08-22</th>\n",
       "      <td>2922.95</td>\n",
       "      <td>256.28</td>\n",
       "    </tr>\n",
       "    <tr>\n",
       "      <th>2019-08-23</th>\n",
       "      <td>2847.11</td>\n",
       "      <td>256.11</td>\n",
       "    </tr>\n",
       "    <tr>\n",
       "      <th>2019-08-26</th>\n",
       "      <td>2878.38</td>\n",
       "      <td>252.19</td>\n",
       "    </tr>\n",
       "    <tr>\n",
       "      <th>2019-08-27</th>\n",
       "      <td>2869.16</td>\n",
       "      <td>253.50</td>\n",
       "    </tr>\n",
       "    <tr>\n",
       "      <th>2019-08-28</th>\n",
       "      <td>2887.94</td>\n",
       "      <td>255.53</td>\n",
       "    </tr>\n",
       "    <tr>\n",
       "      <th>2019-08-29</th>\n",
       "      <td>2924.58</td>\n",
       "      <td>254.31</td>\n",
       "    </tr>\n",
       "    <tr>\n",
       "      <th>2019-08-30</th>\n",
       "      <td>2926.46</td>\n",
       "      <td>259.00</td>\n",
       "    </tr>\n",
       "  </tbody>\n",
       "</table>\n",
       "</div>"
      ],
      "text/plain": [
       "             S&P500  KOSPI200\n",
       "2019-07-22  2985.03    274.55\n",
       "2019-07-23  3005.47    275.92\n",
       "2019-07-24  3019.56    273.22\n",
       "2019-07-25  3003.67    273.04\n",
       "2019-07-26  3025.86    272.25\n",
       "2019-07-29  3020.97    267.75\n",
       "2019-07-30  3013.18    268.95\n",
       "2019-07-31  2980.38    266.34\n",
       "2019-08-01  2953.56    265.73\n",
       "2019-08-02  2932.05    262.99\n",
       "2019-08-05  2844.74    257.19\n",
       "2019-08-06  2881.77    253.41\n",
       "2019-08-07  2883.98    252.00\n",
       "2019-08-08  2938.09    252.40\n",
       "2019-08-09  2918.65    254.85\n",
       "2019-08-12  2883.75    255.35\n",
       "2019-08-13  2926.32    252.83\n",
       "2019-08-14  2840.60    254.86\n",
       "2019-08-15  2847.60       NaN\n",
       "2019-08-16  2888.68    253.90\n",
       "2019-08-19  2923.65    255.11\n",
       "2019-08-20  2900.51    258.05\n",
       "2019-08-21  2924.43    258.38\n",
       "2019-08-22  2922.95    256.28\n",
       "2019-08-23  2847.11    256.11\n",
       "2019-08-26  2878.38    252.19\n",
       "2019-08-27  2869.16    253.50\n",
       "2019-08-28  2887.94    255.53\n",
       "2019-08-29  2924.58    254.31\n",
       "2019-08-30  2926.46    259.00"
      ]
     },
     "execution_count": 44,
     "metadata": {},
     "output_type": "execute_result"
    }
   ],
   "source": [
    "import pandas as pd\n",
    "df = pd.DataFrame(tmp) #DataFrame(딕셔너리) -> 엑셀처럼 값을 보여줌\n",
    "df.sort_index(inplace=True)#시계열데이터 정렬\n",
    "df.head(30)"
   ]
  },
  {
   "cell_type": "code",
   "execution_count": 45,
   "metadata": {},
   "outputs": [
    {
     "data": {
      "text/html": [
       "<div>\n",
       "<style scoped>\n",
       "    .dataframe tbody tr th:only-of-type {\n",
       "        vertical-align: middle;\n",
       "    }\n",
       "\n",
       "    .dataframe tbody tr th {\n",
       "        vertical-align: top;\n",
       "    }\n",
       "\n",
       "    .dataframe thead th {\n",
       "        text-align: right;\n",
       "    }\n",
       "</style>\n",
       "<table border=\"1\" class=\"dataframe\">\n",
       "  <thead>\n",
       "    <tr style=\"text-align: right;\">\n",
       "      <th></th>\n",
       "      <th>S&amp;P500</th>\n",
       "      <th>KOSPI200</th>\n",
       "    </tr>\n",
       "  </thead>\n",
       "  <tbody>\n",
       "    <tr>\n",
       "      <th>2019-07-22</th>\n",
       "      <td>2985.03</td>\n",
       "      <td>274.55</td>\n",
       "    </tr>\n",
       "    <tr>\n",
       "      <th>2019-07-23</th>\n",
       "      <td>3005.47</td>\n",
       "      <td>275.92</td>\n",
       "    </tr>\n",
       "    <tr>\n",
       "      <th>2019-07-24</th>\n",
       "      <td>3019.56</td>\n",
       "      <td>273.22</td>\n",
       "    </tr>\n",
       "    <tr>\n",
       "      <th>2019-07-25</th>\n",
       "      <td>3003.67</td>\n",
       "      <td>273.04</td>\n",
       "    </tr>\n",
       "    <tr>\n",
       "      <th>2019-07-26</th>\n",
       "      <td>3025.86</td>\n",
       "      <td>272.25</td>\n",
       "    </tr>\n",
       "    <tr>\n",
       "      <th>...</th>\n",
       "      <td>...</td>\n",
       "      <td>...</td>\n",
       "    </tr>\n",
       "    <tr>\n",
       "      <th>2020-07-16</th>\n",
       "      <td>3215.57</td>\n",
       "      <td>289.25</td>\n",
       "    </tr>\n",
       "    <tr>\n",
       "      <th>2020-07-17</th>\n",
       "      <td>3224.73</td>\n",
       "      <td>291.57</td>\n",
       "    </tr>\n",
       "    <tr>\n",
       "      <th>2020-07-20</th>\n",
       "      <td>3251.84</td>\n",
       "      <td>290.81</td>\n",
       "    </tr>\n",
       "    <tr>\n",
       "      <th>2020-07-21</th>\n",
       "      <td>3257.30</td>\n",
       "      <td>295.16</td>\n",
       "    </tr>\n",
       "    <tr>\n",
       "      <th>2020-07-22</th>\n",
       "      <td>3276.02</td>\n",
       "      <td>294.04</td>\n",
       "    </tr>\n",
       "  </tbody>\n",
       "</table>\n",
       "<p>261 rows × 2 columns</p>\n",
       "</div>"
      ],
      "text/plain": [
       "             S&P500  KOSPI200\n",
       "2019-07-22  2985.03    274.55\n",
       "2019-07-23  3005.47    275.92\n",
       "2019-07-24  3019.56    273.22\n",
       "2019-07-25  3003.67    273.04\n",
       "2019-07-26  3025.86    272.25\n",
       "...             ...       ...\n",
       "2020-07-16  3215.57    289.25\n",
       "2020-07-17  3224.73    291.57\n",
       "2020-07-20  3251.84    290.81\n",
       "2020-07-21  3257.30    295.16\n",
       "2020-07-22  3276.02    294.04\n",
       "\n",
       "[261 rows x 2 columns]"
      ]
     },
     "execution_count": 45,
     "metadata": {},
     "output_type": "execute_result"
    }
   ],
   "source": [
    "#데이터가 없을 경우(NaN) -> 앞뒤 가격을 이용해서 데이터를 '보간'\n",
    "df = df.fillna(method = 'ffill') #ffill은 forward fill 앞의 날짜로 채우는 것\n",
    "if df.isnull().values.any():\n",
    "    df=df.fillna(method='bfill') #bfill은 backward fill 뒤의 날짜로 채우는 것\n",
    "df #이로써 금융빅데이터와 금융머신러닝의 시작이자 갖아 손이 많이가고 번거로운 과정인 데이터 스크레이핑 성공"
   ]
  },
  {
   "cell_type": "code",
   "execution_count": 46,
   "metadata": {},
   "outputs": [
    {
     "name": "stderr",
     "output_type": "stream",
     "text": [
      "No handles with labels found to put in legend.\n"
     ]
    },
    {
     "data": {
      "image/png": "[encoded data removed]",
      "text/plain": [
       "<Figure size 720x360 with 1 Axes>"
      ]
     },
     "metadata": {
      "needs_background": "light"
     },
     "output_type": "display_data"
    }
   ],
   "source": [
    "#맷플롯립을 이용해 그래프 그리기\n",
    "import matplotlib.pyplot as plt\n",
    "%matplotlib inline \n",
    "#이 명령이 없으면 만들어진 그래프를 별도의 화면으로 확인해야 함 -> 노트북 워크스페이스상의 결과화면에 그래프가 나오도록 저장\n",
    "#우리가 수집한 kospi200과 S&P500 자료를 이용해 그래프를 그리면\n",
    "plt.figure(figsize=(10,5)) #크기조절\n",
    "plt.plot(df['S&P500']) #데이터선택\n",
    "plt.plot(df['KOSPI200']) \n",
    "plt.legend(loc=0) #범례 위치 지정\n",
    "plt.grid(True, color='0.7', linestyle =':', linewidth=1) #그리드설정"
   ]
  },
  {
   "cell_type": "code",
   "execution_count": 47,
   "metadata": {},
   "outputs": [
    {
     "data": {
      "text/plain": [
       "S&P500      2985.03\n",
       "KOSPI200     274.55\n",
       "Name: 2019-07-22, dtype: float64"
      ]
     },
     "execution_count": 47,
     "metadata": {},
     "output_type": "execute_result"
    }
   ],
   "source": [
    "#비교를 위해 지수화 작업/ DataFrame에서는 리스트와 유사하게 DataFrame.iloc[] 혹은 DaraFrmae.loc['날짜']를 통해 데이터 지정가능\n",
    "#loc는 location을 iloc는 indexlocation을 줄인 말\n",
    "df.iloc[0]"
   ]
  },
  {
   "cell_type": "code",
   "execution_count": 48,
   "metadata": {},
   "outputs": [
    {
     "data": {
      "text/plain": [
       "S&P500      2985.03\n",
       "KOSPI200     274.55\n",
       "Name: 2019-07-22, dtype: float64"
      ]
     },
     "execution_count": 48,
     "metadata": {},
     "output_type": "execute_result"
    }
   ],
   "source": [
    "df.loc[dt.date(2019,7,22)]"
   ]
  },
  {
   "cell_type": "code",
   "execution_count": 49,
   "metadata": {},
   "outputs": [
    {
     "name": "stderr",
     "output_type": "stream",
     "text": [
      "No handles with labels found to put in legend.\n"
     ]
    },
    {
     "data": {
      "image/png": "[encoded data removed]",
      "text/plain": [
       "<Figure size 720x360 with 1 Axes>"
      ]
     },
     "metadata": {
      "needs_background": "light"
     },
     "output_type": "display_data"
    }
   ],
   "source": [
    "#지수화한 그래프를 다시 그리면\n",
    "plt.figure(figsize=(10,5))\n",
    "plt.plot(df['S&P500']/df['S&P500'].loc[dt.date(2019, 7, 22)]*100)\n",
    "plt.plot(df['KOSPI200']/df['KOSPI200'].loc[dt.date(2019, 7, 22)]*100)\n",
    "plt.legend(loc=0)\n",
    "plt.grid(True, color = '0.7',linestyle = ':', linewidth=1)"
   ]
  },
  {
   "cell_type": "code",
   "execution_count": null,
   "metadata": {},
   "outputs": [],
   "source": [
    "#특정 기간의 데이터를 보려면\n",
    "#import datetime as dt\n",
    "#df_ratio_now = df.loc[dt.date(2020,1,1):] / df.loc[dt.date(2020,1,2)] *100\n",
    "#df_ratio_now.head(3)"
   ]
  },
  {
   "cell_type": "code",
   "execution_count": 54,
   "metadata": {},
   "outputs": [
    {
     "data": {
      "text/plain": [
       "Text(0, 0.5, 'KOSPI200')"
      ]
     },
     "execution_count": 54,
     "metadata": {},
     "output_type": "execute_result"
    },
    {
     "data": {
      "image/png": "[encoded data removed]",
      "text/plain": [
       "<Figure size 360x360 with 1 Axes>"
      ]
     },
     "metadata": {
      "needs_background": "light"
     },
     "output_type": "display_data"
    }
   ],
   "source": [
    "#회귀분석\n",
    "#산포도 먼저 그려보기\n",
    "plt.figure(figsize=(5,5))\n",
    "plt.scatter(df['S&P500'], df['KOSPI200'], marker='.')\n",
    "plt.grid(True, color='0.7', linestyle =':', linewidth=1)\n",
    "plt.xlabel('S&P500')\n",
    "plt.ylabel('KOSPI200')"
   ]
  },
  {
   "cell_type": "code",
   "execution_count": 55,
   "metadata": {},
   "outputs": [
    {
     "data": {
      "text/plain": [
       "{'Slope': 0.08853424260862111,\n",
       " 'Intercept': 5.1123971684777985,\n",
       " 'R2': 0.9182937632698022}"
      ]
     },
     "execution_count": 55,
     "metadata": {},
     "output_type": "execute_result"
    }
   ],
   "source": [
    "import numpy as np \n",
    "from sklearn.linear_model import LinearRegression #선형 회귀분석을 위한 모델들\n",
    "x = df['S&P500']\n",
    "y = df['KOSPI200']\n",
    "\n",
    "#1개 칼럼 np.array로 변환\n",
    "independent_var = np.array(x).reshape(-1,1)\n",
    "dependent_var = np.array(y).reshape(-1,1)\n",
    "\n",
    "#Linear Regression\n",
    "regr = LinearRegression()\n",
    "regr.fit(independent_var, dependent_var)\n",
    "\n",
    "result = {'Slope': regr.coef_[0,0], 'Intercept':regr.intercept_[0], 'R2':regr.score(independent_var, dependent_var)}\n",
    "result"
   ]
  },
  {
   "cell_type": "code",
   "execution_count": 56,
   "metadata": {},
   "outputs": [
    {
     "data": {
      "text/plain": [
       "Text(0, 0.5, 'KOSPI200')"
      ]
     },
     "execution_count": 56,
     "metadata": {},
     "output_type": "execute_result"
    },
    {
     "data": {
      "image/png": "[encoded data removed]",
      "text/plain": [
       "<Figure size 360x360 with 1 Axes>"
      ]
     },
     "metadata": {
      "needs_background": "light"
     },
     "output_type": "display_data"
    }
   ],
   "source": [
    "#추세선을 그려보면\n",
    "plt.figure(figsize=(5,5))\n",
    "plt.scatter(independent_var, dependent_var, marker='.', color = 'skyblue')\n",
    "plt.plot(independent_var, regr.predict(independent_var), color ='r', linewidth =3)\n",
    "plt.grid(True, color = '0.7', linestyle=':', linewidth=1)\n",
    "plt.xlabel('S&P500')\n",
    "plt.ylabel('KOSPI200')"
   ]
  },
  {
   "cell_type": "code",
   "execution_count": 7,
   "metadata": {},
   "outputs": [],
   "source": [
    "# K10 지수 산출\n",
    "# 네이버에서 한국 10대 기업 데이터 수집하기 \n",
    "# http://companyinfo.stock.naver.com/v1/company/c1010001.aspx?cmp_cd=005930 에서 상장주식수(발행주식수)와 유동비율 추출\n",
    "\n",
    "import bs4\n",
    "from urllib.request import urlopen\n",
    "\n",
    "url_float = 'http://companyinfo.stock.naver.com/v1/company/c1010001.aspx?cmp_cd=005930'\n",
    "# Floating ratio from Naver\n",
    "source = urlopen(url_float).read()\n",
    "soup = bs4.BeautifulSoup(source, 'lxml')"
   ]
  },
  {
   "cell_type": "code",
   "execution_count": 8,
   "metadata": {},
   "outputs": [
    {
     "data": {
      "text/plain": [
       "'\\r\\n\\t\\t\\t\\t\\t\\t\\t\\t\\t\\t\\t\\t\\t\\t\\t5,969,782,550주 / 74.55%\\r\\n\\t\\t\\t\\t\\t\\t\\t\\t\\t\\t\\t\\t\\t\\t'"
      ]
     },
     "execution_count": 8,
     "metadata": {},
     "output_type": "execute_result"
    }
   ],
   "source": [
    "# 네이버 페이지에서 X-path를 이용해서 원하는 정보를 뽑아야 하는데 마우스 우클릭을 못하게 막아놨음 이 경우에는\n",
    "# 빈 공간에 마우스 우클릭(또는 Ctrl + Shift + I) 후 Ctrl + F 검색으로 찾고자 하는 정보 입력 + Enter\n",
    "# 위에거 안되면 코드 직접 열어서 비교해보면서 직접찾아야될 듯\n",
    "# X-path 주소 : //*[@id=\"cTB11\"]/tbody/tr[7]/td\n",
    "soup.find(id='cTB11').find_all('tr')[6].td.text #tr[7] 처럼 리스트로 들어있으면 find_all로, td처럼 하나만 있으면 find로 잡기\n"
   ]
  },
  {
   "cell_type": "code",
   "execution_count": 9,
   "metadata": {},
   "outputs": [
    {
     "data": {
      "text/plain": [
       "'5,969,782,550주 / 74.55%'"
      ]
     },
     "execution_count": 9,
     "metadata": {},
     "output_type": "execute_result"
    }
   ],
   "source": [
    "# \\r, \\n 등 문자열을 없애려면\n",
    "tmp = soup.find(id = 'cTB11').find_all('tr')[6].td.text\n",
    "tmp = tmp.replace('\\r', '')\n",
    "tmp = tmp.replace('\\n', '')\n",
    "tmp = tmp.replace('\\t', '')\n",
    "tmp"
   ]
  },
  {
   "cell_type": "code",
   "execution_count": 10,
   "metadata": {},
   "outputs": [
    {
     "data": {
      "text/plain": [
       "['5,969,782,550주 ', ' 74.55%']"
      ]
     },
     "execution_count": 10,
     "metadata": {},
     "output_type": "execute_result"
    }
   ],
   "source": [
    "#데이터를 다시 상장주식수와 비율로 분리하기 위해서는 re라이브러리 이용\n",
    "import re\n",
    "tmp = re.split('/', tmp)\n",
    "tmp"
   ]
  },
  {
   "cell_type": "code",
   "execution_count": 11,
   "metadata": {},
   "outputs": [
    {
     "data": {
      "text/plain": [
       "'5969782550'"
      ]
     },
     "execution_count": 11,
     "metadata": {},
     "output_type": "execute_result"
    }
   ],
   "source": [
    "#발행주식 수에서 정수값만 도출\n",
    "outstanding = tmp[0].replace(',', '')\n",
    "outstanding = outstanding.replace('주', '')\n",
    "outstanding = outstanding.replace(' ','')\n",
    "outstanding"
   ]
  },
  {
   "cell_type": "code",
   "execution_count": 12,
   "metadata": {},
   "outputs": [
    {
     "data": {
      "text/plain": [
       "'74.55'"
      ]
     },
     "execution_count": 12,
     "metadata": {},
     "output_type": "execute_result"
    }
   ],
   "source": [
    "#유동비율에서 실수값만 도출\n",
    "floating = tmp[1].replace(' ', '')\n",
    "floating = floating.replace('%', '')\n",
    "floating"
   ]
  },
  {
   "cell_type": "code",
   "execution_count": 13,
   "metadata": {},
   "outputs": [],
   "source": [
    "# 지금까지 내용을 바탕으로 상장주식 수와 유동비율을 구하는 함수를 만들면\n",
    "def stock_info(stock_cd):\n",
    "    url_float = 'http://companyinfo.stock.naver.com/v1/company/c1010001.aspx?cmp_cd=' + stock_cd\n",
    "    source = urlopen(url_float).read()\n",
    "    soup = bs4.BeautifulSoup(source, 'lxml')\n",
    "    \n",
    "    tmp = soup.find(id='cTB11').find_all('tr')[6].td.text\n",
    "    tmp = tmp.replace('\\r', '')\n",
    "    tmp = tmp.replace('\\n', '')\n",
    "    tmp = tmp.replace('\\t', '')\n",
    "    tmp = re.split('/', tmp)\n",
    "    \n",
    "    outstanding = tmp[0].replace(',', '')\n",
    "    outstanding = outstanding.replace('주', '')\n",
    "    outstanding = outstanding.replace(' ','')\n",
    "    outstanding = int(outstanding)\n",
    "    \n",
    "    floating = tmp[1].replace(' ', '')\n",
    "    floating = floating.replace('%', '')\n",
    "    floating = float(floating)\n",
    "    \n",
    "    name = soup.find(id = 'pArea').find('div').find('div').find('tr').find('td').find('span').text\n",
    "    \n",
    "    k10_outstanding[stock_cd] = outstanding\n",
    "    k10_floating[stock_cd] = floating\n",
    "    k10_name[stock_cd] = name\n",
    "                "
   ]
  },
  {
   "cell_type": "code",
   "execution_count": 14,
   "metadata": {},
   "outputs": [],
   "source": [
    "'''\n",
    "한국거래서 시가총액 상위 10종목(2020년 8월 기준)\n",
    "005930 삼성전자\n",
    "000660 SK하이닉스\n",
    "035420 NAVER\n",
    "051910 LG화학\n",
    "207940 삼성바이오로직스\n",
    "068270 셀트리온\n",
    "005380 현대차\n",
    "035720 카카오\n",
    "006400 삼성SDI\n",
    "051900 LG생활건강\n",
    "'''\n",
    "k10_component = ['005930', '000660', '035420', '051910', '207940', '068270', '005380', '035720', '006400','051900']\n",
    "k10_outstanding = dict()\n",
    "k10_floating = dict()\n",
    "k10_name = dict()\n",
    "for stock_cd in k10_component:\n",
    "    stock_info(stock_cd)"
   ]
  },
  {
   "cell_type": "code",
   "execution_count": 15,
   "metadata": {},
   "outputs": [
    {
     "data": {
      "text/plain": [
       "{'005930': 5969782550,\n",
       " '000660': 728002365,\n",
       " '035420': 164263395,\n",
       " '051910': 70592343,\n",
       " '207940': 66165000,\n",
       " '068270': 134993738,\n",
       " '005380': 213668187,\n",
       " '035720': 88013995,\n",
       " '006400': 68764530,\n",
       " '051900': 15618197}"
      ]
     },
     "execution_count": 15,
     "metadata": {},
     "output_type": "execute_result"
    }
   ],
   "source": [
    "k10_outstanding"
   ]
  },
  {
   "cell_type": "code",
   "execution_count": 87,
   "metadata": {},
   "outputs": [
    {
     "data": {
      "text/plain": [
       "{'005930': 74.62,\n",
       " '000660': 73.39,\n",
       " '068270': 75.67,\n",
       " '005380': 64.41,\n",
       " '207940': 24.75,\n",
       " '051910': 64.29,\n",
       " '005490': 68.55,\n",
       " '035420': 75.66,\n",
       " '017670': 54.66,\n",
       " '015760': 44.68}"
      ]
     },
     "execution_count": 87,
     "metadata": {},
     "output_type": "execute_result"
    }
   ],
   "source": [
    "k10_floating"
   ]
  },
  {
   "cell_type": "code",
   "execution_count": 88,
   "metadata": {},
   "outputs": [
    {
     "data": {
      "text/plain": [
       "{'005930': '삼성전자',\n",
       " '000660': 'SK하이닉스',\n",
       " '068270': '셀트리온',\n",
       " '005380': '현대차',\n",
       " '207940': '삼성바이오로직스',\n",
       " '051910': 'LG화학',\n",
       " '005490': 'POSCO',\n",
       " '035420': 'NAVER',\n",
       " '017670': 'SK텔레콤',\n",
       " '015760': '한국전력'}"
      ]
     },
     "execution_count": 88,
     "metadata": {},
     "output_type": "execute_result"
    }
   ],
   "source": [
    "k10_name"
   ]
  },
  {
   "cell_type": "code",
   "execution_count": 93,
   "metadata": {},
   "outputs": [],
   "source": [
    "#과거 주가 구하기\n",
    "#삼성전자 과거주가 URL : http://finance.naver.com/item/sise_day.nhn?code=005930\n",
    "# 보면 날짜 데이터는 <td align = \"center\"><span class = 'tah p10 gray03'></span></td> 태그에 쌓여 있음\n",
    "# td에 특별한 class가 붙어있지 않으므로 <span> 태그의 class를 이용해 추출하면\n",
    "stock_cd = '005930'\n",
    "page_n=1\n",
    "url_samsung= 'http://finance.naver.com/item/sise_day.nhn?code=' + stock_cd + '&page=' + str(page_n)\n",
    "source = urlopen(url_samsung).read()\n",
    "source = bs4.BeautifulSoup(source, 'lxml')\n",
    "dates = source.find_all('span', class_ = 'tah p10 gray03')\n",
    "# 종가 부분의 소스 코드를 보면 <td class = \"num\"></td>\n",
    "prices = source.find_all('td', class_='num')\n"
   ]
  },
  {
   "cell_type": "code",
   "execution_count": 114,
   "metadata": {},
   "outputs": [],
   "source": [
    "import datetime as dt\n",
    "import pandas as pd\n",
    "\n",
    "def date_format_html(d):\n",
    "    d = str(d).replace('-', '.') # 날짜가 -로 구분되어있을 경우 .로 바꿈\n",
    "    yyyy=int(d.split('.')[0])\n",
    "    mm=int(d.split('.')[1])\n",
    "    dd=int(d.split('.')[2])\n",
    "    \n",
    "    this_date = dt.date(yyyy,mm,dd)\n",
    "    return this_date\n",
    "\n",
    "def historical_stock_naver_date(stock_cd, start_date='', end_date = '', page_n=1, last_page=0):\n",
    "    if start_date: #start_date가 있으면\n",
    "        start_date=date_format_html(start_date)\n",
    "    else: #없으면\n",
    "        start_date = dt.date.today() #오늘날짜 지정\n",
    "    if end_date : #end_date가 있으면\n",
    "        end_date=date_format_html(end_date)\n",
    "    else:\n",
    "            end_date=dt.date.today()\n",
    "    \n",
    "    naver_stock = 'http://finance.naver.com/item/sise_day.nhn?code=' + stock_cd + '&page=' + str(page_n)\n",
    "    \n",
    "    source = urlopen(naver_stock).read()\n",
    "    source = bs4.BeautifulSoup(source, 'lxml')\n",
    "    \n",
    "    dates = source.find_all('span', class_ = 'tah p10 gray03') #날짜수집\n",
    "    prices = source.find_all('td', class_='num') #종가수집\n",
    "    \n",
    "    for n in range(len(dates)):\n",
    "        \n",
    "        if len(dates) >0 :\n",
    "            this_date = dates[n].text\n",
    "            this_date = date_format_html(this_date)\n",
    "        \n",
    "        if this_date <= end_date and this_date >= start_date:\n",
    "            this_close = prices[n*6].text\n",
    "            this_close = this_close.replace(',', '')\n",
    "            this_close = float(this_close)\n",
    "            \n",
    "            #딕셔너리에 저장\n",
    "            historical_prices[this_date] = this_close\n",
    "        \n",
    "        elif this_date < start_date :\n",
    "            return historical_prices\n",
    "    \n",
    "    #페이지 네비게이션\n",
    "    if last_page ==0:\n",
    "        last_page = source.find_all('table')[1].find('td',class_='pgRR').find('a')['href']\n",
    "        #마지막페이지 주소 추출\n",
    "        last_page = last_page.split('&')[1]\n",
    "        last_page = last_page.split('=')[1]\n",
    "        last_page=int(last_page)\n",
    "    \n",
    "    #다음페이지 호출\n",
    "    if page_n < last_page:\n",
    "        page_n = page_n +1\n",
    "        historical_stock_naver_date(stock_cd, start_date, end_date, page_n, last_page)\n",
    "    \n",
    "    return historical_prices\n"
   ]
  },
  {
   "cell_type": "code",
   "execution_count": 115,
   "metadata": {},
   "outputs": [],
   "source": [
    "k10_historical_prices = dict()\n",
    "\n",
    "for stock_cd in k10_component:\n",
    "    historical_prices = dict()\n",
    "    start_date = '2017-1-1'\n",
    "    end_date = '2017-12-31'\n",
    "    historical_stock_naver_date(stock_cd, start_date, end_date)\n",
    "    \n",
    "    k10_historical_prices[stock_cd] = historical_prices\n"
   ]
  },
  {
   "cell_type": "code",
   "execution_count": 116,
   "metadata": {},
   "outputs": [],
   "source": [
    "#데이터프레임변환\n",
    "k10_historical_price = pd.DataFrame(k10_historical_prices)\n",
    "k10_historical_price.sort_index(axis=1, inplace=True) #axis =1 은 내림차순 (없으면 오름차순), inplace=True는 그래프를 보여주지 말라는 뜻"
   ]
  },
  {
   "cell_type": "code",
   "execution_count": 117,
   "metadata": {},
   "outputs": [
    {
     "data": {
      "text/html": [
       "<div>\n",
       "<style scoped>\n",
       "    .dataframe tbody tr th:only-of-type {\n",
       "        vertical-align: middle;\n",
       "    }\n",
       "\n",
       "    .dataframe tbody tr th {\n",
       "        vertical-align: top;\n",
       "    }\n",
       "\n",
       "    .dataframe thead th {\n",
       "        text-align: right;\n",
       "    }\n",
       "</style>\n",
       "<table border=\"1\" class=\"dataframe\">\n",
       "  <thead>\n",
       "    <tr style=\"text-align: right;\">\n",
       "      <th></th>\n",
       "      <th>000660</th>\n",
       "      <th>005380</th>\n",
       "      <th>005490</th>\n",
       "      <th>005930</th>\n",
       "      <th>015760</th>\n",
       "      <th>017670</th>\n",
       "      <th>035420</th>\n",
       "      <th>051910</th>\n",
       "      <th>068270</th>\n",
       "      <th>207940</th>\n",
       "    </tr>\n",
       "  </thead>\n",
       "  <tbody>\n",
       "    <tr>\n",
       "      <th>2017-12-28</th>\n",
       "      <td>76500.0</td>\n",
       "      <td>156000.0</td>\n",
       "      <td>332500.0</td>\n",
       "      <td>2548000.0</td>\n",
       "      <td>38150.0</td>\n",
       "      <td>267000.0</td>\n",
       "      <td>870000.0</td>\n",
       "      <td>405000.0</td>\n",
       "      <td>221100.0</td>\n",
       "      <td>371000.0</td>\n",
       "    </tr>\n",
       "    <tr>\n",
       "      <th>2017-12-27</th>\n",
       "      <td>75100.0</td>\n",
       "      <td>156500.0</td>\n",
       "      <td>334500.0</td>\n",
       "      <td>2468000.0</td>\n",
       "      <td>38400.0</td>\n",
       "      <td>267500.0</td>\n",
       "      <td>877000.0</td>\n",
       "      <td>394500.0</td>\n",
       "      <td>220000.0</td>\n",
       "      <td>366000.0</td>\n",
       "    </tr>\n",
       "    <tr>\n",
       "      <th>2017-12-26</th>\n",
       "      <td>74000.0</td>\n",
       "      <td>154000.0</td>\n",
       "      <td>339500.0</td>\n",
       "      <td>2410000.0</td>\n",
       "      <td>39100.0</td>\n",
       "      <td>278000.0</td>\n",
       "      <td>874000.0</td>\n",
       "      <td>392000.0</td>\n",
       "      <td>195000.0</td>\n",
       "      <td>344500.0</td>\n",
       "    </tr>\n",
       "    <tr>\n",
       "      <th>2017-12-22</th>\n",
       "      <td>76700.0</td>\n",
       "      <td>153000.0</td>\n",
       "      <td>337000.0</td>\n",
       "      <td>2485000.0</td>\n",
       "      <td>38750.0</td>\n",
       "      <td>274000.0</td>\n",
       "      <td>862000.0</td>\n",
       "      <td>393500.0</td>\n",
       "      <td>201900.0</td>\n",
       "      <td>347000.0</td>\n",
       "    </tr>\n",
       "    <tr>\n",
       "      <th>2017-12-21</th>\n",
       "      <td>77000.0</td>\n",
       "      <td>150000.0</td>\n",
       "      <td>337000.0</td>\n",
       "      <td>2457000.0</td>\n",
       "      <td>38700.0</td>\n",
       "      <td>272000.0</td>\n",
       "      <td>842000.0</td>\n",
       "      <td>391000.0</td>\n",
       "      <td>197300.0</td>\n",
       "      <td>349000.0</td>\n",
       "    </tr>\n",
       "  </tbody>\n",
       "</table>\n",
       "</div>"
      ],
      "text/plain": [
       "             000660    005380    005490     005930   015760    017670  \\\n",
       "2017-12-28  76500.0  156000.0  332500.0  2548000.0  38150.0  267000.0   \n",
       "2017-12-27  75100.0  156500.0  334500.0  2468000.0  38400.0  267500.0   \n",
       "2017-12-26  74000.0  154000.0  339500.0  2410000.0  39100.0  278000.0   \n",
       "2017-12-22  76700.0  153000.0  337000.0  2485000.0  38750.0  274000.0   \n",
       "2017-12-21  77000.0  150000.0  337000.0  2457000.0  38700.0  272000.0   \n",
       "\n",
       "              035420    051910    068270    207940  \n",
       "2017-12-28  870000.0  405000.0  221100.0  371000.0  \n",
       "2017-12-27  877000.0  394500.0  220000.0  366000.0  \n",
       "2017-12-26  874000.0  392000.0  195000.0  344500.0  \n",
       "2017-12-22  862000.0  393500.0  201900.0  347000.0  \n",
       "2017-12-21  842000.0  391000.0  197300.0  349000.0  "
      ]
     },
     "execution_count": 117,
     "metadata": {},
     "output_type": "execute_result"
    }
   ],
   "source": [
    "#보간작업\n",
    "k10_historical_price = k10_historical_price.fillna(method='ffill')\n",
    "if k10_historical_price.isnull().values.any():\n",
    "    k10_historical_price = k10_historical_price.fillna(method='bfill')\n",
    "k10_historical_price.head(5)"
   ]
  },
  {
   "cell_type": "code",
   "execution_count": 118,
   "metadata": {},
   "outputs": [
    {
     "data": {
      "text/html": [
       "<div>\n",
       "<style scoped>\n",
       "    .dataframe tbody tr th:only-of-type {\n",
       "        vertical-align: middle;\n",
       "    }\n",
       "\n",
       "    .dataframe tbody tr th {\n",
       "        vertical-align: top;\n",
       "    }\n",
       "\n",
       "    .dataframe thead th {\n",
       "        text-align: right;\n",
       "    }\n",
       "</style>\n",
       "<table border=\"1\" class=\"dataframe\">\n",
       "  <thead>\n",
       "    <tr style=\"text-align: right;\">\n",
       "      <th></th>\n",
       "      <th>000660</th>\n",
       "      <th>005380</th>\n",
       "      <th>005490</th>\n",
       "      <th>005930</th>\n",
       "      <th>015760</th>\n",
       "      <th>017670</th>\n",
       "      <th>035420</th>\n",
       "      <th>051910</th>\n",
       "      <th>068270</th>\n",
       "      <th>207940</th>\n",
       "    </tr>\n",
       "  </thead>\n",
       "  <tbody>\n",
       "    <tr>\n",
       "      <th>2017-12-28</th>\n",
       "      <td>76500.0</td>\n",
       "      <td>156000.0</td>\n",
       "      <td>332500.0</td>\n",
       "      <td>50960.0</td>\n",
       "      <td>38150.0</td>\n",
       "      <td>267000.0</td>\n",
       "      <td>870000.0</td>\n",
       "      <td>405000.0</td>\n",
       "      <td>221100.0</td>\n",
       "      <td>371000.0</td>\n",
       "    </tr>\n",
       "    <tr>\n",
       "      <th>2017-12-27</th>\n",
       "      <td>75100.0</td>\n",
       "      <td>156500.0</td>\n",
       "      <td>334500.0</td>\n",
       "      <td>49360.0</td>\n",
       "      <td>38400.0</td>\n",
       "      <td>267500.0</td>\n",
       "      <td>877000.0</td>\n",
       "      <td>394500.0</td>\n",
       "      <td>220000.0</td>\n",
       "      <td>366000.0</td>\n",
       "    </tr>\n",
       "    <tr>\n",
       "      <th>2017-12-26</th>\n",
       "      <td>74000.0</td>\n",
       "      <td>154000.0</td>\n",
       "      <td>339500.0</td>\n",
       "      <td>48200.0</td>\n",
       "      <td>39100.0</td>\n",
       "      <td>278000.0</td>\n",
       "      <td>874000.0</td>\n",
       "      <td>392000.0</td>\n",
       "      <td>195000.0</td>\n",
       "      <td>344500.0</td>\n",
       "    </tr>\n",
       "    <tr>\n",
       "      <th>2017-12-22</th>\n",
       "      <td>76700.0</td>\n",
       "      <td>153000.0</td>\n",
       "      <td>337000.0</td>\n",
       "      <td>49700.0</td>\n",
       "      <td>38750.0</td>\n",
       "      <td>274000.0</td>\n",
       "      <td>862000.0</td>\n",
       "      <td>393500.0</td>\n",
       "      <td>201900.0</td>\n",
       "      <td>347000.0</td>\n",
       "    </tr>\n",
       "    <tr>\n",
       "      <th>2017-12-21</th>\n",
       "      <td>77000.0</td>\n",
       "      <td>150000.0</td>\n",
       "      <td>337000.0</td>\n",
       "      <td>49140.0</td>\n",
       "      <td>38700.0</td>\n",
       "      <td>272000.0</td>\n",
       "      <td>842000.0</td>\n",
       "      <td>391000.0</td>\n",
       "      <td>197300.0</td>\n",
       "      <td>349000.0</td>\n",
       "    </tr>\n",
       "  </tbody>\n",
       "</table>\n",
       "</div>"
      ],
      "text/plain": [
       "             000660    005380    005490   005930   015760    017670    035420  \\\n",
       "2017-12-28  76500.0  156000.0  332500.0  50960.0  38150.0  267000.0  870000.0   \n",
       "2017-12-27  75100.0  156500.0  334500.0  49360.0  38400.0  267500.0  877000.0   \n",
       "2017-12-26  74000.0  154000.0  339500.0  48200.0  39100.0  278000.0  874000.0   \n",
       "2017-12-22  76700.0  153000.0  337000.0  49700.0  38750.0  274000.0  862000.0   \n",
       "2017-12-21  77000.0  150000.0  337000.0  49140.0  38700.0  272000.0  842000.0   \n",
       "\n",
       "              051910    068270    207940  \n",
       "2017-12-28  405000.0  221100.0  371000.0  \n",
       "2017-12-27  394500.0  220000.0  366000.0  \n",
       "2017-12-26  392000.0  195000.0  344500.0  \n",
       "2017-12-22  393500.0  201900.0  347000.0  \n",
       "2017-12-21  391000.0  197300.0  349000.0  "
      ]
     },
     "execution_count": 118,
     "metadata": {},
     "output_type": "execute_result"
    }
   ],
   "source": [
    "#삼성전자의 경우 2018년 5월 4일부로 1/50 액면분할 -> 주식수는 현재 50배 되었지만 과거 주가는 그대로 -> 수정주가를 구해야 함\n",
    "k10_historical_price['005930'] = k10_historical_price['005930'] / 50 # 액면분할에 따른 수정주가 계산\n",
    "k10_historical_price.head()"
   ]
  },
  {
   "cell_type": "code",
   "execution_count": 119,
   "metadata": {},
   "outputs": [],
   "source": [
    "# 지수 = 비교시점 시가총액 * 100 /기준시점 시가 총액 \n",
    "# 각 주식 별 유동주식을 구하면\n",
    "tmp = {\n",
    "    'Outstanding' : k10_outstanding,\n",
    "    'Floating' : k10_floating,\n",
    "    'Price' : k10_historical_price.iloc[0],\n",
    "    'Name' : k10_name\n",
    "}\n",
    "k10_info = pd.DataFrame(tmp)"
   ]
  },
  {
   "cell_type": "code",
   "execution_count": 121,
   "metadata": {},
   "outputs": [
    {
     "data": {
      "text/html": [
       "<div>\n",
       "<style scoped>\n",
       "    .dataframe tbody tr th:only-of-type {\n",
       "        vertical-align: middle;\n",
       "    }\n",
       "\n",
       "    .dataframe tbody tr th {\n",
       "        vertical-align: top;\n",
       "    }\n",
       "\n",
       "    .dataframe thead th {\n",
       "        text-align: right;\n",
       "    }\n",
       "</style>\n",
       "<table border=\"1\" class=\"dataframe\">\n",
       "  <thead>\n",
       "    <tr style=\"text-align: right;\">\n",
       "      <th></th>\n",
       "      <th>Outstanding</th>\n",
       "      <th>Floating</th>\n",
       "      <th>Price</th>\n",
       "      <th>Name</th>\n",
       "      <th>f Market Cap</th>\n",
       "      <th>Market Cap</th>\n",
       "    </tr>\n",
       "  </thead>\n",
       "  <tbody>\n",
       "    <tr>\n",
       "      <th>000660</th>\n",
       "      <td>728002365</td>\n",
       "      <td>73.39</td>\n",
       "      <td>76500.0</td>\n",
       "      <td>SK하이닉스</td>\n",
       "      <td>4.087249e+13</td>\n",
       "      <td>5.569218e+11</td>\n",
       "    </tr>\n",
       "    <tr>\n",
       "      <th>005380</th>\n",
       "      <td>213668187</td>\n",
       "      <td>64.41</td>\n",
       "      <td>156000.0</td>\n",
       "      <td>현대차</td>\n",
       "      <td>2.146929e+13</td>\n",
       "      <td>3.333224e+11</td>\n",
       "    </tr>\n",
       "    <tr>\n",
       "      <th>005490</th>\n",
       "      <td>87186835</td>\n",
       "      <td>68.55</td>\n",
       "      <td>332500.0</td>\n",
       "      <td>POSCO</td>\n",
       "      <td>1.987239e+13</td>\n",
       "      <td>2.898962e+11</td>\n",
       "    </tr>\n",
       "    <tr>\n",
       "      <th>005930</th>\n",
       "      <td>5969782550</td>\n",
       "      <td>74.62</td>\n",
       "      <td>50960.0</td>\n",
       "      <td>삼성전자</td>\n",
       "      <td>2.270091e+14</td>\n",
       "      <td>3.042201e+12</td>\n",
       "    </tr>\n",
       "    <tr>\n",
       "      <th>015760</th>\n",
       "      <td>641964077</td>\n",
       "      <td>44.68</td>\n",
       "      <td>38150.0</td>\n",
       "      <td>한국전력</td>\n",
       "      <td>1.094255e+13</td>\n",
       "      <td>2.449093e+11</td>\n",
       "    </tr>\n",
       "    <tr>\n",
       "      <th>017670</th>\n",
       "      <td>80745711</td>\n",
       "      <td>54.66</td>\n",
       "      <td>267000.0</td>\n",
       "      <td>SK텔레콤</td>\n",
       "      <td>1.178421e+13</td>\n",
       "      <td>2.155910e+11</td>\n",
       "    </tr>\n",
       "    <tr>\n",
       "      <th>035420</th>\n",
       "      <td>164263395</td>\n",
       "      <td>75.66</td>\n",
       "      <td>870000.0</td>\n",
       "      <td>NAVER</td>\n",
       "      <td>1.081251e+14</td>\n",
       "      <td>1.429092e+12</td>\n",
       "    </tr>\n",
       "    <tr>\n",
       "      <th>051910</th>\n",
       "      <td>70592343</td>\n",
       "      <td>64.29</td>\n",
       "      <td>405000.0</td>\n",
       "      <td>LG화학</td>\n",
       "      <td>1.838045e+13</td>\n",
       "      <td>2.858990e+11</td>\n",
       "    </tr>\n",
       "    <tr>\n",
       "      <th>068270</th>\n",
       "      <td>134939385</td>\n",
       "      <td>75.67</td>\n",
       "      <td>221100.0</td>\n",
       "      <td>셀트리온</td>\n",
       "      <td>2.257622e+13</td>\n",
       "      <td>2.983510e+11</td>\n",
       "    </tr>\n",
       "    <tr>\n",
       "      <th>207940</th>\n",
       "      <td>66165000</td>\n",
       "      <td>24.75</td>\n",
       "      <td>371000.0</td>\n",
       "      <td>삼성바이오로직스</td>\n",
       "      <td>6.075436e+12</td>\n",
       "      <td>2.454722e+11</td>\n",
       "    </tr>\n",
       "  </tbody>\n",
       "</table>\n",
       "</div>"
      ],
      "text/plain": [
       "        Outstanding  Floating     Price      Name  f Market Cap    Market Cap\n",
       "000660    728002365     73.39   76500.0    SK하이닉스  4.087249e+13  5.569218e+11\n",
       "005380    213668187     64.41  156000.0       현대차  2.146929e+13  3.333224e+11\n",
       "005490     87186835     68.55  332500.0     POSCO  1.987239e+13  2.898962e+11\n",
       "005930   5969782550     74.62   50960.0      삼성전자  2.270091e+14  3.042201e+12\n",
       "015760    641964077     44.68   38150.0      한국전력  1.094255e+13  2.449093e+11\n",
       "017670     80745711     54.66  267000.0     SK텔레콤  1.178421e+13  2.155910e+11\n",
       "035420    164263395     75.66  870000.0     NAVER  1.081251e+14  1.429092e+12\n",
       "051910     70592343     64.29  405000.0      LG화학  1.838045e+13  2.858990e+11\n",
       "068270    134939385     75.67  221100.0      셀트리온  2.257622e+13  2.983510e+11\n",
       "207940     66165000     24.75  371000.0  삼성바이오로직스  6.075436e+12  2.454722e+11"
      ]
     },
     "execution_count": 121,
     "metadata": {},
     "output_type": "execute_result"
    }
   ],
   "source": [
    "#시가 총액은 Market Cap 칼럼에, 유동시가총액은 f Market Cap 칼럼에 저장\n",
    "k10_info['f Market Cap'] = k10_info['Outstanding'] * k10_info['Floating'] * k10_info['Price'] *0.01\n",
    "k10_info['Market Cap'] = k10_info['Outstanding'] * k10_info['Price'] * 0.01\n",
    "k10_info"
   ]
  },
  {
   "cell_type": "code",
   "execution_count": 122,
   "metadata": {},
   "outputs": [
    {
     "data": {
      "text/html": [
       "<div>\n",
       "<style scoped>\n",
       "    .dataframe tbody tr th:only-of-type {\n",
       "        vertical-align: middle;\n",
       "    }\n",
       "\n",
       "    .dataframe tbody tr th {\n",
       "        vertical-align: top;\n",
       "    }\n",
       "\n",
       "    .dataframe thead th {\n",
       "        text-align: right;\n",
       "    }\n",
       "</style>\n",
       "<table border=\"1\" class=\"dataframe\">\n",
       "  <thead>\n",
       "    <tr style=\"text-align: right;\">\n",
       "      <th></th>\n",
       "      <th>000660</th>\n",
       "      <th>005380</th>\n",
       "      <th>005490</th>\n",
       "      <th>005930</th>\n",
       "      <th>015760</th>\n",
       "      <th>017670</th>\n",
       "      <th>035420</th>\n",
       "      <th>051910</th>\n",
       "      <th>068270</th>\n",
       "      <th>207940</th>\n",
       "    </tr>\n",
       "  </thead>\n",
       "  <tbody>\n",
       "    <tr>\n",
       "      <th>2017-12-28</th>\n",
       "      <td>4.087249e+13</td>\n",
       "      <td>2.146929e+13</td>\n",
       "      <td>1.987239e+13</td>\n",
       "      <td>2.270091e+14</td>\n",
       "      <td>1.094255e+13</td>\n",
       "      <td>1.178421e+13</td>\n",
       "      <td>1.081251e+14</td>\n",
       "      <td>1.838045e+13</td>\n",
       "      <td>2.257622e+13</td>\n",
       "      <td>6.075436e+12</td>\n",
       "    </tr>\n",
       "    <tr>\n",
       "      <th>2017-12-27</th>\n",
       "      <td>4.012450e+13</td>\n",
       "      <td>2.153811e+13</td>\n",
       "      <td>1.999192e+13</td>\n",
       "      <td>2.198816e+14</td>\n",
       "      <td>1.101425e+13</td>\n",
       "      <td>1.180627e+13</td>\n",
       "      <td>1.089950e+14</td>\n",
       "      <td>1.790392e+13</td>\n",
       "      <td>2.246390e+13</td>\n",
       "      <td>5.993557e+12</td>\n",
       "    </tr>\n",
       "    <tr>\n",
       "      <th>2017-12-26</th>\n",
       "      <td>3.953679e+13</td>\n",
       "      <td>2.119405e+13</td>\n",
       "      <td>2.029075e+13</td>\n",
       "      <td>2.147142e+14</td>\n",
       "      <td>1.121504e+13</td>\n",
       "      <td>1.226970e+13</td>\n",
       "      <td>1.086222e+14</td>\n",
       "      <td>1.779046e+13</td>\n",
       "      <td>1.991118e+13</td>\n",
       "      <td>5.641476e+12</td>\n",
       "    </tr>\n",
       "  </tbody>\n",
       "</table>\n",
       "</div>"
      ],
      "text/plain": [
       "                  000660        005380        005490        005930  \\\n",
       "2017-12-28  4.087249e+13  2.146929e+13  1.987239e+13  2.270091e+14   \n",
       "2017-12-27  4.012450e+13  2.153811e+13  1.999192e+13  2.198816e+14   \n",
       "2017-12-26  3.953679e+13  2.119405e+13  2.029075e+13  2.147142e+14   \n",
       "\n",
       "                  015760        017670        035420        051910  \\\n",
       "2017-12-28  1.094255e+13  1.178421e+13  1.081251e+14  1.838045e+13   \n",
       "2017-12-27  1.101425e+13  1.180627e+13  1.089950e+14  1.790392e+13   \n",
       "2017-12-26  1.121504e+13  1.226970e+13  1.086222e+14  1.779046e+13   \n",
       "\n",
       "                  068270        207940  \n",
       "2017-12-28  2.257622e+13  6.075436e+12  \n",
       "2017-12-27  2.246390e+13  5.993557e+12  \n",
       "2017-12-26  1.991118e+13  5.641476e+12  "
      ]
     },
     "execution_count": 122,
     "metadata": {},
     "output_type": "execute_result"
    }
   ],
   "source": [
    "#일자별 시가총액을 구하면\n",
    "k10_historical_mc = k10_historical_price *k10_info['Outstanding'] * k10_info['Floating'] * 0.01\n",
    "k10_historical_mc.head(3)"
   ]
  },
  {
   "cell_type": "code",
   "execution_count": 123,
   "metadata": {},
   "outputs": [
    {
     "data": {
      "text/plain": [
       "2017-12-28    4.871071e+14\n",
       "2017-12-27    4.797131e+14\n",
       "2017-12-26    4.711858e+14\n",
       "2017-12-22    4.780686e+14\n",
       "2017-12-21    4.721827e+14\n",
       "                  ...     \n",
       "2017-01-06    3.699913e+14\n",
       "2017-01-05    3.660550e+14\n",
       "2017-01-04    3.709805e+14\n",
       "2017-01-03    3.672853e+14\n",
       "2017-01-02    3.657001e+14\n",
       "Length: 243, dtype: float64"
      ]
     },
     "execution_count": 123,
     "metadata": {},
     "output_type": "execute_result"
    }
   ],
   "source": [
    "k10_historical_mc.sum(axis=1) #일자별 시가총액 합, sum(axis=1)는 행의 합, sum()는 열의 합"
   ]
  },
  {
   "cell_type": "code",
   "execution_count": 149,
   "metadata": {},
   "outputs": [],
   "source": [
    "# K10 값을 따로 저장\n",
    "k10 = pd.DataFrame()\n",
    "k10['K10 Market Cap'] = k10_historical_mc.sum(axis=1)\n",
    "k10.sort_index(inplace=True) #inplace = True는 변경값을 저장하라는 의미도 있음! k10 = k10.sort_index() 와 같음"
   ]
  },
  {
   "cell_type": "code",
   "execution_count": 150,
   "metadata": {},
   "outputs": [
    {
     "data": {
      "text/html": [
       "<div>\n",
       "<style scoped>\n",
       "    .dataframe tbody tr th:only-of-type {\n",
       "        vertical-align: middle;\n",
       "    }\n",
       "\n",
       "    .dataframe tbody tr th {\n",
       "        vertical-align: top;\n",
       "    }\n",
       "\n",
       "    .dataframe thead th {\n",
       "        text-align: right;\n",
       "    }\n",
       "</style>\n",
       "<table border=\"1\" class=\"dataframe\">\n",
       "  <thead>\n",
       "    <tr style=\"text-align: right;\">\n",
       "      <th></th>\n",
       "      <th>K10 Market Cap</th>\n",
       "      <th>K10</th>\n",
       "    </tr>\n",
       "  </thead>\n",
       "  <tbody>\n",
       "    <tr>\n",
       "      <th>2017-01-02</th>\n",
       "      <td>3.657001e+14</td>\n",
       "      <td>100.000000</td>\n",
       "    </tr>\n",
       "    <tr>\n",
       "      <th>2017-01-03</th>\n",
       "      <td>3.672853e+14</td>\n",
       "      <td>100.433484</td>\n",
       "    </tr>\n",
       "    <tr>\n",
       "      <th>2017-01-04</th>\n",
       "      <td>3.709805e+14</td>\n",
       "      <td>101.443915</td>\n",
       "    </tr>\n",
       "  </tbody>\n",
       "</table>\n",
       "</div>"
      ],
      "text/plain": [
       "            K10 Market Cap         K10\n",
       "2017-01-02    3.657001e+14  100.000000\n",
       "2017-01-03    3.672853e+14  100.433484\n",
       "2017-01-04    3.709805e+14  101.443915"
      ]
     },
     "execution_count": 150,
     "metadata": {},
     "output_type": "execute_result"
    }
   ],
   "source": [
    "#지수화\n",
    "k10['K10'] = k10['K10 Market Cap'] / k10['K10 Market Cap'][0] *100\n",
    "k10.head(3)"
   ]
  },
  {
   "cell_type": "code",
   "execution_count": 151,
   "metadata": {},
   "outputs": [],
   "source": [
    "#지수 그래프 그리기\n",
    "import matplotlib.pyplot as plt\n",
    "%matplotlib inline"
   ]
  },
  {
   "cell_type": "code",
   "execution_count": 152,
   "metadata": {},
   "outputs": [
    {
     "name": "stderr",
     "output_type": "stream",
     "text": [
      "No handles with labels found to put in legend.\n"
     ]
    },
    {
     "data": {
      "image/png": "[encoded data removed]",
      "text/plain": [
       "<Figure size 720x360 with 1 Axes>"
      ]
     },
     "metadata": {
      "needs_background": "light"
     },
     "output_type": "display_data"
    }
   ],
   "source": [
    "plt.figure(figsize=(10,5))\n",
    "plt.plot(k10['K10'])\n",
    "plt.legend(loc=0)\n",
    "plt.grid(True, color='0.7', linestyle=':', linewidth=1)"
   ]
  },
  {
   "cell_type": "code",
   "execution_count": 153,
   "metadata": {},
   "outputs": [
    {
     "data": {
      "text/plain": [
       "{datetime.date(2017, 12, 28): 324.74,\n",
       " datetime.date(2017, 12, 27): 320.25,\n",
       " datetime.date(2017, 12, 26): 318.89,\n",
       " datetime.date(2017, 12, 22): 321.21,\n",
       " datetime.date(2017, 12, 21): 319.72,\n",
       " datetime.date(2017, 12, 20): 325.79,\n",
       " datetime.date(2017, 12, 19): 326.76,\n",
       " datetime.date(2017, 12, 18): 326.6,\n",
       " datetime.date(2017, 12, 15): 326.23,\n",
       " datetime.date(2017, 12, 14): 324.74,\n",
       " datetime.date(2017, 12, 13): 326.18,\n",
       " datetime.date(2017, 12, 12): 324.07,\n",
       " datetime.date(2017, 12, 11): 325.09,\n",
       " datetime.date(2017, 12, 8): 324.68,\n",
       " datetime.date(2017, 12, 7): 323.59,\n",
       " datetime.date(2017, 12, 6): 324.52,\n",
       " datetime.date(2017, 12, 5): 329.61,\n",
       " datetime.date(2017, 12, 4): 328.77,\n",
       " datetime.date(2017, 12, 1): 324.78,\n",
       " datetime.date(2017, 11, 30): 325.25,\n",
       " datetime.date(2017, 11, 29): 330.68,\n",
       " datetime.date(2017, 11, 28): 330.99,\n",
       " datetime.date(2017, 11, 27): 329.53,\n",
       " datetime.date(2017, 11, 24): 335.44,\n",
       " datetime.date(2017, 11, 23): 334.51,\n",
       " datetime.date(2017, 11, 22): 335.49,\n",
       " datetime.date(2017, 11, 21): 333.51,\n",
       " datetime.date(2017, 11, 20): 332.92,\n",
       " datetime.date(2017, 11, 17): 334.18,\n",
       " datetime.date(2017, 11, 16): 334.36,\n",
       " datetime.date(2017, 11, 15): 332.17,\n",
       " datetime.date(2017, 11, 14): 333.62,\n",
       " datetime.date(2017, 11, 13): 334.33,\n",
       " datetime.date(2017, 11, 10): 335.96,\n",
       " datetime.date(2017, 11, 9): 337.14,\n",
       " datetime.date(2017, 11, 8): 337.8,\n",
       " datetime.date(2017, 11, 7): 336.76,\n",
       " datetime.date(2017, 11, 6): 337.4,\n",
       " datetime.date(2017, 11, 3): 338.83,\n",
       " datetime.date(2017, 11, 2): 337.53,\n",
       " datetime.date(2017, 11, 1): 338.76,\n",
       " datetime.date(2017, 10, 31): 333.57,\n",
       " datetime.date(2017, 10, 30): 330.38,\n",
       " datetime.date(2017, 10, 27): 329.23,\n",
       " datetime.date(2017, 10, 26): 326.99,\n",
       " datetime.date(2017, 10, 25): 329.31,\n",
       " datetime.date(2017, 10, 24): 328.96,\n",
       " datetime.date(2017, 10, 23): 329.45,\n",
       " datetime.date(2017, 10, 20): 328.89,\n",
       " datetime.date(2017, 10, 19): 326.47,\n",
       " datetime.date(2017, 10, 18): 328.4,\n",
       " datetime.date(2017, 10, 17): 328.51,\n",
       " datetime.date(2017, 10, 16): 327.82,\n",
       " datetime.date(2017, 10, 13): 327.35,\n",
       " datetime.date(2017, 10, 12): 328.11,\n",
       " datetime.date(2017, 10, 11): 326.12,\n",
       " datetime.date(2017, 10, 10): 322.49,\n",
       " datetime.date(2017, 9, 29): 316.27,\n",
       " datetime.date(2017, 9, 28): 313.85,\n",
       " datetime.date(2017, 9, 27): 313.82,\n",
       " datetime.date(2017, 9, 26): 314.29,\n",
       " datetime.date(2017, 9, 25): 316.4,\n",
       " datetime.date(2017, 9, 22): 316.71,\n",
       " datetime.date(2017, 9, 21): 318.25,\n",
       " datetime.date(2017, 9, 20): 318.48,\n",
       " datetime.date(2017, 9, 19): 318.51,\n",
       " datetime.date(2017, 9, 18): 318.93,\n",
       " datetime.date(2017, 9, 15): 313.69,\n",
       " datetime.date(2017, 9, 14): 312.52,\n",
       " datetime.date(2017, 9, 13): 310.0,\n",
       " datetime.date(2017, 9, 12): 310.42,\n",
       " datetime.date(2017, 9, 11): 309.83,\n",
       " datetime.date(2017, 9, 8): 307.43,\n",
       " datetime.date(2017, 9, 7): 306.97,\n",
       " datetime.date(2017, 9, 6): 303.18,\n",
       " datetime.date(2017, 9, 5): 304.06,\n",
       " datetime.date(2017, 9, 4): 304.19,\n",
       " datetime.date(2017, 9, 1): 307.78,\n",
       " datetime.date(2017, 8, 31): 308.28,\n",
       " datetime.date(2017, 8, 30): 309.65,\n",
       " datetime.date(2017, 8, 29): 308.64,\n",
       " datetime.date(2017, 8, 28): 309.53,\n",
       " datetime.date(2017, 8, 25): 311.21,\n",
       " datetime.date(2017, 8, 24): 310.73,\n",
       " datetime.date(2017, 8, 23): 309.71,\n",
       " datetime.date(2017, 8, 22): 309.34,\n",
       " datetime.date(2017, 8, 21): 308.14,\n",
       " datetime.date(2017, 8, 18): 308.39,\n",
       " datetime.date(2017, 8, 17): 309.02,\n",
       " datetime.date(2017, 8, 16): 307.16,\n",
       " datetime.date(2017, 8, 14): 304.93,\n",
       " datetime.date(2017, 8, 11): 302.72,\n",
       " datetime.date(2017, 8, 10): 308.37,\n",
       " datetime.date(2017, 8, 9): 309.52,\n",
       " datetime.date(2017, 8, 8): 313.4,\n",
       " datetime.date(2017, 8, 7): 313.96,\n",
       " datetime.date(2017, 8, 4): 313.46,\n",
       " datetime.date(2017, 8, 3): 312.29,\n",
       " datetime.date(2017, 8, 2): 317.69,\n",
       " datetime.date(2017, 8, 1): 317.04,\n",
       " datetime.date(2017, 7, 31): 314.6,\n",
       " datetime.date(2017, 7, 28): 314.13,\n",
       " datetime.date(2017, 7, 27): 320.51,\n",
       " datetime.date(2017, 7, 26): 319.46,\n",
       " datetime.date(2017, 7, 25): 320.15,\n",
       " datetime.date(2017, 7, 24): 322.01,\n",
       " datetime.date(2017, 7, 21): 321.79,\n",
       " datetime.date(2017, 7, 20): 320.61,\n",
       " datetime.date(2017, 7, 19): 318.91,\n",
       " datetime.date(2017, 7, 18): 318.65,\n",
       " datetime.date(2017, 7, 17): 318.52,\n",
       " datetime.date(2017, 7, 14): 317.35,\n",
       " datetime.date(2017, 7, 13): 316.35,\n",
       " datetime.date(2017, 7, 12): 313.58,\n",
       " datetime.date(2017, 7, 11): 313.59,\n",
       " datetime.date(2017, 7, 10): 311.46,\n",
       " datetime.date(2017, 7, 7): 310.66,\n",
       " datetime.date(2017, 7, 6): 311.88,\n",
       " datetime.date(2017, 7, 5): 311.77,\n",
       " datetime.date(2017, 7, 4): 310.46,\n",
       " datetime.date(2017, 7, 3): 312.39,\n",
       " datetime.date(2017, 6, 30): 311.76,\n",
       " datetime.date(2017, 6, 29): 312.56,\n",
       " datetime.date(2017, 6, 28): 310.84,\n",
       " datetime.date(2017, 6, 27): 312.12,\n",
       " datetime.date(2017, 6, 26): 311.89,\n",
       " datetime.date(2017, 6, 23): 310.26,\n",
       " datetime.date(2017, 6, 22): 309.47,\n",
       " datetime.date(2017, 6, 21): 307.52,\n",
       " datetime.date(2017, 6, 20): 309.31,\n",
       " datetime.date(2017, 6, 19): 308.61,\n",
       " datetime.date(2017, 6, 16): 306.79,\n",
       " datetime.date(2017, 6, 15): 306.69,\n",
       " datetime.date(2017, 6, 14): 307.95,\n",
       " datetime.date(2017, 6, 13): 308.02,\n",
       " datetime.date(2017, 6, 12): 306.24,\n",
       " datetime.date(2017, 6, 9): 309.38,\n",
       " datetime.date(2017, 6, 8): 306.25,\n",
       " datetime.date(2017, 6, 7): 305.68,\n",
       " datetime.date(2017, 6, 5): 307.33,\n",
       " datetime.date(2017, 6, 2): 307.83,\n",
       " datetime.date(2017, 6, 1): 304.03,\n",
       " datetime.date(2017, 5, 31): 304.67,\n",
       " datetime.date(2017, 5, 30): 304.59,\n",
       " datetime.date(2017, 5, 29): 306.52,\n",
       " datetime.date(2017, 5, 26): 306.96,\n",
       " datetime.date(2017, 5, 25): 305.22,\n",
       " datetime.date(2017, 5, 24): 301.71,\n",
       " datetime.date(2017, 5, 23): 301.36,\n",
       " datetime.date(2017, 5, 22): 300.63,\n",
       " datetime.date(2017, 5, 19): 298.08,\n",
       " datetime.date(2017, 5, 18): 298.47,\n",
       " datetime.date(2017, 5, 17): 299.34,\n",
       " datetime.date(2017, 5, 16): 299.67,\n",
       " datetime.date(2017, 5, 15): 298.87,\n",
       " datetime.date(2017, 5, 12): 298.25,\n",
       " datetime.date(2017, 5, 11): 299.75,\n",
       " datetime.date(2017, 5, 10): 296.19,\n",
       " datetime.date(2017, 5, 8): 299.86,\n",
       " datetime.date(2017, 5, 4): 292.47,\n",
       " datetime.date(2017, 5, 2): 289.65,\n",
       " datetime.date(2017, 4, 28): 287.21,\n",
       " datetime.date(2017, 4, 27): 287.34,\n",
       " datetime.date(2017, 4, 26): 286.78,\n",
       " datetime.date(2017, 4, 25): 285.41,\n",
       " datetime.date(2017, 4, 24): 281.96,\n",
       " datetime.date(2017, 4, 21): 280.05,\n",
       " datetime.date(2017, 4, 20): 277.76,\n",
       " datetime.date(2017, 4, 19): 276.49,\n",
       " datetime.date(2017, 4, 18): 278.23,\n",
       " datetime.date(2017, 4, 17): 278.1,\n",
       " datetime.date(2017, 4, 14): 277.31,\n",
       " datetime.date(2017, 4, 13): 279.12,\n",
       " datetime.date(2017, 4, 12): 276.21,\n",
       " datetime.date(2017, 4, 11): 275.49,\n",
       " datetime.date(2017, 4, 10): 277.21,\n",
       " datetime.date(2017, 4, 7): 279.01,\n",
       " datetime.date(2017, 4, 6): 279.47,\n",
       " datetime.date(2017, 4, 5): 280.74,\n",
       " datetime.date(2017, 4, 4): 280.92,\n",
       " datetime.date(2017, 4, 3): 281.6,\n",
       " datetime.date(2017, 3, 31): 280.64,\n",
       " datetime.date(2017, 3, 30): 281.66,\n",
       " datetime.date(2017, 3, 29): 281.86,\n",
       " datetime.date(2017, 3, 28): 281.25,\n",
       " datetime.date(2017, 3, 27): 280.36,\n",
       " datetime.date(2017, 3, 24): 282.31,\n",
       " datetime.date(2017, 3, 23): 282.81,\n",
       " datetime.date(2017, 3, 22): 282.63,\n",
       " datetime.date(2017, 3, 21): 283.84,\n",
       " datetime.date(2017, 3, 20): 280.75,\n",
       " datetime.date(2017, 3, 17): 281.86,\n",
       " datetime.date(2017, 3, 16): 280.11,\n",
       " datetime.date(2017, 3, 15): 277.89,\n",
       " datetime.date(2017, 3, 14): 277.89,\n",
       " datetime.date(2017, 3, 13): 275.41,\n",
       " datetime.date(2017, 3, 10): 272.29,\n",
       " datetime.date(2017, 3, 9): 271.62,\n",
       " datetime.date(2017, 3, 8): 272.29,\n",
       " datetime.date(2017, 3, 7): 271.87,\n",
       " datetime.date(2017, 3, 6): 270.41,\n",
       " datetime.date(2017, 3, 3): 269.77,\n",
       " datetime.date(2017, 3, 2): 272.65,\n",
       " datetime.date(2017, 2, 28): 270.06,\n",
       " datetime.date(2017, 2, 27): 268.97,\n",
       " datetime.date(2017, 2, 24): 270.38,\n",
       " datetime.date(2017, 2, 23): 272.89,\n",
       " datetime.date(2017, 2, 22): 272.85,\n",
       " datetime.date(2017, 2, 21): 272.11,\n",
       " datetime.date(2017, 2, 20): 269.73,\n",
       " datetime.date(2017, 2, 17): 268.84,\n",
       " datetime.date(2017, 2, 16): 268.93,\n",
       " datetime.date(2017, 2, 15): 268.81,\n",
       " datetime.date(2017, 2, 14): 267.9,\n",
       " datetime.date(2017, 2, 13): 268.81,\n",
       " datetime.date(2017, 2, 10): 268.66,\n",
       " datetime.date(2017, 2, 9): 267.69,\n",
       " datetime.date(2017, 2, 8): 267.72,\n",
       " datetime.date(2017, 2, 7): 268.97,\n",
       " datetime.date(2017, 2, 6): 269.49,\n",
       " datetime.date(2017, 2, 3): 268.85,\n",
       " datetime.date(2017, 2, 2): 268.49,\n",
       " datetime.date(2017, 2, 1): 269.56,\n",
       " datetime.date(2017, 1, 31): 268.09,\n",
       " datetime.date(2017, 1, 26): 270.48,\n",
       " datetime.date(2017, 1, 25): 268.15,\n",
       " datetime.date(2017, 1, 24): 267.3,\n",
       " datetime.date(2017, 1, 23): 267.12,\n",
       " datetime.date(2017, 1, 20): 266.52,\n",
       " datetime.date(2017, 1, 19): 267.7,\n",
       " datetime.date(2017, 1, 18): 267.08,\n",
       " datetime.date(2017, 1, 17): 267.37,\n",
       " datetime.date(2017, 1, 16): 266.15,\n",
       " datetime.date(2017, 1, 13): 267.91,\n",
       " datetime.date(2017, 1, 12): 269.95,\n",
       " datetime.date(2017, 1, 11): 268.15,\n",
       " datetime.date(2017, 1, 10): 263.73,\n",
       " datetime.date(2017, 1, 9): 263.74,\n",
       " datetime.date(2017, 1, 6): 263.2,\n",
       " datetime.date(2017, 1, 5): 261.98,\n",
       " datetime.date(2017, 1, 4): 263.12,\n",
       " datetime.date(2017, 1, 3): 262.97,\n",
       " datetime.date(2017, 1, 2): 260.36}"
      ]
     },
     "execution_count": 153,
     "metadata": {},
     "output_type": "execute_result"
    }
   ],
   "source": [
    "#KOSPI200과 비교\n",
    "from urllib.request import urlopen\n",
    "import bs4\n",
    "import datetime as dt\n",
    "\n",
    "def date_format_html(d):\n",
    "    d = str(d).replace('-', '.') # 날짜가 -로 구분되어있을 경우 .로 바꿈\n",
    "    yyyy=int(d.split('.')[0])\n",
    "    mm=int(d.split('.')[1])\n",
    "    dd=int(d.split('.')[2])\n",
    "    \n",
    "    this_date = dt.date(yyyy,mm,dd)\n",
    "    return this_date\n",
    "\n",
    "def historical_index_naver_date(index_cd, start_date='', end_date='', page_n=1, last_page=0):\n",
    "    index_cd = index_cd\n",
    "    page_n = page_n\n",
    "    \n",
    "    \n",
    "    if start_date: #start_date가 있으면\n",
    "        start_date=date_format_html(start_date)\n",
    "    else: #없으면\n",
    "        start_date = dt.date.today() #오늘날짜 지정\n",
    "    if end_date : #end_date가 있으면\n",
    "        end_date=date_format_html(end_date)\n",
    "    else:\n",
    "            end_date=dt.date.today()\n",
    "    \n",
    "    naver_index = 'https://finance.naver.com/sise/sise_index_day.nhn?code=' + index_cd + '&page=' + str(page_n) #일별시세-프레임소스보기\n",
    "    source = urlopen(naver_index).read()\n",
    "    source = bs4.BeautifulSoup(source, 'lxml') \n",
    "    \n",
    "    dates=source.find_all('td',class_='date') #<td class =\"date\">태그에서 날짜수집\n",
    "    prices=source.find_all('td', class_='number_1') #<td class = \"number_1\">태그에서 지수수집\n",
    "    \n",
    "    for n in range(len(dates)): #dates개수만큼 반복\n",
    "        if dates[n].text.split('.')[0].isdigit():\n",
    "            #날짜처리\n",
    "            this_date = dates[n].text\n",
    "            this_date = date_format_html(this_date)\n",
    "            \n",
    "            if this_date <= end_date and this_date >= start_date:\n",
    "                #종가처리\n",
    "                this_close=prices[n*4].text\n",
    "                this_close=this_close.replace(',', '') \n",
    "                this_close=float(this_close)\n",
    "                this_close\n",
    "    \n",
    "                #딕셔너리에 저장\n",
    "                historical_prices_date[this_date] = this_close\n",
    "            \n",
    "            elif this_date < start_date:\n",
    "                return historical_prices_date\n",
    "    \n",
    "    #페이지 네비게이션\n",
    "    if last_page ==0:\n",
    "        last_page = source.find('td',class_='pgRR').find('a')['href']\n",
    "        #마지막페이지 주소 추출\n",
    "        last_page = last_page.split('&')[1]\n",
    "        last_page = last_page.split('=')[1]\n",
    "        last_page=int(last_page)\n",
    "    \n",
    "    #다음페이지 호출\n",
    "    if page_n < last_page:\n",
    "        page_n = page_n +1\n",
    "        historical_index_naver_date(index_cd, start_date, end_date, page_n, last_page)\n",
    "    \n",
    "    return historical_prices_date\n",
    "\n",
    "historical_prices_date=dict()\n",
    "kospi200=historical_index_naver_date('KPI200', '2017.1.1', '2017.12.31')\n",
    "kospi200\n"
   ]
  },
  {
   "cell_type": "code",
   "execution_count": 154,
   "metadata": {},
   "outputs": [
    {
     "data": {
      "text/html": [
       "<div>\n",
       "<style scoped>\n",
       "    .dataframe tbody tr th:only-of-type {\n",
       "        vertical-align: middle;\n",
       "    }\n",
       "\n",
       "    .dataframe tbody tr th {\n",
       "        vertical-align: top;\n",
       "    }\n",
       "\n",
       "    .dataframe thead th {\n",
       "        text-align: right;\n",
       "    }\n",
       "</style>\n",
       "<table border=\"1\" class=\"dataframe\">\n",
       "  <thead>\n",
       "    <tr style=\"text-align: right;\">\n",
       "      <th></th>\n",
       "      <th>K200</th>\n",
       "    </tr>\n",
       "  </thead>\n",
       "  <tbody>\n",
       "    <tr>\n",
       "      <th>2017-01-02</th>\n",
       "      <td>260.36</td>\n",
       "    </tr>\n",
       "    <tr>\n",
       "      <th>2017-01-03</th>\n",
       "      <td>262.97</td>\n",
       "    </tr>\n",
       "    <tr>\n",
       "      <th>2017-01-04</th>\n",
       "      <td>263.12</td>\n",
       "    </tr>\n",
       "  </tbody>\n",
       "</table>\n",
       "</div>"
      ],
      "text/plain": [
       "              K200\n",
       "2017-01-02  260.36\n",
       "2017-01-03  262.97\n",
       "2017-01-04  263.12"
      ]
     },
     "execution_count": 154,
     "metadata": {},
     "output_type": "execute_result"
    }
   ],
   "source": [
    "k200 = pd.DataFrame({'K200':kospi200}) #그래프를 그리기 위해 kospi200 딕셔너리를 k200 데이터프레임으로 변환, DataFrame은 딕셔너리 안에 리스트여야 가능하므로 {'K200' : kospi200} 이라는 딕셔너리를 만들어준것\n",
    "k200.head(3)"
   ]
  },
  {
   "cell_type": "code",
   "execution_count": 155,
   "metadata": {},
   "outputs": [
    {
     "name": "stderr",
     "output_type": "stream",
     "text": [
      "No handles with labels found to put in legend.\n"
     ]
    },
    {
     "data": {
      "image/png": "[encoded data removed]",
      "text/plain": [
       "<Figure size 720x360 with 1 Axes>"
      ]
     },
     "metadata": {
      "needs_background": "light"
     },
     "output_type": "display_data"
    }
   ],
   "source": [
    "plt.figure(figsize=(10,5))\n",
    "plt.plot(k10['K10']/k10['K10'][0] * 100)\n",
    "plt.plot(k200['K200'] / k200['K200'][0] *100)\n",
    "plt.legend(loc=0)\n",
    "plt.grid(True, color='0.7', linestyle = ':', linewidth=1)\n",
    "#결과를 보면 상위 10개 종목이 상위 200개 종목보다 더 많이 올랐다는 것을 알 수 있음"
   ]
  },
  {
   "cell_type": "code",
   "execution_count": null,
   "metadata": {},
   "outputs": [],
   "source": []
  }
 ],
 "metadata": {
  "kernelspec": {
   "display_name": "Python 3",
   "language": "python",
   "name": "python3"
  },
  "language_info": {
   "codemirror_mode": {
    "name": "ipython",
    "version": 3
   },
   "file_extension": ".py",
   "mimetype": "text/x-python",
   "name": "python",
   "nbconvert_exporter": "python",
   "pygments_lexer": "ipython3",
   "version": "3.7.6"
  }
 },
 "nbformat": 4,
 "nbformat_minor": 4
}

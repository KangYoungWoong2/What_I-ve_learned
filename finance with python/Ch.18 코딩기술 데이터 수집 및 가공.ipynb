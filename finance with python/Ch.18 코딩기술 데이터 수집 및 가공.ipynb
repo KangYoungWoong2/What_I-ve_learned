{
 "cells": [
  {
   "cell_type": "code",
   "execution_count": 1,
   "metadata": {},
   "outputs": [],
   "source": [
    "#문자열 패턴을 찾아주는 re\n",
    "#C, 자바 등 프로그래밍 언어에서 공통적으로 문자열 조작에 쓰이는 정규표현시글 분석\n",
    "import re\n",
    "#re.match(패턴, 문자열) - 문자열의 시작이 패턴과 일치하는지 조사(일치하면 index, 불일치하면 None을 반환)\n",
    "#re.search(패턴,문자열) - 문자열 전체에서 패턴과 일치하는 부분이 있는지 조사('')\n",
    "#re.findall(패턴, 문자열) - 해당 패턴을 문자열에서 찾아냄(찾은 부분을 리스트로 반환)\n",
    "#re.split(구분자, 문자열) - 문자열을 구분자 기준으로 자름(자른 각각의 부분을 리스트로 반환)\n",
    "#re.sub(패턴, 대체문자, 문자열) - 패턴을 찾아 대체문자로 바꿈(바꾼 문자열 반환)\n",
    "#re.compile(패턴) - 패턴을 미리 해석, 복잡한 패턴을 사정에 정의해놓으면 가독성이 높아짐\n",
    "\n",
    "#ex) #re.saerch('BC', 'ABCDE') 라고 명령하면 ABCDE중 BC가 있는 인덱스인 (1,3) 반환, 3은 불포함한다는 점에 주의"
   ]
  },
  {
   "cell_type": "code",
   "execution_count": 2,
   "metadata": {},
   "outputs": [],
   "source": [
    "#문자열의 시작을 검사하는 match\n",
    "str = '이사원,오대리,구과장,육차장,정부장'"
   ]
  },
  {
   "cell_type": "code",
   "execution_count": 3,
   "metadata": {},
   "outputs": [
    {
     "data": {
      "text/plain": [
       "<re.Match object; span=(0, 3), match='이사원'>"
      ]
     },
     "execution_count": 3,
     "metadata": {},
     "output_type": "execute_result"
    }
   ],
   "source": [
    "re.match('이사원', str)"
   ]
  },
  {
   "cell_type": "code",
   "execution_count": 4,
   "metadata": {},
   "outputs": [],
   "source": [
    "re.match('오대리', str) #반환값 없음"
   ]
  },
  {
   "cell_type": "code",
   "execution_count": 5,
   "metadata": {},
   "outputs": [
    {
     "data": {
      "text/plain": [
       "<re.Match object; span=(0, 3), match='이사원'>"
      ]
     },
     "execution_count": 5,
     "metadata": {},
     "output_type": "execute_result"
    }
   ],
   "source": [
    "#문자열 내에 패턴이 있는지를 검사하는 search\n",
    "re.search('이사원', str)"
   ]
  },
  {
   "cell_type": "code",
   "execution_count": 6,
   "metadata": {},
   "outputs": [
    {
     "data": {
      "text/plain": [
       "<re.Match object; span=(4, 7), match='오대리'>"
      ]
     },
     "execution_count": 6,
     "metadata": {},
     "output_type": "execute_result"
    }
   ],
   "source": [
    "re.search('오대리', str)"
   ]
  },
  {
   "cell_type": "code",
   "execution_count": 7,
   "metadata": {},
   "outputs": [
    {
     "data": {
      "text/plain": [
       "['장', '장', '장']"
      ]
     },
     "execution_count": 7,
     "metadata": {},
     "output_type": "execute_result"
    }
   ],
   "source": [
    "#모두다 찾으려면 findall\n",
    "re.findall('장', str)"
   ]
  },
  {
   "cell_type": "code",
   "execution_count": 9,
   "metadata": {},
   "outputs": [
    {
     "data": {
      "text/plain": [
       "['이사원', '오대리', '구과장', '육차장', '정부장']"
      ]
     },
     "execution_count": 9,
     "metadata": {},
     "output_type": "execute_result"
    }
   ],
   "source": [
    "#문자열을 분해하는 split\n",
    "words = re.split(',', str)\n",
    "words"
   ]
  },
  {
   "cell_type": "code",
   "execution_count": 10,
   "metadata": {},
   "outputs": [
    {
     "name": "stdout",
     "output_type": "stream",
     "text": [
      "구과장\n",
      "육차장\n",
      "정부장\n"
     ]
    }
   ],
   "source": [
    "#여러 음절 중 원하는 패턴이 들어있는 음절 찾기\n",
    "for w in words:\n",
    "    if re.search('장',w):\n",
    "        print(w)"
   ]
  },
  {
   "cell_type": "code",
   "execution_count": 11,
   "metadata": {},
   "outputs": [
    {
     "data": {
      "text/plain": [
       "'이사원,오대리,9과장,육차장,정부장'"
      ]
     },
     "execution_count": 11,
     "metadata": {},
     "output_type": "execute_result"
    }
   ],
   "source": [
    "#특정 문자를 바꿔주는 sub\n",
    "str = re.sub('구', '9', str)\n",
    "str"
   ]
  },
  {
   "cell_type": "code",
   "execution_count": 12,
   "metadata": {},
   "outputs": [
    {
     "data": {
      "text/plain": [
       "[]"
      ]
     },
     "execution_count": 12,
     "metadata": {},
     "output_type": "execute_result"
    }
   ],
   "source": [
    "#패턴 정의하기\n",
    "# ' ' 가 아닌 [] 안에 패턴을 넣으면 이중 하나라도 매칭이 되면 반환\n",
    "re.findall('123456789', str)"
   ]
  },
  {
   "cell_type": "code",
   "execution_count": 13,
   "metadata": {},
   "outputs": [
    {
     "data": {
      "text/plain": [
       "['9']"
      ]
     },
     "execution_count": 13,
     "metadata": {},
     "output_type": "execute_result"
    }
   ],
   "source": [
    "re.findall('[123456789]', str)"
   ]
  },
  {
   "cell_type": "code",
   "execution_count": 14,
   "metadata": {},
   "outputs": [
    {
     "data": {
      "text/plain": [
       "['9']"
      ]
     },
     "execution_count": 14,
     "metadata": {},
     "output_type": "execute_result"
    }
   ],
   "source": [
    "# 0~9, A~Z 등과 같이 연속된 문자열은 -를 이용해서 편하게 표현할 수 있음\n",
    "re.findall('[0-9]', str)"
   ]
  },
  {
   "cell_type": "code",
   "execution_count": 15,
   "metadata": {},
   "outputs": [
    {
     "data": {
      "text/plain": [
       "['과장', '차장', '부장']"
      ]
     },
     "execution_count": 15,
     "metadata": {},
     "output_type": "execute_result"
    }
   ],
   "source": [
    "#두개 이상의 문자가 붙어있다면 | 를 이용\n",
    "re.findall('과장|차장|부장', str)"
   ]
  },
  {
   "cell_type": "code",
   "execution_count": 17,
   "metadata": {},
   "outputs": [
    {
     "data": {
      "text/plain": [
       "['과', '장', '차', '장', '부', '장']"
      ]
     },
     "execution_count": 17,
     "metadata": {},
     "output_type": "execute_result"
    }
   ],
   "source": [
    "re.findall('[과장|차장|부장]',str) # []가 있으면 문자열을 하나 단위로 찾아서 반환"
   ]
  },
  {
   "cell_type": "code",
   "execution_count": 18,
   "metadata": {},
   "outputs": [],
   "source": [
    "# ' ' 안에 []를 적절히 섞어 사용해야함, 공백조차도 패턴으로 인식되니 주의할 것"
   ]
  },
  {
   "cell_type": "code",
   "execution_count": 40,
   "metadata": {},
   "outputs": [
    {
     "data": {
      "text/plain": [
       "['2사원', '5대리', '9과장', '6차장', '정부장']"
      ]
     },
     "execution_count": 40,
     "metadata": {},
     "output_type": "execute_result"
    }
   ],
   "source": [
    "#데이터 정제\n",
    "str = re.sub('이', '2', str)\n",
    "str = re.sub('오', '5', str)\n",
    "str = re.sub('육', '6', str)\n",
    "nums = re.split(',', str)\n",
    "nums"
   ]
  },
  {
   "cell_type": "code",
   "execution_count": 41,
   "metadata": {},
   "outputs": [
    {
     "name": "stdout",
     "output_type": "stream",
     "text": [
      "2사원\n",
      "5대리\n",
      "9과장\n",
      "6차장\n"
     ]
    }
   ],
   "source": [
    "#성이 숫자로 된 멤버를 뽑으려면\n",
    "for n in nums:\n",
    "    if re.search('[0-9]', n):\n",
    "        print(n)"
   ]
  },
  {
   "cell_type": "code",
   "execution_count": 42,
   "metadata": {},
   "outputs": [
    {
     "name": "stdout",
     "output_type": "stream",
     "text": [
      "9과장\n",
      "6차장\n",
      "정부장\n"
     ]
    }
   ],
   "source": [
    "#과장 이상 직급의 직원을 뽑으려면\n",
    "for n in nums:\n",
    "    if re.search('장', n):\n",
    "        print(n)"
   ]
  },
  {
   "cell_type": "code",
   "execution_count": 43,
   "metadata": {},
   "outputs": [
    {
     "name": "stdout",
     "output_type": "stream",
     "text": [
      "BA\n",
      "BAAA\n",
      "BAAAA\n",
      "CBA\n",
      "CBABA\n",
      "CBABABA\n"
     ]
    }
   ],
   "source": [
    "#문자열 내에 동일한 구문이 반복되는 경우, 반복연산자 이용\n",
    "str = ['BA', 'BAAA', 'BAAAA', 'CBA', 'CBABA', 'CBABABA']\n",
    "for s in str:\n",
    "    if re.search('BA', s):\n",
    "        print(s)"
   ]
  },
  {
   "cell_type": "code",
   "execution_count": 44,
   "metadata": {},
   "outputs": [
    {
     "name": "stdout",
     "output_type": "stream",
     "text": [
      "BAAA\n",
      "BAAAA\n",
      "CBABA\n",
      "CBABABA\n"
     ]
    }
   ],
   "source": [
    "# BA-- 형태의 패턴을 찾으려면 (임의의 문자를 .로 표현)\n",
    "for s in str:\n",
    "    if re.search('BA..', s):\n",
    "        print(s)"
   ]
  },
  {
   "cell_type": "code",
   "execution_count": 45,
   "metadata": {},
   "outputs": [
    {
     "name": "stdout",
     "output_type": "stream",
     "text": [
      "BAAAA\n",
      "CBABABA\n"
     ]
    }
   ],
   "source": [
    "# BA--- 형태를 찾으려면\n",
    "for s in str:\n",
    "    if re.search('BA...', s):\n",
    "        print(s)"
   ]
  },
  {
   "cell_type": "code",
   "execution_count": 46,
   "metadata": {},
   "outputs": [
    {
     "name": "stdout",
     "output_type": "stream",
     "text": [
      "BA\n",
      "BAAA\n",
      "BAAAA\n",
      "CBA\n",
      "CBABA\n",
      "CBABABA\n"
     ]
    }
   ],
   "source": [
    "# 관련 기호들\n",
    "# * : 0회 이상 반복 ex) BA* : B, BA, BAA, ...\n",
    "# + : 1회 이상 반복 ex) BA+ : BA, BAA, BAAA, ...\n",
    "# ? : 1회 이하 반복 ex) BA?: B, BA\n",
    "# {m,n} : m회 이상, n회 이하 반복 ex) BA{2,4}: BAA, BAAA, BAAAA\n",
    "for s in str:\n",
    "    if re.search('BA*',s):\n",
    "        print(s)"
   ]
  },
  {
   "cell_type": "code",
   "execution_count": 48,
   "metadata": {},
   "outputs": [
    {
     "name": "stdout",
     "output_type": "stream",
     "text": [
      "BAAA\n",
      "BAAAA\n"
     ]
    }
   ],
   "source": [
    "for s in str:\n",
    "    if re.search('BA{3}', s): #B 다음 A가 3회 반복\n",
    "        print(s)"
   ]
  },
  {
   "cell_type": "code",
   "execution_count": 49,
   "metadata": {},
   "outputs": [
    {
     "name": "stdout",
     "output_type": "stream",
     "text": [
      "CBABABA\n"
     ]
    }
   ],
   "source": [
    "# BA가 통째로 반복되게 하려면\n",
    "for s in str:\n",
    "    if re.search('(BA){3}', s):\n",
    "        print(s)"
   ]
  },
  {
   "cell_type": "code",
   "execution_count": 51,
   "metadata": {},
   "outputs": [
    {
     "name": "stdout",
     "output_type": "stream",
     "text": [
      "BA\n",
      "BAAA\n",
      "BAAAA\n"
     ]
    }
   ],
   "source": [
    "#문자열의 첫부분에서만 패턴을 찾으려면 match를 사용해도 되지만 ^를 사용해도 됨 \n",
    "for s in str:\n",
    "    if re.search('^BA', s): #if re.match('BA', s): 와 동일\n",
    "        print(s)"
   ]
  },
  {
   "cell_type": "code",
   "execution_count": 52,
   "metadata": {},
   "outputs": [
    {
     "name": "stdout",
     "output_type": "stream",
     "text": [
      "BA\n"
     ]
    }
   ],
   "source": [
    "#BA로 딱 끝나는 문자열을 찾으려면\n",
    "for s in str:\n",
    "    if re.search('^BA$', s): #$는 ^와 반대로 끝에서 찾는 연산자, 두개를 함께쓰면 됨\n",
    "        print(s)"
   ]
  },
  {
   "cell_type": "code",
   "execution_count": 53,
   "metadata": {},
   "outputs": [
    {
     "name": "stdout",
     "output_type": "stream",
     "text": [
      "010-1111-2222\n",
      "01012345678\n",
      "010 5555 7777\n",
      "010.2222~5555\n"
     ]
    }
   ],
   "source": [
    "#핸드폰 번호 검색\n",
    "phone = ['010-1111-2222', '01012345678', '010 5555 7777', '0709999-0000', '010.2222~5555','02-3774-3774']\n",
    "phone_pattern = re.compile('010[-~= \\.]?[0-9]{4}[-~= \\.]?[0-9]{4}')\n",
    "#010으로 시작\n",
    "#[-~= \\.]? 가능한 번호사이 기호를 모두고려, 각 기호는 or 조건이므로 [] 속에 넣음. 공백을 명시한 것에 주의\n",
    "# . 은 임의의 문자를 의미하므로 특수기호 . 를 표현하기 위해 \\를 넣었음\n",
    "#[]?는 괄호안의 문자가 0회 또는 1회 발생할 수 있다는 의미\n",
    "# [0-9]{4} : 숫자가 4번 반복됨을 의미\n",
    "for p in phone:\n",
    "    if phone_pattern.search(p):\n",
    "        print(p)\n"
   ]
  },
  {
   "cell_type": "code",
   "execution_count": 55,
   "metadata": {},
   "outputs": [
    {
     "name": "stdout",
     "output_type": "stream",
     "text": [
      "010-1111-2222\n",
      "010-1234-5678\n",
      "010-5555-7777\n",
      "010-2222-5555\n"
     ]
    }
   ],
   "source": [
    "#번호를 깔끔하게 추출하려면\n",
    "for p in phone:\n",
    "    if phone_pattern.search(p):\n",
    "        p = re.sub('[^0-9]', '', p) # \\D와 같은 표현, ''에 바로 ^가 나타나면 문장의 시작을 의미하지만 [] 안의 ^는 NOT을 의미\n",
    "        print(p[:3] + '-' + p[3:7] + '-' + p[7:])"
   ]
  },
  {
   "cell_type": "code",
   "execution_count": 57,
   "metadata": {},
   "outputs": [
    {
     "name": "stdout",
     "output_type": "stream",
     "text": [
      "숫자:  ['1', '2']\n",
      "숫자X: ['A', 'B', 'c', 'd', '!', '@', ' ', '가', '나']\n",
      "문자: ['A', 'B', 'c', 'd', '1', '2', '가', '나']\n",
      "문자X: ['!', '@', ' ']\n",
      "공백: [' ']\n",
      "공백X: ['A', 'B', 'c', 'd', '1', '2', '!', '@', '가', '나']\n"
     ]
    }
   ],
   "source": [
    "#간편식을 이용한 패턴정의\n",
    "# [0-9] -> \\d\n",
    "# [^0-9] -> \\D\n",
    "# [A-Za-z0-9] -> \\w\n",
    "# [^A-Za-z0-9] -> \\W\n",
    "# [ \\t\\n\\r] -> \\s\n",
    "# [^ ] -> \\S (공백제외전체)\n",
    "\n",
    "str = 'ABcd12!@ 가나'\n",
    "print('숫자: ', re.findall('\\d', str))\n",
    "print('숫자X:', re.findall('\\D', str))\n",
    "print('문자:', re.findall('\\w', str))\n",
    "print('문자X:', re.findall('\\W', str))\n",
    "print('공백:', re.findall('\\s', str))\n",
    "print('공백X:', re.findall('\\S', str))"
   ]
  },
  {
   "cell_type": "code",
   "execution_count": null,
   "metadata": {},
   "outputs": [],
   "source": []
  }
 ],
 "metadata": {
  "kernelspec": {
   "display_name": "Python 3",
   "language": "python",
   "name": "python3"
  },
  "language_info": {
   "codemirror_mode": {
    "name": "ipython",
    "version": 3
   },
   "file_extension": ".py",
   "mimetype": "text/x-python",
   "name": "python",
   "nbconvert_exporter": "python",
   "pygments_lexer": "ipython3",
   "version": "3.7.6"
  }
 },
 "nbformat": 4,
 "nbformat_minor": 4
}

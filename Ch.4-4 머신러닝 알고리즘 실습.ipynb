{
 "cells": [
  {
   "cell_type": "code",
   "execution_count": 3,
   "metadata": {},
   "outputs": [
    {
     "name": "stdout",
     "output_type": "stream",
     "text": [
      "(0.0, 0.3)\n",
      "(1.1, 0.8)\n",
      "(2.2, 2.8)\n",
      "(3.3, 3.2)\n",
      "(4.4, 4.2)\n",
      "(5.6, 6.0)\n",
      "(6.7, 7.4)\n",
      "(7.8, 9.3)\n",
      "(8.9, 9.0)\n",
      "(10.0, 10.3)\n"
     ]
    }
   ],
   "source": [
    "\"\"\"\n",
    "8. 선형회귀\n",
    "    (1) [이론]\n",
    "        - 경사하강법 : 회귀모델을 구현할 때 최초 회귀 계수를 임의의 값으로 설정한 후 경사하강법을 반보적으로 실행해 최소의 평균제곱오차를 가지는 회귀 계수(d)를 구함\n",
    "            - 이를 공식으로 표현하면 d:= d - a *∂f(d)/∂d , f(d)는 평균제곱오차 \n",
    "\"\"\"\n",
    "# (2) [실습] 선형회귀 - 케라스로 구현\n",
    "\n",
    "from keras import optimizers\n",
    "from keras.models import Sequential\n",
    "from keras.layers import Dense\n",
    "import numpy as np\n",
    "import matplotlib.pyplot as plt\n",
    "%matplotlib inline\n",
    "\n",
    "#데이터 만들기\n",
    "X = np.linspace(0,10,10) #0부터 10까지 총 10개의 X값\n",
    "\n",
    "# np.arange(start, end, step=간격, dtype = 자료형) -> start~end-1 사이의 값을 간격만큼 띄어 배열로 반환\n",
    "# np.linspace(start, end, num =개수, retsetp =False, dtype = 자료형) -> start~end사이의 값을 (동일한 간격을 지닌) 개수만큼 반환, retstep = True일 시 ([list], step)의 튜플로 반환\n",
    "\n",
    "Y = X + np.random.randn(*X.shape) #Y값은 X에 임의의 수를 더한 값, randn() 에서 괄호값은 생성할 난수 개수, (10,)에서 10을 언패킹\n",
    "\n",
    "#데이터 조회\n",
    "for x, y in zip(X,Y):\n",
    "    print((round(x,1), round(y,1)))"
   ]
  },
  {
   "cell_type": "code",
   "execution_count": 15,
   "metadata": {},
   "outputs": [
    {
     "name": "stdout",
     "output_type": "stream",
     "text": [
      "initial w is :1.6978716\n"
     ]
    }
   ],
   "source": [
    "#선형회귀 모델 만들기\n",
    "model = Sequential()\n",
    "model.add(Dense(input_dim=1, units=1, activation='linear', use_bias = False)) #input_dim은 입력값의 차원, units는 y값의 차원, use_bias = False는 intercept 포함 안한다는 말\n",
    "\n",
    "#모델 학습 방법 정의\n",
    "sgd = optimizers.SGD(lr=0.01) # SGD는 경사하강법, lr은 학습률\n",
    "model.compile(optimizer='sgd', loss='mse') #MSE를 줄이는 방법으로 학습\n",
    "\n",
    "#학습 전 최초로 설정된 w값 조회\n",
    "weights = model.layers[0].get_weights() #임의의 가중치 부여\n",
    "w = weights[0][0][0]\n",
    "print('initial w is :' + str(w))"
   ]
  },
  {
   "cell_type": "code",
   "execution_count": 23,
   "metadata": {},
   "outputs": [
    {
     "name": "stdout",
     "output_type": "stream",
     "text": [
      "Epoch 1/10\n",
      "10/10 [==============================] - 0s 1ms/step - loss: 0.9268\n",
      "Epoch 2/10\n",
      "10/10 [==============================] - 0s 400us/step - loss: 0.9268\n",
      "Epoch 3/10\n",
      "10/10 [==============================] - 0s 300us/step - loss: 0.9268\n",
      "Epoch 4/10\n",
      "10/10 [==============================] - 0s 400us/step - loss: 0.9268\n",
      "Epoch 5/10\n",
      "10/10 [==============================] - 0s 400us/step - loss: 0.9268\n",
      "Epoch 6/10\n",
      "10/10 [==============================] - 0s 400us/step - loss: 0.9268\n",
      "Epoch 7/10\n",
      "10/10 [==============================] - 0s 200us/step - loss: 0.9268\n",
      "Epoch 8/10\n",
      "10/10 [==============================] - 0s 300us/step - loss: 0.9268\n",
      "Epoch 9/10\n",
      "10/10 [==============================] - 0s 300us/step - loss: 0.9268\n",
      "Epoch 10/10\n",
      "10/10 [==============================] - 0s 200us/step - loss: 0.9268\n"
     ]
    },
    {
     "data": {
      "text/plain": [
       "<keras.callbacks.History at 0x1f82831b4a8>"
      ]
     },
     "execution_count": 23,
     "metadata": {},
     "output_type": "execute_result"
    }
   ],
   "source": [
    "#선형 회귀 모델 학습\n",
    "model.fit(X,Y, batch_size=10, epochs=10, verbose=1) #batch_size는 한번에 처리할 데이터개수, epochs는 반복학습 횟수"
   ]
  },
  {
   "cell_type": "code",
   "execution_count": 24,
   "metadata": {},
   "outputs": [
    {
     "name": "stdout",
     "output_type": "stream",
     "text": [
      "trained w is : 1.0070312\n"
     ]
    }
   ],
   "source": [
    "#학습된 기울기 조회\n",
    "weights = model.layers[0].get_weights()\n",
    "w = weights[0][0][0]\n",
    "\n",
    "print('trained w is : ' + str(w))"
   ]
  },
  {
   "cell_type": "code",
   "execution_count": 25,
   "metadata": {},
   "outputs": [
    {
     "data": {
      "image/png": "[encoded data removed]",
      "text/plain": [
       "<Figure size 432x288 with 1 Axes>"
      ]
     },
     "metadata": {
      "needs_background": "light"
     },
     "output_type": "display_data"
    }
   ],
   "source": [
    "# 회귀선 시각화\n",
    "plt.plot(X, Y, label='data')\n",
    "plt.plot(X, w*X, label='prediction')\n",
    "plt.legend()\n",
    "plt.show()"
   ]
  },
  {
   "cell_type": "code",
   "execution_count": 5,
   "metadata": {},
   "outputs": [
    {
     "name": "stdout",
     "output_type": "stream",
     "text": [
      "Epoch 1/300\n",
      "6/6 [==============================] - 0s 64ms/step - loss: 0.3379 - binary_accuracy: 1.0000\n",
      "Epoch 2/300\n",
      "6/6 [==============================] - 0s 500us/step - loss: 0.3360 - binary_accuracy: 1.0000\n",
      "Epoch 3/300\n",
      "6/6 [==============================] - 0s 333us/step - loss: 0.3342 - binary_accuracy: 1.0000\n",
      "Epoch 4/300\n",
      "6/6 [==============================] - 0s 666us/step - loss: 0.3324 - binary_accuracy: 1.0000\n",
      "Epoch 5/300\n",
      "6/6 [==============================] - 0s 833us/step - loss: 0.3306 - binary_accuracy: 1.0000\n",
      "Epoch 6/300\n",
      "6/6 [==============================] - 0s 333us/step - loss: 0.3288 - binary_accuracy: 1.0000\n",
      "Epoch 7/300\n",
      "6/6 [==============================] - 0s 333us/step - loss: 0.3271 - binary_accuracy: 1.0000\n",
      "Epoch 8/300\n",
      "6/6 [==============================] - 0s 667us/step - loss: 0.3254 - binary_accuracy: 1.0000\n",
      "Epoch 9/300\n",
      "6/6 [==============================] - 0s 167us/step - loss: 0.3236 - binary_accuracy: 1.0000\n",
      "Epoch 10/300\n",
      "6/6 [==============================] - 0s 333us/step - loss: 0.3219 - binary_accuracy: 1.0000\n",
      "Epoch 11/300\n",
      "6/6 [==============================] - 0s 333us/step - loss: 0.3203 - binary_accuracy: 1.0000\n",
      "Epoch 12/300\n",
      "6/6 [==============================] - 0s 333us/step - loss: 0.3186 - binary_accuracy: 1.0000\n",
      "Epoch 13/300\n",
      "6/6 [==============================] - 0s 333us/step - loss: 0.3169 - binary_accuracy: 1.0000\n",
      "Epoch 14/300\n",
      "6/6 [==============================] - 0s 333us/step - loss: 0.3153 - binary_accuracy: 1.0000\n",
      "Epoch 15/300\n",
      "6/6 [==============================] - 0s 333us/step - loss: 0.3137 - binary_accuracy: 1.0000\n",
      "Epoch 16/300\n",
      "6/6 [==============================] - 0s 333us/step - loss: 0.3121 - binary_accuracy: 1.0000\n",
      "Epoch 17/300\n",
      "6/6 [==============================] - 0s 500us/step - loss: 0.3105 - binary_accuracy: 1.0000\n",
      "Epoch 18/300\n",
      "6/6 [==============================] - 0s 333us/step - loss: 0.3089 - binary_accuracy: 1.0000\n",
      "Epoch 19/300\n",
      "6/6 [==============================] - 0s 333us/step - loss: 0.3074 - binary_accuracy: 1.0000\n",
      "Epoch 20/300\n",
      "6/6 [==============================] - 0s 333us/step - loss: 0.3058 - binary_accuracy: 1.0000\n",
      "Epoch 21/300\n",
      "6/6 [==============================] - 0s 333us/step - loss: 0.3043 - binary_accuracy: 1.0000\n",
      "Epoch 22/300\n",
      "6/6 [==============================] - 0s 500us/step - loss: 0.3028 - binary_accuracy: 1.0000\n",
      "Epoch 23/300\n",
      "6/6 [==============================] - 0s 499us/step - loss: 0.3013 - binary_accuracy: 1.0000\n",
      "Epoch 24/300\n",
      "6/6 [==============================] - 0s 333us/step - loss: 0.2998 - binary_accuracy: 1.0000\n",
      "Epoch 25/300\n",
      "6/6 [==============================] - 0s 501us/step - loss: 0.2983 - binary_accuracy: 1.0000\n",
      "Epoch 26/300\n",
      "6/6 [==============================] - 0s 334us/step - loss: 0.2968 - binary_accuracy: 1.0000\n",
      "Epoch 27/300\n",
      "6/6 [==============================] - 0s 333us/step - loss: 0.2954 - binary_accuracy: 1.0000\n",
      "Epoch 28/300\n",
      "6/6 [==============================] - 0s 499us/step - loss: 0.2940 - binary_accuracy: 1.0000\n",
      "Epoch 29/300\n",
      "6/6 [==============================] - 0s 333us/step - loss: 0.2925 - binary_accuracy: 1.0000\n",
      "Epoch 30/300\n",
      "6/6 [==============================] - 0s 333us/step - loss: 0.2911 - binary_accuracy: 1.0000\n",
      "Epoch 31/300\n",
      "6/6 [==============================] - 0s 332us/step - loss: 0.2897 - binary_accuracy: 1.0000\n",
      "Epoch 32/300\n",
      "6/6 [==============================] - 0s 333us/step - loss: 0.2883 - binary_accuracy: 1.0000\n",
      "Epoch 33/300\n",
      "6/6 [==============================] - 0s 333us/step - loss: 0.2870 - binary_accuracy: 1.0000\n",
      "Epoch 34/300\n",
      "6/6 [==============================] - 0s 333us/step - loss: 0.2856 - binary_accuracy: 1.0000\n",
      "Epoch 35/300\n",
      "6/6 [==============================] - 0s 500us/step - loss: 0.2843 - binary_accuracy: 1.0000\n",
      "Epoch 36/300\n",
      "6/6 [==============================] - 0s 333us/step - loss: 0.2829 - binary_accuracy: 1.0000\n",
      "Epoch 37/300\n",
      "6/6 [==============================] - 0s 500us/step - loss: 0.2816 - binary_accuracy: 1.0000\n",
      "Epoch 38/300\n",
      "6/6 [==============================] - 0s 333us/step - loss: 0.2803 - binary_accuracy: 1.0000\n",
      "Epoch 39/300\n",
      "6/6 [==============================] - 0s 333us/step - loss: 0.2790 - binary_accuracy: 1.0000\n",
      "Epoch 40/300\n",
      "6/6 [==============================] - 0s 1ms/step - loss: 0.2777 - binary_accuracy: 1.0000\n",
      "Epoch 41/300\n",
      "6/6 [==============================] - 0s 501us/step - loss: 0.2764 - binary_accuracy: 1.0000\n",
      "Epoch 42/300\n",
      "6/6 [==============================] - 0s 666us/step - loss: 0.2751 - binary_accuracy: 1.0000\n",
      "Epoch 43/300\n",
      "6/6 [==============================] - 0s 333us/step - loss: 0.2739 - binary_accuracy: 1.0000\n",
      "Epoch 44/300\n",
      "6/6 [==============================] - 0s 333us/step - loss: 0.2726 - binary_accuracy: 1.0000\n",
      "Epoch 45/300\n",
      "6/6 [==============================] - 0s 333us/step - loss: 0.2714 - binary_accuracy: 1.0000\n",
      "Epoch 46/300\n",
      "6/6 [==============================] - 0s 666us/step - loss: 0.2702 - binary_accuracy: 1.0000\n",
      "Epoch 47/300\n",
      "6/6 [==============================] - 0s 333us/step - loss: 0.2690 - binary_accuracy: 1.0000\n",
      "Epoch 48/300\n",
      "6/6 [==============================] - 0s 333us/step - loss: 0.2678 - binary_accuracy: 1.0000\n",
      "Epoch 49/300\n",
      "6/6 [==============================] - 0s 500us/step - loss: 0.2666 - binary_accuracy: 1.0000\n",
      "Epoch 50/300\n",
      "6/6 [==============================] - 0s 333us/step - loss: 0.2654 - binary_accuracy: 1.0000\n",
      "Epoch 51/300\n",
      "6/6 [==============================] - 0s 500us/step - loss: 0.2642 - binary_accuracy: 1.0000\n",
      "Epoch 52/300\n",
      "6/6 [==============================] - 0s 333us/step - loss: 0.2631 - binary_accuracy: 1.0000\n",
      "Epoch 53/300\n",
      "6/6 [==============================] - 0s 333us/step - loss: 0.2619 - binary_accuracy: 1.0000\n",
      "Epoch 54/300\n",
      "6/6 [==============================] - 0s 334us/step - loss: 0.2608 - binary_accuracy: 1.0000\n",
      "Epoch 55/300\n",
      "6/6 [==============================] - 0s 666us/step - loss: 0.2596 - binary_accuracy: 1.0000\n",
      "Epoch 56/300\n",
      "6/6 [==============================] - 0s 333us/step - loss: 0.2585 - binary_accuracy: 1.0000\n",
      "Epoch 57/300\n",
      "6/6 [==============================] - 0s 333us/step - loss: 0.2574 - binary_accuracy: 1.0000\n",
      "Epoch 58/300\n",
      "6/6 [==============================] - 0s 1ms/step - loss: 0.2563 - binary_accuracy: 1.0000\n",
      "Epoch 59/300\n",
      "6/6 [==============================] - 0s 334us/step - loss: 0.2552 - binary_accuracy: 1.0000\n",
      "Epoch 60/300\n",
      "6/6 [==============================] - 0s 500us/step - loss: 0.2541 - binary_accuracy: 1.0000\n",
      "Epoch 61/300\n",
      "6/6 [==============================] - 0s 333us/step - loss: 0.2530 - binary_accuracy: 1.0000\n",
      "Epoch 62/300\n",
      "6/6 [==============================] - 0s 333us/step - loss: 0.2519 - binary_accuracy: 1.0000\n",
      "Epoch 63/300\n",
      "6/6 [==============================] - 0s 500us/step - loss: 0.2509 - binary_accuracy: 1.0000\n",
      "Epoch 64/300\n",
      "6/6 [==============================] - 0s 333us/step - loss: 0.2498 - binary_accuracy: 1.0000\n",
      "Epoch 65/300\n",
      "6/6 [==============================] - 0s 500us/step - loss: 0.2488 - binary_accuracy: 1.0000\n",
      "Epoch 66/300\n",
      "6/6 [==============================] - 0s 333us/step - loss: 0.2477 - binary_accuracy: 1.0000\n",
      "Epoch 67/300\n",
      "6/6 [==============================] - 0s 833us/step - loss: 0.2467 - binary_accuracy: 1.0000\n",
      "Epoch 68/300\n",
      "6/6 [==============================] - 0s 333us/step - loss: 0.2457 - binary_accuracy: 1.0000\n",
      "Epoch 69/300\n",
      "6/6 [==============================] - 0s 333us/step - loss: 0.2447 - binary_accuracy: 1.0000\n",
      "Epoch 70/300\n",
      "6/6 [==============================] - 0s 333us/step - loss: 0.2437 - binary_accuracy: 1.0000\n",
      "Epoch 71/300\n",
      "6/6 [==============================] - 0s 500us/step - loss: 0.2427 - binary_accuracy: 1.0000\n",
      "Epoch 72/300\n",
      "6/6 [==============================] - 0s 333us/step - loss: 0.2417 - binary_accuracy: 1.0000\n",
      "Epoch 73/300\n",
      "6/6 [==============================] - 0s 333us/step - loss: 0.2407 - binary_accuracy: 1.0000\n",
      "Epoch 74/300\n",
      "6/6 [==============================] - 0s 499us/step - loss: 0.2397 - binary_accuracy: 1.0000\n",
      "Epoch 75/300\n",
      "6/6 [==============================] - 0s 333us/step - loss: 0.2388 - binary_accuracy: 1.0000\n",
      "Epoch 76/300\n",
      "6/6 [==============================] - 0s 500us/step - loss: 0.2378 - binary_accuracy: 1.0000\n",
      "Epoch 77/300\n",
      "6/6 [==============================] - 0s 333us/step - loss: 0.2368 - binary_accuracy: 1.0000\n"
     ]
    },
    {
     "name": "stdout",
     "output_type": "stream",
     "text": [
      "Epoch 78/300\n",
      "6/6 [==============================] - 0s 499us/step - loss: 0.2359 - binary_accuracy: 1.0000\n",
      "Epoch 79/300\n",
      "6/6 [==============================] - 0s 500us/step - loss: 0.2350 - binary_accuracy: 1.0000\n",
      "Epoch 80/300\n",
      "6/6 [==============================] - 0s 333us/step - loss: 0.2340 - binary_accuracy: 1.0000\n",
      "Epoch 81/300\n",
      "6/6 [==============================] - 0s 333us/step - loss: 0.2331 - binary_accuracy: 1.0000\n",
      "Epoch 82/300\n",
      "6/6 [==============================] - 0s 4ms/step - loss: 0.2322 - binary_accuracy: 1.0000\n",
      "Epoch 83/300\n",
      "6/6 [==============================] - 0s 333us/step - loss: 0.2313 - binary_accuracy: 1.0000\n",
      "Epoch 84/300\n",
      "6/6 [==============================] - 0s 666us/step - loss: 0.2304 - binary_accuracy: 1.0000\n",
      "Epoch 85/300\n",
      "6/6 [==============================] - 0s 334us/step - loss: 0.2295 - binary_accuracy: 1.0000\n",
      "Epoch 86/300\n",
      "6/6 [==============================] - 0s 333us/step - loss: 0.2286 - binary_accuracy: 1.0000\n",
      "Epoch 87/300\n",
      "6/6 [==============================] - 0s 333us/step - loss: 0.2277 - binary_accuracy: 1.0000\n",
      "Epoch 88/300\n",
      "6/6 [==============================] - 0s 333us/step - loss: 0.2268 - binary_accuracy: 1.0000\n",
      "Epoch 89/300\n",
      "6/6 [==============================] - 0s 333us/step - loss: 0.2260 - binary_accuracy: 1.0000\n",
      "Epoch 90/300\n",
      "6/6 [==============================] - 0s 333us/step - loss: 0.2251 - binary_accuracy: 1.0000\n",
      "Epoch 91/300\n",
      "6/6 [==============================] - 0s 334us/step - loss: 0.2243 - binary_accuracy: 1.0000\n",
      "Epoch 92/300\n",
      "6/6 [==============================] - 0s 333us/step - loss: 0.2234 - binary_accuracy: 1.0000\n",
      "Epoch 93/300\n",
      "6/6 [==============================] - 0s 333us/step - loss: 0.2226 - binary_accuracy: 1.0000\n",
      "Epoch 94/300\n",
      "6/6 [==============================] - 0s 666us/step - loss: 0.2217 - binary_accuracy: 1.0000\n",
      "Epoch 95/300\n",
      "6/6 [==============================] - 0s 333us/step - loss: 0.2209 - binary_accuracy: 1.0000\n",
      "Epoch 96/300\n",
      "6/6 [==============================] - 0s 334us/step - loss: 0.2201 - binary_accuracy: 1.0000\n",
      "Epoch 97/300\n",
      "6/6 [==============================] - 0s 333us/step - loss: 0.2192 - binary_accuracy: 1.0000\n",
      "Epoch 98/300\n",
      "6/6 [==============================] - 0s 334us/step - loss: 0.2184 - binary_accuracy: 1.0000\n",
      "Epoch 99/300\n",
      "6/6 [==============================] - 0s 333us/step - loss: 0.2176 - binary_accuracy: 1.0000\n",
      "Epoch 100/300\n",
      "6/6 [==============================] - 0s 333us/step - loss: 0.2168 - binary_accuracy: 1.0000\n",
      "Epoch 101/300\n",
      "6/6 [==============================] - 0s 500us/step - loss: 0.2160 - binary_accuracy: 1.0000\n",
      "Epoch 102/300\n",
      "6/6 [==============================] - 0s 333us/step - loss: 0.2152 - binary_accuracy: 1.0000\n",
      "Epoch 103/300\n",
      "6/6 [==============================] - 0s 500us/step - loss: 0.2145 - binary_accuracy: 1.0000\n",
      "Epoch 104/300\n",
      "6/6 [==============================] - 0s 500us/step - loss: 0.2137 - binary_accuracy: 1.0000\n",
      "Epoch 105/300\n",
      "6/6 [==============================] - 0s 999us/step - loss: 0.2129 - binary_accuracy: 1.0000\n",
      "Epoch 106/300\n",
      "6/6 [==============================] - 0s 333us/step - loss: 0.2121 - binary_accuracy: 1.0000\n",
      "Epoch 107/300\n",
      "6/6 [==============================] - 0s 500us/step - loss: 0.2114 - binary_accuracy: 1.0000\n",
      "Epoch 108/300\n",
      "6/6 [==============================] - 0s 333us/step - loss: 0.2106 - binary_accuracy: 1.0000\n",
      "Epoch 109/300\n",
      "6/6 [==============================] - 0s 500us/step - loss: 0.2099 - binary_accuracy: 1.0000\n",
      "Epoch 110/300\n",
      "6/6 [==============================] - 0s 500us/step - loss: 0.2091 - binary_accuracy: 1.0000\n",
      "Epoch 111/300\n",
      "6/6 [==============================] - 0s 666us/step - loss: 0.2084 - binary_accuracy: 1.0000\n",
      "Epoch 112/300\n",
      "6/6 [==============================] - 0s 500us/step - loss: 0.2076 - binary_accuracy: 1.0000\n",
      "Epoch 113/300\n",
      "6/6 [==============================] - 0s 333us/step - loss: 0.2069 - binary_accuracy: 1.0000\n",
      "Epoch 114/300\n",
      "6/6 [==============================] - 0s 334us/step - loss: 0.2062 - binary_accuracy: 1.0000\n",
      "Epoch 115/300\n",
      "6/6 [==============================] - 0s 333us/step - loss: 0.2055 - binary_accuracy: 1.0000\n",
      "Epoch 116/300\n",
      "6/6 [==============================] - 0s 500us/step - loss: 0.2047 - binary_accuracy: 1.0000\n",
      "Epoch 117/300\n",
      "6/6 [==============================] - 0s 500us/step - loss: 0.2040 - binary_accuracy: 1.0000\n",
      "Epoch 118/300\n",
      "6/6 [==============================] - 0s 333us/step - loss: 0.2033 - binary_accuracy: 1.0000\n",
      "Epoch 119/300\n",
      "6/6 [==============================] - 0s 333us/step - loss: 0.2026 - binary_accuracy: 1.0000\n",
      "Epoch 120/300\n",
      "6/6 [==============================] - 0s 167us/step - loss: 0.2019 - binary_accuracy: 1.0000\n",
      "Epoch 121/300\n",
      "6/6 [==============================] - 0s 333us/step - loss: 0.2012 - binary_accuracy: 1.0000\n",
      "Epoch 122/300\n",
      "6/6 [==============================] - 0s 333us/step - loss: 0.2005 - binary_accuracy: 1.0000\n",
      "Epoch 123/300\n",
      "6/6 [==============================] - 0s 333us/step - loss: 0.1998 - binary_accuracy: 1.0000\n",
      "Epoch 124/300\n",
      "6/6 [==============================] - 0s 333us/step - loss: 0.1992 - binary_accuracy: 1.0000\n",
      "Epoch 125/300\n",
      "6/6 [==============================] - 0s 334us/step - loss: 0.1985 - binary_accuracy: 1.0000\n",
      "Epoch 126/300\n",
      "6/6 [==============================] - 0s 500us/step - loss: 0.1978 - binary_accuracy: 1.0000\n",
      "Epoch 127/300\n",
      "6/6 [==============================] - 0s 500us/step - loss: 0.1972 - binary_accuracy: 1.0000\n",
      "Epoch 128/300\n",
      "6/6 [==============================] - 0s 333us/step - loss: 0.1965 - binary_accuracy: 1.0000\n",
      "Epoch 129/300\n",
      "6/6 [==============================] - 0s 333us/step - loss: 0.1958 - binary_accuracy: 1.0000\n",
      "Epoch 130/300\n",
      "6/6 [==============================] - 0s 500us/step - loss: 0.1952 - binary_accuracy: 1.0000\n",
      "Epoch 131/300\n",
      "6/6 [==============================] - 0s 333us/step - loss: 0.1945 - binary_accuracy: 1.0000\n",
      "Epoch 132/300\n",
      "6/6 [==============================] - 0s 833us/step - loss: 0.1939 - binary_accuracy: 1.0000\n",
      "Epoch 133/300\n",
      "6/6 [==============================] - 0s 666us/step - loss: 0.1933 - binary_accuracy: 1.0000\n",
      "Epoch 134/300\n",
      "6/6 [==============================] - 0s 497us/step - loss: 0.1926 - binary_accuracy: 1.0000\n",
      "Epoch 135/300\n",
      "6/6 [==============================] - 0s 834us/step - loss: 0.1920 - binary_accuracy: 1.0000\n",
      "Epoch 136/300\n",
      "6/6 [==============================] - 0s 334us/step - loss: 0.1914 - binary_accuracy: 1.0000\n",
      "Epoch 137/300\n",
      "6/6 [==============================] - 0s 333us/step - loss: 0.1907 - binary_accuracy: 1.0000\n",
      "Epoch 138/300\n",
      "6/6 [==============================] - 0s 333us/step - loss: 0.1901 - binary_accuracy: 1.0000\n",
      "Epoch 139/300\n",
      "6/6 [==============================] - 0s 333us/step - loss: 0.1895 - binary_accuracy: 1.0000\n",
      "Epoch 140/300\n",
      "6/6 [==============================] - 0s 500us/step - loss: 0.1889 - binary_accuracy: 1.0000\n",
      "Epoch 141/300\n",
      "6/6 [==============================] - 0s 334us/step - loss: 0.1883 - binary_accuracy: 1.0000\n",
      "Epoch 142/300\n",
      "6/6 [==============================] - 0s 333us/step - loss: 0.1877 - binary_accuracy: 1.0000\n",
      "Epoch 143/300\n",
      "6/6 [==============================] - 0s 333us/step - loss: 0.1871 - binary_accuracy: 1.0000\n",
      "Epoch 144/300\n",
      "6/6 [==============================] - 0s 500us/step - loss: 0.1865 - binary_accuracy: 1.0000\n",
      "Epoch 145/300\n",
      "6/6 [==============================] - 0s 333us/step - loss: 0.1859 - binary_accuracy: 1.0000\n",
      "Epoch 146/300\n",
      "6/6 [==============================] - 0s 500us/step - loss: 0.1853 - binary_accuracy: 1.0000\n",
      "Epoch 147/300\n",
      "6/6 [==============================] - 0s 333us/step - loss: 0.1847 - binary_accuracy: 1.0000\n",
      "Epoch 148/300\n",
      "6/6 [==============================] - 0s 500us/step - loss: 0.1841 - binary_accuracy: 1.0000\n",
      "Epoch 149/300\n",
      "6/6 [==============================] - 0s 499us/step - loss: 0.1836 - binary_accuracy: 1.0000\n",
      "Epoch 150/300\n",
      "6/6 [==============================] - 0s 333us/step - loss: 0.1830 - binary_accuracy: 1.0000\n",
      "Epoch 151/300\n",
      "6/6 [==============================] - 0s 333us/step - loss: 0.1824 - binary_accuracy: 1.0000\n",
      "Epoch 152/300\n",
      "6/6 [==============================] - 0s 500us/step - loss: 0.1818 - binary_accuracy: 1.0000\n",
      "Epoch 153/300\n",
      "6/6 [==============================] - 0s 333us/step - loss: 0.1813 - binary_accuracy: 1.0000\n",
      "Epoch 154/300\n",
      "6/6 [==============================] - 0s 500us/step - loss: 0.1807 - binary_accuracy: 1.0000\n"
     ]
    },
    {
     "name": "stdout",
     "output_type": "stream",
     "text": [
      "Epoch 155/300\n",
      "6/6 [==============================] - 0s 500us/step - loss: 0.1802 - binary_accuracy: 1.0000\n",
      "Epoch 156/300\n",
      "6/6 [==============================] - 0s 333us/step - loss: 0.1796 - binary_accuracy: 1.0000\n",
      "Epoch 157/300\n",
      "6/6 [==============================] - 0s 500us/step - loss: 0.1791 - binary_accuracy: 1.0000\n",
      "Epoch 158/300\n",
      "6/6 [==============================] - 0s 333us/step - loss: 0.1785 - binary_accuracy: 1.0000\n",
      "Epoch 159/300\n",
      "6/6 [==============================] - 0s 333us/step - loss: 0.1780 - binary_accuracy: 1.0000\n",
      "Epoch 160/300\n",
      "6/6 [==============================] - 0s 333us/step - loss: 0.1774 - binary_accuracy: 1.0000\n",
      "Epoch 161/300\n",
      "6/6 [==============================] - 0s 333us/step - loss: 0.1769 - binary_accuracy: 1.0000\n",
      "Epoch 162/300\n",
      "6/6 [==============================] - 0s 167us/step - loss: 0.1764 - binary_accuracy: 1.0000\n",
      "Epoch 163/300\n",
      "6/6 [==============================] - 0s 333us/step - loss: 0.1758 - binary_accuracy: 1.0000\n",
      "Epoch 164/300\n",
      "6/6 [==============================] - 0s 333us/step - loss: 0.1753 - binary_accuracy: 1.0000\n",
      "Epoch 165/300\n",
      "6/6 [==============================] - 0s 333us/step - loss: 0.1748 - binary_accuracy: 1.0000\n",
      "Epoch 166/300\n",
      "6/6 [==============================] - 0s 333us/step - loss: 0.1742 - binary_accuracy: 1.0000\n",
      "Epoch 167/300\n",
      "6/6 [==============================] - 0s 333us/step - loss: 0.1737 - binary_accuracy: 1.0000\n",
      "Epoch 168/300\n",
      "6/6 [==============================] - 0s 333us/step - loss: 0.1732 - binary_accuracy: 1.0000\n",
      "Epoch 169/300\n",
      "6/6 [==============================] - 0s 833us/step - loss: 0.1727 - binary_accuracy: 1.0000\n",
      "Epoch 170/300\n",
      "6/6 [==============================] - 0s 333us/step - loss: 0.1722 - binary_accuracy: 1.0000\n",
      "Epoch 171/300\n",
      "6/6 [==============================] - 0s 333us/step - loss: 0.1717 - binary_accuracy: 1.0000\n",
      "Epoch 172/300\n",
      "6/6 [==============================] - 0s 333us/step - loss: 0.1712 - binary_accuracy: 1.0000\n",
      "Epoch 173/300\n",
      "6/6 [==============================] - 0s 1ms/step - loss: 0.1707 - binary_accuracy: 1.0000\n",
      "Epoch 174/300\n",
      "6/6 [==============================] - 0s 500us/step - loss: 0.1702 - binary_accuracy: 1.0000\n",
      "Epoch 175/300\n",
      "6/6 [==============================] - 0s 500us/step - loss: 0.1697 - binary_accuracy: 1.0000\n",
      "Epoch 176/300\n",
      "6/6 [==============================] - 0s 666us/step - loss: 0.1692 - binary_accuracy: 1.0000\n",
      "Epoch 177/300\n",
      "6/6 [==============================] - 0s 333us/step - loss: 0.1687 - binary_accuracy: 1.0000\n",
      "Epoch 178/300\n",
      "6/6 [==============================] - 0s 333us/step - loss: 0.1682 - binary_accuracy: 1.0000\n",
      "Epoch 179/300\n",
      "6/6 [==============================] - 0s 500us/step - loss: 0.1677 - binary_accuracy: 1.0000\n",
      "Epoch 180/300\n",
      "6/6 [==============================] - 0s 333us/step - loss: 0.1673 - binary_accuracy: 1.0000\n",
      "Epoch 181/300\n",
      "6/6 [==============================] - 0s 333us/step - loss: 0.1668 - binary_accuracy: 1.0000\n",
      "Epoch 182/300\n",
      "6/6 [==============================] - 0s 333us/step - loss: 0.1663 - binary_accuracy: 1.0000\n",
      "Epoch 183/300\n",
      "6/6 [==============================] - 0s 833us/step - loss: 0.1658 - binary_accuracy: 1.0000\n",
      "Epoch 184/300\n",
      "6/6 [==============================] - 0s 333us/step - loss: 0.1654 - binary_accuracy: 1.0000\n",
      "Epoch 185/300\n",
      "6/6 [==============================] - 0s 6ms/step - loss: 0.1649 - binary_accuracy: 1.0000\n",
      "Epoch 186/300\n",
      "6/6 [==============================] - 0s 333us/step - loss: 0.1644 - binary_accuracy: 1.0000\n",
      "Epoch 187/300\n",
      "6/6 [==============================] - 0s 333us/step - loss: 0.1640 - binary_accuracy: 1.0000\n",
      "Epoch 188/300\n",
      "6/6 [==============================] - 0s 500us/step - loss: 0.1635 - binary_accuracy: 1.0000\n",
      "Epoch 189/300\n",
      "6/6 [==============================] - 0s 667us/step - loss: 0.1630 - binary_accuracy: 1.0000\n",
      "Epoch 190/300\n",
      "6/6 [==============================] - 0s 333us/step - loss: 0.1626 - binary_accuracy: 1.0000\n",
      "Epoch 191/300\n",
      "6/6 [==============================] - 0s 333us/step - loss: 0.1621 - binary_accuracy: 1.0000\n",
      "Epoch 192/300\n",
      "6/6 [==============================] - 0s 333us/step - loss: 0.1617 - binary_accuracy: 1.0000\n",
      "Epoch 193/300\n",
      "6/6 [==============================] - 0s 333us/step - loss: 0.1612 - binary_accuracy: 1.0000\n",
      "Epoch 194/300\n",
      "6/6 [==============================] - 0s 333us/step - loss: 0.1608 - binary_accuracy: 1.0000\n",
      "Epoch 195/300\n",
      "6/6 [==============================] - 0s 500us/step - loss: 0.1604 - binary_accuracy: 1.0000\n",
      "Epoch 196/300\n",
      "6/6 [==============================] - 0s 333us/step - loss: 0.1599 - binary_accuracy: 1.0000\n",
      "Epoch 197/300\n",
      "6/6 [==============================] - 0s 3ms/step - loss: 0.1595 - binary_accuracy: 1.0000\n",
      "Epoch 198/300\n",
      "6/6 [==============================] - 0s 666us/step - loss: 0.1590 - binary_accuracy: 1.0000\n",
      "Epoch 199/300\n",
      "6/6 [==============================] - 0s 500us/step - loss: 0.1586 - binary_accuracy: 1.0000\n",
      "Epoch 200/300\n",
      "6/6 [==============================] - 0s 666us/step - loss: 0.1582 - binary_accuracy: 1.0000\n",
      "Epoch 201/300\n",
      "6/6 [==============================] - 0s 333us/step - loss: 0.1578 - binary_accuracy: 1.0000\n",
      "Epoch 202/300\n",
      "6/6 [==============================] - 0s 333us/step - loss: 0.1573 - binary_accuracy: 1.0000\n",
      "Epoch 203/300\n",
      "6/6 [==============================] - 0s 333us/step - loss: 0.1569 - binary_accuracy: 1.0000\n",
      "Epoch 204/300\n",
      "6/6 [==============================] - 0s 333us/step - loss: 0.1565 - binary_accuracy: 1.0000\n",
      "Epoch 205/300\n",
      "6/6 [==============================] - 0s 500us/step - loss: 0.1561 - binary_accuracy: 1.0000\n",
      "Epoch 206/300\n",
      "6/6 [==============================] - 0s 333us/step - loss: 0.1557 - binary_accuracy: 1.0000\n",
      "Epoch 207/300\n",
      "6/6 [==============================] - 0s 333us/step - loss: 0.1552 - binary_accuracy: 1.0000\n",
      "Epoch 208/300\n",
      "6/6 [==============================] - 0s 833us/step - loss: 0.1548 - binary_accuracy: 1.0000\n",
      "Epoch 209/300\n",
      "6/6 [==============================] - 0s 333us/step - loss: 0.1544 - binary_accuracy: 1.0000\n",
      "Epoch 210/300\n",
      "6/6 [==============================] - 0s 500us/step - loss: 0.1540 - binary_accuracy: 1.0000\n",
      "Epoch 211/300\n",
      "6/6 [==============================] - 0s 333us/step - loss: 0.1536 - binary_accuracy: 1.0000\n",
      "Epoch 212/300\n",
      "6/6 [==============================] - 0s 333us/step - loss: 0.1532 - binary_accuracy: 1.0000\n",
      "Epoch 213/300\n",
      "6/6 [==============================] - 0s 333us/step - loss: 0.1528 - binary_accuracy: 1.0000\n",
      "Epoch 214/300\n",
      "6/6 [==============================] - 0s 333us/step - loss: 0.1524 - binary_accuracy: 1.0000\n",
      "Epoch 215/300\n",
      "6/6 [==============================] - 0s 500us/step - loss: 0.1520 - binary_accuracy: 1.0000\n",
      "Epoch 216/300\n",
      "6/6 [==============================] - 0s 333us/step - loss: 0.1516 - binary_accuracy: 1.0000\n",
      "Epoch 217/300\n",
      "6/6 [==============================] - 0s 333us/step - loss: 0.1512 - binary_accuracy: 1.0000\n",
      "Epoch 218/300\n",
      "6/6 [==============================] - 0s 334us/step - loss: 0.1508 - binary_accuracy: 1.0000\n",
      "Epoch 219/300\n",
      "6/6 [==============================] - 0s 333us/step - loss: 0.1504 - binary_accuracy: 1.0000\n",
      "Epoch 220/300\n",
      "6/6 [==============================] - 0s 999us/step - loss: 0.1500 - binary_accuracy: 1.0000\n",
      "Epoch 221/300\n",
      "6/6 [==============================] - 0s 333us/step - loss: 0.1497 - binary_accuracy: 1.0000\n",
      "Epoch 222/300\n",
      "6/6 [==============================] - 0s 333us/step - loss: 0.1493 - binary_accuracy: 1.0000\n",
      "Epoch 223/300\n",
      "6/6 [==============================] - 0s 333us/step - loss: 0.1489 - binary_accuracy: 1.0000\n",
      "Epoch 224/300\n",
      "6/6 [==============================] - 0s 1000us/step - loss: 0.1485 - binary_accuracy: 1.0000\n",
      "Epoch 225/300\n",
      "6/6 [==============================] - 0s 333us/step - loss: 0.1481 - binary_accuracy: 1.0000\n",
      "Epoch 226/300\n",
      "6/6 [==============================] - 0s 333us/step - loss: 0.1478 - binary_accuracy: 1.0000\n",
      "Epoch 227/300\n",
      "6/6 [==============================] - 0s 333us/step - loss: 0.1474 - binary_accuracy: 1.0000\n",
      "Epoch 228/300\n",
      "6/6 [==============================] - 0s 833us/step - loss: 0.1470 - binary_accuracy: 1.0000\n",
      "Epoch 229/300\n",
      "6/6 [==============================] - 0s 333us/step - loss: 0.1467 - binary_accuracy: 1.0000\n",
      "Epoch 230/300\n",
      "6/6 [==============================] - 0s 333us/step - loss: 0.1463 - binary_accuracy: 1.0000\n"
     ]
    },
    {
     "name": "stdout",
     "output_type": "stream",
     "text": [
      "Epoch 231/300\n",
      "6/6 [==============================] - 0s 333us/step - loss: 0.1459 - binary_accuracy: 1.0000\n",
      "Epoch 232/300\n",
      "6/6 [==============================] - 0s 500us/step - loss: 0.1456 - binary_accuracy: 1.0000\n",
      "Epoch 233/300\n",
      "6/6 [==============================] - 0s 333us/step - loss: 0.1452 - binary_accuracy: 1.0000\n",
      "Epoch 234/300\n",
      "6/6 [==============================] - 0s 500us/step - loss: 0.1448 - binary_accuracy: 1.0000\n",
      "Epoch 235/300\n",
      "6/6 [==============================] - 0s 334us/step - loss: 0.1445 - binary_accuracy: 1.0000\n",
      "Epoch 236/300\n",
      "6/6 [==============================] - 0s 500us/step - loss: 0.1441 - binary_accuracy: 1.0000\n",
      "Epoch 237/300\n",
      "6/6 [==============================] - 0s 333us/step - loss: 0.1438 - binary_accuracy: 1.0000\n",
      "Epoch 238/300\n",
      "6/6 [==============================] - 0s 500us/step - loss: 0.1434 - binary_accuracy: 1.0000\n",
      "Epoch 239/300\n",
      "6/6 [==============================] - 0s 500us/step - loss: 0.1431 - binary_accuracy: 1.0000\n",
      "Epoch 240/300\n",
      "6/6 [==============================] - 0s 333us/step - loss: 0.1427 - binary_accuracy: 1.0000\n",
      "Epoch 241/300\n",
      "6/6 [==============================] - 0s 333us/step - loss: 0.1424 - binary_accuracy: 1.0000\n",
      "Epoch 242/300\n",
      "6/6 [==============================] - 0s 666us/step - loss: 0.1420 - binary_accuracy: 1.0000\n",
      "Epoch 243/300\n",
      "6/6 [==============================] - 0s 666us/step - loss: 0.1417 - binary_accuracy: 1.0000\n",
      "Epoch 244/300\n",
      "6/6 [==============================] - 0s 333us/step - loss: 0.1413 - binary_accuracy: 1.0000\n",
      "Epoch 245/300\n",
      "6/6 [==============================] - 0s 500us/step - loss: 0.1410 - binary_accuracy: 1.0000\n",
      "Epoch 246/300\n",
      "6/6 [==============================] - 0s 666us/step - loss: 0.1406 - binary_accuracy: 1.0000\n",
      "Epoch 247/300\n",
      "6/6 [==============================] - 0s 333us/step - loss: 0.1403 - binary_accuracy: 1.0000\n",
      "Epoch 248/300\n",
      "6/6 [==============================] - 0s 333us/step - loss: 0.1400 - binary_accuracy: 1.0000\n",
      "Epoch 249/300\n",
      "6/6 [==============================] - 0s 333us/step - loss: 0.1396 - binary_accuracy: 1.0000\n",
      "Epoch 250/300\n",
      "6/6 [==============================] - 0s 500us/step - loss: 0.1393 - binary_accuracy: 1.0000\n",
      "Epoch 251/300\n",
      "6/6 [==============================] - 0s 666us/step - loss: 0.1390 - binary_accuracy: 1.0000\n",
      "Epoch 252/300\n",
      "6/6 [==============================] - 0s 333us/step - loss: 0.1386 - binary_accuracy: 1.0000\n",
      "Epoch 253/300\n",
      "6/6 [==============================] - 0s 18ms/step - loss: 0.1383 - binary_accuracy: 1.0000\n",
      "Epoch 254/300\n",
      "6/6 [==============================] - 0s 333us/step - loss: 0.1380 - binary_accuracy: 1.0000\n",
      "Epoch 255/300\n",
      "6/6 [==============================] - 0s 333us/step - loss: 0.1377 - binary_accuracy: 1.0000\n",
      "Epoch 256/300\n",
      "6/6 [==============================] - 0s 333us/step - loss: 0.1373 - binary_accuracy: 1.0000\n",
      "Epoch 257/300\n",
      "6/6 [==============================] - 0s 333us/step - loss: 0.1370 - binary_accuracy: 1.0000\n",
      "Epoch 258/300\n",
      "6/6 [==============================] - 0s 333us/step - loss: 0.1367 - binary_accuracy: 1.0000\n",
      "Epoch 259/300\n",
      "6/6 [==============================] - 0s 500us/step - loss: 0.1364 - binary_accuracy: 1.0000\n",
      "Epoch 260/300\n",
      "6/6 [==============================] - 0s 333us/step - loss: 0.1361 - binary_accuracy: 1.0000\n",
      "Epoch 261/300\n",
      "6/6 [==============================] - 0s 500us/step - loss: 0.1357 - binary_accuracy: 1.0000\n",
      "Epoch 262/300\n",
      "6/6 [==============================] - 0s 333us/step - loss: 0.1354 - binary_accuracy: 1.0000\n",
      "Epoch 263/300\n",
      "6/6 [==============================] - 0s 333us/step - loss: 0.1351 - binary_accuracy: 1.0000\n",
      "Epoch 264/300\n",
      "6/6 [==============================] - 0s 333us/step - loss: 0.1348 - binary_accuracy: 1.0000\n",
      "Epoch 265/300\n",
      "6/6 [==============================] - 0s 333us/step - loss: 0.1345 - binary_accuracy: 1.0000\n",
      "Epoch 266/300\n",
      "6/6 [==============================] - 0s 500us/step - loss: 0.1342 - binary_accuracy: 1.0000\n",
      "Epoch 267/300\n",
      "6/6 [==============================] - 0s 333us/step - loss: 0.1339 - binary_accuracy: 1.0000\n",
      "Epoch 268/300\n",
      "6/6 [==============================] - 0s 500us/step - loss: 0.1336 - binary_accuracy: 1.0000\n",
      "Epoch 269/300\n",
      "6/6 [==============================] - 0s 333us/step - loss: 0.1333 - binary_accuracy: 1.0000\n",
      "Epoch 270/300\n",
      "6/6 [==============================] - 0s 500us/step - loss: 0.1330 - binary_accuracy: 1.0000\n",
      "Epoch 271/300\n",
      "6/6 [==============================] - 0s 666us/step - loss: 0.1326 - binary_accuracy: 1.0000\n",
      "Epoch 272/300\n",
      "6/6 [==============================] - 0s 500us/step - loss: 0.1323 - binary_accuracy: 1.0000\n",
      "Epoch 273/300\n",
      "6/6 [==============================] - 0s 500us/step - loss: 0.1320 - binary_accuracy: 1.0000\n",
      "Epoch 274/300\n",
      "6/6 [==============================] - 0s 333us/step - loss: 0.1318 - binary_accuracy: 1.0000\n",
      "Epoch 275/300\n",
      "6/6 [==============================] - 0s 500us/step - loss: 0.1315 - binary_accuracy: 1.0000\n",
      "Epoch 276/300\n",
      "6/6 [==============================] - 0s 9ms/step - loss: 0.1312 - binary_accuracy: 1.0000\n",
      "Epoch 277/300\n",
      "6/6 [==============================] - 0s 500us/step - loss: 0.1309 - binary_accuracy: 1.0000\n",
      "Epoch 278/300\n",
      "6/6 [==============================] - 0s 500us/step - loss: 0.1306 - binary_accuracy: 1.0000\n",
      "Epoch 279/300\n",
      "6/6 [==============================] - 0s 500us/step - loss: 0.1303 - binary_accuracy: 1.0000\n",
      "Epoch 280/300\n",
      "6/6 [==============================] - 0s 333us/step - loss: 0.1300 - binary_accuracy: 1.0000\n",
      "Epoch 281/300\n",
      "6/6 [==============================] - 0s 333us/step - loss: 0.1297 - binary_accuracy: 1.0000\n",
      "Epoch 282/300\n",
      "6/6 [==============================] - 0s 500us/step - loss: 0.1294 - binary_accuracy: 1.0000\n",
      "Epoch 283/300\n",
      "6/6 [==============================] - 0s 500us/step - loss: 0.1291 - binary_accuracy: 1.0000\n",
      "Epoch 284/300\n",
      "6/6 [==============================] - 0s 500us/step - loss: 0.1288 - binary_accuracy: 1.0000\n",
      "Epoch 285/300\n",
      "6/6 [==============================] - 0s 333us/step - loss: 0.1286 - binary_accuracy: 1.0000\n",
      "Epoch 286/300\n",
      "6/6 [==============================] - 0s 666us/step - loss: 0.1283 - binary_accuracy: 1.0000\n",
      "Epoch 287/300\n",
      "6/6 [==============================] - 0s 500us/step - loss: 0.1280 - binary_accuracy: 1.0000\n",
      "Epoch 288/300\n",
      "6/6 [==============================] - 0s 666us/step - loss: 0.1277 - binary_accuracy: 1.0000\n",
      "Epoch 289/300\n",
      "6/6 [==============================] - 0s 666us/step - loss: 0.1274 - binary_accuracy: 1.0000\n",
      "Epoch 290/300\n",
      "6/6 [==============================] - 0s 1ms/step - loss: 0.1272 - binary_accuracy: 1.0000\n",
      "Epoch 291/300\n",
      "6/6 [==============================] - 0s 833us/step - loss: 0.1269 - binary_accuracy: 1.0000\n",
      "Epoch 292/300\n",
      "6/6 [==============================] - 0s 500us/step - loss: 0.1266 - binary_accuracy: 1.0000\n",
      "Epoch 293/300\n",
      "6/6 [==============================] - 0s 334us/step - loss: 0.1263 - binary_accuracy: 1.0000\n",
      "Epoch 294/300\n",
      "6/6 [==============================] - 0s 333us/step - loss: 0.1261 - binary_accuracy: 1.0000\n",
      "Epoch 295/300\n",
      "6/6 [==============================] - 0s 333us/step - loss: 0.1258 - binary_accuracy: 1.0000\n",
      "Epoch 296/300\n",
      "6/6 [==============================] - 0s 333us/step - loss: 0.1255 - binary_accuracy: 1.0000\n",
      "Epoch 297/300\n",
      "6/6 [==============================] - 0s 500us/step - loss: 0.1253 - binary_accuracy: 1.0000\n",
      "Epoch 298/300\n",
      "6/6 [==============================] - 0s 499us/step - loss: 0.1250 - binary_accuracy: 1.0000\n",
      "Epoch 299/300\n",
      "6/6 [==============================] - 0s 333us/step - loss: 0.1247 - binary_accuracy: 1.0000\n",
      "Epoch 300/300\n",
      "6/6 [==============================] - 0s 500us/step - loss: 0.1245 - binary_accuracy: 1.0000\n"
     ]
    },
    {
     "data": {
      "text/plain": [
       "array([[0.05981579],\n",
       "       [0.11178291],\n",
       "       [0.1993265 ],\n",
       "       [0.8427933 ],\n",
       "       [0.89879894],\n",
       "       [0.9371671 ]], dtype=float32)"
      ]
     },
     "execution_count": 5,
     "metadata": {},
     "output_type": "execute_result"
    }
   ],
   "source": [
    "\"\"\"\n",
    "9. 로지스틱 회귀\n",
    "    - (y값이 0 혹은 1로 이루어진 데이터를 추정한) 선형 회귀를 입력으로 받아 특정 레이블로 분류하는 모델\n",
    "    \n",
    "    (1)[이론] 로지스틱 회귀\n",
    "        - wx + b 의 선형회귀를 시그모이드 함수로 입력 -> 시그모이드 값이 0.5 이하일 경우 거짓, 0.5보다 클 경우 참을 반납\n",
    "        - 단일 입력, 다중입력, 다중분류 로지스틱 회귀(=소프트맥스)가 존재\n",
    "        \n",
    "        (i) 로지스틱 회귀 학습\n",
    "            - 로지스틱 회귀 역시 경사하강법으로 최적이 w를 찾아내지만, 비용함수는 평균제곱오차가 아닌 크로스 엔트로피 이용 -> 비선형성을 지니고 있는 시그모이드 함수 때문\n",
    "            \n",
    "        (ii) 선형 vs 비선형\n",
    "            - 시그모이드 함수 = 1 / (1+e^-y) = 1 / (1+e^-(w1x1 + w2x2 + w3x3...)) 로 비선형 함수\n",
    "            - 함수가 선형일 경우 평균제곱오차 비용함수는 아래쪽으로 볼록하기 때문에 경사하강법으로 변곡점을 찾을 수 있음\n",
    "            - 로지스틱 회귀의 평균제곱오차는 볼록한 모양이 아님 -> 크로스 엔트로피 사용\n",
    "            \n",
    "        (iii) 크로스 엔트로피\n",
    "            - 크로스 엔트로피란 서로 다른 두 확률 분포의 차이, 로지스틱 회귀 관점에서는 모델의 예측값의 확률과 실제값 확률의 차이 -> 차이를 가장 작게하는 w를 구함으로써 최적의 w를 구함\n",
    "            - 크로스 엔트로피 = -∑(p(x)*log{q(x)}) ; p(x)는 실제 데이터의 분포, q(x)는 모델의 예측값 분포\n",
    "        \n",
    "\"\"\"\n",
    "\n",
    "#(2) [실습] 단일 입력 로지스틱 회귀\n",
    "# 1개의 입력을 받아 0 또는 1을 출력하는 로지스틱 회귀 모델을 케라스로 구현\n",
    "\n",
    "from keras.models import Sequential\n",
    "from keras.layers import Dense, Activation\n",
    "import numpy as np\n",
    "\n",
    "#로지스틱 회귀 모델 만들기\n",
    "model = Sequential()\n",
    "model.add(Dense(input_dim=1,units=1)) #입력 1개를 받아 출력 1개를 리턴하는 선형 회귀 레이어 생성\n",
    "model.add(Activation('sigmoid')) #선형 회귀의 출력값을 시그모이드에 연결\n",
    "model.compile(loss='binary_crossentropy', optimizer = 'sgd', metrics=['binary_accuracy']) #크로스 엔트로피를 비용함수로 설정해 경사하강법으로 학습\n",
    "\n",
    "#데이터 생성\n",
    "X = np.array([-2, -1.5, -1, 1.25, 1.62, 2])\n",
    "Y = np.array([0,0,0,1,1,1])\n",
    "\n",
    "#모델학습\n",
    "model.fit(X,Y, epochs = 300, verbose=0) #300번의 반복학습 ; verbose 는 진행상황을 알려줌 0이면 silent, 1이면 progress bar, 2면 one line per epoch\n",
    "\n",
    "#모델의 출력값 확인\n",
    "model.predict([-2,-1.5,-1,1.25,1.62,2])"
   ]
  },
  {
   "cell_type": "code",
   "execution_count": 4,
   "metadata": {},
   "outputs": [
    {
     "name": "stdout",
     "output_type": "stream",
     "text": [
      "_________________________________________________________________\n",
      "Layer (type)                 Output Shape              Param #   \n",
      "=================================================================\n",
      "dense_3 (Dense)              (None, 1)                 2         \n",
      "_________________________________________________________________\n",
      "activation_3 (Activation)    (None, 1)                 0         \n",
      "=================================================================\n",
      "Total params: 2\n",
      "Trainable params: 2\n",
      "Non-trainable params: 0\n",
      "_________________________________________________________________\n"
     ]
    }
   ],
   "source": [
    "#모델 요약\n",
    "model.summary()\n",
    "# dense_3이 선형회귀, activation_3이 시그모이드"
   ]
  },
  {
   "cell_type": "code",
   "execution_count": 8,
   "metadata": {},
   "outputs": [
    {
     "data": {
      "text/plain": [
       "[<tf.Variable 'dense_3/kernel:0' shape=(1, 1) dtype=float32_ref>,\n",
       " <tf.Variable 'dense_3/bias:0' shape=(1,) dtype=float32_ref>]"
      ]
     },
     "execution_count": 8,
     "metadata": {},
     "output_type": "execute_result"
    }
   ],
   "source": [
    "#레이어에 존재하는 w와 b는 다음과 같이 확인\n",
    "model.layers[0].weights"
   ]
  },
  {
   "cell_type": "code",
   "execution_count": 9,
   "metadata": {},
   "outputs": [
    {
     "data": {
      "text/plain": [
       "[array([[1.1038953]], dtype=float32), array([-0.01740905], dtype=float32)]"
      ]
     },
     "execution_count": 9,
     "metadata": {},
     "output_type": "execute_result"
    }
   ],
   "source": [
    "#학습을 통해 구현한 w와 b는 get_weights() 함수로 확인\n",
    "model.layers[0].get_weights()"
   ]
  },
  {
   "cell_type": "code",
   "execution_count": 10,
   "metadata": {},
   "outputs": [],
   "source": [
    "#(3) [실습] 다중 입려 로지스틱 회귀\n",
    "# AND 연산을 로지스틱 회귀로 구현\n",
    "\n",
    "from keras.models import Sequential\n",
    "from keras.layers import Dense, Activation\n",
    "import numpy as np\n",
    "\n",
    "#로지스틱 회귀 모델 만들기 - sigmoid(w1x1 + w2x2 + b) 형태를 띠는 간단한 로지스틱 회귀 구현\n",
    "model = Sequential()\n",
    "model.add(Dense(input_dim=2,units=1))\n",
    "model.add(Activation('sigmoid'))\n",
    "model.compile(loss='binary_crossentropy',optimizer='sgd',metrics=['binary_accuracy'])\n"
   ]
  },
  {
   "cell_type": "code",
   "execution_count": 11,
   "metadata": {},
   "outputs": [
    {
     "data": {
      "text/plain": [
       "array([[0.19605897],\n",
       "       [0.40030167],\n",
       "       [0.35892287],\n",
       "       [0.6051236 ]], dtype=float32)"
      ]
     },
     "execution_count": 11,
     "metadata": {},
     "output_type": "execute_result"
    }
   ],
   "source": [
    "#학습 데이터 생성\n",
    "X = np.array([(0,0), (0,1),(1,0),(1,1)])\n",
    "Y = np.array([0,0,0,1])\n",
    "\n",
    "#모델 학습\n",
    "model.fit(X,Y, epochs = 500, verbose = 0)\n",
    "\n",
    "#출력\n",
    "model.predict(X)"
   ]
  },
  {
   "cell_type": "code",
   "execution_count": 12,
   "metadata": {},
   "outputs": [
    {
     "name": "stdout",
     "output_type": "stream",
     "text": [
      "_________________________________________________________________\n",
      "Layer (type)                 Output Shape              Param #   \n",
      "=================================================================\n",
      "dense_4 (Dense)              (None, 1)                 3         \n",
      "_________________________________________________________________\n",
      "activation_4 (Activation)    (None, 1)                 0         \n",
      "=================================================================\n",
      "Total params: 3\n",
      "Trainable params: 3\n",
      "Non-trainable params: 0\n",
      "_________________________________________________________________\n"
     ]
    }
   ],
   "source": [
    "#모델 요약\n",
    "model.summary()"
   ]
  },
  {
   "cell_type": "code",
   "execution_count": 13,
   "metadata": {},
   "outputs": [
    {
     "data": {
      "text/plain": [
       "[<tf.Variable 'dense_4/kernel:0' shape=(2, 1) dtype=float32_ref>,\n",
       " <tf.Variable 'dense_4/bias:0' shape=(1,) dtype=float32_ref>]"
      ]
     },
     "execution_count": 13,
     "metadata": {},
     "output_type": "execute_result"
    }
   ],
   "source": [
    "model.layers[0].weights"
   ]
  },
  {
   "cell_type": "code",
   "execution_count": 14,
   "metadata": {},
   "outputs": [
    {
     "data": {
      "text/plain": [
       "[array([[0.8310681],\n",
       "        [1.0069021]], dtype=float32),\n",
       " array([-1.4111104], dtype=float32)]"
      ]
     },
     "execution_count": 14,
     "metadata": {},
     "output_type": "execute_result"
    }
   ],
   "source": [
    "model.layers[0].get_weights()"
   ]
  },
  {
   "cell_type": "code",
   "execution_count": 15,
   "metadata": {},
   "outputs": [
    {
     "name": "stdout",
     "output_type": "stream",
     "text": [
      "Downloading data from https://s3.amazonaws.com/img-datasets/mnist.npz\n",
      "11493376/11490434 [==============================] - 7s 1us/step\n"
     ]
    }
   ],
   "source": [
    "# (4) [실습] 소프트맥스(다중분류 로지스틱 회귀)\n",
    "# MNIST 손글씨 숫자 데이터 셋을 사용해 입력된 손글씨 숫자를 0부터 9까지 분류\n",
    "\n",
    "from keras.models import Sequential\n",
    "from keras.layers import Dense, Activation\n",
    "from keras.utils import to_categorical\n",
    "from keras.datasets import mnist\n",
    "\n",
    "#데이터 획득\n",
    "(X_train, y_train), (X_test, y_test) = mnist.load_data()"
   ]
  },
  {
   "cell_type": "code",
   "execution_count": 16,
   "metadata": {},
   "outputs": [
    {
     "name": "stdout",
     "output_type": "stream",
     "text": [
      "train data (count, row, column) : (60000, 28, 28)\n",
      "test data (count, row, column) : (10000, 28, 28)\n"
     ]
    }
   ],
   "source": [
    "print(\"train data (count, row, column) : \" + str(X_train.shape))\n",
    "print(\"test data (count, row, column) : \" + str(X_test.shape))"
   ]
  },
  {
   "cell_type": "code",
   "execution_count": 17,
   "metadata": {},
   "outputs": [
    {
     "data": {
      "text/plain": [
       "array([[  0,   0,   0,   0,   0,   0,   0,   0,   0,   0,   0,   0,   0,\n",
       "          0,   0,   0,   0,   0,   0,   0,   0,   0,   0,   0,   0,   0,\n",
       "          0,   0],\n",
       "       [  0,   0,   0,   0,   0,   0,   0,   0,   0,   0,   0,   0,   0,\n",
       "          0,   0,   0,   0,   0,   0,   0,   0,   0,   0,   0,   0,   0,\n",
       "          0,   0],\n",
       "       [  0,   0,   0,   0,   0,   0,   0,   0,   0,   0,   0,   0,   0,\n",
       "          0,   0,   0,   0,   0,   0,   0,   0,   0,   0,   0,   0,   0,\n",
       "          0,   0],\n",
       "       [  0,   0,   0,   0,   0,   0,   0,   0,   0,   0,   0,   0,   0,\n",
       "          0,   0,   0,   0,   0,   0,   0,   0,   0,   0,   0,   0,   0,\n",
       "          0,   0],\n",
       "       [  0,   0,   0,   0,   0,   0,   0,   0,   0,   0,   0,   0,   0,\n",
       "          0,   0,   0,   0,   0,   0,   0,   0,   0,   0,   0,   0,   0,\n",
       "          0,   0],\n",
       "       [  0,   0,   0,   0,   0,   0,   0,   0,   0,   0,   0,   0,   3,\n",
       "         18,  18,  18, 126, 136, 175,  26, 166, 255, 247, 127,   0,   0,\n",
       "          0,   0],\n",
       "       [  0,   0,   0,   0,   0,   0,   0,   0,  30,  36,  94, 154, 170,\n",
       "        253, 253, 253, 253, 253, 225, 172, 253, 242, 195,  64,   0,   0,\n",
       "          0,   0],\n",
       "       [  0,   0,   0,   0,   0,   0,   0,  49, 238, 253, 253, 253, 253,\n",
       "        253, 253, 253, 253, 251,  93,  82,  82,  56,  39,   0,   0,   0,\n",
       "          0,   0],\n",
       "       [  0,   0,   0,   0,   0,   0,   0,  18, 219, 253, 253, 253, 253,\n",
       "        253, 198, 182, 247, 241,   0,   0,   0,   0,   0,   0,   0,   0,\n",
       "          0,   0],\n",
       "       [  0,   0,   0,   0,   0,   0,   0,   0,  80, 156, 107, 253, 253,\n",
       "        205,  11,   0,  43, 154,   0,   0,   0,   0,   0,   0,   0,   0,\n",
       "          0,   0],\n",
       "       [  0,   0,   0,   0,   0,   0,   0,   0,   0,  14,   1, 154, 253,\n",
       "         90,   0,   0,   0,   0,   0,   0,   0,   0,   0,   0,   0,   0,\n",
       "          0,   0],\n",
       "       [  0,   0,   0,   0,   0,   0,   0,   0,   0,   0,   0, 139, 253,\n",
       "        190,   2,   0,   0,   0,   0,   0,   0,   0,   0,   0,   0,   0,\n",
       "          0,   0],\n",
       "       [  0,   0,   0,   0,   0,   0,   0,   0,   0,   0,   0,  11, 190,\n",
       "        253,  70,   0,   0,   0,   0,   0,   0,   0,   0,   0,   0,   0,\n",
       "          0,   0],\n",
       "       [  0,   0,   0,   0,   0,   0,   0,   0,   0,   0,   0,   0,  35,\n",
       "        241, 225, 160, 108,   1,   0,   0,   0,   0,   0,   0,   0,   0,\n",
       "          0,   0],\n",
       "       [  0,   0,   0,   0,   0,   0,   0,   0,   0,   0,   0,   0,   0,\n",
       "         81, 240, 253, 253, 119,  25,   0,   0,   0,   0,   0,   0,   0,\n",
       "          0,   0],\n",
       "       [  0,   0,   0,   0,   0,   0,   0,   0,   0,   0,   0,   0,   0,\n",
       "          0,  45, 186, 253, 253, 150,  27,   0,   0,   0,   0,   0,   0,\n",
       "          0,   0],\n",
       "       [  0,   0,   0,   0,   0,   0,   0,   0,   0,   0,   0,   0,   0,\n",
       "          0,   0,  16,  93, 252, 253, 187,   0,   0,   0,   0,   0,   0,\n",
       "          0,   0],\n",
       "       [  0,   0,   0,   0,   0,   0,   0,   0,   0,   0,   0,   0,   0,\n",
       "          0,   0,   0,   0, 249, 253, 249,  64,   0,   0,   0,   0,   0,\n",
       "          0,   0],\n",
       "       [  0,   0,   0,   0,   0,   0,   0,   0,   0,   0,   0,   0,   0,\n",
       "          0,  46, 130, 183, 253, 253, 207,   2,   0,   0,   0,   0,   0,\n",
       "          0,   0],\n",
       "       [  0,   0,   0,   0,   0,   0,   0,   0,   0,   0,   0,   0,  39,\n",
       "        148, 229, 253, 253, 253, 250, 182,   0,   0,   0,   0,   0,   0,\n",
       "          0,   0],\n",
       "       [  0,   0,   0,   0,   0,   0,   0,   0,   0,   0,  24, 114, 221,\n",
       "        253, 253, 253, 253, 201,  78,   0,   0,   0,   0,   0,   0,   0,\n",
       "          0,   0],\n",
       "       [  0,   0,   0,   0,   0,   0,   0,   0,  23,  66, 213, 253, 253,\n",
       "        253, 253, 198,  81,   2,   0,   0,   0,   0,   0,   0,   0,   0,\n",
       "          0,   0],\n",
       "       [  0,   0,   0,   0,   0,   0,  18, 171, 219, 253, 253, 253, 253,\n",
       "        195,  80,   9,   0,   0,   0,   0,   0,   0,   0,   0,   0,   0,\n",
       "          0,   0],\n",
       "       [  0,   0,   0,   0,  55, 172, 226, 253, 253, 253, 253, 244, 133,\n",
       "         11,   0,   0,   0,   0,   0,   0,   0,   0,   0,   0,   0,   0,\n",
       "          0,   0],\n",
       "       [  0,   0,   0,   0, 136, 253, 253, 253, 212, 135, 132,  16,   0,\n",
       "          0,   0,   0,   0,   0,   0,   0,   0,   0,   0,   0,   0,   0,\n",
       "          0,   0],\n",
       "       [  0,   0,   0,   0,   0,   0,   0,   0,   0,   0,   0,   0,   0,\n",
       "          0,   0,   0,   0,   0,   0,   0,   0,   0,   0,   0,   0,   0,\n",
       "          0,   0],\n",
       "       [  0,   0,   0,   0,   0,   0,   0,   0,   0,   0,   0,   0,   0,\n",
       "          0,   0,   0,   0,   0,   0,   0,   0,   0,   0,   0,   0,   0,\n",
       "          0,   0],\n",
       "       [  0,   0,   0,   0,   0,   0,   0,   0,   0,   0,   0,   0,   0,\n",
       "          0,   0,   0,   0,   0,   0,   0,   0,   0,   0,   0,   0,   0,\n",
       "          0,   0]], dtype=uint8)"
      ]
     },
     "execution_count": 17,
     "metadata": {},
     "output_type": "execute_result"
    }
   ],
   "source": [
    "X_train[0]"
   ]
  },
  {
   "cell_type": "code",
   "execution_count": 18,
   "metadata": {},
   "outputs": [],
   "source": [
    "#데이터 정규화 -> 입력 값을 0부터 1의 값으로 변경\n",
    "#정규화된 입력값은 경사하강법으로 모델을 학습할 떄 더욱 쉽고 빠르게 w*, b*를 찾게 도와줌\n",
    "X_train = X_train.astype('float32')\n",
    "X_test = X_test.astype('float32')\n",
    "X_train /= 255\n",
    "X_test /= 255"
   ]
  },
  {
   "cell_type": "code",
   "execution_count": 19,
   "metadata": {},
   "outputs": [
    {
     "name": "stdout",
     "output_type": "stream",
     "text": [
      "train target (count) :(60000,)\n",
      "test target (count) :(10000,)\n"
     ]
    }
   ],
   "source": [
    "# y는 손글씨 데이터에 해당하는 숫자\n",
    "print(\"train target (count) :\" + str(y_train.shape))\n",
    "print(\"test target (count) :\" + str(y_test.shape))"
   ]
  },
  {
   "cell_type": "code",
   "execution_count": 20,
   "metadata": {},
   "outputs": [
    {
     "name": "stdout",
     "output_type": "stream",
     "text": [
      "sample from train :5\n",
      "sample from test :7\n"
     ]
    }
   ],
   "source": [
    "print(\"sample from train :\" + str(y_train[0])) #샘플 숫자 출력\n",
    "print(\"sample from test :\" + str(y_test[0]))"
   ]
  },
  {
   "cell_type": "code",
   "execution_count": 23,
   "metadata": {},
   "outputs": [],
   "source": [
    "#데이터 단순화\n",
    "input_dim = 784 #28 픽셀 x 28 픽셀\n",
    "X_train = X_train.reshape(60000, input_dim)\n",
    "X_test = X_test.reshape(10000, input_dim)\n"
   ]
  },
  {
   "cell_type": "code",
   "execution_count": 25,
   "metadata": {},
   "outputs": [],
   "source": [
    "#소프트 맥스\n",
    "# 실제값과의 크로스 엔트로피를 계산하기 위해 실제값을 '원 핫 인코딩'으로 변환\n",
    "num_classes = 10\n",
    "y_train = to_categorical(y_train, num_classes)\n",
    "y_test = to_categorical(y_test, num_classes)"
   ]
  },
  {
   "cell_type": "code",
   "execution_count": 27,
   "metadata": {},
   "outputs": [
    {
     "name": "stdout",
     "output_type": "stream",
     "text": [
      "[0. 0. 0. 0. 0. 1. 0. 0. 0. 0.]\n"
     ]
    }
   ],
   "source": [
    "print(y_train[0]) # 5였던 값이 [0, 0, 0, 0, 0, 1, 0, 0, 0, 0] 로 변환"
   ]
  },
  {
   "cell_type": "code",
   "execution_count": 28,
   "metadata": {},
   "outputs": [],
   "source": [
    "#케라스로 소프트맥스 구현\n",
    "model = Sequential()\n",
    "model.add(Dense(input_dim=input_dim, units=10,activation='softmax'))"
   ]
  },
  {
   "cell_type": "code",
   "execution_count": 30,
   "metadata": {},
   "outputs": [
    {
     "name": "stdout",
     "output_type": "stream",
     "text": [
      "10000/10000 [==============================] - 1s 78us/step\n",
      "test accuracy: 0.8902\n"
     ]
    }
   ],
   "source": [
    "#모델 학습\n",
    "model.compile(optimizer = 'sgd', loss='categorical_crossentropy',metrics=['accuracy']) #10개의 클래스로 분류 -> categorical_crossentropy 사용\n",
    "model.fit(X_train, y_train, batch_size=2048, epochs=100, verbose=0)\n",
    "\n",
    "#모델 테스트\n",
    "score = model.evaluate(X_test, y_test)\n",
    "print('test accuracy:',score[1])"
   ]
  },
  {
   "cell_type": "code",
   "execution_count": 31,
   "metadata": {},
   "outputs": [
    {
     "name": "stdout",
     "output_type": "stream",
     "text": [
      "_________________________________________________________________\n",
      "Layer (type)                 Output Shape              Param #   \n",
      "=================================================================\n",
      "dense_5 (Dense)              (None, 10)                7850      \n",
      "=================================================================\n",
      "Total params: 7,850\n",
      "Trainable params: 7,850\n",
      "Non-trainable params: 0\n",
      "_________________________________________________________________\n"
     ]
    }
   ],
   "source": [
    "#모델 요약\n",
    "model.summary()"
   ]
  },
  {
   "cell_type": "code",
   "execution_count": 32,
   "metadata": {},
   "outputs": [
    {
     "data": {
      "text/plain": [
       "[<tf.Variable 'dense_5/kernel:0' shape=(784, 10) dtype=float32_ref>,\n",
       " <tf.Variable 'dense_5/bias:0' shape=(10,) dtype=float32_ref>]"
      ]
     },
     "execution_count": 32,
     "metadata": {},
     "output_type": "execute_result"
    }
   ],
   "source": [
    "model.layers[0].weights"
   ]
  },
  {
   "cell_type": "code",
   "execution_count": null,
   "metadata": {},
   "outputs": [],
   "source": []
  }
 ],
 "metadata": {
  "kernelspec": {
   "display_name": "Python 3",
   "language": "python",
   "name": "python3"
  },
  "language_info": {
   "codemirror_mode": {
    "name": "ipython",
    "version": 3
   },
   "file_extension": ".py",
   "mimetype": "text/x-python",
   "name": "python",
   "nbconvert_exporter": "python",
   "pygments_lexer": "ipython3",
   "version": "3.6.4"
  }
 },
 "nbformat": 4,
 "nbformat_minor": 4
}

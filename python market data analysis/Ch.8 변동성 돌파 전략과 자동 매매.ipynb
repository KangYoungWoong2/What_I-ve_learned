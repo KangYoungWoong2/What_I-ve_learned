{
 "cells": [
  {
   "cell_type": "code",
   "execution_count": null,
   "metadata": {},
   "outputs": [],
   "source": [
    "#래리 윌리엄스의 변동성 돌파 전략 : 전날 종가의 K%이상 상승시 매수 후 장 마감시 매도\n",
    "#전략 (i) 전날 고가에서 저가를 빼 가격 변동폭 계산 (ii) 장중 가격이 오늘 시가 + 전일 변동폭 * K를 돌파할 때 매수(일반적으로 K=0.5) (iii) 장마감시 무조건 매도\n",
    "\n",
    "#크레온 플러스 API\n",
    "#현재 파이썬에서 사용 가능한 API를 제공하는 국내 증권회사는 키움, 대신, 이베스트, 여기선 대신 증권의 크레온 플러스 API 사용\n",
    "#크레온 비대면 계좌개설 -> 시스템 트레이딩 신청 -> HTS다운(API도 같이 다운 됨) -> HTS에서 크레온+ 로그인 => 나중에 책보고 따라해보기"
   ]
  }
 ],
 "metadata": {
  "kernelspec": {
   "display_name": "Python 3",
   "language": "python",
   "name": "python3"
  },
  "language_info": {
   "codemirror_mode": {
    "name": "ipython",
    "version": 3
   },
   "file_extension": ".py",
   "mimetype": "text/x-python",
   "name": "python",
   "nbconvert_exporter": "python",
   "pygments_lexer": "ipython3",
   "version": "3.7.6"
  }
 },
 "nbformat": 4,
 "nbformat_minor": 4
}

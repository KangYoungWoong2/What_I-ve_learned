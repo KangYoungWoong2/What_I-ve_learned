{
 "cells": [
  {
   "cell_type": "code",
   "execution_count": 1,
   "metadata": {},
   "outputs": [],
   "source": [
    "\"\"\"\n",
    "4. 의사결정트리\n",
    "    -데이터 분류 및 회귀에 사용되는 지도학습 알고리즘\n",
    "    -장점: 결과값에 대한 이해가 쉬우며 정확도가 높음, 수치 및 범주데이터 모두에 사용 가능\n",
    "    -단점: 과대적합되기 쉬움\n",
    "    \n",
    "    (1) [이론]\n",
    "        (i) 의사결정 트리 알고리즘의 이해\n",
    "            -머신러닝에서 의미있는(효율적인) 질문이란 의미있는 특징을 의미, 의사결정 트리에서 영향력이 큰 특징을 이용하여 레이블을 찾게 됨\n",
    "        \n",
    "        (ii) 의사결정 트리 알고리즘과 정보 엔트로피의 관계\n",
    "            - 정보이론에서 불확실성을 수치로 표현한 값이 '알고리즘', '정보이득'이란 질문 이전 엔트로피에서 질문 후의 엔트로피를 뺀 값 = 불확실성이 줄어든 정도 ; 수식으로 표현하면 G(T,X) = Entropy(T) - Entropy(T,X)\n",
    "            - 확률을 바탕으로 엔트로피를 구하면 Entropy = ∑(i=1->m){-p_i*log_2(p_i)} = ∑(c∈X){P(c)*E(c)} , X는 선택된 특징, c는 선택된 특징에 의해 생성되는 하위 노드, P(c)는 선택된 특징에 의해 생성된 하위 노드에 데이터가 속할 확률, E(c)는 선택된 특징에 의해 생성된 하위 노드의 엔트로피\n",
    "            - 지니계수 : 특징에 의한 분리가 이진분류로 나타날 경우 사용; 사이킷런의 의사결정트리는 CART(Classification and regression tree) 타입 ->기본적으로 지니계수를 사용\n",
    "            - 지니계수가 높을 수록 순도가 높음 = 그룹 내 데이터들의 속성들이 많이 일치\n",
    "            ex)   군대여부     긴생머리 여부    성별\n",
    "                1   O               X            남\n",
    "                2   X               X            여\n",
    "                3   O               X            남\n",
    "                4   X               O            여\n",
    "                5   O               X            남\n",
    "                6   X               X            여\n",
    "                군대 or 긴생머리 특징을 통해 남자와 여자를 구분하는게 목적일 때\n",
    "                엔트로피 = -p(남자)*log(p(남자)) - p(여자)*log(p(여자)) = -(3/6) * log(3/6) - (3/6) * log(3/6) = 1 : 최초 엔트로피는 1\n",
    "                군대라는 특징으로 분리했을 때 엔트로피 = 3/6 * E[3,0] + 3/6 * E[0,3] = 3/6 * (-(3/3)*log(3/3) - (0/3)*log(3/0)) + 3/6 * (-(0/3)log0 - (3/3)*log(3/3)) = 0 ; E[3,0],E[0,3] 은 군대라는 특징으로 갈려진 그룹의 Entropy\n",
    "                긴생머리라는 특징으로 분리했을 때 엔트로피 = 1/6 * E[0,1] + 5/6*E[3,2] = 1/6 *(-(0/1)*log(0/1) - (1/1)*log(1/1)) + 5/6 * (-(3/5)*log(3/5) - (2/5)*log(2/5)) = 0.966\n",
    "                정보이득은 군대 특징을 이용했을 때 1, 긴생머리 특징을 이용했을 때 0.034\n",
    "                \n",
    "                군대특징을 이용한 지니계수는\n",
    "                군대를 다녀옴 : (0/3)^2 + (3/3)^2 = 1\n",
    "                군대를 다녀오지 않음 : (3/3)^2 + (0/3)^2 = 1\n",
    "                군대특징의 지니계수 = 3/6 * 1 + 3/6 * 1 = 1\n",
    "                \n",
    "                긴생머리특징을 이용한 지니계수는\n",
    "                긴생머리 : (1/1)^2 + (0/1)^2 = 1\n",
    "                긴생머리 아님 : (2/5)^2 + (3/5)^2 = 13/25\n",
    "                긴생머리 특징의 지니계수 = 1/6 * 1 + 5/6 * 13/25 = 0.6\n",
    "                \n",
    "                -> 군대의 지니계수가 1로, 긴새엄리 지니계수보다 높으므로 상위 노드로 이용\n",
    "                \n",
    "        (iii) 다중분류\n",
    "            -의사결정트리는 다중분류에도 탁월한 성능\n",
    "        \n",
    "        \n",
    "\"\"\"\n",
    "\n",
    "#[실습] 서울 지역(강동, 강서, 강남, 강북) 다중 분류하기\n",
    "#테스트 데이터\n",
    "import pandas as pd\n",
    "district_dict_list = [\n",
    "            {'district': 'Gangseo-gu', 'latitude': 37.551000, 'longitude': 126.849500, 'label':'Gangseo'},\n",
    "            {'district': 'Yangcheon-gu', 'latitude': 37.52424, 'longitude': 126.855396, 'label':'Gangseo'},\n",
    "            {'district': 'Guro-gu', 'latitude': 37.4954, 'longitude': 126.8874, 'label':'Gangseo'},\n",
    "            {'district': 'Geumcheon-gu', 'latitude': 37.4519, 'longitude': 126.9020, 'label':'Gangseo'},\n",
    "            {'district': 'Mapo-gu', 'latitude': 37.560229, 'longitude': 126.908728, 'label':'Gangseo'},\n",
    "            \n",
    "            {'district': 'Gwanak-gu', 'latitude': 37.487517, 'longitude': 126.915065, 'label':'Gangnam'},\n",
    "            {'district': 'Dongjak-gu', 'latitude': 37.5124, 'longitude': 126.9393, 'label':'Gangnam'},\n",
    "            {'district': 'Seocho-gu', 'latitude': 37.4837, 'longitude': 127.0324, 'label':'Gangnam'},\n",
    "            {'district': 'Gangnam-gu', 'latitude': 37.5172, 'longitude': 127.0473, 'label':'Gangnam'},\n",
    "            {'district': 'Songpa-gu', 'latitude': 37.503510, 'longitude': 127.117898, 'label':'Gangnam'},\n",
    "   \n",
    "            {'district': 'Yongsan-gu', 'latitude': 37.532561, 'longitude': 127.008605, 'label':'Gangbuk'},\n",
    "            {'district': 'Jongro-gu', 'latitude': 37.5730, 'longitude': 126.9794, 'label':'Gangbuk'},\n",
    "            {'district': 'Seongbuk-gu', 'latitude': 37.603979, 'longitude': 127.056344, 'label':'Gangbuk'},\n",
    "            {'district': 'Nowon-gu', 'latitude': 37.6542, 'longitude': 127.0568, 'label':'Gangbuk'},\n",
    "            {'district': 'Dobong-gu', 'latitude': 37.6688, 'longitude': 127.0471, 'label':'Gangbuk'},\n",
    "     \n",
    "            {'district': 'Seongdong-gu', 'latitude': 37.557340, 'longitude': 127.041667, 'label':'Gangdong'},\n",
    "            {'district': 'Dongdaemun-gu', 'latitude': 37.575759, 'longitude': 127.025288, 'label':'Gangdong'},\n",
    "            {'district': 'Gwangjin-gu', 'latitude': 37.557562, 'longitude': 127.083467, 'label':'Gangdong'},\n",
    "            {'district': 'Gangdong-gu', 'latitude': 37.554194, 'longitude': 127.151405, 'label':'Gangdong'},\n",
    "            {'district': 'Jungrang-gu', 'latitude': 37.593684, 'longitude': 127.090384, 'label':'Gangdong'}\n",
    "         ]\n",
    "train_df = pd.DataFrame(district_dict_list)\n",
    "tarin_df = train_df[['district', 'longitude', 'latitude','label']]\n",
    "\n",
    "#테스트 데이터\n",
    "dong_dict_list = [\n",
    "            {'dong': 'Gaebong-dong', 'latitude': 37.489853, 'longitude': 126.854547, 'label':'Gangseo'},\n",
    "            {'dong': 'Gochuk-dong', 'latitude': 37.501394, 'longitude': 126.859245, 'label':'Gangseo'},\n",
    "            {'dong': 'Hwagok-dong', 'latitude': 37.537759, 'longitude': 126.847951, 'label':'Gangseo'},\n",
    "            {'dong': 'Banghwa-dong', 'latitude': 37.575817, 'longitude': 126.815719, 'label':'Gangseo'},\n",
    "            {'dong': 'Sangam-dong', 'latitude': 37.577039, 'longitude': 126.891620, 'label':'Gangseo'},\n",
    "            \n",
    "            {'dong': 'Nonhyun-dong', 'latitude': 37.508838, 'longitude': 127.030720, 'label':'Gangnam'},\n",
    "            {'dong': 'Daechi-dong', 'latitude': 37.501163, 'longitude': 127.057193, 'label':'Gangnam'},\n",
    "            {'dong': 'Seocho-dong', 'latitude': 37.486401, 'longitude': 127.018281, 'label':'Gangnam'},\n",
    "            {'dong': 'Bangbae-dong', 'latitude': 37.483279, 'longitude': 126.988194, 'label':'Gangnam'},\n",
    "            {'dong': 'Dogok-dong', 'latitude': 37.492896, 'longitude': 127.043159, 'label':'Gangnam'},\n",
    "    \n",
    "            {'dong': 'Pyoungchang-dong', 'latitude': 37.612129, 'longitude': 126.975724, 'label':'Gangbuk'},\n",
    "            {'dong': 'Sungbuk-dong', 'latitude': 37.597916, 'longitude': 126.998067, 'label':'Gangbuk'},\n",
    "            {'dong': 'Ssangmoon-dong', 'latitude': 37.648094, 'longitude': 127.030421, 'label':'Gangbuk'},\n",
    "            {'dong': 'Ui-dong', 'latitude': 37.648446, 'longitude': 127.011396, 'label':'Gangbuk'},\n",
    "            {'dong': 'Samcheong-dong', 'latitude': 37.591109, 'longitude': 126.980488, 'label':'Gangbuk'},\n",
    "    \n",
    "            {'dong': 'Hwayang-dong', 'latitude': 37.544234, 'longitude': 127.071648, 'label':'Gangdong'},\n",
    "            {'dong': 'Gui-dong', 'latitude': 37.543757, 'longitude': 127.086803, 'label':'Gangdong'},\n",
    "            {'dong': 'Neung-dong', 'latitude': 37.553102, 'longitude': 127.080248, 'label':'Gangdong'},\n",
    "            {'dong': 'Amsa-dong', 'latitude': 37.552370, 'longitude': 127.127124, 'label':'Gangdong'},\n",
    "            {'dong': 'Chunho-dong', 'latitude': 37.547436, 'longitude': 127.137382, 'label':'Gangdong'}\n",
    "         ]\n",
    "\n",
    "test_df = pd.DataFrame(dong_dict_list)\n",
    "test_df = test_df[['dong', 'longitude', 'latitude', 'label']]"
   ]
  },
  {
   "cell_type": "code",
   "execution_count": 2,
   "metadata": {},
   "outputs": [
    {
     "data": {
      "text/plain": [
       "Gangseo     5\n",
       "Gangdong    5\n",
       "Gangnam     5\n",
       "Gangbuk     5\n",
       "Name: label, dtype: int64"
      ]
     },
     "execution_count": 2,
     "metadata": {},
     "output_type": "execute_result"
    }
   ],
   "source": [
    "#학습 데이터의 레이블 분포\n",
    "train_df.label.value_counts()"
   ]
  },
  {
   "cell_type": "code",
   "execution_count": 3,
   "metadata": {},
   "outputs": [
    {
     "data": {
      "text/plain": [
       "Text(0.5, 1, 'district visualization in 2d plane')"
      ]
     },
     "execution_count": 3,
     "metadata": {},
     "output_type": "execute_result"
    },
    {
     "data": {
      "image/png": "[encoded data removed]",
      "text/plain": [
       "<Figure size 447.75x360 with 1 Axes>"
      ]
     },
     "metadata": {
      "needs_background": "light"
     },
     "output_type": "display_data"
    }
   ],
   "source": [
    "#데이터 시각화\n",
    "import matplotlib.pyplot as plt\n",
    "import seaborn as sns\n",
    "%matplotlib inline\n",
    "\n",
    "sns.lmplot('longitude', 'latitude', data=train_df, fit_reg = False , scatter_kws = {\"s\":150}, markers=[\"o\",\"x\",\"+\",\"*\"], hue=\"label\")\n",
    "plt.title('district visualization in 2d plane')"
   ]
  },
  {
   "cell_type": "code",
   "execution_count": 4,
   "metadata": {},
   "outputs": [],
   "source": [
    "#데이터 다듬기 - 구 이름과 동 이름은 학습에 필요없으므로 제거\n",
    "train_df.drop(['district'], axis=1, inplace = True)\n",
    "test_df.drop(['dong'],axis=1, inplace = True)\n",
    "\n",
    "X_train = train_df[['longitude','latitude']]\n",
    "Y_train = train_df[['label']]\n",
    "\n",
    "X_test = test_df[['longitude','latitude']]\n",
    "Y_test = test_df[['label']]"
   ]
  },
  {
   "cell_type": "code",
   "execution_count": 5,
   "metadata": {},
   "outputs": [
    {
     "name": "stderr",
     "output_type": "stream",
     "text": [
      "C:\\Users\\1\\anaconda3\\envs\\virtualtensor3.6\\lib\\site-packages\\sklearn\\preprocessing\\label.py:111: DataConversionWarning: A column-vector y was passed when a 1d array was expected. Please change the shape of y to (n_samples, ), for example using ravel().\n",
      "  y = column_or_1d(y, warn=True)\n"
     ]
    },
    {
     "data": {
      "image/png": "[encoded data removed]",
      "text/plain": [
       "<Figure size 432x288 with 1 Axes>"
      ]
     },
     "metadata": {
      "needs_background": "light"
     },
     "output_type": "display_data"
    }
   ],
   "source": [
    "# 모델 학습\n",
    "from sklearn import tree\n",
    "import numpy as np\n",
    "from sklearn import preprocessing\n",
    "\n",
    "#학습된 의사결정 트리를 시각화하면\n",
    "def display_decision_surface(clf,X,y):\n",
    "    x_min = X.longitude.min() - 0.01\n",
    "    x_max = X.longitude.max() + 0.01\n",
    "    y_min = X.latitude.min() - 0.01\n",
    "    y_max = X.latitude.max() + 0.01\n",
    "    \n",
    "    n_classes = len(le.classes_) #le.classes_는 label의 개수\n",
    "    plot_colors = 'rywb'\n",
    "    plot_step = 0.001\n",
    "    \n",
    "    xx, yy = np.meshgrid(np.arange(x_min, x_max, plot_step), np.arange(y_min, y_max, plot_step)) #좌표계 만들기\n",
    "    \n",
    "    Z = clf.predict(np.c_[xx.ravel(), yy.ravel()]) #좌표계에 분류기준 만들기\n",
    "    Z = Z.reshape(xx.shape) \n",
    "    cs = plt.contourf(xx, yy, Z, cmap = plt.cm.RdYlBu) #분류기준을 색으로 표현(그림에서 바탕색으로 표시되는 부분)\n",
    "    \n",
    "    for i, color in zip(range(n_classes), plot_colors):\n",
    "        idx = np.where(y==i)\n",
    "        plt.scatter(X.loc[idx].longitude, X.loc[idx].latitude, c=color, label = le.classes_[i], cmap = plt.cm.RdYlBu, edgecolor = 'black', s=200)\n",
    "    \n",
    "    plt.title(\"Decision surface of a decision tree\", fontsize = 16)\n",
    "    plt.legend(bbox_to_anchor=(1.05,1), loc=2, borderaxespad=0, fontsize = 14)\n",
    "    plt.xlabel('longitude', fontsize=16)\n",
    "    plt.ylabel('latitude', fontsize = 16)\n",
    "    plt.rcParams['figure.figsize'] = [7,5]\n",
    "    plt.rcParams['font.size'] = 14\n",
    "    plt.rcParams['xtick.labelsize'] = 14\n",
    "    plt.rcParams['ytick.labelsize'] = 14\n",
    "    plt.show()\n",
    "    \n",
    "le = preprocessing.LabelEncoder()\n",
    "y_encoded = le.fit_transform(Y_train)\n",
    "clf = tree.DecisionTreeClassifier(random_state=35).fit(X_train, y_encoded)\n",
    "\n",
    "display_decision_surface(clf, X_train, y_encoded)\n",
    "    "
   ]
  },
  {
   "cell_type": "code",
   "execution_count": 6,
   "metadata": {},
   "outputs": [
    {
     "data": {
      "image/png": "[encoded data removed]",
      "text/plain": [
       "<Figure size 504x360 with 1 Axes>"
      ]
     },
     "metadata": {
      "needs_background": "light"
     },
     "output_type": "display_data"
    }
   ],
   "source": [
    "#위의 결과는 파라미터를 따로 설정하지 않았기 때문에 과대적합되었음\n",
    "#과대적합을 피하기 위해 별도의 파라미터를 설정해주면\n",
    "clf = tree.DecisionTreeClassifier(max_depth=4, #트리의 최대 한도 깊이\n",
    "                                  min_samples_split=2, #자식 노드를 갖기 위한 최소한의 데이터 개수\n",
    "                                  min_samples_leaf=2, #리프 노드의 최소 데이터 개수\n",
    "                                  random_state=70 #동일한 정수를 입력했을 때 결과를 항상 같게 만들어주는 파라미터\n",
    "                                 ).fit(X_train, y_encoded.ravel())\n",
    "display_decision_surface(clf, X_train, y_encoded)\n"
   ]
  },
  {
   "cell_type": "code",
   "execution_count": 7,
   "metadata": {},
   "outputs": [
    {
     "data": {
      "text/plain": [
       "array(['Gangbuk', 'Gangdong', 'Gangnam', 'Gangseo'], dtype=object)"
      ]
     },
     "execution_count": 7,
     "metadata": {},
     "output_type": "execute_result"
    }
   ],
   "source": [
    "le.classes_"
   ]
  },
  {
   "cell_type": "code",
   "execution_count": 8,
   "metadata": {},
   "outputs": [
    {
     "data": {
      "image/png": "[encoded data removed]",
      "text/plain": [
       "<Figure size 504x360 with 1 Axes>"
      ]
     },
     "metadata": {
      "needs_background": "light"
     },
     "output_type": "display_data"
    }
   ],
   "source": [
    "x_min = X_train.longitude.min() - 0.01\n",
    "x_max = X_train.longitude.max() + 0.01\n",
    "y_min = X_train.latitude.min() - 0.01\n",
    "y_max = X_train.latitude.max() + 0.01\n",
    "\n",
    "xx, yy = np.meshgrid(np.arange(x_min, x_max, 0.01), np.arange(y_min, y_max, 0.01)) #좌표계 만들기\n",
    "    \n",
    "Z = clf.predict(np.c_[xx.ravel(), yy.ravel()])\n",
    "Z = Z.reshape(xx.shape)\n",
    "cs = plt.contourf(xx, yy, Z, cmap = plt.cm.RdYlBu)"
   ]
  },
  {
   "cell_type": "code",
   "execution_count": 11,
   "metadata": {
    "scrolled": false
   },
   "outputs": [
    {
     "data": {
      "image/svg+xml": [
       "<?xml version=\"1.0\" encoding=\"UTF-8\" standalone=\"no\"?>\r\n",
       "<!DOCTYPE svg PUBLIC \"-//W3C//DTD SVG 1.1//EN\"\r\n",
       " \"http://www.w3.org/Graphics/SVG/1.1/DTD/svg11.dtd\">\r\n",
       "<!-- Generated by graphviz version 2.44.2~dev.20200915.0443 (20200915.0443)\r\n",
       " -->\r\n",
       "<!-- Title: Tree Pages: 1 -->\r\n",
       "<svg width=\"432pt\" height=\"552pt\"\r\n",
       " viewBox=\"0.00 0.00 432.00 552.00\" xmlns=\"http://www.w3.org/2000/svg\" xmlns:xlink=\"http://www.w3.org/1999/xlink\">\r\n",
       "<g id=\"graph0\" class=\"graph\" transform=\"scale(1 1) rotate(0) translate(4 548)\">\r\n",
       "<title>Tree</title>\r\n",
       "<polygon fill=\"white\" stroke=\"transparent\" points=\"-4,4 -4,-548 428,-548 428,4 -4,4\"/>\r\n",
       "<!-- 0 -->\r\n",
       "<g id=\"node1\" class=\"node\">\r\n",
       "<title>0</title>\r\n",
       "<path fill=\"transparent\" stroke=\"black\" d=\"M196.5,-544C196.5,-544 77.5,-544 77.5,-544 71.5,-544 65.5,-538 65.5,-532 65.5,-532 65.5,-473 65.5,-473 65.5,-467 71.5,-461 77.5,-461 77.5,-461 196.5,-461 196.5,-461 202.5,-461 208.5,-467 208.5,-473 208.5,-473 208.5,-532 208.5,-532 208.5,-538 202.5,-544 196.5,-544\"/>\r\n",
       "<text text-anchor=\"start\" x=\"73.5\" y=\"-528.8\" font-family=\"Helvetica,sans-Serif\" font-size=\"14.00\">longitude ≤ 126.912</text>\r\n",
       "<text text-anchor=\"start\" x=\"103.5\" y=\"-513.8\" font-family=\"Helvetica,sans-Serif\" font-size=\"14.00\">gini = 0.75</text>\r\n",
       "<text text-anchor=\"start\" x=\"93.5\" y=\"-498.8\" font-family=\"Helvetica,sans-Serif\" font-size=\"14.00\">samples = 20</text>\r\n",
       "<text text-anchor=\"start\" x=\"81\" y=\"-483.8\" font-family=\"Helvetica,sans-Serif\" font-size=\"14.00\">value = [5, 5, 5, 5]</text>\r\n",
       "<text text-anchor=\"start\" x=\"84\" y=\"-468.8\" font-family=\"Helvetica,sans-Serif\" font-size=\"14.00\">class = Gangbuk</text>\r\n",
       "</g>\r\n",
       "<!-- 1 -->\r\n",
       "<g id=\"node2\" class=\"node\">\r\n",
       "<title>1</title>\r\n",
       "<path fill=\"#d739e5\" stroke=\"black\" d=\"M116,-417.5C116,-417.5 12,-417.5 12,-417.5 6,-417.5 0,-411.5 0,-405.5 0,-405.5 0,-361.5 0,-361.5 0,-355.5 6,-349.5 12,-349.5 12,-349.5 116,-349.5 116,-349.5 122,-349.5 128,-355.5 128,-361.5 128,-361.5 128,-405.5 128,-405.5 128,-411.5 122,-417.5 116,-417.5\"/>\r\n",
       "<text text-anchor=\"start\" x=\"35\" y=\"-402.3\" font-family=\"Helvetica,sans-Serif\" font-size=\"14.00\">gini = 0.0</text>\r\n",
       "<text text-anchor=\"start\" x=\"24.5\" y=\"-387.3\" font-family=\"Helvetica,sans-Serif\" font-size=\"14.00\">samples = 5</text>\r\n",
       "<text text-anchor=\"start\" x=\"8\" y=\"-372.3\" font-family=\"Helvetica,sans-Serif\" font-size=\"14.00\">value = [0, 0, 0, 5]</text>\r\n",
       "<text text-anchor=\"start\" x=\"10\" y=\"-357.3\" font-family=\"Helvetica,sans-Serif\" font-size=\"14.00\">class = Gangseo</text>\r\n",
       "</g>\r\n",
       "<!-- 0&#45;&gt;1 -->\r\n",
       "<g id=\"edge1\" class=\"edge\">\r\n",
       "<title>0:&#45;&gt;1:</title>\r\n",
       "<path fill=\"none\" stroke=\"black\" d=\"M111.67,-460.91C104.72,-449.76 97.17,-437.66 90.17,-426.44\"/>\r\n",
       "<polygon fill=\"black\" stroke=\"black\" points=\"92.96,-424.3 84.69,-417.67 87.02,-428 92.96,-424.3\"/>\r\n",
       "<text text-anchor=\"middle\" x=\"79.05\" y=\"-438.32\" font-family=\"Helvetica,sans-Serif\" font-size=\"14.00\">True</text>\r\n",
       "</g>\r\n",
       "<!-- 2 -->\r\n",
       "<g id=\"node3\" class=\"node\">\r\n",
       "<title>2</title>\r\n",
       "<path fill=\"transparent\" stroke=\"black\" d=\"M262,-425C262,-425 158,-425 158,-425 152,-425 146,-419 146,-413 146,-413 146,-354 146,-354 146,-348 152,-342 158,-342 158,-342 262,-342 262,-342 268,-342 274,-348 274,-354 274,-354 274,-413 274,-413 274,-419 268,-425 262,-425\"/>\r\n",
       "<text text-anchor=\"start\" x=\"157\" y=\"-409.8\" font-family=\"Helvetica,sans-Serif\" font-size=\"14.00\">latitude ≤ 37.525</text>\r\n",
       "<text text-anchor=\"start\" x=\"172.5\" y=\"-394.8\" font-family=\"Helvetica,sans-Serif\" font-size=\"14.00\">gini = 0.667</text>\r\n",
       "<text text-anchor=\"start\" x=\"166.5\" y=\"-379.8\" font-family=\"Helvetica,sans-Serif\" font-size=\"14.00\">samples = 15</text>\r\n",
       "<text text-anchor=\"start\" x=\"154\" y=\"-364.8\" font-family=\"Helvetica,sans-Serif\" font-size=\"14.00\">value = [5, 5, 5, 0]</text>\r\n",
       "<text text-anchor=\"start\" x=\"157\" y=\"-349.8\" font-family=\"Helvetica,sans-Serif\" font-size=\"14.00\">class = Gangbuk</text>\r\n",
       "</g>\r\n",
       "<!-- 0&#45;&gt;2 -->\r\n",
       "<g id=\"edge2\" class=\"edge\">\r\n",
       "<title>0:&#45;&gt;2:</title>\r\n",
       "<path fill=\"none\" stroke=\"black\" d=\"M162.33,-460.91C167.82,-452.1 173.69,-442.7 179.36,-433.61\"/>\r\n",
       "<polygon fill=\"black\" stroke=\"black\" points=\"182.39,-435.36 184.72,-425.02 176.45,-431.65 182.39,-435.36\"/>\r\n",
       "<text text-anchor=\"middle\" x=\"190.36\" y=\"-445.68\" font-family=\"Helvetica,sans-Serif\" font-size=\"14.00\">False</text>\r\n",
       "</g>\r\n",
       "<!-- 3 -->\r\n",
       "<g id=\"node4\" class=\"node\">\r\n",
       "<title>3</title>\r\n",
       "<path fill=\"#399de5\" stroke=\"black\" d=\"M189,-298.5C189,-298.5 85,-298.5 85,-298.5 79,-298.5 73,-292.5 73,-286.5 73,-286.5 73,-242.5 73,-242.5 73,-236.5 79,-230.5 85,-230.5 85,-230.5 189,-230.5 189,-230.5 195,-230.5 201,-236.5 201,-242.5 201,-242.5 201,-286.5 201,-286.5 201,-292.5 195,-298.5 189,-298.5\"/>\r\n",
       "<text text-anchor=\"start\" x=\"108\" y=\"-283.3\" font-family=\"Helvetica,sans-Serif\" font-size=\"14.00\">gini = 0.0</text>\r\n",
       "<text text-anchor=\"start\" x=\"97.5\" y=\"-268.3\" font-family=\"Helvetica,sans-Serif\" font-size=\"14.00\">samples = 5</text>\r\n",
       "<text text-anchor=\"start\" x=\"81\" y=\"-253.3\" font-family=\"Helvetica,sans-Serif\" font-size=\"14.00\">value = [0, 0, 5, 0]</text>\r\n",
       "<text text-anchor=\"start\" x=\"81.5\" y=\"-238.3\" font-family=\"Helvetica,sans-Serif\" font-size=\"14.00\">class = Gangnam</text>\r\n",
       "</g>\r\n",
       "<!-- 2&#45;&gt;3 -->\r\n",
       "<g id=\"edge3\" class=\"edge\">\r\n",
       "<title>2:&#45;&gt;3:</title>\r\n",
       "<path fill=\"none\" stroke=\"black\" d=\"M184.67,-341.91C177.72,-330.76 170.17,-318.66 163.17,-307.44\"/>\r\n",
       "<polygon fill=\"black\" stroke=\"black\" points=\"165.96,-305.3 157.69,-298.67 160.02,-309 165.96,-305.3\"/>\r\n",
       "</g>\r\n",
       "<!-- 4 -->\r\n",
       "<g id=\"node5\" class=\"node\">\r\n",
       "<title>4</title>\r\n",
       "<path fill=\"transparent\" stroke=\"black\" d=\"M335,-306C335,-306 231,-306 231,-306 225,-306 219,-300 219,-294 219,-294 219,-235 219,-235 219,-229 225,-223 231,-223 231,-223 335,-223 335,-223 341,-223 347,-229 347,-235 347,-235 347,-294 347,-294 347,-300 341,-306 335,-306\"/>\r\n",
       "<text text-anchor=\"start\" x=\"230\" y=\"-290.8\" font-family=\"Helvetica,sans-Serif\" font-size=\"14.00\">latitude ≤ 37.599</text>\r\n",
       "<text text-anchor=\"start\" x=\"254\" y=\"-275.8\" font-family=\"Helvetica,sans-Serif\" font-size=\"14.00\">gini = 0.5</text>\r\n",
       "<text text-anchor=\"start\" x=\"239.5\" y=\"-260.8\" font-family=\"Helvetica,sans-Serif\" font-size=\"14.00\">samples = 10</text>\r\n",
       "<text text-anchor=\"start\" x=\"227\" y=\"-245.8\" font-family=\"Helvetica,sans-Serif\" font-size=\"14.00\">value = [5, 5, 0, 0]</text>\r\n",
       "<text text-anchor=\"start\" x=\"230\" y=\"-230.8\" font-family=\"Helvetica,sans-Serif\" font-size=\"14.00\">class = Gangbuk</text>\r\n",
       "</g>\r\n",
       "<!-- 2&#45;&gt;4 -->\r\n",
       "<g id=\"edge4\" class=\"edge\">\r\n",
       "<title>2:&#45;&gt;4:</title>\r\n",
       "<path fill=\"none\" stroke=\"black\" d=\"M235.33,-341.91C240.82,-333.1 246.69,-323.7 252.36,-314.61\"/>\r\n",
       "<polygon fill=\"black\" stroke=\"black\" points=\"255.39,-316.36 257.72,-306.02 249.45,-312.65 255.39,-316.36\"/>\r\n",
       "</g>\r\n",
       "<!-- 5 -->\r\n",
       "<g id=\"node6\" class=\"node\">\r\n",
       "<title>5</title>\r\n",
       "<path fill=\"#47e539\" fill-opacity=\"0.600000\" stroke=\"black\" d=\"M265.5,-187C265.5,-187 146.5,-187 146.5,-187 140.5,-187 134.5,-181 134.5,-175 134.5,-175 134.5,-116 134.5,-116 134.5,-110 140.5,-104 146.5,-104 146.5,-104 265.5,-104 265.5,-104 271.5,-104 277.5,-110 277.5,-116 277.5,-116 277.5,-175 277.5,-175 277.5,-181 271.5,-187 265.5,-187\"/>\r\n",
       "<text text-anchor=\"start\" x=\"142.5\" y=\"-171.8\" font-family=\"Helvetica,sans-Serif\" font-size=\"14.00\">longitude ≤ 127.017</text>\r\n",
       "<text text-anchor=\"start\" x=\"168.5\" y=\"-156.8\" font-family=\"Helvetica,sans-Serif\" font-size=\"14.00\">gini = 0.408</text>\r\n",
       "<text text-anchor=\"start\" x=\"166.5\" y=\"-141.8\" font-family=\"Helvetica,sans-Serif\" font-size=\"14.00\">samples = 7</text>\r\n",
       "<text text-anchor=\"start\" x=\"150\" y=\"-126.8\" font-family=\"Helvetica,sans-Serif\" font-size=\"14.00\">value = [2, 5, 0, 0]</text>\r\n",
       "<text text-anchor=\"start\" x=\"148\" y=\"-111.8\" font-family=\"Helvetica,sans-Serif\" font-size=\"14.00\">class = Gangdong</text>\r\n",
       "</g>\r\n",
       "<!-- 4&#45;&gt;5 -->\r\n",
       "<g id=\"edge5\" class=\"edge\">\r\n",
       "<title>4:&#45;&gt;5:</title>\r\n",
       "<path fill=\"none\" stroke=\"black\" d=\"M256.29,-222.91C250.49,-214.1 244.3,-204.7 238.32,-195.61\"/>\r\n",
       "<polygon fill=\"black\" stroke=\"black\" points=\"241.09,-193.45 232.67,-187.02 235.24,-197.3 241.09,-193.45\"/>\r\n",
       "</g>\r\n",
       "<!-- 8 -->\r\n",
       "<g id=\"node9\" class=\"node\">\r\n",
       "<title>8</title>\r\n",
       "<path fill=\"#e58139\" stroke=\"black\" d=\"M412,-179.5C412,-179.5 308,-179.5 308,-179.5 302,-179.5 296,-173.5 296,-167.5 296,-167.5 296,-123.5 296,-123.5 296,-117.5 302,-111.5 308,-111.5 308,-111.5 412,-111.5 412,-111.5 418,-111.5 424,-117.5 424,-123.5 424,-123.5 424,-167.5 424,-167.5 424,-173.5 418,-179.5 412,-179.5\"/>\r\n",
       "<text text-anchor=\"start\" x=\"331\" y=\"-164.3\" font-family=\"Helvetica,sans-Serif\" font-size=\"14.00\">gini = 0.0</text>\r\n",
       "<text text-anchor=\"start\" x=\"320.5\" y=\"-149.3\" font-family=\"Helvetica,sans-Serif\" font-size=\"14.00\">samples = 3</text>\r\n",
       "<text text-anchor=\"start\" x=\"304\" y=\"-134.3\" font-family=\"Helvetica,sans-Serif\" font-size=\"14.00\">value = [3, 0, 0, 0]</text>\r\n",
       "<text text-anchor=\"start\" x=\"307\" y=\"-119.3\" font-family=\"Helvetica,sans-Serif\" font-size=\"14.00\">class = Gangbuk</text>\r\n",
       "</g>\r\n",
       "<!-- 4&#45;&gt;8 -->\r\n",
       "<g id=\"edge8\" class=\"edge\">\r\n",
       "<title>4:&#45;&gt;8:</title>\r\n",
       "<path fill=\"none\" stroke=\"black\" d=\"M309.71,-222.91C317.12,-211.65 325.17,-199.42 332.62,-188.11\"/>\r\n",
       "<polygon fill=\"black\" stroke=\"black\" points=\"335.6,-189.94 338.17,-179.67 329.75,-186.1 335.6,-189.94\"/>\r\n",
       "</g>\r\n",
       "<!-- 6 -->\r\n",
       "<g id=\"node7\" class=\"node\">\r\n",
       "<title>6</title>\r\n",
       "<path fill=\"#e58139\" stroke=\"black\" d=\"M184,-68C184,-68 80,-68 80,-68 74,-68 68,-62 68,-56 68,-56 68,-12 68,-12 68,-6 74,0 80,0 80,0 184,0 184,0 190,0 196,-6 196,-12 196,-12 196,-56 196,-56 196,-62 190,-68 184,-68\"/>\r\n",
       "<text text-anchor=\"start\" x=\"103\" y=\"-52.8\" font-family=\"Helvetica,sans-Serif\" font-size=\"14.00\">gini = 0.0</text>\r\n",
       "<text text-anchor=\"start\" x=\"92.5\" y=\"-37.8\" font-family=\"Helvetica,sans-Serif\" font-size=\"14.00\">samples = 2</text>\r\n",
       "<text text-anchor=\"start\" x=\"76\" y=\"-22.8\" font-family=\"Helvetica,sans-Serif\" font-size=\"14.00\">value = [2, 0, 0, 0]</text>\r\n",
       "<text text-anchor=\"start\" x=\"79\" y=\"-7.8\" font-family=\"Helvetica,sans-Serif\" font-size=\"14.00\">class = Gangbuk</text>\r\n",
       "</g>\r\n",
       "<!-- 5&#45;&gt;6 -->\r\n",
       "<g id=\"edge6\" class=\"edge\">\r\n",
       "<title>5:&#45;&gt;6:</title>\r\n",
       "<path fill=\"none\" stroke=\"black\" d=\"M178.45,-103.73C172.47,-94.88 166.13,-85.51 160.13,-76.63\"/>\r\n",
       "<polygon fill=\"black\" stroke=\"black\" points=\"163,-74.63 154.5,-68.3 157.2,-78.54 163,-74.63\"/>\r\n",
       "</g>\r\n",
       "<!-- 7 -->\r\n",
       "<g id=\"node8\" class=\"node\">\r\n",
       "<title>7</title>\r\n",
       "<path fill=\"#47e539\" stroke=\"black\" d=\"M334,-68C334,-68 226,-68 226,-68 220,-68 214,-62 214,-56 214,-56 214,-12 214,-12 214,-6 220,0 226,0 226,0 334,0 334,0 340,0 346,-6 346,-12 346,-12 346,-56 346,-56 346,-62 340,-68 334,-68\"/>\r\n",
       "<text text-anchor=\"start\" x=\"251\" y=\"-52.8\" font-family=\"Helvetica,sans-Serif\" font-size=\"14.00\">gini = 0.0</text>\r\n",
       "<text text-anchor=\"start\" x=\"240.5\" y=\"-37.8\" font-family=\"Helvetica,sans-Serif\" font-size=\"14.00\">samples = 5</text>\r\n",
       "<text text-anchor=\"start\" x=\"224\" y=\"-22.8\" font-family=\"Helvetica,sans-Serif\" font-size=\"14.00\">value = [0, 5, 0, 0]</text>\r\n",
       "<text text-anchor=\"start\" x=\"222\" y=\"-7.8\" font-family=\"Helvetica,sans-Serif\" font-size=\"14.00\">class = Gangdong</text>\r\n",
       "</g>\r\n",
       "<!-- 5&#45;&gt;7 -->\r\n",
       "<g id=\"edge7\" class=\"edge\">\r\n",
       "<title>5:&#45;&gt;7:</title>\r\n",
       "<path fill=\"none\" stroke=\"black\" d=\"M233.55,-103.73C239.53,-94.88 245.87,-85.51 251.87,-76.63\"/>\r\n",
       "<polygon fill=\"black\" stroke=\"black\" points=\"254.8,-78.54 257.5,-68.3 249,-74.63 254.8,-78.54\"/>\r\n",
       "</g>\r\n",
       "</g>\r\n",
       "</svg>\r\n"
      ],
      "text/plain": [
       "<graphviz.files.Source at 0x1aeefb40828>"
      ]
     },
     "execution_count": 11,
     "metadata": {},
     "output_type": "execute_result"
    }
   ],
   "source": [
    "#의사결정 트리 시각화 -> Window 운영체제에서는 graphviz를 사용하기 위해 (i) pip install graphviz (ii) graphviz 웹사이트에서 설치파일 다운로드(https://graphviz.gitlab.io/_pages/Download/Download_windows.html 에서 stable window installer -> 10 -> cmake -> release) (iii) path 시스템 환경변수에 C:\\Program files (x86)\\Graphviz2.38\\bin 경로 추가\n",
    "# OR Window development package 에서 msbuild로 설치 후 오류 뜨거나 실행 안되면 cmd로 dot.exe 파일 실행한 후 해보기!\n",
    "import graphviz\n",
    "dot_data = tree.export_graphviz(clf, out_file=None)\n",
    "graph = graphviz.Source(dot_data)\n",
    "graph.render(\"seoul\") #seoul이란 이름의 파일로 저장\n",
    "\n",
    "dot_data = tree.export_graphviz(clf, out_file=None, \n",
    "                         feature_names=['longitude','latitude'],  \n",
    "                         class_names=['Gangbuk', 'Gangdong', 'Gangnam', 'Gangseo'],  \n",
    "                         filled=True, rounded=True,  \n",
    "                         special_characters=True)  \n",
    "graph = graphviz.Source(dot_data)  \n",
    "graph"
   ]
  },
  {
   "cell_type": "code",
   "execution_count": 16,
   "metadata": {},
   "outputs": [
    {
     "name": "stdout",
     "output_type": "stream",
     "text": [
      "accuracy :1.0\n"
     ]
    }
   ],
   "source": [
    "# 모델 테스트\n",
    "from sklearn.metrics import accuracy_score\n",
    "pred = clf.predict(X_test)\n",
    "print(\"accuracy :\" + str(accuracy_score(Y_test.values.ravel(), le.classes_[pred])))"
   ]
  },
  {
   "cell_type": "code",
   "execution_count": 18,
   "metadata": {},
   "outputs": [
    {
     "data": {
      "text/html": [
       "<div>\n",
       "<style scoped>\n",
       "    .dataframe tbody tr th:only-of-type {\n",
       "        vertical-align: middle;\n",
       "    }\n",
       "\n",
       "    .dataframe tbody tr th {\n",
       "        vertical-align: top;\n",
       "    }\n",
       "\n",
       "    .dataframe thead th {\n",
       "        text-align: right;\n",
       "    }\n",
       "</style>\n",
       "<table border=\"1\" class=\"dataframe\">\n",
       "  <thead>\n",
       "    <tr style=\"text-align: right;\">\n",
       "      <th></th>\n",
       "      <th>ground_truth</th>\n",
       "      <th>prediction</th>\n",
       "    </tr>\n",
       "  </thead>\n",
       "  <tbody>\n",
       "    <tr>\n",
       "      <th>0</th>\n",
       "      <td>Gangseo</td>\n",
       "      <td>Gangseo</td>\n",
       "    </tr>\n",
       "    <tr>\n",
       "      <th>1</th>\n",
       "      <td>Gangseo</td>\n",
       "      <td>Gangseo</td>\n",
       "    </tr>\n",
       "    <tr>\n",
       "      <th>2</th>\n",
       "      <td>Gangseo</td>\n",
       "      <td>Gangseo</td>\n",
       "    </tr>\n",
       "    <tr>\n",
       "      <th>3</th>\n",
       "      <td>Gangseo</td>\n",
       "      <td>Gangseo</td>\n",
       "    </tr>\n",
       "    <tr>\n",
       "      <th>4</th>\n",
       "      <td>Gangseo</td>\n",
       "      <td>Gangseo</td>\n",
       "    </tr>\n",
       "    <tr>\n",
       "      <th>5</th>\n",
       "      <td>Gangnam</td>\n",
       "      <td>Gangnam</td>\n",
       "    </tr>\n",
       "    <tr>\n",
       "      <th>6</th>\n",
       "      <td>Gangnam</td>\n",
       "      <td>Gangnam</td>\n",
       "    </tr>\n",
       "    <tr>\n",
       "      <th>7</th>\n",
       "      <td>Gangnam</td>\n",
       "      <td>Gangnam</td>\n",
       "    </tr>\n",
       "    <tr>\n",
       "      <th>8</th>\n",
       "      <td>Gangnam</td>\n",
       "      <td>Gangnam</td>\n",
       "    </tr>\n",
       "    <tr>\n",
       "      <th>9</th>\n",
       "      <td>Gangnam</td>\n",
       "      <td>Gangnam</td>\n",
       "    </tr>\n",
       "    <tr>\n",
       "      <th>10</th>\n",
       "      <td>Gangbuk</td>\n",
       "      <td>Gangbuk</td>\n",
       "    </tr>\n",
       "    <tr>\n",
       "      <th>11</th>\n",
       "      <td>Gangbuk</td>\n",
       "      <td>Gangbuk</td>\n",
       "    </tr>\n",
       "    <tr>\n",
       "      <th>12</th>\n",
       "      <td>Gangbuk</td>\n",
       "      <td>Gangbuk</td>\n",
       "    </tr>\n",
       "    <tr>\n",
       "      <th>13</th>\n",
       "      <td>Gangbuk</td>\n",
       "      <td>Gangbuk</td>\n",
       "    </tr>\n",
       "    <tr>\n",
       "      <th>14</th>\n",
       "      <td>Gangbuk</td>\n",
       "      <td>Gangbuk</td>\n",
       "    </tr>\n",
       "    <tr>\n",
       "      <th>15</th>\n",
       "      <td>Gangdong</td>\n",
       "      <td>Gangdong</td>\n",
       "    </tr>\n",
       "    <tr>\n",
       "      <th>16</th>\n",
       "      <td>Gangdong</td>\n",
       "      <td>Gangdong</td>\n",
       "    </tr>\n",
       "    <tr>\n",
       "      <th>17</th>\n",
       "      <td>Gangdong</td>\n",
       "      <td>Gangdong</td>\n",
       "    </tr>\n",
       "    <tr>\n",
       "      <th>18</th>\n",
       "      <td>Gangdong</td>\n",
       "      <td>Gangdong</td>\n",
       "    </tr>\n",
       "    <tr>\n",
       "      <th>19</th>\n",
       "      <td>Gangdong</td>\n",
       "      <td>Gangdong</td>\n",
       "    </tr>\n",
       "  </tbody>\n",
       "</table>\n",
       "</div>"
      ],
      "text/plain": [
       "   ground_truth prediction\n",
       "0       Gangseo    Gangseo\n",
       "1       Gangseo    Gangseo\n",
       "2       Gangseo    Gangseo\n",
       "3       Gangseo    Gangseo\n",
       "4       Gangseo    Gangseo\n",
       "5       Gangnam    Gangnam\n",
       "6       Gangnam    Gangnam\n",
       "7       Gangnam    Gangnam\n",
       "8       Gangnam    Gangnam\n",
       "9       Gangnam    Gangnam\n",
       "10      Gangbuk    Gangbuk\n",
       "11      Gangbuk    Gangbuk\n",
       "12      Gangbuk    Gangbuk\n",
       "13      Gangbuk    Gangbuk\n",
       "14      Gangbuk    Gangbuk\n",
       "15     Gangdong   Gangdong\n",
       "16     Gangdong   Gangdong\n",
       "17     Gangdong   Gangdong\n",
       "18     Gangdong   Gangdong\n",
       "19     Gangdong   Gangdong"
      ]
     },
     "execution_count": 18,
     "metadata": {},
     "output_type": "execute_result"
    }
   ],
   "source": [
    "comparison = pd.DataFrame({'prediction' : le.classes_[pred], 'ground_truth' : Y_test.values.ravel()})\n",
    "comparison"
   ]
  },
  {
   "cell_type": "code",
   "execution_count": null,
   "metadata": {},
   "outputs": [],
   "source": [
    "\"\"\"\n",
    "5. 나이브 베이즈\n",
    "    - 확률기반 머신러닝 분류 알고리즘의 대표\n",
    "    - 장점 : 실전에서 높은 정확도(특히 문서 분류 or 스팸 분류)/ 계산속도가 빠름\n",
    "    - 단점 : 모든 데이터의 특징을 독립적이라고 가정 -> 다른 분류에서는 제약으로 작용할 가능성이 높음\n",
    "    \n",
    "    (1). [이론]\n",
    "        (i) 나이브 베이즈 알고리즘의 이해\n",
    "            - 데이터를 단순하게(나이브) 독립적인 사건으로 가정하고 독립 사건들을 베이즈 이론에 따라 가장 높은 확률의 레이블로 분류를 실행\n",
    "            - 베이즈 이론 : P(A|B) = P(B|A)*P(A)/P(B) = P(A∩B)/P(B)\n",
    "        \n",
    "        (ii) 나이브 베이즈 알고르짐을 머신러닝에 응용하는 법\n",
    "            - A를 레이블, B를 데이터의 특징으로 대입해보면 P(레이블|데이터 특징) = P(데이터 특징|레이블) * P(레이블) / P(데이터 특징)\n",
    "            - 데이터 특징이 B와 C 두가지면 P(A | B, C) = P(B, C| A) * P(A) / P(B,C)\n",
    "            - 이때 P(B,C) 는 결합확률로 P(B|C) * P(B) 와 같지만, 나이브 베이즈에서는 사건들을 모두 독립적인 사건으로 보고 P(B,C) = P(B) * P(C)로 간주\n",
    "            - 따라서 P(A| B,C) = P(B|A) * P(C|A) * P(A) | P(B) * P(C)\n",
    "        \n",
    "        (iii) 특징이 여러개인 경우 나이브 베이즈 공식\n",
    "            - P(y|x1, ..., xn) = P(x1|y) * P(x2|y) * ... * P(xn|y) * P(y) / P(x1)*...*P(xn)\n",
    "            - 이때 P(x1) * ... * P(xn) 은 모든 레이블에 들어가는 공통분모이므로 제거 가능, 공통 분모를 제거 후 가장 높은 수치를 지닌 레이블로 데이터를 분류\n",
    "        \n",
    "        (iv) 가우시안 나이브 베이즈 분류 : 데이터가 연속적인 경우\n",
    "            - 특징 값들이 정규분포돼 있다는 가정하에 조건부 확률 계산\n",
    "            - 이산적인 데이터의 경우 다항 분포 or 베르누이 나이브 베이즈 중 하나를 사용\n",
    "        \n",
    "        (v) 스무딩\n",
    "            - 이산적인 데이터의 경우 빈도수가 0인 경우가 발생 -> 빈도수에 1을 더해 확률이 0이 되는 현상을 방지\n",
    "        \n",
    "\"\"\""
   ]
  },
  {
   "cell_type": "code",
   "execution_count": 22,
   "metadata": {},
   "outputs": [
    {
     "data": {
      "text/html": [
       "<div>\n",
       "<style scoped>\n",
       "    .dataframe tbody tr th:only-of-type {\n",
       "        vertical-align: middle;\n",
       "    }\n",
       "\n",
       "    .dataframe tbody tr th {\n",
       "        vertical-align: top;\n",
       "    }\n",
       "\n",
       "    .dataframe thead th {\n",
       "        text-align: right;\n",
       "    }\n",
       "</style>\n",
       "<table border=\"1\" class=\"dataframe\">\n",
       "  <thead>\n",
       "    <tr style=\"text-align: right;\">\n",
       "      <th></th>\n",
       "      <th>sepal length (cm)</th>\n",
       "      <th>sepal width (cm)</th>\n",
       "      <th>petal length (cm)</th>\n",
       "      <th>petal width (cm)</th>\n",
       "      <th>target</th>\n",
       "    </tr>\n",
       "  </thead>\n",
       "  <tbody>\n",
       "    <tr>\n",
       "      <th>0</th>\n",
       "      <td>5.1</td>\n",
       "      <td>3.5</td>\n",
       "      <td>1.4</td>\n",
       "      <td>0.2</td>\n",
       "      <td>setosa</td>\n",
       "    </tr>\n",
       "    <tr>\n",
       "      <th>1</th>\n",
       "      <td>4.9</td>\n",
       "      <td>3.0</td>\n",
       "      <td>1.4</td>\n",
       "      <td>0.2</td>\n",
       "      <td>setosa</td>\n",
       "    </tr>\n",
       "    <tr>\n",
       "      <th>2</th>\n",
       "      <td>4.7</td>\n",
       "      <td>3.2</td>\n",
       "      <td>1.3</td>\n",
       "      <td>0.2</td>\n",
       "      <td>setosa</td>\n",
       "    </tr>\n",
       "    <tr>\n",
       "      <th>3</th>\n",
       "      <td>4.6</td>\n",
       "      <td>3.1</td>\n",
       "      <td>1.5</td>\n",
       "      <td>0.2</td>\n",
       "      <td>setosa</td>\n",
       "    </tr>\n",
       "    <tr>\n",
       "      <th>4</th>\n",
       "      <td>5.0</td>\n",
       "      <td>3.6</td>\n",
       "      <td>1.4</td>\n",
       "      <td>0.2</td>\n",
       "      <td>setosa</td>\n",
       "    </tr>\n",
       "  </tbody>\n",
       "</table>\n",
       "</div>"
      ],
      "text/plain": [
       "   sepal length (cm)  sepal width (cm)  petal length (cm)  petal width (cm)  \\\n",
       "0                5.1               3.5                1.4               0.2   \n",
       "1                4.9               3.0                1.4               0.2   \n",
       "2                4.7               3.2                1.3               0.2   \n",
       "3                4.6               3.1                1.5               0.2   \n",
       "4                5.0               3.6                1.4               0.2   \n",
       "\n",
       "   target  \n",
       "0  setosa  \n",
       "1  setosa  \n",
       "2  setosa  \n",
       "3  setosa  \n",
       "4  setosa  "
      ]
     },
     "execution_count": 22,
     "metadata": {},
     "output_type": "execute_result"
    }
   ],
   "source": [
    "#2.[실습] : 가우시안 나이브 베이즈를 활용한 붓꽃(Iris) 분류\n",
    "import pandas as pd\n",
    "from sklearn.datasets import load_iris # 사이킷런에 내장된 예제 데이터 iris\n",
    "from sklearn.model_selection import train_test_split\n",
    "from sklearn.naive_bayes import GaussianNB #가우시안나이브베이즈\n",
    "from sklearn import metrics\n",
    "from sklearn.metrics import accuracy_score\n",
    "\n",
    "#데이터 획득\n",
    "dataset = load_iris() #아이리스 데이터를 불러옴\n",
    "df = pd.DataFrame(dataset.data, columns = dataset.feature_names)\n",
    "df['target'] = dataset.target\n",
    "df.target = df.target.map({0:'setosa', 1:'versicolor', 2:'virginica'}) # 타깃 데이터를 이해하기 쉽게 문자로 변경\n",
    "df.head()\n",
    "\n",
    "#sepal length/width : 꽃받침 길이/너비 ; petal length/width : 꽃잎 길이/너비 ; target : 붓꽃의 종류 "
   ]
  },
  {
   "cell_type": "code",
   "execution_count": 23,
   "metadata": {},
   "outputs": [],
   "source": [
    "#데이터 시각화\n",
    "setosa_df = df[df.target =='setosa']\n",
    "versicolor_df = df[df.target=='versicolor']\n",
    "virginica_df = df[df.target =='virginica']"
   ]
  },
  {
   "cell_type": "code",
   "execution_count": 28,
   "metadata": {},
   "outputs": [
    {
     "data": {
      "text/plain": [
       "<matplotlib.axes._subplots.AxesSubplot at 0x1aef01e16d8>"
      ]
     },
     "execution_count": 28,
     "metadata": {},
     "output_type": "execute_result"
    },
    {
     "data": {
      "image/png": "[encoded data removed]",
      "text/plain": [
       "<Figure size 576x288 with 2 Axes>"
      ]
     },
     "metadata": {
      "needs_background": "light"
     },
     "output_type": "display_data"
    }
   ],
   "source": [
    "#setosa 꽃받침 길이에 따른 분포도를 그려보면\n",
    "ax = setosa_df['sepal length (cm)'].plot(kind='hist')\n",
    "setosa_df['sepal length (cm)'].plot(kind='kde', ax=ax, secondary_y = True, title = \"setosa sepal length(cm) distiribution\", figsize = (8,4))\n",
    "#결과를 보면 정규분포와 매우 유사한 것을 알 수 있음 -> 같은 방식으로 꽃받침 너비, 꽃잎 길이, 꽃잎 너비에 따른 분포도 정규분포와 유사한 것을 확인 가능\n",
    "#데이터 특징이 정규분포를 따르므로 가우시안 베이즈 나이브 분류기로 분류하기에 적합"
   ]
  },
  {
   "cell_type": "code",
   "execution_count": 34,
   "metadata": {},
   "outputs": [],
   "source": [
    "#데이터 다듬기\n",
    "#전체 데이터 중 20%를 테스트 데이터로 분리, 나머지 80%를 학습에 사용\n",
    "X_train,X_test,y_train,y_test = train_test_split(dataset.data, dataset.target, test_size=0.2)"
   ]
  },
  {
   "cell_type": "code",
   "execution_count": 35,
   "metadata": {},
   "outputs": [
    {
     "data": {
      "text/plain": [
       "GaussianNB(priors=None)"
      ]
     },
     "execution_count": 35,
     "metadata": {},
     "output_type": "execute_result"
    }
   ],
   "source": [
    "#가우시안 나이브 베이즈 모델 학습\n",
    "model = GaussianNB()\n",
    "model.fit(X_train, y_train)"
   ]
  },
  {
   "cell_type": "code",
   "execution_count": 36,
   "metadata": {},
   "outputs": [
    {
     "name": "stdout",
     "output_type": "stream",
     "text": [
      "             precision    recall  f1-score   support\n",
      "\n",
      "          0       1.00      1.00      1.00         9\n",
      "          1       1.00      1.00      1.00         9\n",
      "          2       1.00      1.00      1.00        12\n",
      "\n",
      "avg / total       1.00      1.00      1.00        30\n",
      "\n"
     ]
    }
   ],
   "source": [
    "#테스트\n",
    "expected = y_test\n",
    "predicted = model.predict(X_test)\n",
    "print(metrics.classification_report(y_test, predicted))"
   ]
  },
  {
   "cell_type": "code",
   "execution_count": 44,
   "metadata": {},
   "outputs": [
    {
     "data": {
      "text/plain": [
       "1.0"
      ]
     },
     "execution_count": 44,
     "metadata": {},
     "output_type": "execute_result"
    }
   ],
   "source": [
    "#정확도 확인\n",
    "accuracy_score(y_test,predicted) #accuracy_score(Y 테스트 데이터, 예측 데이터) ; 데이터는 모두 배열 형식으로"
   ]
  },
  {
   "cell_type": "code",
   "execution_count": 46,
   "metadata": {},
   "outputs": [
    {
     "name": "stdout",
     "output_type": "stream",
     "text": [
      "[[ 9  0  0]\n",
      " [ 0  9  0]\n",
      " [ 0  0 12]]\n"
     ]
    }
   ],
   "source": [
    "print(metrics.confusion_matrix(expected, predicted)) #혼동행렬"
   ]
  },
  {
   "cell_type": "code",
   "execution_count": 45,
   "metadata": {},
   "outputs": [],
   "source": [
    "#3.[실습] : 베르누이 나이브 베이즈를 활용한 스팸 분류\n",
    "import numpy as np\n",
    "import pandas as pd\n",
    "from sklearn.feature_extraction.text import CountVectorizer\n",
    "from sklearn.naive_bayes import BernoulliNB\n",
    "from sklearn.metrics import accuracy_score"
   ]
  },
  {
   "cell_type": "code",
   "execution_count": 47,
   "metadata": {},
   "outputs": [],
   "source": [
    "#데이터 획득\n",
    "email_list = [\n",
    "                {'email title': 'free game only today', 'spam': True},\n",
    "                {'email title': 'cheapest flight deal', 'spam': True},\n",
    "                {'email title': 'limited time offer only today only today', 'spam': True},\n",
    "                {'email title': 'today meeting schedule', 'spam': False},\n",
    "                {'email title': 'your flight schedule attached', 'spam': False},\n",
    "                {'email title': 'your credit card statement', 'spam': False}\n",
    "             ]\n",
    "df = pd.DataFrame(email_list)"
   ]
  },
  {
   "cell_type": "code",
   "execution_count": 49,
   "metadata": {},
   "outputs": [
    {
     "data": {
      "text/html": [
       "<div>\n",
       "<style scoped>\n",
       "    .dataframe tbody tr th:only-of-type {\n",
       "        vertical-align: middle;\n",
       "    }\n",
       "\n",
       "    .dataframe tbody tr th {\n",
       "        vertical-align: top;\n",
       "    }\n",
       "\n",
       "    .dataframe thead th {\n",
       "        text-align: right;\n",
       "    }\n",
       "</style>\n",
       "<table border=\"1\" class=\"dataframe\">\n",
       "  <thead>\n",
       "    <tr style=\"text-align: right;\">\n",
       "      <th></th>\n",
       "      <th>email title</th>\n",
       "      <th>spam</th>\n",
       "    </tr>\n",
       "  </thead>\n",
       "  <tbody>\n",
       "    <tr>\n",
       "      <th>0</th>\n",
       "      <td>free game only today</td>\n",
       "      <td>True</td>\n",
       "    </tr>\n",
       "    <tr>\n",
       "      <th>1</th>\n",
       "      <td>cheapest flight deal</td>\n",
       "      <td>True</td>\n",
       "    </tr>\n",
       "    <tr>\n",
       "      <th>2</th>\n",
       "      <td>limited time offer only today only today</td>\n",
       "      <td>True</td>\n",
       "    </tr>\n",
       "    <tr>\n",
       "      <th>3</th>\n",
       "      <td>today meeting schedule</td>\n",
       "      <td>False</td>\n",
       "    </tr>\n",
       "    <tr>\n",
       "      <th>4</th>\n",
       "      <td>your flight schedule attached</td>\n",
       "      <td>False</td>\n",
       "    </tr>\n",
       "    <tr>\n",
       "      <th>5</th>\n",
       "      <td>your credit card statement</td>\n",
       "      <td>False</td>\n",
       "    </tr>\n",
       "  </tbody>\n",
       "</table>\n",
       "</div>"
      ],
      "text/plain": [
       "                                email title   spam\n",
       "0                      free game only today   True\n",
       "1                      cheapest flight deal   True\n",
       "2  limited time offer only today only today   True\n",
       "3                    today meeting schedule  False\n",
       "4             your flight schedule attached  False\n",
       "5                your credit card statement  False"
      ]
     },
     "execution_count": 49,
     "metadata": {},
     "output_type": "execute_result"
    }
   ],
   "source": [
    "df"
   ]
  },
  {
   "cell_type": "code",
   "execution_count": 50,
   "metadata": {},
   "outputs": [
    {
     "data": {
      "text/plain": [
       "array([[0, 0, 0, 0, 0, 0, 1, 1, 0, 0, 0, 1, 0, 0, 0, 1, 0],\n",
       "       [0, 0, 1, 0, 1, 1, 0, 0, 0, 0, 0, 0, 0, 0, 0, 0, 0],\n",
       "       [0, 0, 0, 0, 0, 0, 0, 0, 1, 0, 1, 1, 0, 0, 1, 1, 0],\n",
       "       [0, 0, 0, 0, 0, 0, 0, 0, 0, 1, 0, 0, 1, 0, 0, 1, 0],\n",
       "       [1, 0, 0, 0, 0, 1, 0, 0, 0, 0, 0, 0, 1, 0, 0, 0, 1],\n",
       "       [0, 1, 0, 1, 0, 0, 0, 0, 0, 0, 0, 0, 0, 1, 0, 0, 1]], dtype=int64)"
      ]
     },
     "execution_count": 50,
     "metadata": {},
     "output_type": "execute_result"
    }
   ],
   "source": [
    "#데이터 다듬기 -> 사이킷런의 베르누이 나이브 베이즈 분류기는 숫자만 다루므로 True와 False를 1과 0으로 치환\n",
    "df['label'] = df['spam'].map({True:1,False:0})\n",
    "#학습에 사용할 데이터와 레이블 분로\n",
    "df_x = df['email title']\n",
    "df_y = df['label']\n",
    "\n",
    "#베르누이 나이브 베이즈의 입력데이터는 고정된 크기의 벡터여야 함 -> 사이킷런의 CountVectorizer 이용\n",
    "cv = CountVectorizer(binary=True) #binary = True로 설정하면 이메일 제목에 특정 단어가 출현할 경우 무조건 1을, 단어가 출현하지 않을 경우에는 0을 갖도록 설정\n",
    "x_traincv = cv.fit_transform(df_x)\n",
    "\n",
    "#이메일 제목이 어떻게 벡터로 인코딩 됐는지 확인\n",
    "encoded_input = x_traincv.toarray()\n",
    "encoded_input\n",
    "# 이메일에 사용된 단어가 5개 통틀어서 총 17개이므로 17개 크기의 벡터로 인코딩"
   ]
  },
  {
   "cell_type": "code",
   "execution_count": 51,
   "metadata": {},
   "outputs": [
    {
     "data": {
      "text/plain": [
       "[array(['free', 'game', 'only', 'today'], dtype='<U9')]"
      ]
     },
     "execution_count": 51,
     "metadata": {},
     "output_type": "execute_result"
    }
   ],
   "source": [
    "#벡터가 의미하는 단어 확인\n",
    "cv.inverse_transform(encoded_input[0])"
   ]
  },
  {
   "cell_type": "code",
   "execution_count": 52,
   "metadata": {},
   "outputs": [
    {
     "data": {
      "text/plain": [
       "['attached',\n",
       " 'card',\n",
       " 'cheapest',\n",
       " 'credit',\n",
       " 'deal',\n",
       " 'flight',\n",
       " 'free',\n",
       " 'game',\n",
       " 'limited',\n",
       " 'meeting',\n",
       " 'offer',\n",
       " 'only',\n",
       " 'schedule',\n",
       " 'statement',\n",
       " 'time',\n",
       " 'today',\n",
       " 'your']"
      ]
     },
     "execution_count": 52,
     "metadata": {},
     "output_type": "execute_result"
    }
   ],
   "source": [
    "#고정된 벡터의 인덱스가 어떤 단어를 의미하는지 알아보려면\n",
    "cv.get_feature_names()"
   ]
  },
  {
   "cell_type": "code",
   "execution_count": 56,
   "metadata": {},
   "outputs": [
    {
     "data": {
      "text/plain": [
       "BernoulliNB(alpha=1.0, binarize=0.0, class_prior=None, fit_prior=True)"
      ]
     },
     "execution_count": 56,
     "metadata": {},
     "output_type": "execute_result"
    }
   ],
   "source": [
    "#베르누이 나이브 베이즈모델 학습하기\n",
    "bnb = BernoulliNB()\n",
    "y_train = df_y.astype('int')\n",
    "bnb.fit(x_traincv, y_train)"
   ]
  },
  {
   "cell_type": "code",
   "execution_count": 57,
   "metadata": {},
   "outputs": [
    {
     "data": {
      "text/plain": [
       "0.8333333333333334"
      ]
     },
     "execution_count": 57,
     "metadata": {},
     "output_type": "execute_result"
    }
   ],
   "source": [
    "#테스트 데이터 다듬기\n",
    "test_email_list = [\n",
    "                {'email title': 'free flight offer', 'spam': True},\n",
    "                {'email title': 'hey traveler free flight deal', 'spam': True},\n",
    "                {'email title': 'limited free game offer', 'spam': True},\n",
    "                {'email title': 'today flight schedule', 'spam': False},\n",
    "                {'email title': 'your credit card attached', 'spam': False},\n",
    "                {'email title': 'free credit card offer only today', 'spam': False}\n",
    "             ]\n",
    "test_df = pd.DataFrame(test_email_list)\n",
    "test_df['label'] = test_df['spam'].map({True:1,False:0})\n",
    "test_x=test_df[\"email title\"]\n",
    "test_y=test_df[\"label\"]\n",
    "x_testcv=cv.transform(test_x)\n",
    "\n",
    "#테스트\n",
    "predictions = bnb.predict(x_testcv)\n",
    "\n",
    "#정확도 확인\n",
    "accuracy_score(test_y,predictions)"
   ]
  },
  {
   "cell_type": "code",
   "execution_count": 1,
   "metadata": {},
   "outputs": [
    {
     "data": {
      "text/html": [
       "<div>\n",
       "<style scoped>\n",
       "    .dataframe tbody tr th:only-of-type {\n",
       "        vertical-align: middle;\n",
       "    }\n",
       "\n",
       "    .dataframe tbody tr th {\n",
       "        vertical-align: top;\n",
       "    }\n",
       "\n",
       "    .dataframe thead th {\n",
       "        text-align: right;\n",
       "    }\n",
       "</style>\n",
       "<table border=\"1\" class=\"dataframe\">\n",
       "  <thead>\n",
       "    <tr style=\"text-align: right;\">\n",
       "      <th></th>\n",
       "      <th>movie_review</th>\n",
       "      <th>type</th>\n",
       "    </tr>\n",
       "  </thead>\n",
       "  <tbody>\n",
       "    <tr>\n",
       "      <th>0</th>\n",
       "      <td>this is great great movie. I will watch again</td>\n",
       "      <td>positive</td>\n",
       "    </tr>\n",
       "    <tr>\n",
       "      <th>1</th>\n",
       "      <td>I like this movie</td>\n",
       "      <td>positive</td>\n",
       "    </tr>\n",
       "    <tr>\n",
       "      <th>2</th>\n",
       "      <td>amazing movie in this year</td>\n",
       "      <td>positive</td>\n",
       "    </tr>\n",
       "    <tr>\n",
       "      <th>3</th>\n",
       "      <td>cool my boyfriend also said the movie is cool</td>\n",
       "      <td>positive</td>\n",
       "    </tr>\n",
       "    <tr>\n",
       "      <th>4</th>\n",
       "      <td>awesome of the awesome movie ever</td>\n",
       "      <td>positive</td>\n",
       "    </tr>\n",
       "    <tr>\n",
       "      <th>5</th>\n",
       "      <td>shame I wasted money and time</td>\n",
       "      <td>negative</td>\n",
       "    </tr>\n",
       "    <tr>\n",
       "      <th>6</th>\n",
       "      <td>regret on this move. I will never never what m...</td>\n",
       "      <td>negative</td>\n",
       "    </tr>\n",
       "    <tr>\n",
       "      <th>7</th>\n",
       "      <td>I do not like this movie</td>\n",
       "      <td>negative</td>\n",
       "    </tr>\n",
       "    <tr>\n",
       "      <th>8</th>\n",
       "      <td>I do not like actors in this movie</td>\n",
       "      <td>negative</td>\n",
       "    </tr>\n",
       "    <tr>\n",
       "      <th>9</th>\n",
       "      <td>boring boring sleeping movie</td>\n",
       "      <td>negative</td>\n",
       "    </tr>\n",
       "  </tbody>\n",
       "</table>\n",
       "</div>"
      ],
      "text/plain": [
       "                                        movie_review      type\n",
       "0      this is great great movie. I will watch again  positive\n",
       "1                                  I like this movie  positive\n",
       "2                         amazing movie in this year  positive\n",
       "3      cool my boyfriend also said the movie is cool  positive\n",
       "4                  awesome of the awesome movie ever  positive\n",
       "5                      shame I wasted money and time  negative\n",
       "6  regret on this move. I will never never what m...  negative\n",
       "7                           I do not like this movie  negative\n",
       "8                 I do not like actors in this movie  negative\n",
       "9                       boring boring sleeping movie  negative"
      ]
     },
     "execution_count": 1,
     "metadata": {},
     "output_type": "execute_result"
    }
   ],
   "source": [
    "# 4.[실습] 다항분포 나이브 베이즈를 활용한 영화 리뷰 분류\n",
    "import numpy as pd\n",
    "import pandas as pd\n",
    "from sklearn.feature_extraction.text import CountVectorizer\n",
    "from sklearn.naive_bayes import MultinomialNB\n",
    "from sklearn.metrics import accuracy_score\n",
    "\n",
    "#데이터 획득 - 영화 리뷰 \n",
    "review_list = [\n",
    "                {'movie_review': 'this is great great movie. I will watch again', 'type': 'positive'},\n",
    "                {'movie_review': 'I like this movie', 'type': 'positive'},\n",
    "                {'movie_review': 'amazing movie in this year', 'type': 'positive'},\n",
    "                {'movie_review': 'cool my boyfriend also said the movie is cool', 'type': 'positive'},\n",
    "                {'movie_review': 'awesome of the awesome movie ever', 'type': 'positive'},\n",
    "                {'movie_review': 'shame I wasted money and time', 'type': 'negative'},\n",
    "                {'movie_review': 'regret on this move. I will never never what movie from this director', 'type': 'negative'},\n",
    "                {'movie_review': 'I do not like this movie', 'type': 'negative'},\n",
    "                {'movie_review': 'I do not like actors in this movie', 'type': 'negative'},\n",
    "                {'movie_review': 'boring boring sleeping movie', 'type': 'negative'}\n",
    "             ]\n",
    "df = pd.DataFrame(review_list)\n",
    "df"
   ]
  },
  {
   "cell_type": "code",
   "execution_count": 2,
   "metadata": {},
   "outputs": [],
   "source": [
    "#데이터 다듬기\n",
    "df['label'] = df['type'].map({'positive':1, 'negative' :0})\n",
    "df_x = df['movie_review']\n",
    "df_y = df['label']"
   ]
  },
  {
   "cell_type": "code",
   "execution_count": 5,
   "metadata": {},
   "outputs": [
    {
     "data": {
      "text/plain": [
       "array([[0, 1, 0, 0, 0, 0, 0, 0, 0, 0, 0, 0, 0, 2, 0, 1, 0, 0, 0, 1, 0, 0,\n",
       "        0, 0, 0, 0, 0, 0, 0, 0, 1, 0, 0, 1, 0, 1, 0],\n",
       "       [0, 0, 0, 0, 0, 0, 0, 0, 0, 0, 0, 0, 0, 0, 0, 0, 1, 0, 0, 1, 0, 0,\n",
       "        0, 0, 0, 0, 0, 0, 0, 0, 1, 0, 0, 0, 0, 0, 0],\n",
       "       [0, 0, 0, 1, 0, 0, 0, 0, 0, 0, 0, 0, 0, 0, 1, 0, 0, 0, 0, 1, 0, 0,\n",
       "        0, 0, 0, 0, 0, 0, 0, 0, 1, 0, 0, 0, 0, 0, 1],\n",
       "       [0, 0, 1, 0, 0, 0, 0, 1, 2, 0, 0, 0, 0, 0, 0, 1, 0, 0, 0, 1, 1, 0,\n",
       "        0, 0, 0, 0, 1, 0, 0, 1, 0, 0, 0, 0, 0, 0, 0],\n",
       "       [0, 0, 0, 0, 0, 2, 0, 0, 0, 0, 0, 1, 0, 0, 0, 0, 0, 0, 0, 1, 0, 0,\n",
       "        0, 1, 0, 0, 0, 0, 0, 1, 0, 0, 0, 0, 0, 0, 0],\n",
       "       [0, 0, 0, 0, 1, 0, 0, 0, 0, 0, 0, 0, 0, 0, 0, 0, 0, 1, 0, 0, 0, 0,\n",
       "        0, 0, 0, 0, 0, 1, 0, 0, 0, 1, 1, 0, 0, 0, 0],\n",
       "       [0, 0, 0, 0, 0, 0, 0, 0, 0, 1, 0, 0, 1, 0, 0, 0, 0, 0, 1, 1, 0, 2,\n",
       "        0, 0, 1, 1, 0, 0, 0, 0, 2, 0, 0, 0, 1, 1, 0],\n",
       "       [0, 0, 0, 0, 0, 0, 0, 0, 0, 0, 1, 0, 0, 0, 0, 0, 1, 0, 0, 1, 0, 0,\n",
       "        1, 0, 0, 0, 0, 0, 0, 0, 1, 0, 0, 0, 0, 0, 0],\n",
       "       [1, 0, 0, 0, 0, 0, 0, 0, 0, 0, 1, 0, 0, 0, 1, 0, 1, 0, 0, 1, 0, 0,\n",
       "        1, 0, 0, 0, 0, 0, 0, 0, 1, 0, 0, 0, 0, 0, 0],\n",
       "       [0, 0, 0, 0, 0, 0, 2, 0, 0, 0, 0, 0, 0, 0, 0, 0, 0, 0, 0, 1, 0, 0,\n",
       "        0, 0, 0, 0, 0, 0, 1, 0, 0, 0, 0, 0, 0, 0, 0]], dtype=int64)"
      ]
     },
     "execution_count": 5,
     "metadata": {},
     "output_type": "execute_result"
    }
   ],
   "source": [
    "#입력데이터 값 벡터로 표현\n",
    "cv = CountVectorizer()\n",
    "x_traincv = cv.fit_transform(df_x)\n",
    "encoded_input = x_traincv.toarray()\n",
    "encoded_input"
   ]
  },
  {
   "cell_type": "code",
   "execution_count": 6,
   "metadata": {},
   "outputs": [
    {
     "data": {
      "text/plain": [
       "[array(['again', 'great', 'is', 'movie', 'this', 'watch', 'will'],\n",
       "       dtype='<U9')]"
      ]
     },
     "execution_count": 6,
     "metadata": {},
     "output_type": "execute_result"
    }
   ],
   "source": [
    "#단어를 확인하려면\n",
    "cv.inverse_transform(encoded_input[0])"
   ]
  },
  {
   "cell_type": "code",
   "execution_count": 7,
   "metadata": {},
   "outputs": [
    {
     "data": {
      "text/plain": [
       "['actors',\n",
       " 'again',\n",
       " 'also',\n",
       " 'amazing',\n",
       " 'and',\n",
       " 'awesome',\n",
       " 'boring',\n",
       " 'boyfriend',\n",
       " 'cool',\n",
       " 'director',\n",
       " 'do',\n",
       " 'ever',\n",
       " 'from',\n",
       " 'great',\n",
       " 'in',\n",
       " 'is',\n",
       " 'like',\n",
       " 'money',\n",
       " 'move',\n",
       " 'movie',\n",
       " 'my',\n",
       " 'never',\n",
       " 'not',\n",
       " 'of',\n",
       " 'on',\n",
       " 'regret',\n",
       " 'said',\n",
       " 'shame',\n",
       " 'sleeping',\n",
       " 'the',\n",
       " 'this',\n",
       " 'time',\n",
       " 'wasted',\n",
       " 'watch',\n",
       " 'what',\n",
       " 'will',\n",
       " 'year']"
      ]
     },
     "execution_count": 7,
     "metadata": {},
     "output_type": "execute_result"
    }
   ],
   "source": [
    "#벡터 각각의 의미를 확인 하려면\n",
    "cv.get_feature_names()"
   ]
  },
  {
   "cell_type": "code",
   "execution_count": 8,
   "metadata": {},
   "outputs": [
    {
     "data": {
      "text/plain": [
       "MultinomialNB(alpha=1.0, class_prior=None, fit_prior=True)"
      ]
     },
     "execution_count": 8,
     "metadata": {},
     "output_type": "execute_result"
    }
   ],
   "source": [
    "#다항분포 나이브베이즈 모델 학습하기\n",
    "#나이브베이즈 분류기는 기본적으로 스무딩을 지원하므로 학습 데이터에 없던 단어가 있어도 무방\n",
    "mnb = MultinomialNB()\n",
    "y_train=df_y.astype('int')\n",
    "mnb.fit(x_traincv,y_train)"
   ]
  },
  {
   "cell_type": "code",
   "execution_count": 9,
   "metadata": {},
   "outputs": [],
   "source": [
    "#테스트 데이터 다듬기\n",
    "test_feedback_list = [\n",
    "                {'movie_review': 'great great great movie ever', 'type': 'positive'},\n",
    "                {'movie_review': 'I like this amazing movie', 'type': 'positive'},\n",
    "                {'movie_review': 'my boyfriend said great movie ever', 'type': 'positive'},\n",
    "                {'movie_review': 'cool cool cool', 'type': 'positive'},\n",
    "                {'movie_review': 'awesome boyfriend said cool movie ever', 'type': 'positive'},\n",
    "                {'movie_review': 'shame shame shame', 'type': 'negative'},\n",
    "                {'movie_review': 'awesome director shame movie boring movie', 'type': 'negative'},\n",
    "                {'movie_review': 'do not like this movie', 'type': 'negative'},\n",
    "                {'movie_review': 'I do not like this boring movie', 'type': 'negative'},\n",
    "                {'movie_review': 'aweful terrible boring movie', 'type': 'negative'}\n",
    "             ]\n",
    "test_df = pd.DataFrame(test_feedback_list)\n",
    "test_df['label'] = test_df['type'].map({\"positive\":1,\"negative\":0})\n",
    "test_x=test_df[\"movie_review\"]\n",
    "test_y=test_df[\"label\"]"
   ]
  },
  {
   "cell_type": "code",
   "execution_count": 10,
   "metadata": {},
   "outputs": [],
   "source": [
    "#테스트\n",
    "x_testcv = cv.transform(test_x)\n",
    "predictions=mnb.predict(x_testcv)"
   ]
  },
  {
   "cell_type": "code",
   "execution_count": 11,
   "metadata": {},
   "outputs": [
    {
     "data": {
      "text/plain": [
       "1.0"
      ]
     },
     "execution_count": 11,
     "metadata": {},
     "output_type": "execute_result"
    }
   ],
   "source": [
    "#정확도 확인\n",
    "accuracy_score(test_y, predictions)"
   ]
  },
  {
   "cell_type": "code",
   "execution_count": null,
   "metadata": {},
   "outputs": [],
   "source": []
  }
 ],
 "metadata": {
  "kernelspec": {
   "display_name": "Python 3",
   "language": "python",
   "name": "python3"
  },
  "language_info": {
   "codemirror_mode": {
    "name": "ipython",
    "version": 3
   },
   "file_extension": ".py",
   "mimetype": "text/x-python",
   "name": "python",
   "nbconvert_exporter": "python",
   "pygments_lexer": "ipython3",
   "version": "3.6.4"
  }
 },
 "nbformat": 4,
 "nbformat_minor": 4
}

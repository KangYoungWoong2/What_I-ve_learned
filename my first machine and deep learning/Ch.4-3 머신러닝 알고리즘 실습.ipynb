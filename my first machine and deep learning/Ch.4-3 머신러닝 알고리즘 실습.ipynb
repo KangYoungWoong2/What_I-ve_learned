{
 "cells": [
  {
   "cell_type": "code",
   "execution_count": 4,
   "metadata": {},
   "outputs": [],
   "source": [
    "\"\"\"\n",
    "6. 앙상블\n",
    "    -여러개의 분류 모델을 조합해서 더 나은 성능을 내는 방법\n",
    "    \n",
    "    (1). [이론] 배깅\n",
    "        - 과대적합되기 쉬운 모델에 적합한 앙상블\n",
    "        - 한가지 분류 모델을 여러개 만들어서 서로 다른 학습 데이터를 학습시킨 후(부트스트랩), 동일한 테스트 데이터에 대한 서로 다른 예측값들을 투표를 통해(어그리게이팅) 가장 높은 예측값으로 결론을 내리는 기법\n",
    "        \n",
    "        (i) 부트스트랩\n",
    "            - 데이터를 조금은 편향되도록 샘플링함으로써 분산이 높은 모델의 과대적합 위험을 줄임 ; 과대적합된 모델 = 분산은 높고 편향은 적음\n",
    "            - N개의 데이터를 K개로 나누어 K개의 의사결정트리로 학습 -> N개의 데이터를 하나의 의사결정트리로 학습했을 때 보다 편향이 높아 과대적합될 확률이 적어짐\n",
    "            - 샘플링 데이터는 보통 전체데이터의 60~70% 사용\n",
    "        \n",
    "        (ii) 어그리게이팅\n",
    "            - 여러 분류모델이 예측한 값들을 조합해서 하나의 결론을 도출하는 과정 - > 투표로 진행\n",
    "        \n",
    "        (iii) 하드보팅\n",
    "            - 단순히 최다 득표를 받은 값을 결론으로 도출\n",
    "        \n",
    "        (iv) 소프트보팅\n",
    "            - 하드보팅보다 더 정교한 방식, 각 분류값별 확률을 더해준 값을 점수로 사용해 최대 점수를 가진 분류값을 결론으로 도출\n",
    "            \n",
    "        (v) 랜덤 포레스트\n",
    "            - 여러 의사결정 트리를 배깅해서 예측을 실행하는 모델\n",
    "            - 여러개의 나무들이 모여있다는 개념에서 랜덤 포레스트라고 부름\n",
    "            - 의사결정 트리에서는 최적의 특징으로 트리를 분기하는 반면, 랜덤 포레스트는 각 노드에 주어진 데이터를 샘플링해서 일부 데이터를 제외한 채 최적의 특징을 찾아 트리를 분기 -> 또 한번 모델의 편향을 증가시켜 과대적합의 위험을 감소시킴\n",
    "            \n",
    "    (2). [이론] 부스팅\n",
    "        - 여러개의 분류기를 만들어 투표를 통해 예측값을 결정한다는 측면에서 배깅과 동일\n",
    "        - 배깅과는 달리 부스팅은 동일한 알고리즘 분류기를 순차적으로 학습해서 여러개의 분류기를 만든 후 테스트 할 때 가중 투표를 통해 예측값을 결정\n",
    "        \n",
    "        (i) 순차적 학습\n",
    "            - ex) 인물 사진을 보고 남자/여자로 분류하는 의사결정 트리를 부스팅 할 경우 첫번째 의사결정 트리 학습 -> 남자 분류가 미흡할 경우 남자 학습 데이터를 보강 후 두번째 의사결정 트리 학습 -> 세번째 학습 ...\n",
    "            \n",
    "        (ii) 가중 투표\n",
    "            - 각 분류기가 가지는 정확도에 따라 가중 투표가 이루어짐\n",
    "            - 하드보팅/소프트 보팅 적용 가능\n",
    "        \n",
    "\"\"\"\n",
    "\n",
    "#3.[실습] 랜덤 포레스트 손글씨 분류 - MNIST 손글씨 데이터셋 활용\n",
    "from sklearn import datasets\n",
    "from sklearn import tree\n",
    "from sklearn.ensemble import RandomForestClassifier\n",
    "from sklearn.model_selection import cross_val_score\n",
    "import matplotlib.pyplot as plt\n",
    "import pandas as pd\n",
    "import numpy as np\n",
    "\n",
    "#손글씨 데이터 불러오기\n",
    "mnist = datasets.load_digits()\n",
    "features, labels = mnist.data, mnist.target"
   ]
  },
  {
   "cell_type": "code",
   "execution_count": 8,
   "metadata": {},
   "outputs": [],
   "source": [
    "#교차 검증 - MNIST 데이터에 대한 랜덤 포레스트와 의사결정 트리의 검증 정확도 확인, 교차 검증 10번 수행해서 10번의 검증 정확도를 리스트에 저장\n",
    "def cross_validation(classifier, features, labels):\n",
    "    cv_scores = []\n",
    "    for i in range(10):\n",
    "        scores = cross_val_score(classifier, features, labels, cv=10, scoring = 'accuracy')\n",
    "        cv_scores.append(scores.mean())\n",
    "    return cv_scores\n",
    "\n",
    "#의사결정틀의 MNIST 손글씨 검증 정확도 저장\n",
    "dt_cv_scores = cross_validation(tree.DecisionTreeClassifier(), features, labels)\n"
   ]
  },
  {
   "cell_type": "code",
   "execution_count": 9,
   "metadata": {},
   "outputs": [],
   "source": [
    "#랜덤 포레스트의 MNIST 손글씨 검증 정확도 저장\n",
    "rf_cv_scores = cross_validation(RandomForestClassifier(), features, labels)"
   ]
  },
  {
   "cell_type": "code",
   "execution_count": 10,
   "metadata": {},
   "outputs": [
    {
     "data": {
      "text/plain": [
       "<matplotlib.axes._subplots.AxesSubplot at 0x1550e1ddac8>"
      ]
     },
     "execution_count": 10,
     "metadata": {},
     "output_type": "execute_result"
    },
    {
     "data": {
      "image/png": "[encoded data removed]",
      "text/plain": [
       "<Figure size 432x288 with 1 Axes>"
      ]
     },
     "metadata": {
      "needs_background": "light"
     },
     "output_type": "display_data"
    }
   ],
   "source": [
    "#랜덤 포레스트 vs 의사결정 트리의 정확도 시각화\n",
    "cv_list = [\n",
    "    ['random_forest', rf_cv_scores],\n",
    "    ['decision_tree',dt_cv_scores],\n",
    "]\n",
    "df = pd.DataFrame.from_items(cv_list)\n",
    "df.plot()"
   ]
  },
  {
   "cell_type": "code",
   "execution_count": 12,
   "metadata": {},
   "outputs": [
    {
     "data": {
      "text/plain": [
       "0.8298676589907444"
      ]
     },
     "execution_count": 12,
     "metadata": {},
     "output_type": "execute_result"
    }
   ],
   "source": [
    "#정확도\n",
    "#의사결정트리의 정확도\n",
    "np.mean(dt_cv_scores)"
   ]
  },
  {
   "cell_type": "code",
   "execution_count": 13,
   "metadata": {},
   "outputs": [
    {
     "data": {
      "text/plain": [
       "0.9188569694303954"
      ]
     },
     "execution_count": 13,
     "metadata": {},
     "output_type": "execute_result"
    }
   ],
   "source": [
    "#랜덤 포레스트의 정확도\n",
    "np.mean(rf_cv_scores)"
   ]
  },
  {
   "cell_type": "code",
   "execution_count": 15,
   "metadata": {},
   "outputs": [
    {
     "name": "stdout",
     "output_type": "stream",
     "text": [
      "[accuracy']\n",
      "d-tree: 0.8388888888888889\n",
      "knn   : 0.8361111111111111\n",
      "svm   : 0.8472222222222222\n"
     ]
    }
   ],
   "source": [
    "#4.[실습] 보팅 앙상블 손글씨 분류\n",
    "#단일 모델들을 앙상블해서 투표를 통해 예측\n",
    "\n",
    "from sklearn import datasets\n",
    "from sklearn import tree\n",
    "from sklearn.neighbors import KNeighborsClassifier\n",
    "from sklearn.svm import SVC\n",
    "from sklearn.ensemble import VotingClassifier\n",
    "from sklearn.model_selection import train_test_split\n",
    "from sklearn.metrics import accuracy_score\n",
    "\n",
    "#손글씨 데이터 불러오기\n",
    "mnist = datasets.load_digits()\n",
    "features,labels = mnist.data, mnist.target\n",
    "X_train, X_test, y_train, y_test = train_test_split(features, labels, test_size = 0.2)\n",
    "\n",
    "#단일 모델의 정확도 측정\n",
    "#의사결정 트리\n",
    "dtree = tree.DecisionTreeClassifier(criterion='gini',max_depth=8,max_features=32,random_state=35)\n",
    "dtree = dtree.fit(X_train, y_train)\n",
    "dtree_predicted = dtree.predict(X_test)\n",
    "\n",
    "#kNN 모델\n",
    "knn = KNeighborsClassifier(n_neighbors=299).fit(X_train,y_train)\n",
    "knn_predicted = knn.predict(X_test)\n",
    "\n",
    "#SVM\n",
    "svm = SVC(C=0.1, gamma=0.003, probability = True, random_state=35).fit(X_train, y_train)\n",
    "svm_predicted = svm.predict(X_test)\n",
    "\n",
    "print(\"[accuracy']\")\n",
    "print(\"d-tree:\", accuracy_score(y_test, dtree_predicted))\n",
    "print(\"knn   :\", accuracy_score(y_test, knn_predicted))\n",
    "print(\"svm   :\", accuracy_score(y_test, svm_predicted))"
   ]
  },
  {
   "cell_type": "code",
   "execution_count": 16,
   "metadata": {},
   "outputs": [
    {
     "name": "stdout",
     "output_type": "stream",
     "text": [
      "[[9.99981218e-01 1.25103578e-06 8.14599024e-07 1.04586137e-06\n",
      "  7.72590059e-07 8.79943555e-07 8.49057043e-06 2.09805712e-06\n",
      "  1.66636989e-06 1.76298236e-06]\n",
      " [8.19469607e-03 2.65936510e-02 1.84258044e-02 2.43833214e-02\n",
      "  1.84740865e-02 6.82046077e-01 1.12897564e-02 3.03446270e-02\n",
      "  1.08058167e-01 7.21898138e-02]]\n"
     ]
    }
   ],
   "source": [
    "#분류값별 확률 확인\n",
    "#소프트보팅, 하드보팅 -> 사이킷런의 voting_classifier 사용\n",
    "# 직접 소프트 보팅을 구현할 때는 predict_proba 함수를 사용, 수행할 때 측정된 분류값별 확률 사용\n",
    "\n",
    "svm_proba = svm.predict_proba(X_test)\n",
    "print(svm_proba[0:2]) # 첫 두 숫자의 확률 출력\n",
    "#결과를 보면 첫번째 숫자는 99.99%의 확률로 0으로 예측, 두번째 숫자는 68.2%의 확률로 5로 예측"
   ]
  },
  {
   "cell_type": "code",
   "execution_count": 17,
   "metadata": {},
   "outputs": [
    {
     "name": "stderr",
     "output_type": "stream",
     "text": [
      "C:\\Users\\1\\anaconda3\\envs\\virtualtensor3.6\\lib\\site-packages\\sklearn\\preprocessing\\label.py:151: DeprecationWarning: The truth value of an empty array is ambiguous. Returning False, but in future this will result in an error. Use `array.size > 0` to check that an array is not empty.\n",
      "  if diff:\n"
     ]
    },
    {
     "data": {
      "text/plain": [
       "0.8972222222222223"
      ]
     },
     "execution_count": 17,
     "metadata": {},
     "output_type": "execute_result"
    }
   ],
   "source": [
    "#하드 보팅\n",
    "voting_clf = VotingClassifier(estimators=[\n",
    "    ('decision_tree',dtree), ('knn', knn), ('svm', svm)],\n",
    "    weights=[1,1,1], voting='hard').fit(X_train,y_train)\n",
    "\n",
    "hard_voting_predicted = voting_clf.predict(X_test)\n",
    "accuracy_score(y_test, hard_voting_predicted)"
   ]
  },
  {
   "cell_type": "code",
   "execution_count": 25,
   "metadata": {},
   "outputs": [
    {
     "name": "stderr",
     "output_type": "stream",
     "text": [
      "C:\\Users\\1\\anaconda3\\envs\\virtualtensor3.6\\lib\\site-packages\\sklearn\\preprocessing\\label.py:151: DeprecationWarning: The truth value of an empty array is ambiguous. Returning False, but in future this will result in an error. Use `array.size > 0` to check that an array is not empty.\n",
      "  if diff:\n"
     ]
    },
    {
     "data": {
      "text/plain": [
       "0.9138888888888889"
      ]
     },
     "execution_count": 25,
     "metadata": {},
     "output_type": "execute_result"
    }
   ],
   "source": [
    "#소프트 보팅 - 각 분류모델의 predict_proba를 활용, 모든 분류값들의 확률을 더해 가장 높은 점수를 획득한 분류값으로 결론을 내리는 방식\n",
    "voting_clf = VotingClassifier(estimators=[('decision_tree',dtree), ('knn', knn), ('svm', svm)], weights=[1,1,1], voting = 'soft').fit(X_train, y_train)\n",
    "soft_voting_predicted = voting_clf.predict(X_test)\n",
    "accuracy_score(y_test, soft_voting_predicted)"
   ]
  },
  {
   "cell_type": "code",
   "execution_count": 26,
   "metadata": {},
   "outputs": [
    {
     "data": {
      "text/plain": [
       "([<matplotlib.axis.XTick at 0x1550f6683c8>,\n",
       "  <matplotlib.axis.XTick at 0x1550f763b38>,\n",
       "  <matplotlib.axis.XTick at 0x1550f763c50>,\n",
       "  <matplotlib.axis.XTick at 0x1550f742f28>,\n",
       "  <matplotlib.axis.XTick at 0x1550f75c4e0>],\n",
       " <a list of 5 Text xticklabel objects>)"
      ]
     },
     "execution_count": 26,
     "metadata": {},
     "output_type": "execute_result"
    },
    {
     "data": {
      "image/png": "[encoded data removed]",
      "text/plain": [
       "<Figure size 432x288 with 1 Axes>"
      ]
     },
     "metadata": {
      "needs_background": "light"
     },
     "output_type": "display_data"
    }
   ],
   "source": [
    "#단일 모델과 앙상블 모델의 정확도 비교 시각화\n",
    "import matplotlib.pyplot as plt\n",
    "import numpy as np\n",
    "%matplotlib inline\n",
    "\n",
    "x = np.arange(5)\n",
    "plt.bar(x, height = [\n",
    "    accuracy_score(y_test, dtree_predicted),\n",
    "    accuracy_score(y_test, knn_predicted),\n",
    "    accuracy_score(y_test, svm_predicted),\n",
    "    accuracy_score(y_test, hard_voting_predicted),\n",
    "    accuracy_score(y_test, soft_voting_predicted)\n",
    "])\n",
    "\n",
    "plt.xticks(x, ['decision tree', 'knn', 'svm', 'hard votgin', 'soft voting'])\n",
    "# 결과를 보면 보팅이 단일보다 더 낫지만 항상 그런 것은 아니니 주의"
   ]
  },
  {
   "cell_type": "code",
   "execution_count": 27,
   "metadata": {},
   "outputs": [
    {
     "data": {
      "text/html": [
       "<div>\n",
       "<style scoped>\n",
       "    .dataframe tbody tr th:only-of-type {\n",
       "        vertical-align: middle;\n",
       "    }\n",
       "\n",
       "    .dataframe tbody tr th {\n",
       "        vertical-align: top;\n",
       "    }\n",
       "\n",
       "    .dataframe thead th {\n",
       "        text-align: right;\n",
       "    }\n",
       "</style>\n",
       "<table border=\"1\" class=\"dataframe\">\n",
       "  <thead>\n",
       "    <tr style=\"text-align: right;\">\n",
       "      <th></th>\n",
       "      <th>height</th>\n",
       "      <th>weight</th>\n",
       "    </tr>\n",
       "  </thead>\n",
       "  <tbody>\n",
       "    <tr>\n",
       "      <th>0</th>\n",
       "      <td>185</td>\n",
       "      <td>60</td>\n",
       "    </tr>\n",
       "    <tr>\n",
       "      <th>1</th>\n",
       "      <td>180</td>\n",
       "      <td>60</td>\n",
       "    </tr>\n",
       "    <tr>\n",
       "      <th>2</th>\n",
       "      <td>185</td>\n",
       "      <td>70</td>\n",
       "    </tr>\n",
       "    <tr>\n",
       "      <th>3</th>\n",
       "      <td>165</td>\n",
       "      <td>63</td>\n",
       "    </tr>\n",
       "    <tr>\n",
       "      <th>4</th>\n",
       "      <td>155</td>\n",
       "      <td>68</td>\n",
       "    </tr>\n",
       "  </tbody>\n",
       "</table>\n",
       "</div>"
      ],
      "text/plain": [
       "  height weight\n",
       "0    185     60\n",
       "1    180     60\n",
       "2    185     70\n",
       "3    165     63\n",
       "4    155     68"
      ]
     },
     "execution_count": 27,
     "metadata": {},
     "output_type": "execute_result"
    }
   ],
   "source": [
    "\"\"\"\n",
    "7. 군집화\n",
    "    - 비지도학습 알고리즘의 일종으로, 데이터 특징만으로 비슷한 데이터들끼리 모아 군집된 클래스로 분류\n",
    "    \n",
    "    (1).[이론] k평균 알고리즘\n",
    "        - 다음과 같은 순서로 결정 :\n",
    "            1) 데이터 준비\n",
    "            2) 몇 개의 클래스로 분류할 것인지 설정\n",
    "            3) 클러스터의 최초 중심 설절\n",
    "            4) 데이터를 가장 가까운 클러스터로 지정\n",
    "            5) 클러스터 중심을 클러스터에 속한 데이터들의 가운데 위치로 변경\n",
    "            6) 클러스터 중심이 바뀌지 않을 때까지 4번부터 5번 과정을 반복\n",
    "            \n",
    "        (i) 데이터 준비\n",
    "            -데이터는 수치화 된 데이터여야 함\n",
    "        \n",
    "        (ii) 몇 개의 클래스로 분류할 것인지 분류\n",
    "            - k 평균 알고리즘의 k가 몇개의 클래스로 분류할 것인지 나타내는 변수\n",
    "            \n",
    "        (iii) 클러스터의 최초 중심 설정\n",
    "            - k평균 알고리즘은 클러스터의 최초 중심을 무작위로 선정하지만 때때로 최초 중심을 부여할 수 있음\n",
    "            - 사이킷런의 k 평균 라이브러리는 기본적으로 kmean++라는 알고리즘 이용 -> 최초데이터 포인트를 첫번째 중심, 그와 가장 먼 데이터를 두번째 중심, 두번째와 가자 먼 데이터를 세번째 중심 ...\n",
    "            - kmean++는 초기 중심이 한군데로 집약되어 있어 군집하는데 시간이 오래 걸리고 군집의 결과가 나쁜 경우가 많은 표준 k 평균 알고리즘의 랜덤 중심 설정의 단점을 보완하고자 만들어짐\n",
    "            \n",
    "        (iv) 데이터를 가장 가까운 클러스터로 설정/ 클러스터 중심을 클러스터에 속한 데이터들의 가운데 위치로 변경/ 클러스터 중심이 바뀌지 않을 때 까지 반복\n",
    "            \n",
    "            \n",
    "\"\"\"\n",
    "\n",
    "#(2). [실습] 키와 몸무게에 따른 체형 군집화\n",
    "\n",
    "import pandas as pd\n",
    "import numpy as np\n",
    "from sklearn.cluster import KMeans\n",
    "import matplotlib.pyplot as plt\n",
    "import seaborn as sns\n",
    "%matplotlib inline\n",
    "\n",
    "#데이터 만들기\n",
    "df = pd.DataFrame(columns=['height', 'weight'])\n",
    "df.loc[0] = [185,60]\n",
    "df.loc[1] = [180,60]\n",
    "df.loc[2] = [185,70]\n",
    "df.loc[3] = [165,63]\n",
    "df.loc[4] = [155,68]\n",
    "df.loc[5] = [170,75]\n",
    "df.loc[6] = [175,80]\n",
    "\n",
    "df.head()"
   ]
  },
  {
   "cell_type": "code",
   "execution_count": 30,
   "metadata": {},
   "outputs": [
    {
     "data": {
      "text/plain": [
       "<seaborn.axisgrid.FacetGrid at 0x1550fa51a20>"
      ]
     },
     "execution_count": 30,
     "metadata": {},
     "output_type": "execute_result"
    },
    {
     "data": {
      "image/png": "[encoded data removed]",
      "text/plain": [
       "<Figure size 360x360 with 1 Axes>"
      ]
     },
     "metadata": {
      "needs_background": "light"
     },
     "output_type": "display_data"
    }
   ],
   "source": [
    "#데이터 시각화\n",
    "sns.lmplot('height','weight',data=df, fit_reg = False, scatter_kws={\"s\":200})"
   ]
  },
  {
   "cell_type": "code",
   "execution_count": 35,
   "metadata": {},
   "outputs": [],
   "source": [
    "# k 평균 군집\n",
    "data_points = df.values\n",
    "kmeans = KMeans(n_clusters=3).fit(data_points) # 별도의 init 파라미터를 지정하지 않으면 kmean++를 토해 군집수행"
   ]
  },
  {
   "cell_type": "code",
   "execution_count": 37,
   "metadata": {},
   "outputs": [
    {
     "data": {
      "text/plain": [
       "array([[183.33333333,  63.33333333],\n",
       "       [172.5       ,  77.5       ],\n",
       "       [160.        ,  65.5       ]])"
      ]
     },
     "execution_count": 37,
     "metadata": {},
     "output_type": "execute_result"
    }
   ],
   "source": [
    "#각 군집의 중심위치 확인\n",
    "kmeans.cluster_centers_"
   ]
  },
  {
   "cell_type": "code",
   "execution_count": 38,
   "metadata": {},
   "outputs": [],
   "source": [
    "#데이터가 어느 군집에 위치해 있는지 저장\n",
    "df['cluster_id'] = kmeans.labels_"
   ]
  },
  {
   "cell_type": "code",
   "execution_count": 39,
   "metadata": {},
   "outputs": [
    {
     "data": {
      "text/plain": [
       "<seaborn.axisgrid.FacetGrid at 0x1550face400>"
      ]
     },
     "execution_count": 39,
     "metadata": {},
     "output_type": "execute_result"
    },
    {
     "data": {
      "image/png": "[encoded data removed]",
      "text/plain": [
       "<Figure size 416.375x360 with 1 Axes>"
      ]
     },
     "metadata": {
      "needs_background": "light"
     },
     "output_type": "display_data"
    }
   ],
   "source": [
    "#k 평균 군집 시각화\n",
    "sns.lmplot('height', 'weight', data=df, fit_reg=False, scatter_kws = {'s':200}, hue=\"cluster_id\")"
   ]
  },
  {
   "cell_type": "code",
   "execution_count": null,
   "metadata": {},
   "outputs": [],
   "source": []
  }
 ],
 "metadata": {
  "kernelspec": {
   "display_name": "Python 3",
   "language": "python",
   "name": "python3"
  },
  "language_info": {
   "codemirror_mode": {
    "name": "ipython",
    "version": 3
   },
   "file_extension": ".py",
   "mimetype": "text/x-python",
   "name": "python",
   "nbconvert_exporter": "python",
   "pygments_lexer": "ipython3",
   "version": "3.6.4"
  }
 },
 "nbformat": 4,
 "nbformat_minor": 4
}
